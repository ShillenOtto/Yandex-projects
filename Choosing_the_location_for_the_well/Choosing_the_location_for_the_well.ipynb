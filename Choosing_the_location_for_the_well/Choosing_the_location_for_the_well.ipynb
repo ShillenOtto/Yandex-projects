{
 "cells": [
  {
   "cell_type": "markdown",
   "metadata": {},
   "source": [
    "# Выбор локации для скважины"
   ]
  },
  {
   "cell_type": "markdown",
   "metadata": {},
   "source": [
    "Допустим, мы работаете в добывающей компании «ГлавРосГосНефть». Нам нужно решить, где бурить новую скважину.\n",
    "\n",
    "Нам предоставлены пробы нефти в трёх регионах: в каждом 10 000 месторождений, где измерили качество нефти и объём её запасов. Построим модель машинного обучения, которая поможет определить регион, где добыча принесёт наибольшую прибыль. Проанализируем возможную прибыль и риски техникой *Bootstrap.*\n",
    "\n",
    "Шаги для выбора локации:\n",
    "\n",
    "- В избранном регионе ищут месторождения, для каждого определяют значения признаков;\n",
    "- Строят модель и оценивают объём запасов;\n",
    "- Выбирают месторождения с самым высокими оценками значений. Количество месторождений зависит от бюджета компании и стоимости разработки одной скважины;\n",
    "- Прибыль равна суммарной прибыли отобранных месторождений."
   ]
  },
  {
   "cell_type": "markdown",
   "metadata": {},
   "source": [
    "## Загрузка и подготовка данных"
   ]
  },
  {
   "cell_type": "code",
   "execution_count": 1,
   "metadata": {},
   "outputs": [],
   "source": [
    "#Импортируем библиотеку Pandas.\n",
    "import pandas as pd\n",
    "from pandas import DataFrame\n",
    "#Импортируем библиотеку для постраения графиков matplotlib.pyplot.\n",
    "import matplotlib.pyplot as plt\n",
    "#Импортируем библиотеку для постраения графиков seaborn.\n",
    "import seaborn as sns\n",
    "#Импортируем библиотеку для высокоуровневых математических функций numpy.\n",
    "import numpy as np\n",
    "import math\n",
    "# Импортируем библиотеки машинного обучения \n",
    "from scipy import stats as st \n",
    "from sklearn.tree import DecisionTreeRegressor\n",
    "from sklearn.ensemble import RandomForestRegressor\n",
    "from sklearn.linear_model import LinearRegression\n",
    "from sklearn.linear_model import LogisticRegression\n",
    "from sklearn.model_selection import train_test_split\n",
    "from sklearn.metrics import mean_squared_error\n",
    "from sklearn.metrics import r2_score\n",
    "import warnings\n",
    "warnings.filterwarnings('ignore')\n",
    "pd.options.mode.chained_assignment = None"
   ]
  },
  {
   "cell_type": "code",
   "execution_count": 2,
   "metadata": {},
   "outputs": [],
   "source": [
    "#Прочитаем исходные DataFrame.\n",
    "try:\n",
    "    df_0 = pd.read_csv('/datasets/geo_data_0.csv')\n",
    "    df_1 = pd.read_csv('/datasets/geo_data_1.csv')\n",
    "    df_2 = pd.read_csv('/datasets/geo_data_2.csv')\n",
    "except:\n",
    "    df_0 = pd.read_csv('geo_data_0.csv')\n",
    "    df_1 = pd.read_csv('geo_data_1.csv')\n",
    "    df_2 = pd.read_csv('geo_data_2.csv')"
   ]
  },
  {
   "cell_type": "code",
   "execution_count": 3,
   "metadata": {
    "scrolled": false
   },
   "outputs": [
    {
     "data": {
      "text/html": [
       "<div>\n",
       "<style scoped>\n",
       "    .dataframe tbody tr th:only-of-type {\n",
       "        vertical-align: middle;\n",
       "    }\n",
       "\n",
       "    .dataframe tbody tr th {\n",
       "        vertical-align: top;\n",
       "    }\n",
       "\n",
       "    .dataframe thead th {\n",
       "        text-align: right;\n",
       "    }\n",
       "</style>\n",
       "<table border=\"1\" class=\"dataframe\">\n",
       "  <thead>\n",
       "    <tr style=\"text-align: right;\">\n",
       "      <th></th>\n",
       "      <th>id</th>\n",
       "      <th>f0</th>\n",
       "      <th>f1</th>\n",
       "      <th>f2</th>\n",
       "      <th>product</th>\n",
       "    </tr>\n",
       "  </thead>\n",
       "  <tbody>\n",
       "    <tr>\n",
       "      <th>0</th>\n",
       "      <td>txEyH</td>\n",
       "      <td>0.705745</td>\n",
       "      <td>-0.497823</td>\n",
       "      <td>1.221170</td>\n",
       "      <td>105.280062</td>\n",
       "    </tr>\n",
       "    <tr>\n",
       "      <th>1</th>\n",
       "      <td>2acmU</td>\n",
       "      <td>1.334711</td>\n",
       "      <td>-0.340164</td>\n",
       "      <td>4.365080</td>\n",
       "      <td>73.037750</td>\n",
       "    </tr>\n",
       "    <tr>\n",
       "      <th>2</th>\n",
       "      <td>409Wp</td>\n",
       "      <td>1.022732</td>\n",
       "      <td>0.151990</td>\n",
       "      <td>1.419926</td>\n",
       "      <td>85.265647</td>\n",
       "    </tr>\n",
       "    <tr>\n",
       "      <th>3</th>\n",
       "      <td>iJLyR</td>\n",
       "      <td>-0.032172</td>\n",
       "      <td>0.139033</td>\n",
       "      <td>2.978566</td>\n",
       "      <td>168.620776</td>\n",
       "    </tr>\n",
       "    <tr>\n",
       "      <th>4</th>\n",
       "      <td>Xdl7t</td>\n",
       "      <td>1.988431</td>\n",
       "      <td>0.155413</td>\n",
       "      <td>4.751769</td>\n",
       "      <td>154.036647</td>\n",
       "    </tr>\n",
       "    <tr>\n",
       "      <th>...</th>\n",
       "      <td>...</td>\n",
       "      <td>...</td>\n",
       "      <td>...</td>\n",
       "      <td>...</td>\n",
       "      <td>...</td>\n",
       "    </tr>\n",
       "    <tr>\n",
       "      <th>99995</th>\n",
       "      <td>DLsed</td>\n",
       "      <td>0.971957</td>\n",
       "      <td>0.370953</td>\n",
       "      <td>6.075346</td>\n",
       "      <td>110.744026</td>\n",
       "    </tr>\n",
       "    <tr>\n",
       "      <th>99996</th>\n",
       "      <td>QKivN</td>\n",
       "      <td>1.392429</td>\n",
       "      <td>-0.382606</td>\n",
       "      <td>1.273912</td>\n",
       "      <td>122.346843</td>\n",
       "    </tr>\n",
       "    <tr>\n",
       "      <th>99997</th>\n",
       "      <td>3rnvd</td>\n",
       "      <td>1.029585</td>\n",
       "      <td>0.018787</td>\n",
       "      <td>-1.348308</td>\n",
       "      <td>64.375443</td>\n",
       "    </tr>\n",
       "    <tr>\n",
       "      <th>99998</th>\n",
       "      <td>7kl59</td>\n",
       "      <td>0.998163</td>\n",
       "      <td>-0.528582</td>\n",
       "      <td>1.583869</td>\n",
       "      <td>74.040764</td>\n",
       "    </tr>\n",
       "    <tr>\n",
       "      <th>99999</th>\n",
       "      <td>1CWhH</td>\n",
       "      <td>1.764754</td>\n",
       "      <td>-0.266417</td>\n",
       "      <td>5.722849</td>\n",
       "      <td>149.633246</td>\n",
       "    </tr>\n",
       "  </tbody>\n",
       "</table>\n",
       "<p>100000 rows × 5 columns</p>\n",
       "</div>"
      ],
      "text/plain": [
       "          id        f0        f1        f2     product\n",
       "0      txEyH  0.705745 -0.497823  1.221170  105.280062\n",
       "1      2acmU  1.334711 -0.340164  4.365080   73.037750\n",
       "2      409Wp  1.022732  0.151990  1.419926   85.265647\n",
       "3      iJLyR -0.032172  0.139033  2.978566  168.620776\n",
       "4      Xdl7t  1.988431  0.155413  4.751769  154.036647\n",
       "...      ...       ...       ...       ...         ...\n",
       "99995  DLsed  0.971957  0.370953  6.075346  110.744026\n",
       "99996  QKivN  1.392429 -0.382606  1.273912  122.346843\n",
       "99997  3rnvd  1.029585  0.018787 -1.348308   64.375443\n",
       "99998  7kl59  0.998163 -0.528582  1.583869   74.040764\n",
       "99999  1CWhH  1.764754 -0.266417  5.722849  149.633246\n",
       "\n",
       "[100000 rows x 5 columns]"
      ]
     },
     "execution_count": 3,
     "metadata": {},
     "output_type": "execute_result"
    }
   ],
   "source": [
    "df_0"
   ]
  },
  {
   "cell_type": "code",
   "execution_count": 4,
   "metadata": {},
   "outputs": [
    {
     "name": "stdout",
     "output_type": "stream",
     "text": [
      "<class 'pandas.core.frame.DataFrame'>\n",
      "RangeIndex: 100000 entries, 0 to 99999\n",
      "Data columns (total 5 columns):\n",
      " #   Column   Non-Null Count   Dtype  \n",
      "---  ------   --------------   -----  \n",
      " 0   id       100000 non-null  object \n",
      " 1   f0       100000 non-null  float64\n",
      " 2   f1       100000 non-null  float64\n",
      " 3   f2       100000 non-null  float64\n",
      " 4   product  100000 non-null  float64\n",
      "dtypes: float64(4), object(1)\n",
      "memory usage: 3.8+ MB\n"
     ]
    }
   ],
   "source": [
    "df_0.info()"
   ]
  },
  {
   "cell_type": "code",
   "execution_count": 5,
   "metadata": {
    "scrolled": false
   },
   "outputs": [
    {
     "data": {
      "text/html": [
       "<div>\n",
       "<style scoped>\n",
       "    .dataframe tbody tr th:only-of-type {\n",
       "        vertical-align: middle;\n",
       "    }\n",
       "\n",
       "    .dataframe tbody tr th {\n",
       "        vertical-align: top;\n",
       "    }\n",
       "\n",
       "    .dataframe thead th {\n",
       "        text-align: right;\n",
       "    }\n",
       "</style>\n",
       "<table border=\"1\" class=\"dataframe\">\n",
       "  <thead>\n",
       "    <tr style=\"text-align: right;\">\n",
       "      <th></th>\n",
       "      <th>id</th>\n",
       "      <th>f0</th>\n",
       "      <th>f1</th>\n",
       "      <th>f2</th>\n",
       "      <th>product</th>\n",
       "    </tr>\n",
       "  </thead>\n",
       "  <tbody>\n",
       "    <tr>\n",
       "      <th>0</th>\n",
       "      <td>kBEdx</td>\n",
       "      <td>-15.001348</td>\n",
       "      <td>-8.276000</td>\n",
       "      <td>-0.005876</td>\n",
       "      <td>3.179103</td>\n",
       "    </tr>\n",
       "    <tr>\n",
       "      <th>1</th>\n",
       "      <td>62mP7</td>\n",
       "      <td>14.272088</td>\n",
       "      <td>-3.475083</td>\n",
       "      <td>0.999183</td>\n",
       "      <td>26.953261</td>\n",
       "    </tr>\n",
       "    <tr>\n",
       "      <th>2</th>\n",
       "      <td>vyE1P</td>\n",
       "      <td>6.263187</td>\n",
       "      <td>-5.948386</td>\n",
       "      <td>5.001160</td>\n",
       "      <td>134.766305</td>\n",
       "    </tr>\n",
       "    <tr>\n",
       "      <th>3</th>\n",
       "      <td>KcrkZ</td>\n",
       "      <td>-13.081196</td>\n",
       "      <td>-11.506057</td>\n",
       "      <td>4.999415</td>\n",
       "      <td>137.945408</td>\n",
       "    </tr>\n",
       "    <tr>\n",
       "      <th>4</th>\n",
       "      <td>AHL4O</td>\n",
       "      <td>12.702195</td>\n",
       "      <td>-8.147433</td>\n",
       "      <td>5.004363</td>\n",
       "      <td>134.766305</td>\n",
       "    </tr>\n",
       "    <tr>\n",
       "      <th>...</th>\n",
       "      <td>...</td>\n",
       "      <td>...</td>\n",
       "      <td>...</td>\n",
       "      <td>...</td>\n",
       "      <td>...</td>\n",
       "    </tr>\n",
       "    <tr>\n",
       "      <th>99995</th>\n",
       "      <td>QywKC</td>\n",
       "      <td>9.535637</td>\n",
       "      <td>-6.878139</td>\n",
       "      <td>1.998296</td>\n",
       "      <td>53.906522</td>\n",
       "    </tr>\n",
       "    <tr>\n",
       "      <th>99996</th>\n",
       "      <td>ptvty</td>\n",
       "      <td>-10.160631</td>\n",
       "      <td>-12.558096</td>\n",
       "      <td>5.005581</td>\n",
       "      <td>137.945408</td>\n",
       "    </tr>\n",
       "    <tr>\n",
       "      <th>99997</th>\n",
       "      <td>09gWa</td>\n",
       "      <td>-7.378891</td>\n",
       "      <td>-3.084104</td>\n",
       "      <td>4.998651</td>\n",
       "      <td>137.945408</td>\n",
       "    </tr>\n",
       "    <tr>\n",
       "      <th>99998</th>\n",
       "      <td>rqwUm</td>\n",
       "      <td>0.665714</td>\n",
       "      <td>-6.152593</td>\n",
       "      <td>1.000146</td>\n",
       "      <td>30.132364</td>\n",
       "    </tr>\n",
       "    <tr>\n",
       "      <th>99999</th>\n",
       "      <td>relB0</td>\n",
       "      <td>-3.426139</td>\n",
       "      <td>-7.794274</td>\n",
       "      <td>-0.003299</td>\n",
       "      <td>3.179103</td>\n",
       "    </tr>\n",
       "  </tbody>\n",
       "</table>\n",
       "<p>100000 rows × 5 columns</p>\n",
       "</div>"
      ],
      "text/plain": [
       "          id         f0         f1        f2     product\n",
       "0      kBEdx -15.001348  -8.276000 -0.005876    3.179103\n",
       "1      62mP7  14.272088  -3.475083  0.999183   26.953261\n",
       "2      vyE1P   6.263187  -5.948386  5.001160  134.766305\n",
       "3      KcrkZ -13.081196 -11.506057  4.999415  137.945408\n",
       "4      AHL4O  12.702195  -8.147433  5.004363  134.766305\n",
       "...      ...        ...        ...       ...         ...\n",
       "99995  QywKC   9.535637  -6.878139  1.998296   53.906522\n",
       "99996  ptvty -10.160631 -12.558096  5.005581  137.945408\n",
       "99997  09gWa  -7.378891  -3.084104  4.998651  137.945408\n",
       "99998  rqwUm   0.665714  -6.152593  1.000146   30.132364\n",
       "99999  relB0  -3.426139  -7.794274 -0.003299    3.179103\n",
       "\n",
       "[100000 rows x 5 columns]"
      ]
     },
     "execution_count": 5,
     "metadata": {},
     "output_type": "execute_result"
    }
   ],
   "source": [
    "df_1"
   ]
  },
  {
   "cell_type": "code",
   "execution_count": 6,
   "metadata": {},
   "outputs": [
    {
     "name": "stdout",
     "output_type": "stream",
     "text": [
      "<class 'pandas.core.frame.DataFrame'>\n",
      "RangeIndex: 100000 entries, 0 to 99999\n",
      "Data columns (total 5 columns):\n",
      " #   Column   Non-Null Count   Dtype  \n",
      "---  ------   --------------   -----  \n",
      " 0   id       100000 non-null  object \n",
      " 1   f0       100000 non-null  float64\n",
      " 2   f1       100000 non-null  float64\n",
      " 3   f2       100000 non-null  float64\n",
      " 4   product  100000 non-null  float64\n",
      "dtypes: float64(4), object(1)\n",
      "memory usage: 3.8+ MB\n"
     ]
    }
   ],
   "source": [
    "df_1.info()"
   ]
  },
  {
   "cell_type": "code",
   "execution_count": 7,
   "metadata": {
    "scrolled": true
   },
   "outputs": [
    {
     "data": {
      "text/html": [
       "<div>\n",
       "<style scoped>\n",
       "    .dataframe tbody tr th:only-of-type {\n",
       "        vertical-align: middle;\n",
       "    }\n",
       "\n",
       "    .dataframe tbody tr th {\n",
       "        vertical-align: top;\n",
       "    }\n",
       "\n",
       "    .dataframe thead th {\n",
       "        text-align: right;\n",
       "    }\n",
       "</style>\n",
       "<table border=\"1\" class=\"dataframe\">\n",
       "  <thead>\n",
       "    <tr style=\"text-align: right;\">\n",
       "      <th></th>\n",
       "      <th>id</th>\n",
       "      <th>f0</th>\n",
       "      <th>f1</th>\n",
       "      <th>f2</th>\n",
       "      <th>product</th>\n",
       "    </tr>\n",
       "  </thead>\n",
       "  <tbody>\n",
       "    <tr>\n",
       "      <th>0</th>\n",
       "      <td>fwXo0</td>\n",
       "      <td>-1.146987</td>\n",
       "      <td>0.963328</td>\n",
       "      <td>-0.828965</td>\n",
       "      <td>27.758673</td>\n",
       "    </tr>\n",
       "    <tr>\n",
       "      <th>1</th>\n",
       "      <td>WJtFt</td>\n",
       "      <td>0.262778</td>\n",
       "      <td>0.269839</td>\n",
       "      <td>-2.530187</td>\n",
       "      <td>56.069697</td>\n",
       "    </tr>\n",
       "    <tr>\n",
       "      <th>2</th>\n",
       "      <td>ovLUW</td>\n",
       "      <td>0.194587</td>\n",
       "      <td>0.289035</td>\n",
       "      <td>-5.586433</td>\n",
       "      <td>62.871910</td>\n",
       "    </tr>\n",
       "    <tr>\n",
       "      <th>3</th>\n",
       "      <td>q6cA6</td>\n",
       "      <td>2.236060</td>\n",
       "      <td>-0.553760</td>\n",
       "      <td>0.930038</td>\n",
       "      <td>114.572842</td>\n",
       "    </tr>\n",
       "    <tr>\n",
       "      <th>4</th>\n",
       "      <td>WPMUX</td>\n",
       "      <td>-0.515993</td>\n",
       "      <td>1.716266</td>\n",
       "      <td>5.899011</td>\n",
       "      <td>149.600746</td>\n",
       "    </tr>\n",
       "    <tr>\n",
       "      <th>...</th>\n",
       "      <td>...</td>\n",
       "      <td>...</td>\n",
       "      <td>...</td>\n",
       "      <td>...</td>\n",
       "      <td>...</td>\n",
       "    </tr>\n",
       "    <tr>\n",
       "      <th>99995</th>\n",
       "      <td>4GxBu</td>\n",
       "      <td>-1.777037</td>\n",
       "      <td>1.125220</td>\n",
       "      <td>6.263374</td>\n",
       "      <td>172.327046</td>\n",
       "    </tr>\n",
       "    <tr>\n",
       "      <th>99996</th>\n",
       "      <td>YKFjq</td>\n",
       "      <td>-1.261523</td>\n",
       "      <td>-0.894828</td>\n",
       "      <td>2.524545</td>\n",
       "      <td>138.748846</td>\n",
       "    </tr>\n",
       "    <tr>\n",
       "      <th>99997</th>\n",
       "      <td>tKPY3</td>\n",
       "      <td>-1.199934</td>\n",
       "      <td>-2.957637</td>\n",
       "      <td>5.219411</td>\n",
       "      <td>157.080080</td>\n",
       "    </tr>\n",
       "    <tr>\n",
       "      <th>99998</th>\n",
       "      <td>nmxp2</td>\n",
       "      <td>-2.419896</td>\n",
       "      <td>2.417221</td>\n",
       "      <td>-5.548444</td>\n",
       "      <td>51.795253</td>\n",
       "    </tr>\n",
       "    <tr>\n",
       "      <th>99999</th>\n",
       "      <td>V9kWn</td>\n",
       "      <td>-2.551421</td>\n",
       "      <td>-2.025625</td>\n",
       "      <td>6.090891</td>\n",
       "      <td>102.775767</td>\n",
       "    </tr>\n",
       "  </tbody>\n",
       "</table>\n",
       "<p>100000 rows × 5 columns</p>\n",
       "</div>"
      ],
      "text/plain": [
       "          id        f0        f1        f2     product\n",
       "0      fwXo0 -1.146987  0.963328 -0.828965   27.758673\n",
       "1      WJtFt  0.262778  0.269839 -2.530187   56.069697\n",
       "2      ovLUW  0.194587  0.289035 -5.586433   62.871910\n",
       "3      q6cA6  2.236060 -0.553760  0.930038  114.572842\n",
       "4      WPMUX -0.515993  1.716266  5.899011  149.600746\n",
       "...      ...       ...       ...       ...         ...\n",
       "99995  4GxBu -1.777037  1.125220  6.263374  172.327046\n",
       "99996  YKFjq -1.261523 -0.894828  2.524545  138.748846\n",
       "99997  tKPY3 -1.199934 -2.957637  5.219411  157.080080\n",
       "99998  nmxp2 -2.419896  2.417221 -5.548444   51.795253\n",
       "99999  V9kWn -2.551421 -2.025625  6.090891  102.775767\n",
       "\n",
       "[100000 rows x 5 columns]"
      ]
     },
     "execution_count": 7,
     "metadata": {},
     "output_type": "execute_result"
    }
   ],
   "source": [
    "df_2"
   ]
  },
  {
   "cell_type": "code",
   "execution_count": 8,
   "metadata": {
    "scrolled": true
   },
   "outputs": [
    {
     "name": "stdout",
     "output_type": "stream",
     "text": [
      "<class 'pandas.core.frame.DataFrame'>\n",
      "RangeIndex: 100000 entries, 0 to 99999\n",
      "Data columns (total 5 columns):\n",
      " #   Column   Non-Null Count   Dtype  \n",
      "---  ------   --------------   -----  \n",
      " 0   id       100000 non-null  object \n",
      " 1   f0       100000 non-null  float64\n",
      " 2   f1       100000 non-null  float64\n",
      " 3   f2       100000 non-null  float64\n",
      " 4   product  100000 non-null  float64\n",
      "dtypes: float64(4), object(1)\n",
      "memory usage: 3.8+ MB\n"
     ]
    }
   ],
   "source": [
    "df_2.info()"
   ]
  },
  {
   "cell_type": "markdown",
   "metadata": {},
   "source": [
    "### Опишим данные<br>\n",
    "**Признаки**<br>\n",
    "***id*** — уникальный идентификатор скважины<br>\n",
    "***f0, f1, f2*** — три признака точек (неважно, что они означают, но сами признаки значимы)<br>\n",
    "***product*** — объём запасов в скважине (тыс. баррелей)<br>"
   ]
  },
  {
   "cell_type": "code",
   "execution_count": 9,
   "metadata": {},
   "outputs": [],
   "source": [
    "# Извлечем признаки и целевое знаечение\n",
    "features_0 = df_0.drop(['product', 'id'], axis=1)\n",
    "target_0 = df_0['product']"
   ]
  },
  {
   "cell_type": "code",
   "execution_count": 10,
   "metadata": {},
   "outputs": [],
   "source": [
    "# Разделим обучающую, валидационную 75:25\n",
    "features_train_0, features_valid_0, target_train_0, target_valid_0 = train_test_split(\n",
    "    features_0, target_0, test_size=0.25, random_state=12345)"
   ]
  },
  {
   "cell_type": "code",
   "execution_count": 11,
   "metadata": {},
   "outputs": [
    {
     "name": "stdout",
     "output_type": "stream",
     "text": [
      "Размер выборки train: (75000, 3)\n",
      "Размер выборки valid: (25000, 3)\n"
     ]
    }
   ],
   "source": [
    "# Проверим размеры выборок\n",
    "print('Размер выборки train:', features_train_0.shape)\n",
    "print('Размер выборки valid:', features_valid_0.shape)"
   ]
  },
  {
   "cell_type": "code",
   "execution_count": 12,
   "metadata": {},
   "outputs": [],
   "source": [
    "# Извлечем признаки и целевое знаечение\n",
    "features_1 = df_1.drop(['product', 'id'], axis=1)\n",
    "target_1 = df_1['product']"
   ]
  },
  {
   "cell_type": "code",
   "execution_count": 13,
   "metadata": {},
   "outputs": [],
   "source": [
    "# Разделим обучающую, валидационную 75:25\n",
    "features_train_1, features_valid_1, target_train_1, target_valid_1= train_test_split(\n",
    "    features_1, target_1, test_size=0.25, random_state=12345)"
   ]
  },
  {
   "cell_type": "code",
   "execution_count": 14,
   "metadata": {},
   "outputs": [
    {
     "name": "stdout",
     "output_type": "stream",
     "text": [
      "Размер выборки train: (75000, 3)\n",
      "Размер выборки valid: (25000, 3)\n"
     ]
    }
   ],
   "source": [
    "# Проверим размеры выборок\n",
    "print('Размер выборки train:', features_train_1.shape)\n",
    "print('Размер выборки valid:', features_valid_1.shape)"
   ]
  },
  {
   "cell_type": "code",
   "execution_count": 15,
   "metadata": {},
   "outputs": [],
   "source": [
    "# Извлечем признаки и целевое знаечение\n",
    "features_2 = df_2.drop(['product', 'id'], axis=1)\n",
    "target_2 = df_2['product']"
   ]
  },
  {
   "cell_type": "code",
   "execution_count": 16,
   "metadata": {},
   "outputs": [],
   "source": [
    "# Разделим обучающую, валидационную 75:25\n",
    "features_train_2, features_valid_2, target_train_2, target_valid_2= train_test_split(\n",
    "    features_2, target_2, test_size=0.25, random_state=12345)"
   ]
  },
  {
   "cell_type": "code",
   "execution_count": 17,
   "metadata": {},
   "outputs": [
    {
     "name": "stdout",
     "output_type": "stream",
     "text": [
      "Размер выборки train: (75000, 3)\n",
      "Размер выборки valid: (25000, 3)\n"
     ]
    }
   ],
   "source": [
    "# Проверим размеры выборок\n",
    "print('Размер выборки train:', features_train_2.shape)\n",
    "print('Размер выборки valid:', features_valid_2.shape)"
   ]
  },
  {
   "cell_type": "markdown",
   "metadata": {},
   "source": [
    "## Обучение и проверка модели"
   ]
  },
  {
   "cell_type": "markdown",
   "metadata": {},
   "source": [
    "### Регион geo_data_0"
   ]
  },
  {
   "cell_type": "code",
   "execution_count": 18,
   "metadata": {},
   "outputs": [],
   "source": [
    "model_0 = LinearRegression()\n",
    "model_0.fit(features_train_0, target_train_0)\n",
    "predicted_valid_0 = model_0.predict(features_valid_0) "
   ]
  },
  {
   "cell_type": "code",
   "execution_count": 19,
   "metadata": {
    "scrolled": true
   },
   "outputs": [
    {
     "data": {
      "text/plain": [
       "92.59256778438035"
      ]
     },
     "execution_count": 19,
     "metadata": {},
     "output_type": "execute_result"
    }
   ],
   "source": [
    "# Средний запас предсказанного сырья\n",
    "predicted_valid_0.mean()"
   ]
  },
  {
   "cell_type": "code",
   "execution_count": 20,
   "metadata": {
    "scrolled": true
   },
   "outputs": [
    {
     "name": "stdout",
     "output_type": "stream",
     "text": [
      "MSE_0 = 1412.2129364399243\n",
      "RMSE_0 = 37.5794217150813\n"
     ]
    }
   ],
   "source": [
    "# RMSE модели\n",
    "mse = mean_squared_error(target_valid_0, predicted_valid_0)\n",
    "print(\"MSE_0 =\", mse)\n",
    "print(\"RMSE_0 =\", mse ** 0.5)"
   ]
  },
  {
   "cell_type": "code",
   "execution_count": 21,
   "metadata": {},
   "outputs": [
    {
     "name": "stdout",
     "output_type": "stream",
     "text": [
      "R2 = 0.27994321524487786\n"
     ]
    }
   ],
   "source": [
    "print(\"R2 =\", r2_score(target_valid_0, predicted_valid_0))"
   ]
  },
  {
   "cell_type": "markdown",
   "metadata": {},
   "source": [
    "### Регион geo_data_1"
   ]
  },
  {
   "cell_type": "code",
   "execution_count": 22,
   "metadata": {},
   "outputs": [],
   "source": [
    "model_1 = LinearRegression()\n",
    "model_1.fit(features_train_1, target_train_1)\n",
    "predicted_valid_1 = model_1.predict(features_valid_1) "
   ]
  },
  {
   "cell_type": "code",
   "execution_count": 23,
   "metadata": {},
   "outputs": [
    {
     "data": {
      "text/plain": [
       "68.728546895446"
      ]
     },
     "execution_count": 23,
     "metadata": {},
     "output_type": "execute_result"
    }
   ],
   "source": [
    "# Средний запас предсказанного сырья\n",
    "predicted_valid_1.mean()"
   ]
  },
  {
   "cell_type": "code",
   "execution_count": 24,
   "metadata": {},
   "outputs": [
    {
     "name": "stdout",
     "output_type": "stream",
     "text": [
      "MSE_0 = 0.797626336039116\n",
      "RMSE_0 = 0.8930992867756171\n"
     ]
    }
   ],
   "source": [
    "# RMSE модели\n",
    "mse = mean_squared_error(target_valid_1, predicted_valid_1)\n",
    "print(\"MSE_0 =\", mse)\n",
    "print(\"RMSE_0 =\", mse ** 0.5)"
   ]
  },
  {
   "cell_type": "code",
   "execution_count": 25,
   "metadata": {},
   "outputs": [
    {
     "name": "stdout",
     "output_type": "stream",
     "text": [
      "R2 = 0.9996233978805127\n"
     ]
    }
   ],
   "source": [
    "print(\"R2 =\", r2_score(target_valid_1, predicted_valid_1))"
   ]
  },
  {
   "cell_type": "markdown",
   "metadata": {},
   "source": [
    "### Регион geo_data_2"
   ]
  },
  {
   "cell_type": "code",
   "execution_count": 26,
   "metadata": {},
   "outputs": [],
   "source": [
    "model_2 = LinearRegression()\n",
    "model_2.fit(features_train_2, target_train_2)\n",
    "predicted_valid_2 = model_2.predict(features_valid_2) "
   ]
  },
  {
   "cell_type": "code",
   "execution_count": 27,
   "metadata": {},
   "outputs": [
    {
     "data": {
      "text/plain": [
       "94.96504596800489"
      ]
     },
     "execution_count": 27,
     "metadata": {},
     "output_type": "execute_result"
    }
   ],
   "source": [
    "# Средний запас предсказанного сырья\n",
    "predicted_valid_2.mean()"
   ]
  },
  {
   "cell_type": "code",
   "execution_count": 28,
   "metadata": {},
   "outputs": [
    {
     "name": "stdout",
     "output_type": "stream",
     "text": [
      "MSE_0 = 1602.3775813236196\n",
      "RMSE_0 = 40.02970873393434\n"
     ]
    }
   ],
   "source": [
    "# RMSE модели\n",
    "mse = mean_squared_error(target_valid_2, predicted_valid_2)\n",
    "print(\"MSE_0 =\", mse)\n",
    "print(\"RMSE_0 =\", mse ** 0.5)"
   ]
  },
  {
   "cell_type": "code",
   "execution_count": 29,
   "metadata": {},
   "outputs": [
    {
     "name": "stdout",
     "output_type": "stream",
     "text": [
      "R2 = 0.20524758386040443\n"
     ]
    }
   ],
   "source": [
    "print(\"R2 =\", r2_score(target_valid_2, predicted_valid_2))"
   ]
  },
  {
   "cell_type": "markdown",
   "metadata": {},
   "source": [
    "### Вывод"
   ]
  },
  {
   "cell_type": "markdown",
   "metadata": {},
   "source": [
    "- Мы видим, что в регионе geo_data_2 самый большой средний запас (94.96), но и самый высокий показатель RMSE модели составляет 40.02 - это очень высокая ошибка.<br>\n",
    "- В регионе geo_data_1 средний запас самый низкий (68.72), но и ошибка составляет всего (0.89) - что показывает высокую точность.<br>"
   ]
  },
  {
   "cell_type": "markdown",
   "metadata": {},
   "source": [
    "## Подготовка к расчёту прибыли"
   ]
  },
  {
   "cell_type": "code",
   "execution_count": 30,
   "metadata": {},
   "outputs": [],
   "source": [
    "# Бюджен на разработку скважин 10 000 000 000 или 10 000 000 тыс.руб.\n",
    "BUDGET = 10000000000\n",
    "# Цена 1 единицы (1000 бареллей) составляет 450 000 или 450 тыс.руб.\n",
    "PRICE = 450000\n",
    "# Количество планируемых скважин\n",
    "COUNT = 200"
   ]
  },
  {
   "cell_type": "code",
   "execution_count": 31,
   "metadata": {},
   "outputs": [
    {
     "data": {
      "text/plain": [
       "22222.222222222223"
      ]
     },
     "execution_count": 31,
     "metadata": {},
     "output_type": "execute_result"
    }
   ],
   "source": [
    "# Минимальный объем сырья на 200 лучших скважинах должен быть\n",
    "min_value = BUDGET / PRICE\n",
    "min_value"
   ]
  },
  {
   "cell_type": "code",
   "execution_count": 32,
   "metadata": {
    "scrolled": true
   },
   "outputs": [
    {
     "name": "stdout",
     "output_type": "stream",
     "text": [
      "111.11111111111111\n"
     ]
    }
   ],
   "source": [
    "# В среднем на 1 скважину для безубыточной работы\n",
    "print(min_value / COUNT)"
   ]
  },
  {
   "cell_type": "code",
   "execution_count": 33,
   "metadata": {},
   "outputs": [
    {
     "name": "stdout",
     "output_type": "stream",
     "text": [
      "50000000.0\n"
     ]
    }
   ],
   "source": [
    "# В среднем на 1 скважину для безубыточной работы\n",
    "income = (min_value / COUNT) * PRICE\n",
    "print(income)"
   ]
  },
  {
   "cell_type": "code",
   "execution_count": 34,
   "metadata": {},
   "outputs": [
    {
     "name": "stdout",
     "output_type": "stream",
     "text": [
      "92.50000000000001\n",
      "68.82500000000002\n",
      "95.00000000000004\n"
     ]
    }
   ],
   "source": [
    "# Средний запас в каждом регионе\n",
    "print(df_0['product'].mean())\n",
    "print(df_1['product'].mean())\n",
    "print(df_2['product'].mean())"
   ]
  },
  {
   "cell_type": "markdown",
   "metadata": {},
   "source": [
    "Мы видим, что средний запас в каждом регионе ниже, чем в среднем нам необходимо на скважину."
   ]
  },
  {
   "cell_type": "markdown",
   "metadata": {},
   "source": [
    "## Расчёт прибыли и рисков "
   ]
  },
  {
   "cell_type": "code",
   "execution_count": 35,
   "metadata": {},
   "outputs": [],
   "source": [
    "# Сделаем функцию для расчёта прибыли по выбранным скважинам и предсказаниям модели\n",
    "def profit(target, well, count):\n",
    "    well_sorted = well.sort_values(ascending=False)\n",
    "    selected = target[well_sorted.index][:count]\n",
    "    return round(selected.sum()*PRICE - income*COUNT)"
   ]
  },
  {
   "cell_type": "code",
   "execution_count": 36,
   "metadata": {},
   "outputs": [],
   "source": [
    "# Сохраним результаты предсказаний в объекты dataframe \n",
    "well_0=pd.DataFrame(model_0.predict(features_valid_0))\n",
    "well_0=well_0[0]\n",
    "well_1=pd.DataFrame(model_1.predict(features_valid_1))\n",
    "well_1=well_1[0]\n",
    "well_2=pd.DataFrame(model_1.predict(features_valid_2))\n",
    "well_2=well_2[0]\n",
    "target_0 = target_valid_0.reset_index(drop=True)\n",
    "target_1 = target_valid_1.reset_index(drop=True)\n",
    "target_2 = target_valid_2.reset_index(drop=True)"
   ]
  },
  {
   "cell_type": "code",
   "execution_count": 37,
   "metadata": {},
   "outputs": [
    {
     "name": "stdout",
     "output_type": "stream",
     "text": [
      "Прибыль на 200 ТОП-скважин в регионе 0:  6510947580\n",
      "Прибыль на 200 ТОП-скважин в регионе 1:  2415086697\n",
      "Прибыль на 200 ТОП-скважин в регионе 2:  6942663159\n"
     ]
    }
   ],
   "source": [
    "# Для сравнения рассчитаем прибыль по 200 ТОП, с сортировкой по реальному значению продукта:\n",
    "print('Прибыль на', COUNT, 'ТОП-скважин в регионе 0: ',profit(target_0,target_0,COUNT))\n",
    "print('Прибыль на', COUNT, 'ТОП-скважин в регионе 1: ',profit(target_1,target_1,COUNT))\n",
    "print('Прибыль на', COUNT, 'ТОП-скважин в регионе 2: ',profit(target_2,target_2,COUNT))"
   ]
  },
  {
   "cell_type": "code",
   "execution_count": 38,
   "metadata": {
    "scrolled": true
   },
   "outputs": [
    {
     "name": "stdout",
     "output_type": "stream",
     "text": [
      "Прибыль на 200 ТОП-скважин в регионе 0:  3320826043\n",
      "Прибыль на 200 ТОП-скважин в регионе 1:  2415086697\n",
      "Прибыль на 200 ТОП-скважин в регионе 2:  2737074693\n"
     ]
    }
   ],
   "source": [
    "# Выберем 200 ТОП скважин на основе прогнозного продукта и рассчитаем прибыль по реальному продукту этих скважин.\n",
    "print('Прибыль на', COUNT, 'ТОП-скважин в регионе 0: ',profit(target_0, well_0,COUNT))\n",
    "print('Прибыль на', COUNT, 'ТОП-скважин в регионе 1: ',profit(target_1,well_1,COUNT))\n",
    "print('Прибыль на', COUNT, 'ТОП-скважин в регионе 2: ',profit(target_2,well_2,COUNT))"
   ]
  },
  {
   "cell_type": "code",
   "execution_count": 39,
   "metadata": {},
   "outputs": [
    {
     "name": "stdout",
     "output_type": "stream",
     "text": [
      "Средняя выручка региона 0 :  425938527\n",
      "2,5%-квантиль региона 0 :  -102090095\n",
      "97,5%-квантиль региона 0 :  947976354\n",
      "Доля скважин с убытком в регионе  0 :  0.06\n",
      "\n",
      "Средняя выручка региона 1 :  515222773\n",
      "2,5%-квантиль региона 1 :  68873225\n",
      "97,5%-квантиль региона 1 :  931547591\n",
      "Доля скважин с убытком в регионе  1 :  0.01\n",
      "\n",
      "Средняя выручка региона 2 :  436040129\n",
      "2,5%-квантиль региона 2 :  -136868692\n",
      "97,5%-квантиль региона 2 :  966689525\n",
      "Доля скважин с убытком в регионе  2 :  0.065\n",
      "\n"
     ]
    }
   ],
   "source": [
    "# Сделаем список DF из регионов\n",
    "predict=[well_0,well_1,well_2]\n",
    "target=[target_0,target_1,target_2]\n",
    "\n",
    "# Переберем циклом регины и применим к ним функцию\n",
    "for reg in range (3):\n",
    "    state = np.random.RandomState(12345)\n",
    "    values = []\n",
    "    count_1=0\n",
    "    count_2=0\n",
    "    for i in range(1000):\n",
    "        target_subsample = target[reg].sample(n=500, replace=True, random_state=state)\n",
    "        probs_subsample = predict[reg][target_subsample.index]\n",
    "        values.append(profit(target_subsample,probs_subsample,200))\n",
    "        if profit(target_subsample,probs_subsample,200)<0: count_2+=1\n",
    "        count_1+=1\n",
    "    values = pd.Series(values)\n",
    "    lower_1 = values.quantile(0.975)\n",
    "    lower_2 = values.quantile(0.025)\n",
    "    mean = values.mean()\n",
    "    print(\"Средняя выручка региона\",reg,\": \", round(mean))\n",
    "    print(\"2,5%-квантиль региона\",reg,\": \", round(lower_2))\n",
    "    print(\"97,5%-квантиль региона\",reg,\": \", round(lower_1))\n",
    "    print(\"Доля скважин с убытком в регионе \",reg,\": \",count_2/count_1 )\n",
    "    print('')"
   ]
  },
  {
   "cell_type": "markdown",
   "metadata": {},
   "source": [
    "### Вывод"
   ]
  },
  {
   "cell_type": "markdown",
   "metadata": {},
   "source": [
    "По итогам исследования мы можем наблюдать, что средняя выручка региона 1 является самой высокой и равна 515222773, также стоит отметить, что в данном регионе самая низкая доля скважин с убыток. Она составляет 0.01 против 0.06 и 0.065 в других регионах.\n",
    "Мы видим, что в регионе 1 - 95% выручки будет выше 150785740, а 97.5% выручки выше 68873225. Это единственный регион, который удовлетворяет нашим условиям."
   ]
  }
 ],
 "metadata": {
  "ExecuteTimeLog": [
   {
    "duration": 184,
    "start_time": "2022-03-22T07:28:46.913Z"
   },
   {
    "duration": 1993,
    "start_time": "2022-03-22T07:31:26.007Z"
   },
   {
    "duration": 400,
    "start_time": "2022-03-22T07:31:28.002Z"
   },
   {
    "duration": 22,
    "start_time": "2022-03-22T07:31:28.404Z"
   },
   {
    "duration": 21,
    "start_time": "2022-03-22T07:31:28.437Z"
   },
   {
    "duration": 12,
    "start_time": "2022-03-22T07:31:29.150Z"
   },
   {
    "duration": 14,
    "start_time": "2022-03-22T07:31:29.482Z"
   },
   {
    "duration": 12,
    "start_time": "2022-03-22T07:31:29.698Z"
   },
   {
    "duration": 19,
    "start_time": "2022-03-22T07:31:29.906Z"
   },
   {
    "duration": 7,
    "start_time": "2022-03-22T07:31:30.690Z"
   },
   {
    "duration": 15,
    "start_time": "2022-03-22T07:31:30.994Z"
   },
   {
    "duration": 4,
    "start_time": "2022-03-22T07:31:31.368Z"
   },
   {
    "duration": 6,
    "start_time": "2022-03-22T07:31:31.706Z"
   },
   {
    "duration": 15,
    "start_time": "2022-03-22T07:31:31.938Z"
   },
   {
    "duration": 5,
    "start_time": "2022-03-22T07:31:32.157Z"
   },
   {
    "duration": 5,
    "start_time": "2022-03-22T07:31:32.349Z"
   },
   {
    "duration": 16,
    "start_time": "2022-03-22T07:31:32.554Z"
   },
   {
    "duration": 5,
    "start_time": "2022-03-22T07:31:32.747Z"
   },
   {
    "duration": 24,
    "start_time": "2022-03-22T07:31:33.448Z"
   },
   {
    "duration": 4,
    "start_time": "2022-03-22T07:31:33.904Z"
   },
   {
    "duration": 6,
    "start_time": "2022-03-22T07:31:34.137Z"
   },
   {
    "duration": 7,
    "start_time": "2022-03-22T07:31:34.471Z"
   },
   {
    "duration": 14,
    "start_time": "2022-03-22T07:31:34.874Z"
   },
   {
    "duration": 6,
    "start_time": "2022-03-22T07:31:35.059Z"
   },
   {
    "duration": 6,
    "start_time": "2022-03-22T07:31:35.224Z"
   },
   {
    "duration": 5,
    "start_time": "2022-03-22T07:31:35.424Z"
   },
   {
    "duration": 18,
    "start_time": "2022-03-22T07:31:35.847Z"
   },
   {
    "duration": 4,
    "start_time": "2022-03-22T07:31:36.040Z"
   },
   {
    "duration": 5,
    "start_time": "2022-03-22T07:31:36.240Z"
   },
   {
    "duration": 6,
    "start_time": "2022-03-22T07:31:36.404Z"
   },
   {
    "duration": 4,
    "start_time": "2022-03-22T07:31:37.577Z"
   },
   {
    "duration": 5,
    "start_time": "2022-03-22T07:31:39.174Z"
   },
   {
    "duration": 3,
    "start_time": "2022-03-22T07:31:39.673Z"
   },
   {
    "duration": 4,
    "start_time": "2022-03-22T07:31:40.121Z"
   },
   {
    "duration": 8,
    "start_time": "2022-03-22T07:31:40.614Z"
   },
   {
    "duration": 3,
    "start_time": "2022-03-22T07:31:42.525Z"
   },
   {
    "duration": 18,
    "start_time": "2022-03-22T07:31:42.931Z"
   },
   {
    "duration": 123,
    "start_time": "2022-03-22T07:31:43.497Z"
   },
   {
    "duration": 12,
    "start_time": "2022-03-22T07:31:43.723Z"
   },
   {
    "duration": 6310,
    "start_time": "2022-03-22T07:31:43.917Z"
   },
   {
    "duration": 10,
    "start_time": "2022-03-22T07:32:24.843Z"
   },
   {
    "duration": 21,
    "start_time": "2022-03-22T07:32:34.254Z"
   },
   {
    "duration": 18,
    "start_time": "2022-03-22T07:32:44.174Z"
   },
   {
    "duration": 6280,
    "start_time": "2022-03-22T07:32:47.950Z"
   },
   {
    "duration": 6258,
    "start_time": "2022-03-22T07:37:16.702Z"
   },
   {
    "duration": 6467,
    "start_time": "2022-03-22T07:39:12.916Z"
   },
   {
    "duration": 6737,
    "start_time": "2022-03-22T07:40:57.910Z"
   }
  ],
  "kernelspec": {
   "display_name": "Python 3",
   "language": "python",
   "name": "python3"
  },
  "language_info": {
   "codemirror_mode": {
    "name": "ipython",
    "version": 3
   },
   "file_extension": ".py",
   "mimetype": "text/x-python",
   "name": "python",
   "nbconvert_exporter": "python",
   "pygments_lexer": "ipython3",
   "version": "3.7.12"
  },
  "toc": {
   "base_numbering": 1,
   "nav_menu": {},
   "number_sections": true,
   "sideBar": true,
   "skip_h1_title": true,
   "title_cell": "Table of Contents",
   "title_sidebar": "Contents",
   "toc_cell": false,
   "toc_position": {},
   "toc_section_display": true,
   "toc_window_display": true
  }
 },
 "nbformat": 4,
 "nbformat_minor": 2
}
