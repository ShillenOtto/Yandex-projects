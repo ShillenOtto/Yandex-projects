{
 "cells": [
  {
   "cell_type": "markdown",
   "metadata": {},
   "source": [
    "# Описание проекта \"Исследование надёжности заёмщиков\"\n",
    "\n",
    "Заказчик — кредитный отдел банка. На основе статистики о платёжеспособности клиентов исследовать влияет ли семейное положение и количество детей клиента на факт возврата кредита в срок. Входные данные от банка — статистика о платёжеспособности клиентов.\n"
   ]
  },
  {
   "cell_type": "markdown",
   "metadata": {},
   "source": [
    "## Откройте файл с данными и изучите общую информацию"
   ]
  },
  {
   "cell_type": "code",
   "execution_count": 1,
   "metadata": {
    "scrolled": true
   },
   "outputs": [],
   "source": [
    "# Импортируем необходимые библиотеки\n",
    "import pandas as pd\n",
    "from pymystem3 import Mystem"
   ]
  },
  {
   "cell_type": "code",
   "execution_count": 2,
   "metadata": {},
   "outputs": [],
   "source": [
    "# Прочитаем файл с данными и сохраним в  переменную data.\n",
    "data = pd.read_csv('data.csv')"
   ]
  },
  {
   "cell_type": "code",
   "execution_count": 5,
   "metadata": {},
   "outputs": [
    {
     "data": {
      "text/html": [
       "<div>\n",
       "<style scoped>\n",
       "    .dataframe tbody tr th:only-of-type {\n",
       "        vertical-align: middle;\n",
       "    }\n",
       "\n",
       "    .dataframe tbody tr th {\n",
       "        vertical-align: top;\n",
       "    }\n",
       "\n",
       "    .dataframe thead th {\n",
       "        text-align: right;\n",
       "    }\n",
       "</style>\n",
       "<table border=\"1\" class=\"dataframe\">\n",
       "  <thead>\n",
       "    <tr style=\"text-align: right;\">\n",
       "      <th></th>\n",
       "      <th>Unnamed: 0</th>\n",
       "      <th>children</th>\n",
       "      <th>days_employed</th>\n",
       "      <th>dob_years</th>\n",
       "      <th>education</th>\n",
       "      <th>education_id</th>\n",
       "      <th>family_status</th>\n",
       "      <th>family_status_id</th>\n",
       "      <th>gender</th>\n",
       "      <th>income_type</th>\n",
       "      <th>debt</th>\n",
       "      <th>total_income</th>\n",
       "      <th>purpose</th>\n",
       "    </tr>\n",
       "  </thead>\n",
       "  <tbody>\n",
       "    <tr>\n",
       "      <th>0</th>\n",
       "      <td>0</td>\n",
       "      <td>1</td>\n",
       "      <td>-8437.673028</td>\n",
       "      <td>42</td>\n",
       "      <td>высшее</td>\n",
       "      <td>0</td>\n",
       "      <td>женат / замужем</td>\n",
       "      <td>0</td>\n",
       "      <td>F</td>\n",
       "      <td>сотрудник</td>\n",
       "      <td>0</td>\n",
       "      <td>253875.639453</td>\n",
       "      <td>покупка жилья</td>\n",
       "    </tr>\n",
       "    <tr>\n",
       "      <th>1</th>\n",
       "      <td>1</td>\n",
       "      <td>1</td>\n",
       "      <td>-4024.803754</td>\n",
       "      <td>36</td>\n",
       "      <td>среднее</td>\n",
       "      <td>1</td>\n",
       "      <td>женат / замужем</td>\n",
       "      <td>0</td>\n",
       "      <td>F</td>\n",
       "      <td>сотрудник</td>\n",
       "      <td>0</td>\n",
       "      <td>112080.014102</td>\n",
       "      <td>приобретение автомобиля</td>\n",
       "    </tr>\n",
       "    <tr>\n",
       "      <th>2</th>\n",
       "      <td>2</td>\n",
       "      <td>0</td>\n",
       "      <td>-5623.422610</td>\n",
       "      <td>33</td>\n",
       "      <td>Среднее</td>\n",
       "      <td>1</td>\n",
       "      <td>женат / замужем</td>\n",
       "      <td>0</td>\n",
       "      <td>M</td>\n",
       "      <td>сотрудник</td>\n",
       "      <td>0</td>\n",
       "      <td>145885.952297</td>\n",
       "      <td>покупка жилья</td>\n",
       "    </tr>\n",
       "    <tr>\n",
       "      <th>3</th>\n",
       "      <td>3</td>\n",
       "      <td>3</td>\n",
       "      <td>-4124.747207</td>\n",
       "      <td>32</td>\n",
       "      <td>среднее</td>\n",
       "      <td>1</td>\n",
       "      <td>женат / замужем</td>\n",
       "      <td>0</td>\n",
       "      <td>M</td>\n",
       "      <td>сотрудник</td>\n",
       "      <td>0</td>\n",
       "      <td>267628.550329</td>\n",
       "      <td>дополнительное образование</td>\n",
       "    </tr>\n",
       "    <tr>\n",
       "      <th>4</th>\n",
       "      <td>4</td>\n",
       "      <td>0</td>\n",
       "      <td>340266.072047</td>\n",
       "      <td>53</td>\n",
       "      <td>среднее</td>\n",
       "      <td>1</td>\n",
       "      <td>гражданский брак</td>\n",
       "      <td>1</td>\n",
       "      <td>F</td>\n",
       "      <td>пенсионер</td>\n",
       "      <td>0</td>\n",
       "      <td>158616.077870</td>\n",
       "      <td>сыграть свадьбу</td>\n",
       "    </tr>\n",
       "  </tbody>\n",
       "</table>\n",
       "</div>"
      ],
      "text/plain": [
       "   Unnamed: 0  children  days_employed  dob_years education  education_id  \\\n",
       "0           0         1   -8437.673028         42    высшее             0   \n",
       "1           1         1   -4024.803754         36   среднее             1   \n",
       "2           2         0   -5623.422610         33   Среднее             1   \n",
       "3           3         3   -4124.747207         32   среднее             1   \n",
       "4           4         0  340266.072047         53   среднее             1   \n",
       "\n",
       "      family_status  family_status_id gender income_type  debt   total_income  \\\n",
       "0   женат / замужем                 0      F   сотрудник     0  253875.639453   \n",
       "1   женат / замужем                 0      F   сотрудник     0  112080.014102   \n",
       "2   женат / замужем                 0      M   сотрудник     0  145885.952297   \n",
       "3   женат / замужем                 0      M   сотрудник     0  267628.550329   \n",
       "4  гражданский брак                 1      F   пенсионер     0  158616.077870   \n",
       "\n",
       "                      purpose  \n",
       "0               покупка жилья  \n",
       "1     приобретение автомобиля  \n",
       "2               покупка жилья  \n",
       "3  дополнительное образование  \n",
       "4             сыграть свадьбу  "
      ]
     },
     "execution_count": 5,
     "metadata": {},
     "output_type": "execute_result"
    }
   ],
   "source": [
    "# Выведим первых 5 строк data.\n",
    "data.head()"
   ]
  },
  {
   "cell_type": "code",
   "execution_count": 6,
   "metadata": {
    "scrolled": true
   },
   "outputs": [
    {
     "name": "stdout",
     "output_type": "stream",
     "text": [
      "<class 'pandas.core.frame.DataFrame'>\n",
      "RangeIndex: 21525 entries, 0 to 21524\n",
      "Data columns (total 13 columns):\n",
      " #   Column            Non-Null Count  Dtype  \n",
      "---  ------            --------------  -----  \n",
      " 0   Unnamed: 0        21525 non-null  int64  \n",
      " 1   children          21525 non-null  int64  \n",
      " 2   days_employed     19351 non-null  float64\n",
      " 3   dob_years         21525 non-null  int64  \n",
      " 4   education         21525 non-null  object \n",
      " 5   education_id      21525 non-null  int64  \n",
      " 6   family_status     21525 non-null  object \n",
      " 7   family_status_id  21525 non-null  int64  \n",
      " 8   gender            21525 non-null  object \n",
      " 9   income_type       21525 non-null  object \n",
      " 10  debt              21525 non-null  int64  \n",
      " 11  total_income      19351 non-null  float64\n",
      " 12  purpose           21525 non-null  object \n",
      "dtypes: float64(2), int64(6), object(5)\n",
      "memory usage: 2.1+ MB\n"
     ]
    }
   ],
   "source": [
    "# Посмотрим общую информацию о данных в data.\n",
    "data.info()"
   ]
  },
  {
   "cell_type": "markdown",
   "metadata": {},
   "source": [
    "### Описание данных\n",
    "`children` — количество детей в семье   \n",
    "`days_employed` — общий трудовой стаж в днях  \n",
    "`dob_years` — уровень образования клиента  \n",
    "`education` — город пользователя    \n",
    "`education_id` — идентификатор уровня образования  \n",
    "`family_status` — семейное положение  \n",
    "`family_status_id` — идентификатор семейного положения  \n",
    "`gender` — пол клиента  \n",
    "`income_type` — тип занятости  \n",
    "`debt`  — имел ли задолженность по возврату кредитов  \n",
    "`total_income` — ежемесячный доход  \n",
    "`purpose` — цель получения кредита  "
   ]
  },
  {
   "cell_type": "markdown",
   "metadata": {},
   "source": [
    "**Вывод**"
   ]
  },
  {
   "cell_type": "markdown",
   "metadata": {},
   "source": [
    "Импортировали библиотеку Pandas. Прочитали файл с данными и сохранили его в переменной `data`. Вывели первые 10 значений для знакомства с таблицей. Наблюдаем несколько типов данных (int64 / float64 / object) и пропуски в `days_employed` и `total_income`. "
   ]
  },
  {
   "cell_type": "markdown",
   "metadata": {},
   "source": [
    "## Предобработка данных"
   ]
  },
  {
   "cell_type": "markdown",
   "metadata": {},
   "source": [
    "### Обработка пропусков"
   ]
  },
  {
   "cell_type": "code",
   "execution_count": 7,
   "metadata": {
    "scrolled": true
   },
   "outputs": [
    {
     "data": {
      "text/html": [
       "<div>\n",
       "<style scoped>\n",
       "    .dataframe tbody tr th:only-of-type {\n",
       "        vertical-align: middle;\n",
       "    }\n",
       "\n",
       "    .dataframe tbody tr th {\n",
       "        vertical-align: top;\n",
       "    }\n",
       "\n",
       "    .dataframe thead th {\n",
       "        text-align: right;\n",
       "    }\n",
       "</style>\n",
       "<table border=\"1\" class=\"dataframe\">\n",
       "  <thead>\n",
       "    <tr style=\"text-align: right;\">\n",
       "      <th></th>\n",
       "      <th>Unnamed: 0</th>\n",
       "      <th>children</th>\n",
       "      <th>days_employed</th>\n",
       "      <th>dob_years</th>\n",
       "      <th>education</th>\n",
       "      <th>education_id</th>\n",
       "      <th>family_status</th>\n",
       "      <th>family_status_id</th>\n",
       "      <th>gender</th>\n",
       "      <th>income_type</th>\n",
       "      <th>debt</th>\n",
       "      <th>total_income</th>\n",
       "      <th>purpose</th>\n",
       "    </tr>\n",
       "  </thead>\n",
       "  <tbody>\n",
       "    <tr>\n",
       "      <th>12</th>\n",
       "      <td>12</td>\n",
       "      <td>0</td>\n",
       "      <td>NaN</td>\n",
       "      <td>65</td>\n",
       "      <td>среднее</td>\n",
       "      <td>1</td>\n",
       "      <td>гражданский брак</td>\n",
       "      <td>1</td>\n",
       "      <td>M</td>\n",
       "      <td>пенсионер</td>\n",
       "      <td>0</td>\n",
       "      <td>NaN</td>\n",
       "      <td>сыграть свадьбу</td>\n",
       "    </tr>\n",
       "    <tr>\n",
       "      <th>26</th>\n",
       "      <td>26</td>\n",
       "      <td>0</td>\n",
       "      <td>NaN</td>\n",
       "      <td>41</td>\n",
       "      <td>среднее</td>\n",
       "      <td>1</td>\n",
       "      <td>женат / замужем</td>\n",
       "      <td>0</td>\n",
       "      <td>M</td>\n",
       "      <td>госслужащий</td>\n",
       "      <td>0</td>\n",
       "      <td>NaN</td>\n",
       "      <td>образование</td>\n",
       "    </tr>\n",
       "    <tr>\n",
       "      <th>29</th>\n",
       "      <td>29</td>\n",
       "      <td>0</td>\n",
       "      <td>NaN</td>\n",
       "      <td>63</td>\n",
       "      <td>среднее</td>\n",
       "      <td>1</td>\n",
       "      <td>Не женат / не замужем</td>\n",
       "      <td>4</td>\n",
       "      <td>F</td>\n",
       "      <td>пенсионер</td>\n",
       "      <td>0</td>\n",
       "      <td>NaN</td>\n",
       "      <td>строительство жилой недвижимости</td>\n",
       "    </tr>\n",
       "    <tr>\n",
       "      <th>41</th>\n",
       "      <td>41</td>\n",
       "      <td>0</td>\n",
       "      <td>NaN</td>\n",
       "      <td>50</td>\n",
       "      <td>среднее</td>\n",
       "      <td>1</td>\n",
       "      <td>женат / замужем</td>\n",
       "      <td>0</td>\n",
       "      <td>F</td>\n",
       "      <td>госслужащий</td>\n",
       "      <td>0</td>\n",
       "      <td>NaN</td>\n",
       "      <td>сделка с подержанным автомобилем</td>\n",
       "    </tr>\n",
       "    <tr>\n",
       "      <th>55</th>\n",
       "      <td>55</td>\n",
       "      <td>0</td>\n",
       "      <td>NaN</td>\n",
       "      <td>54</td>\n",
       "      <td>среднее</td>\n",
       "      <td>1</td>\n",
       "      <td>гражданский брак</td>\n",
       "      <td>1</td>\n",
       "      <td>F</td>\n",
       "      <td>пенсионер</td>\n",
       "      <td>1</td>\n",
       "      <td>NaN</td>\n",
       "      <td>сыграть свадьбу</td>\n",
       "    </tr>\n",
       "  </tbody>\n",
       "</table>\n",
       "</div>"
      ],
      "text/plain": [
       "    Unnamed: 0  children  days_employed  dob_years education  education_id  \\\n",
       "12          12         0            NaN         65   среднее             1   \n",
       "26          26         0            NaN         41   среднее             1   \n",
       "29          29         0            NaN         63   среднее             1   \n",
       "41          41         0            NaN         50   среднее             1   \n",
       "55          55         0            NaN         54   среднее             1   \n",
       "\n",
       "            family_status  family_status_id gender  income_type  debt  \\\n",
       "12       гражданский брак                 1      M    пенсионер     0   \n",
       "26        женат / замужем                 0      M  госслужащий     0   \n",
       "29  Не женат / не замужем                 4      F    пенсионер     0   \n",
       "41        женат / замужем                 0      F  госслужащий     0   \n",
       "55       гражданский брак                 1      F    пенсионер     1   \n",
       "\n",
       "    total_income                           purpose  \n",
       "12           NaN                   сыграть свадьбу  \n",
       "26           NaN                       образование  \n",
       "29           NaN  строительство жилой недвижимости  \n",
       "41           NaN  сделка с подержанным автомобилем  \n",
       "55           NaN                   сыграть свадьбу  "
      ]
     },
     "execution_count": 7,
     "metadata": {},
     "output_type": "execute_result"
    }
   ],
   "source": [
    "# Посмотрим на тип пропусков\n",
    "nan_values = data[data['days_employed'].isna()]\n",
    "nan_values.head()"
   ]
  },
  {
   "cell_type": "markdown",
   "metadata": {},
   "source": [
    "Пропуски имелись в столбцах `days_employed` и `total_income` по типу NaN  \n",
    "Причина пропуска может быть связанна с тем, что клиент не предоставил сведения о работе и о ЗП."
   ]
  },
  {
   "cell_type": "code",
   "execution_count": 8,
   "metadata": {},
   "outputs": [],
   "source": [
    "# Заменим пропуски на медиану, так как без предоставленных сведений о трудовом стаже мы не можем корректно судить о надежности заемщика.\n",
    "data['days_employed'] = data['days_employed'].fillna(data['days_employed'].median())\n",
    "# Заменим пропуски на медиану, так как без предоставленных сведений о ЗП мы не можем корректно судить о надежности заемщика.\n",
    "data['total_income'] = data['total_income'].fillna(data['total_income'].median()) "
   ]
  },
  {
   "cell_type": "code",
   "execution_count": 9,
   "metadata": {
    "scrolled": true
   },
   "outputs": [
    {
     "name": "stdout",
     "output_type": "stream",
     "text": [
      "Unnamed: 0          0\n",
      "children            0\n",
      "days_employed       0\n",
      "dob_years           0\n",
      "education           0\n",
      "education_id        0\n",
      "family_status       0\n",
      "family_status_id    0\n",
      "gender              0\n",
      "income_type         0\n",
      "debt                0\n",
      "total_income        0\n",
      "purpose             0\n",
      "dtype: int64\n"
     ]
    }
   ],
   "source": [
    "# Проверим остались ли пропуски.\n",
    "print(data.isna().sum())"
   ]
  },
  {
   "cell_type": "markdown",
   "metadata": {},
   "source": [
    "### Проверим данные на уникальность"
   ]
  },
  {
   "cell_type": "code",
   "execution_count": 10,
   "metadata": {},
   "outputs": [
    {
     "name": "stdout",
     "output_type": "stream",
     "text": [
      "[ 1  0  3  2 -1  4 20  5]\n"
     ]
    }
   ],
   "source": [
    "#Проверям коллонку с детьми на уникальные значения, чтобы найти возможные отклонения.\n",
    "children_unique = data['children'].unique()\n",
    "print(children_unique)"
   ]
  },
  {
   "cell_type": "markdown",
   "metadata": {},
   "source": [
    "Мы видим два отклонения (Отрицательное количество детей и 20 детей). Проработаем данные пункты."
   ]
  },
  {
   "cell_type": "code",
   "execution_count": 11,
   "metadata": {},
   "outputs": [
    {
     "name": "stdout",
     "output_type": "stream",
     "text": [
      "[1 0 3 2 4 5]\n"
     ]
    }
   ],
   "source": [
    "# Уберем отрицательное количесво детей. (с логикой, что это опечатка)\n",
    "data['children'] = abs(data['children'])\n",
    "# Заменим на возможное значение. (с логикой, что это опечатка)\n",
    "data.loc[data['children'] == 20, 'children'] = 2\n",
    "# Снова проверим на уникальность.\n",
    "children_unique = data['children'].unique()\n",
    "print(children_unique)"
   ]
  },
  {
   "cell_type": "code",
   "execution_count": 12,
   "metadata": {
    "scrolled": true
   },
   "outputs": [
    {
     "name": "stdout",
     "output_type": "stream",
     "text": [
      "count     21525\n",
      "mean      56557\n",
      "std      134922\n",
      "min      -18388\n",
      "25%       -2518\n",
      "50%       -1203\n",
      "75%        -385\n",
      "max      401755\n",
      "Name: days_employed, dtype: int64\n"
     ]
    }
   ],
   "source": [
    "# Смотрим минимальное и максимальное значение столбца `days_employed`.\n",
    "print(data['days_employed'].describe().astype('int'))"
   ]
  },
  {
   "cell_type": "markdown",
   "metadata": {},
   "source": [
    "Мы видим слишком большую амплитуду, а так же отрицательное значение в отработанных дня. Надо предположить, что это могут быть за значения."
   ]
  },
  {
   "cell_type": "code",
   "execution_count": 13,
   "metadata": {},
   "outputs": [
    {
     "data": {
      "text/html": [
       "<div>\n",
       "<style scoped>\n",
       "    .dataframe tbody tr th:only-of-type {\n",
       "        vertical-align: middle;\n",
       "    }\n",
       "\n",
       "    .dataframe tbody tr th {\n",
       "        vertical-align: top;\n",
       "    }\n",
       "\n",
       "    .dataframe thead th {\n",
       "        text-align: right;\n",
       "    }\n",
       "</style>\n",
       "<table border=\"1\" class=\"dataframe\">\n",
       "  <thead>\n",
       "    <tr style=\"text-align: right;\">\n",
       "      <th></th>\n",
       "      <th>Unnamed: 0</th>\n",
       "      <th>children</th>\n",
       "      <th>days_employed</th>\n",
       "      <th>dob_years</th>\n",
       "      <th>education</th>\n",
       "      <th>education_id</th>\n",
       "      <th>family_status</th>\n",
       "      <th>family_status_id</th>\n",
       "      <th>gender</th>\n",
       "      <th>income_type</th>\n",
       "      <th>debt</th>\n",
       "      <th>total_income</th>\n",
       "      <th>purpose</th>\n",
       "    </tr>\n",
       "  </thead>\n",
       "  <tbody>\n",
       "    <tr>\n",
       "      <th>6954</th>\n",
       "      <td>6954</td>\n",
       "      <td>0</td>\n",
       "      <td>401755.400475</td>\n",
       "      <td>56</td>\n",
       "      <td>среднее</td>\n",
       "      <td>1</td>\n",
       "      <td>вдовец / вдова</td>\n",
       "      <td>2</td>\n",
       "      <td>F</td>\n",
       "      <td>пенсионер</td>\n",
       "      <td>0</td>\n",
       "      <td>176278.441171</td>\n",
       "      <td>ремонт жилью</td>\n",
       "    </tr>\n",
       "    <tr>\n",
       "      <th>10006</th>\n",
       "      <td>10006</td>\n",
       "      <td>0</td>\n",
       "      <td>401715.811749</td>\n",
       "      <td>69</td>\n",
       "      <td>высшее</td>\n",
       "      <td>0</td>\n",
       "      <td>Не женат / не замужем</td>\n",
       "      <td>4</td>\n",
       "      <td>F</td>\n",
       "      <td>пенсионер</td>\n",
       "      <td>0</td>\n",
       "      <td>57390.256908</td>\n",
       "      <td>получение образования</td>\n",
       "    </tr>\n",
       "    <tr>\n",
       "      <th>7664</th>\n",
       "      <td>7664</td>\n",
       "      <td>1</td>\n",
       "      <td>401675.093434</td>\n",
       "      <td>61</td>\n",
       "      <td>среднее</td>\n",
       "      <td>1</td>\n",
       "      <td>женат / замужем</td>\n",
       "      <td>0</td>\n",
       "      <td>F</td>\n",
       "      <td>пенсионер</td>\n",
       "      <td>0</td>\n",
       "      <td>126214.519212</td>\n",
       "      <td>операции с жильем</td>\n",
       "    </tr>\n",
       "    <tr>\n",
       "      <th>2156</th>\n",
       "      <td>2156</td>\n",
       "      <td>0</td>\n",
       "      <td>401674.466633</td>\n",
       "      <td>60</td>\n",
       "      <td>среднее</td>\n",
       "      <td>1</td>\n",
       "      <td>женат / замужем</td>\n",
       "      <td>0</td>\n",
       "      <td>M</td>\n",
       "      <td>пенсионер</td>\n",
       "      <td>0</td>\n",
       "      <td>325395.724541</td>\n",
       "      <td>автомобили</td>\n",
       "    </tr>\n",
       "    <tr>\n",
       "      <th>7794</th>\n",
       "      <td>7794</td>\n",
       "      <td>0</td>\n",
       "      <td>401663.850046</td>\n",
       "      <td>61</td>\n",
       "      <td>среднее</td>\n",
       "      <td>1</td>\n",
       "      <td>гражданский брак</td>\n",
       "      <td>1</td>\n",
       "      <td>F</td>\n",
       "      <td>пенсионер</td>\n",
       "      <td>0</td>\n",
       "      <td>48286.441362</td>\n",
       "      <td>свадьба</td>\n",
       "    </tr>\n",
       "    <tr>\n",
       "      <th>4697</th>\n",
       "      <td>4697</td>\n",
       "      <td>0</td>\n",
       "      <td>401635.032697</td>\n",
       "      <td>56</td>\n",
       "      <td>среднее</td>\n",
       "      <td>1</td>\n",
       "      <td>женат / замужем</td>\n",
       "      <td>0</td>\n",
       "      <td>F</td>\n",
       "      <td>пенсионер</td>\n",
       "      <td>0</td>\n",
       "      <td>48242.322502</td>\n",
       "      <td>покупка недвижимости</td>\n",
       "    </tr>\n",
       "    <tr>\n",
       "      <th>13420</th>\n",
       "      <td>13420</td>\n",
       "      <td>0</td>\n",
       "      <td>401619.633298</td>\n",
       "      <td>63</td>\n",
       "      <td>Среднее</td>\n",
       "      <td>1</td>\n",
       "      <td>гражданский брак</td>\n",
       "      <td>1</td>\n",
       "      <td>F</td>\n",
       "      <td>пенсионер</td>\n",
       "      <td>0</td>\n",
       "      <td>51449.788325</td>\n",
       "      <td>сыграть свадьбу</td>\n",
       "    </tr>\n",
       "    <tr>\n",
       "      <th>17823</th>\n",
       "      <td>17823</td>\n",
       "      <td>0</td>\n",
       "      <td>401614.475622</td>\n",
       "      <td>59</td>\n",
       "      <td>среднее</td>\n",
       "      <td>1</td>\n",
       "      <td>женат / замужем</td>\n",
       "      <td>0</td>\n",
       "      <td>F</td>\n",
       "      <td>пенсионер</td>\n",
       "      <td>0</td>\n",
       "      <td>152769.694536</td>\n",
       "      <td>покупка жилья для сдачи</td>\n",
       "    </tr>\n",
       "    <tr>\n",
       "      <th>10991</th>\n",
       "      <td>10991</td>\n",
       "      <td>0</td>\n",
       "      <td>401591.828457</td>\n",
       "      <td>56</td>\n",
       "      <td>среднее</td>\n",
       "      <td>1</td>\n",
       "      <td>в разводе</td>\n",
       "      <td>3</td>\n",
       "      <td>F</td>\n",
       "      <td>пенсионер</td>\n",
       "      <td>0</td>\n",
       "      <td>39513.517543</td>\n",
       "      <td>получение дополнительного образования</td>\n",
       "    </tr>\n",
       "    <tr>\n",
       "      <th>8369</th>\n",
       "      <td>8369</td>\n",
       "      <td>0</td>\n",
       "      <td>401590.452231</td>\n",
       "      <td>58</td>\n",
       "      <td>среднее</td>\n",
       "      <td>1</td>\n",
       "      <td>женат / замужем</td>\n",
       "      <td>0</td>\n",
       "      <td>F</td>\n",
       "      <td>пенсионер</td>\n",
       "      <td>0</td>\n",
       "      <td>175306.312902</td>\n",
       "      <td>образование</td>\n",
       "    </tr>\n",
       "  </tbody>\n",
       "</table>\n",
       "</div>"
      ],
      "text/plain": [
       "       Unnamed: 0  children  days_employed  dob_years education  education_id  \\\n",
       "6954         6954         0  401755.400475         56   среднее             1   \n",
       "10006       10006         0  401715.811749         69    высшее             0   \n",
       "7664         7664         1  401675.093434         61   среднее             1   \n",
       "2156         2156         0  401674.466633         60   среднее             1   \n",
       "7794         7794         0  401663.850046         61   среднее             1   \n",
       "4697         4697         0  401635.032697         56   среднее             1   \n",
       "13420       13420         0  401619.633298         63   Среднее             1   \n",
       "17823       17823         0  401614.475622         59   среднее             1   \n",
       "10991       10991         0  401591.828457         56   среднее             1   \n",
       "8369         8369         0  401590.452231         58   среднее             1   \n",
       "\n",
       "               family_status  family_status_id gender income_type  debt  \\\n",
       "6954          вдовец / вдова                 2      F   пенсионер     0   \n",
       "10006  Не женат / не замужем                 4      F   пенсионер     0   \n",
       "7664         женат / замужем                 0      F   пенсионер     0   \n",
       "2156         женат / замужем                 0      M   пенсионер     0   \n",
       "7794        гражданский брак                 1      F   пенсионер     0   \n",
       "4697         женат / замужем                 0      F   пенсионер     0   \n",
       "13420       гражданский брак                 1      F   пенсионер     0   \n",
       "17823        женат / замужем                 0      F   пенсионер     0   \n",
       "10991              в разводе                 3      F   пенсионер     0   \n",
       "8369         женат / замужем                 0      F   пенсионер     0   \n",
       "\n",
       "        total_income                                purpose  \n",
       "6954   176278.441171                           ремонт жилью  \n",
       "10006   57390.256908                  получение образования  \n",
       "7664   126214.519212                      операции с жильем  \n",
       "2156   325395.724541                             автомобили  \n",
       "7794    48286.441362                                свадьба  \n",
       "4697    48242.322502                   покупка недвижимости  \n",
       "13420   51449.788325                        сыграть свадьбу  \n",
       "17823  152769.694536                покупка жилья для сдачи  \n",
       "10991   39513.517543  получение дополнительного образования  \n",
       "8369   175306.312902                            образование  "
      ]
     },
     "execution_count": 13,
     "metadata": {},
     "output_type": "execute_result"
    }
   ],
   "source": [
    "# Посмотрим самые большие значения (предположительно, они связанны с пенсионерами)\n",
    "data.sort_values(by='days_employed', ascending=False).head(10)"
   ]
  },
  {
   "cell_type": "code",
   "execution_count": 14,
   "metadata": {},
   "outputs": [],
   "source": [
    "# Изменим все отрицательные значения на положительные.\n",
    "data['days_employed'] = abs(data['days_employed'])"
   ]
  },
  {
   "cell_type": "markdown",
   "metadata": {},
   "source": [
    "**Вывод**"
   ]
  },
  {
   "cell_type": "markdown",
   "metadata": {},
   "source": [
    "Мы обнаружили пропущенные данные в двух столбцах `days_employed` и `total_income`. Пропуски заменили на 0, и следом удалили строки с пропусками, так как они не корректны."
   ]
  },
  {
   "cell_type": "markdown",
   "metadata": {},
   "source": [
    "### Замена типа данных"
   ]
  },
  {
   "cell_type": "code",
   "execution_count": 15,
   "metadata": {},
   "outputs": [],
   "source": [
    "# Заменим столбцы с типом данных float64 на тип данных int методом astype()\n",
    "data['days_employed'] = data['days_employed'].astype('int')\n",
    "data['total_income'] = data['total_income'].astype('int')"
   ]
  },
  {
   "cell_type": "markdown",
   "metadata": {},
   "source": [
    "**Вывод**"
   ]
  },
  {
   "cell_type": "markdown",
   "metadata": {},
   "source": [
    "Все столбцы с типом данных `float64` заменили на тип данных `int64` методом astype()"
   ]
  },
  {
   "cell_type": "markdown",
   "metadata": {},
   "source": [
    "### Обработка дубликатов"
   ]
  },
  {
   "cell_type": "code",
   "execution_count": 16,
   "metadata": {},
   "outputs": [
    {
     "data": {
      "text/plain": [
       "0"
      ]
     },
     "execution_count": 16,
     "metadata": {},
     "output_type": "execute_result"
    }
   ],
   "source": [
    "# Приведем все данные в столбце education к нижнему регитру.\n",
    "data['education'] = data['education'].str.lower()\n",
    "# Приведем все данные в столбце family_status к нижнему регитру.\n",
    "data['family_status'] = data['family_status'].str.lower()\n",
    "# Удалим дубликаты, если такие есть.\n",
    "data = data.drop_duplicates() \n",
    "data.duplicated().sum()"
   ]
  },
  {
   "cell_type": "markdown",
   "metadata": {},
   "source": [
    "**Вывод**"
   ]
  },
  {
   "cell_type": "markdown",
   "metadata": {},
   "source": [
    "Мы привели все значения к одному регистру и после удалили все дубликаты."
   ]
  },
  {
   "cell_type": "markdown",
   "metadata": {},
   "source": [
    "### Лемматизация"
   ]
  },
  {
   "cell_type": "code",
   "execution_count": 17,
   "metadata": {
    "scrolled": false
   },
   "outputs": [
    {
     "data": {
      "text/html": [
       "<div>\n",
       "<style scoped>\n",
       "    .dataframe tbody tr th:only-of-type {\n",
       "        vertical-align: middle;\n",
       "    }\n",
       "\n",
       "    .dataframe tbody tr th {\n",
       "        vertical-align: top;\n",
       "    }\n",
       "\n",
       "    .dataframe thead th {\n",
       "        text-align: right;\n",
       "    }\n",
       "</style>\n",
       "<table border=\"1\" class=\"dataframe\">\n",
       "  <thead>\n",
       "    <tr style=\"text-align: right;\">\n",
       "      <th></th>\n",
       "      <th>Unnamed: 0</th>\n",
       "      <th>children</th>\n",
       "      <th>days_employed</th>\n",
       "      <th>dob_years</th>\n",
       "      <th>education</th>\n",
       "      <th>education_id</th>\n",
       "      <th>family_status</th>\n",
       "      <th>family_status_id</th>\n",
       "      <th>gender</th>\n",
       "      <th>income_type</th>\n",
       "      <th>debt</th>\n",
       "      <th>total_income</th>\n",
       "      <th>purpose</th>\n",
       "      <th>purpose_name</th>\n",
       "    </tr>\n",
       "  </thead>\n",
       "  <tbody>\n",
       "    <tr>\n",
       "      <th>0</th>\n",
       "      <td>0</td>\n",
       "      <td>1</td>\n",
       "      <td>8437</td>\n",
       "      <td>42</td>\n",
       "      <td>высшее</td>\n",
       "      <td>0</td>\n",
       "      <td>женат / замужем</td>\n",
       "      <td>0</td>\n",
       "      <td>F</td>\n",
       "      <td>сотрудник</td>\n",
       "      <td>0</td>\n",
       "      <td>253875</td>\n",
       "      <td>покупка жилья</td>\n",
       "      <td>жилье</td>\n",
       "    </tr>\n",
       "    <tr>\n",
       "      <th>1</th>\n",
       "      <td>1</td>\n",
       "      <td>1</td>\n",
       "      <td>4024</td>\n",
       "      <td>36</td>\n",
       "      <td>среднее</td>\n",
       "      <td>1</td>\n",
       "      <td>женат / замужем</td>\n",
       "      <td>0</td>\n",
       "      <td>F</td>\n",
       "      <td>сотрудник</td>\n",
       "      <td>0</td>\n",
       "      <td>112080</td>\n",
       "      <td>приобретение автомобиля</td>\n",
       "      <td>автомобиль</td>\n",
       "    </tr>\n",
       "    <tr>\n",
       "      <th>2</th>\n",
       "      <td>2</td>\n",
       "      <td>0</td>\n",
       "      <td>5623</td>\n",
       "      <td>33</td>\n",
       "      <td>среднее</td>\n",
       "      <td>1</td>\n",
       "      <td>женат / замужем</td>\n",
       "      <td>0</td>\n",
       "      <td>M</td>\n",
       "      <td>сотрудник</td>\n",
       "      <td>0</td>\n",
       "      <td>145885</td>\n",
       "      <td>покупка жилья</td>\n",
       "      <td>жилье</td>\n",
       "    </tr>\n",
       "    <tr>\n",
       "      <th>3</th>\n",
       "      <td>3</td>\n",
       "      <td>3</td>\n",
       "      <td>4124</td>\n",
       "      <td>32</td>\n",
       "      <td>среднее</td>\n",
       "      <td>1</td>\n",
       "      <td>женат / замужем</td>\n",
       "      <td>0</td>\n",
       "      <td>M</td>\n",
       "      <td>сотрудник</td>\n",
       "      <td>0</td>\n",
       "      <td>267628</td>\n",
       "      <td>дополнительное образование</td>\n",
       "      <td>образование</td>\n",
       "    </tr>\n",
       "    <tr>\n",
       "      <th>4</th>\n",
       "      <td>4</td>\n",
       "      <td>0</td>\n",
       "      <td>340266</td>\n",
       "      <td>53</td>\n",
       "      <td>среднее</td>\n",
       "      <td>1</td>\n",
       "      <td>гражданский брак</td>\n",
       "      <td>1</td>\n",
       "      <td>F</td>\n",
       "      <td>пенсионер</td>\n",
       "      <td>0</td>\n",
       "      <td>158616</td>\n",
       "      <td>сыграть свадьбу</td>\n",
       "      <td>свадьба</td>\n",
       "    </tr>\n",
       "  </tbody>\n",
       "</table>\n",
       "</div>"
      ],
      "text/plain": [
       "   Unnamed: 0  children  days_employed  dob_years education  education_id  \\\n",
       "0           0         1           8437         42    высшее             0   \n",
       "1           1         1           4024         36   среднее             1   \n",
       "2           2         0           5623         33   среднее             1   \n",
       "3           3         3           4124         32   среднее             1   \n",
       "4           4         0         340266         53   среднее             1   \n",
       "\n",
       "      family_status  family_status_id gender income_type  debt  total_income  \\\n",
       "0   женат / замужем                 0      F   сотрудник     0        253875   \n",
       "1   женат / замужем                 0      F   сотрудник     0        112080   \n",
       "2   женат / замужем                 0      M   сотрудник     0        145885   \n",
       "3   женат / замужем                 0      M   сотрудник     0        267628   \n",
       "4  гражданский брак                 1      F   пенсионер     0        158616   \n",
       "\n",
       "                      purpose purpose_name  \n",
       "0               покупка жилья        жилье  \n",
       "1     приобретение автомобиля   автомобиль  \n",
       "2               покупка жилья        жилье  \n",
       "3  дополнительное образование  образование  \n",
       "4             сыграть свадьбу      свадьба  "
      ]
     },
     "execution_count": 17,
     "metadata": {},
     "output_type": "execute_result"
    }
   ],
   "source": [
    "from pymystem3 import Mystem\n",
    "m = Mystem()\n",
    "\n",
    "# Создадим функцию, которая проведет лемматизацию\n",
    "def purpose_change(purpose):\n",
    "    lemma = m.lemmatize(purpose)\n",
    "    if 'автомобиль' in lemma:\n",
    "        return 'автомобиль'           \n",
    "    elif 'образование' in lemma:\n",
    "        return 'образование'\n",
    "    elif 'свадьба' in lemma:\n",
    "        return 'свадьба'\n",
    "    elif 'ремонт' or 'строительство' or 'недвижимость' in lemma:\n",
    "        return 'жилье'    \n",
    "    else:\n",
    "        return 'другое'\n",
    "# Применим данную функцию к столбцу purpose ДФ и создадим новый столбец purpose_name.\n",
    "data['purpose_name'] = data['purpose'].apply(purpose_change) \n",
    "data.head()   "
   ]
  },
  {
   "cell_type": "markdown",
   "metadata": {},
   "source": [
    "**Вывод**"
   ]
  },
  {
   "cell_type": "markdown",
   "metadata": {},
   "source": [
    "Мы провели лемматизацию столбца 'purpose' и выделили 4 основных категорий (автомобиль, жилье, образование, свадьба)"
   ]
  },
  {
   "cell_type": "markdown",
   "metadata": {},
   "source": [
    "### Категоризация данных"
   ]
  },
  {
   "cell_type": "code",
   "execution_count": 18,
   "metadata": {
    "scrolled": true
   },
   "outputs": [
    {
     "data": {
      "text/html": [
       "<div>\n",
       "<style scoped>\n",
       "    .dataframe tbody tr th:only-of-type {\n",
       "        vertical-align: middle;\n",
       "    }\n",
       "\n",
       "    .dataframe tbody tr th {\n",
       "        vertical-align: top;\n",
       "    }\n",
       "\n",
       "    .dataframe thead th {\n",
       "        text-align: right;\n",
       "    }\n",
       "</style>\n",
       "<table border=\"1\" class=\"dataframe\">\n",
       "  <thead>\n",
       "    <tr style=\"text-align: right;\">\n",
       "      <th></th>\n",
       "      <th>children</th>\n",
       "      <th>family_status</th>\n",
       "      <th>debt</th>\n",
       "      <th>total_income</th>\n",
       "      <th>purpose_name</th>\n",
       "    </tr>\n",
       "  </thead>\n",
       "  <tbody>\n",
       "    <tr>\n",
       "      <th>0</th>\n",
       "      <td>1</td>\n",
       "      <td>женат / замужем</td>\n",
       "      <td>0</td>\n",
       "      <td>253875</td>\n",
       "      <td>жилье</td>\n",
       "    </tr>\n",
       "    <tr>\n",
       "      <th>1</th>\n",
       "      <td>1</td>\n",
       "      <td>женат / замужем</td>\n",
       "      <td>0</td>\n",
       "      <td>112080</td>\n",
       "      <td>автомобиль</td>\n",
       "    </tr>\n",
       "    <tr>\n",
       "      <th>2</th>\n",
       "      <td>0</td>\n",
       "      <td>женат / замужем</td>\n",
       "      <td>0</td>\n",
       "      <td>145885</td>\n",
       "      <td>жилье</td>\n",
       "    </tr>\n",
       "    <tr>\n",
       "      <th>3</th>\n",
       "      <td>3</td>\n",
       "      <td>женат / замужем</td>\n",
       "      <td>0</td>\n",
       "      <td>267628</td>\n",
       "      <td>образование</td>\n",
       "    </tr>\n",
       "    <tr>\n",
       "      <th>4</th>\n",
       "      <td>0</td>\n",
       "      <td>гражданский брак</td>\n",
       "      <td>0</td>\n",
       "      <td>158616</td>\n",
       "      <td>свадьба</td>\n",
       "    </tr>\n",
       "  </tbody>\n",
       "</table>\n",
       "</div>"
      ],
      "text/plain": [
       "   children     family_status  debt  total_income purpose_name\n",
       "0         1   женат / замужем     0        253875        жилье\n",
       "1         1   женат / замужем     0        112080   автомобиль\n",
       "2         0   женат / замужем     0        145885        жилье\n",
       "3         3   женат / замужем     0        267628  образование\n",
       "4         0  гражданский брак     0        158616      свадьба"
      ]
     },
     "execution_count": 18,
     "metadata": {},
     "output_type": "execute_result"
    }
   ],
   "source": [
    "# Создаем \"словарь\" с количеством детей, семейным положением, уровнем дохода и целями кредита.\n",
    "data_log = data[['children', 'family_status', 'debt', 'total_income', 'purpose_name']]\n",
    "data_log.head()"
   ]
  },
  {
   "cell_type": "code",
   "execution_count": 19,
   "metadata": {
    "scrolled": false
   },
   "outputs": [
    {
     "data": {
      "text/html": [
       "<div>\n",
       "<style scoped>\n",
       "    .dataframe tbody tr th:only-of-type {\n",
       "        vertical-align: middle;\n",
       "    }\n",
       "\n",
       "    .dataframe tbody tr th {\n",
       "        vertical-align: top;\n",
       "    }\n",
       "\n",
       "    .dataframe thead th {\n",
       "        text-align: right;\n",
       "    }\n",
       "</style>\n",
       "<table border=\"1\" class=\"dataframe\">\n",
       "  <thead>\n",
       "    <tr style=\"text-align: right;\">\n",
       "      <th></th>\n",
       "      <th>children</th>\n",
       "      <th>family_status</th>\n",
       "      <th>debt</th>\n",
       "      <th>total_income</th>\n",
       "      <th>purpose_name</th>\n",
       "      <th>children_status</th>\n",
       "    </tr>\n",
       "  </thead>\n",
       "  <tbody>\n",
       "    <tr>\n",
       "      <th>0</th>\n",
       "      <td>1</td>\n",
       "      <td>женат / замужем</td>\n",
       "      <td>0</td>\n",
       "      <td>253875</td>\n",
       "      <td>жилье</td>\n",
       "      <td>1-2 ребенка</td>\n",
       "    </tr>\n",
       "    <tr>\n",
       "      <th>1</th>\n",
       "      <td>1</td>\n",
       "      <td>женат / замужем</td>\n",
       "      <td>0</td>\n",
       "      <td>112080</td>\n",
       "      <td>автомобиль</td>\n",
       "      <td>1-2 ребенка</td>\n",
       "    </tr>\n",
       "    <tr>\n",
       "      <th>2</th>\n",
       "      <td>0</td>\n",
       "      <td>женат / замужем</td>\n",
       "      <td>0</td>\n",
       "      <td>145885</td>\n",
       "      <td>жилье</td>\n",
       "      <td>нет детей</td>\n",
       "    </tr>\n",
       "    <tr>\n",
       "      <th>3</th>\n",
       "      <td>3</td>\n",
       "      <td>женат / замужем</td>\n",
       "      <td>0</td>\n",
       "      <td>267628</td>\n",
       "      <td>образование</td>\n",
       "      <td>многодетная семья</td>\n",
       "    </tr>\n",
       "    <tr>\n",
       "      <th>4</th>\n",
       "      <td>0</td>\n",
       "      <td>гражданский брак</td>\n",
       "      <td>0</td>\n",
       "      <td>158616</td>\n",
       "      <td>свадьба</td>\n",
       "      <td>нет детей</td>\n",
       "    </tr>\n",
       "  </tbody>\n",
       "</table>\n",
       "</div>"
      ],
      "text/plain": [
       "   children     family_status  debt  total_income purpose_name  \\\n",
       "0         1   женат / замужем     0        253875        жилье   \n",
       "1         1   женат / замужем     0        112080   автомобиль   \n",
       "2         0   женат / замужем     0        145885        жилье   \n",
       "3         3   женат / замужем     0        267628  образование   \n",
       "4         0  гражданский брак     0        158616      свадьба   \n",
       "\n",
       "     children_status  \n",
       "0        1-2 ребенка  \n",
       "1        1-2 ребенка  \n",
       "2          нет детей  \n",
       "3  многодетная семья  \n",
       "4          нет детей  "
      ]
     },
     "metadata": {},
     "output_type": "display_data"
    }
   ],
   "source": [
    "# Создадим функцию, которая катигоризирует нам столбец children\n",
    "data_log = data_log.copy()\n",
    "def children(qty):\n",
    "    if qty == 0:\n",
    "        return 'нет детей'\n",
    "    if qty >= 1 and qty <= 2:\n",
    "        return '1-2 ребенка'\n",
    "    return 'многодетная семья'\n",
    "\n",
    "# Применим данную функцию к столбцу children ДФ и создадим новый столбец children_status.\n",
    "data_log['children_status'] = data_log['children'].apply(children)\n",
    "data_log.head()"
   ]
  },
  {
   "cell_type": "code",
   "execution_count": 20,
   "metadata": {},
   "outputs": [
    {
     "data": {
      "text/plain": [
       "count      21525\n",
       "mean      165158\n",
       "std        97866\n",
       "min        20667\n",
       "25%       107798\n",
       "50%       145017\n",
       "75%       195543\n",
       "max      2265604\n",
       "Name: total_income, dtype: int64"
      ]
     },
     "execution_count": 20,
     "metadata": {},
     "output_type": "execute_result"
    }
   ],
   "source": [
    "# Для категоризации по уровню дохода, определим суммы зарплат на 25%/50%/75% \n",
    "data_log['total_income'].describe().astype('int')"
   ]
  },
  {
   "cell_type": "code",
   "execution_count": 21,
   "metadata": {
    "scrolled": false
   },
   "outputs": [
    {
     "data": {
      "text/html": [
       "<div>\n",
       "<style scoped>\n",
       "    .dataframe tbody tr th:only-of-type {\n",
       "        vertical-align: middle;\n",
       "    }\n",
       "\n",
       "    .dataframe tbody tr th {\n",
       "        vertical-align: top;\n",
       "    }\n",
       "\n",
       "    .dataframe thead th {\n",
       "        text-align: right;\n",
       "    }\n",
       "</style>\n",
       "<table border=\"1\" class=\"dataframe\">\n",
       "  <thead>\n",
       "    <tr style=\"text-align: right;\">\n",
       "      <th></th>\n",
       "      <th>children</th>\n",
       "      <th>family_status</th>\n",
       "      <th>debt</th>\n",
       "      <th>total_income</th>\n",
       "      <th>purpose_name</th>\n",
       "      <th>children_status</th>\n",
       "      <th>income_status</th>\n",
       "    </tr>\n",
       "  </thead>\n",
       "  <tbody>\n",
       "    <tr>\n",
       "      <th>0</th>\n",
       "      <td>1</td>\n",
       "      <td>женат / замужем</td>\n",
       "      <td>0</td>\n",
       "      <td>253875</td>\n",
       "      <td>жилье</td>\n",
       "      <td>1-2 ребенка</td>\n",
       "      <td>высокий</td>\n",
       "    </tr>\n",
       "    <tr>\n",
       "      <th>1</th>\n",
       "      <td>1</td>\n",
       "      <td>женат / замужем</td>\n",
       "      <td>0</td>\n",
       "      <td>112080</td>\n",
       "      <td>автомобиль</td>\n",
       "      <td>1-2 ребенка</td>\n",
       "      <td>ниже среднего</td>\n",
       "    </tr>\n",
       "    <tr>\n",
       "      <th>2</th>\n",
       "      <td>0</td>\n",
       "      <td>женат / замужем</td>\n",
       "      <td>0</td>\n",
       "      <td>145885</td>\n",
       "      <td>жилье</td>\n",
       "      <td>нет детей</td>\n",
       "      <td>средний</td>\n",
       "    </tr>\n",
       "    <tr>\n",
       "      <th>3</th>\n",
       "      <td>3</td>\n",
       "      <td>женат / замужем</td>\n",
       "      <td>0</td>\n",
       "      <td>267628</td>\n",
       "      <td>образование</td>\n",
       "      <td>многодетная семья</td>\n",
       "      <td>высокий</td>\n",
       "    </tr>\n",
       "    <tr>\n",
       "      <th>4</th>\n",
       "      <td>0</td>\n",
       "      <td>гражданский брак</td>\n",
       "      <td>0</td>\n",
       "      <td>158616</td>\n",
       "      <td>свадьба</td>\n",
       "      <td>нет детей</td>\n",
       "      <td>средний</td>\n",
       "    </tr>\n",
       "  </tbody>\n",
       "</table>\n",
       "</div>"
      ],
      "text/plain": [
       "   children     family_status  debt  total_income purpose_name  \\\n",
       "0         1   женат / замужем     0        253875        жилье   \n",
       "1         1   женат / замужем     0        112080   автомобиль   \n",
       "2         0   женат / замужем     0        145885        жилье   \n",
       "3         3   женат / замужем     0        267628  образование   \n",
       "4         0  гражданский брак     0        158616      свадьба   \n",
       "\n",
       "     children_status  income_status  \n",
       "0        1-2 ребенка        высокий  \n",
       "1        1-2 ребенка  ниже среднего  \n",
       "2          нет детей        средний  \n",
       "3  многодетная семья        высокий  \n",
       "4          нет детей        средний  "
      ]
     },
     "execution_count": 21,
     "metadata": {},
     "output_type": "execute_result"
    }
   ],
   "source": [
    "# Выделим 4 основные группы: Минимальный(<25%), Ниже среднего (25%-50%), Средний (50%-75%), Высокий(>75%)\n",
    "data_log = data_log.copy()\n",
    "def income(total):\n",
    "    if total <= 108000:\n",
    "        return 'минимальный'\n",
    "    if total >= 108001 and total <= 145000:\n",
    "        return 'ниже среднего'\n",
    "    if total >= 145001 and total <= 195000:\n",
    "        return 'средний'\n",
    "    return 'высокий'\n",
    "\n",
    "# Применим данную функцию к столбцу total_income ДФ и создадим новый столбец income_status.\n",
    "data_log['income_status'] = data_log['total_income'].apply(income)\n",
    "data_log.head()"
   ]
  },
  {
   "cell_type": "code",
   "execution_count": 22,
   "metadata": {
    "scrolled": true
   },
   "outputs": [
    {
     "data": {
      "text/html": [
       "<div>\n",
       "<style scoped>\n",
       "    .dataframe tbody tr th:only-of-type {\n",
       "        vertical-align: middle;\n",
       "    }\n",
       "\n",
       "    .dataframe tbody tr th {\n",
       "        vertical-align: top;\n",
       "    }\n",
       "\n",
       "    .dataframe thead th {\n",
       "        text-align: right;\n",
       "    }\n",
       "</style>\n",
       "<table border=\"1\" class=\"dataframe\">\n",
       "  <thead>\n",
       "    <tr style=\"text-align: right;\">\n",
       "      <th></th>\n",
       "      <th>family_status</th>\n",
       "      <th>debt</th>\n",
       "      <th>purpose_name</th>\n",
       "      <th>children_status</th>\n",
       "      <th>income_status</th>\n",
       "    </tr>\n",
       "  </thead>\n",
       "  <tbody>\n",
       "    <tr>\n",
       "      <th>0</th>\n",
       "      <td>женат / замужем</td>\n",
       "      <td>0</td>\n",
       "      <td>жилье</td>\n",
       "      <td>1-2 ребенка</td>\n",
       "      <td>высокий</td>\n",
       "    </tr>\n",
       "    <tr>\n",
       "      <th>1</th>\n",
       "      <td>женат / замужем</td>\n",
       "      <td>0</td>\n",
       "      <td>автомобиль</td>\n",
       "      <td>1-2 ребенка</td>\n",
       "      <td>ниже среднего</td>\n",
       "    </tr>\n",
       "    <tr>\n",
       "      <th>2</th>\n",
       "      <td>женат / замужем</td>\n",
       "      <td>0</td>\n",
       "      <td>жилье</td>\n",
       "      <td>нет детей</td>\n",
       "      <td>средний</td>\n",
       "    </tr>\n",
       "    <tr>\n",
       "      <th>3</th>\n",
       "      <td>женат / замужем</td>\n",
       "      <td>0</td>\n",
       "      <td>образование</td>\n",
       "      <td>многодетная семья</td>\n",
       "      <td>высокий</td>\n",
       "    </tr>\n",
       "    <tr>\n",
       "      <th>4</th>\n",
       "      <td>гражданский брак</td>\n",
       "      <td>0</td>\n",
       "      <td>свадьба</td>\n",
       "      <td>нет детей</td>\n",
       "      <td>средний</td>\n",
       "    </tr>\n",
       "  </tbody>\n",
       "</table>\n",
       "</div>"
      ],
      "text/plain": [
       "      family_status  debt purpose_name    children_status  income_status\n",
       "0   женат / замужем     0        жилье        1-2 ребенка        высокий\n",
       "1   женат / замужем     0   автомобиль        1-2 ребенка  ниже среднего\n",
       "2   женат / замужем     0        жилье          нет детей        средний\n",
       "3   женат / замужем     0  образование  многодетная семья        высокий\n",
       "4  гражданский брак     0      свадьба          нет детей        средний"
      ]
     },
     "execution_count": 22,
     "metadata": {},
     "output_type": "execute_result"
    }
   ],
   "source": [
    "# Создадим \"словарь\" с количеством детей, семейным положением, уровнем дохода и целями кредита.\n",
    "data_new = data_log[['family_status', 'debt', 'purpose_name', 'children_status', 'income_status']]\n",
    "data_new.head()"
   ]
  },
  {
   "cell_type": "markdown",
   "metadata": {},
   "source": [
    "**Вывод**"
   ]
  },
  {
   "cell_type": "markdown",
   "metadata": {},
   "source": [
    "Мы провели категоризацию данных таких столбцов, как `children`, `total_income` выделив их условные статусы."
   ]
  },
  {
   "cell_type": "markdown",
   "metadata": {},
   "source": [
    "## Ответьтим на возможные вопросы"
   ]
  },
  {
   "cell_type": "markdown",
   "metadata": {},
   "source": [
    "- Есть ли зависимость между наличием детей и возвратом кредита в срок?"
   ]
  },
  {
   "cell_type": "code",
   "execution_count": 18,
   "metadata": {},
   "outputs": [
    {
     "data": {
      "text/plain": [
       "children_status\n",
       "нет детей            0.075438\n",
       "многодетная семья    0.081579\n",
       "1-2 ребенка          0.092654\n",
       "Name: debt, dtype: float64"
      ]
     },
     "execution_count": 18,
     "metadata": {},
     "output_type": "execute_result"
    }
   ],
   "source": [
    "data_new.groupby('children_status')['debt'].mean().sort_values()"
   ]
  },
  {
   "cell_type": "markdown",
   "metadata": {},
   "source": [
    "**Вывод**"
   ]
  },
  {
   "cell_type": "markdown",
   "metadata": {},
   "source": [
    "Исходя из данного иследования мы видим, что заемщики без детей являются самыми надежными, их доля составляет всего 0.075, а самым не надежным заемщиком является категория людей у которых 1-2 ребенка и их доля составляет  0.092"
   ]
  },
  {
   "cell_type": "markdown",
   "metadata": {},
   "source": [
    "- Есть ли зависимость между семейным положением и возвратом кредита в срок?"
   ]
  },
  {
   "cell_type": "code",
   "execution_count": 19,
   "metadata": {},
   "outputs": [
    {
     "data": {
      "text/plain": [
       "family_status\n",
       "вдовец / вдова           0.065693\n",
       "в разводе                0.071130\n",
       "женат / замужем          0.075452\n",
       "гражданский брак         0.093471\n",
       "не женат / не замужем    0.097509\n",
       "Name: debt, dtype: float64"
      ]
     },
     "execution_count": 19,
     "metadata": {},
     "output_type": "execute_result"
    }
   ],
   "source": [
    "data_new.groupby('family_status')['debt'].mean().sort_values()"
   ]
  },
  {
   "cell_type": "markdown",
   "metadata": {},
   "source": [
    "**Вывод**"
   ]
  },
  {
   "cell_type": "markdown",
   "metadata": {},
   "source": [
    "Мы можем наблюдать, что чаще всего возвращают кредиты во время такая категории людей с семейным статусом 'вдовец / вдова'(доля 0.066), хуже всего это делают люди в статусе 'не женат / не замужем'(доля 0.097)."
   ]
  },
  {
   "cell_type": "markdown",
   "metadata": {},
   "source": [
    "- Есть ли зависимость между уровнем дохода и возвратом кредита в срок?"
   ]
  },
  {
   "cell_type": "code",
   "execution_count": 20,
   "metadata": {},
   "outputs": [
    {
     "data": {
      "text/plain": [
       "income_status\n",
       "высокий          0.071732\n",
       "минимальный      0.079653\n",
       "средний          0.086204\n",
       "ниже среднего    0.087497\n",
       "Name: debt, dtype: float64"
      ]
     },
     "execution_count": 20,
     "metadata": {},
     "output_type": "execute_result"
    }
   ],
   "source": [
    "data_new.groupby('income_status')['debt'].mean().sort_values()"
   ]
  },
  {
   "cell_type": "markdown",
   "metadata": {},
   "source": [
    "**Вывод**"
   ]
  },
  {
   "cell_type": "markdown",
   "metadata": {},
   "source": [
    "Мы можем наблюдать, что чаще всего возвращают кредиты своевременно заемщики, которые имеют 'высокий' доход (доля 0.072), хуже всего это делают заемщики с доходом 'ниже среднего' (доля 0.087)."
   ]
  },
  {
   "cell_type": "markdown",
   "metadata": {},
   "source": [
    "- Как разные цели кредита влияют на его возврат в срок?"
   ]
  },
  {
   "cell_type": "code",
   "execution_count": 21,
   "metadata": {
    "scrolled": true
   },
   "outputs": [
    {
     "data": {
      "text/plain": [
       "purpose_name\n",
       "жилье          0.072334\n",
       "свадьба        0.080034\n",
       "образование    0.092200\n",
       "автомобиль     0.093590\n",
       "Name: debt, dtype: float64"
      ]
     },
     "execution_count": 21,
     "metadata": {},
     "output_type": "execute_result"
    }
   ],
   "source": [
    "data_new.groupby('purpose_name')['debt'].mean().sort_values()"
   ]
  },
  {
   "cell_type": "markdown",
   "metadata": {},
   "source": [
    "**Вывод**"
   ]
  },
  {
   "cell_type": "markdown",
   "metadata": {},
   "source": [
    "Группируя результаты по целям кредита, мы можем наблюдать, что чаще всего возвращают кредиты которые берут на 'жилье'(доля 0.072), хуже всего возвращаются кредиты на 'автомобиль' (доля 0.093)."
   ]
  },
  {
   "cell_type": "markdown",
   "metadata": {},
   "source": [
    "## Общий вывод"
   ]
  },
  {
   "cell_type": "markdown",
   "metadata": {},
   "source": [
    "Анализируя датасет:\n",
    "- С помощью метода .isna() были найдены пропущенные значения в столбцах 'days_employed' и 'total_income' по типу NaN, которые были устранены методом .fillna() на медианные значения.\n",
    "- В столбце data['children'] с помощью метода .unique() были найдены такие артифакты, как отрицательное количесво детей (-1), которые были исправлены мотодом abs(), и так же заемщики с 20-ю детьми. Данные значения сокращенны до 2 через метод точечного изменения данных ячейки (data.loc[data['children'] == 20, 'children'] = 2\n",
    "- В столбце ['days_employed'] с помощью метода .describe(), где обнаруживаем такие артифакты, как отрицательное количесво дней стажа, и которое так же исправляем методом abs(). Еще находим большие значения в количесве дней стажа, но их не отработали, так как эт данные нам не важны для исследования (к ним можно было применить уменьшающий коэффициент исходя из минимального отрицаельного значения, по моим подсчетам данный коэффициент должен был быть /22).\n",
    "- В столбцах data['days_employed'] и data['total_income'] мы меняем тип данных с помощью метода .astype('int').\n",
    "- В столбце ['education'] и data['family_status'] мы наблюдаем разный регистр который устроняем путем метода .str.lower(), что приводит все к нижнему регистру. Далее избавляемся от возможных дубликатов методом .drop_duplicates().\n",
    "- Проводим процесс Лемматизации данных. Для этого импортируем Mystem из библиотеки pymystem3 и создаем функцию, которая нам сортирует данные на 4 варианта. И мы добавляем новый столбец с этими данными.\n",
    "- Перехотя к Категоризации данных мы создаем словарь data_log в котором оставляем только нужные для исследования столбцы. Далее с помощью написанных функций, мы категоризируем данные и применяем данную функцию к новому столбцу методом .apply(). Создаем финальный словарь data_new, где собраны все необходимы для ислледования столбцы.\n",
    "\n",
    "Переходя к итогам исследования:\n",
    "1. Есть ли зависимость между наличием детей и возвратом кредита в срок?\n",
    "- Да, мы можем наблюдать зависимость: Заемщики без детей являются самыми надежными, их доля составляет всего 0.075, а самым не надежным заемщиком является категория людей у которых 1-2 ребенка и их доля составляет  0.092\n",
    "2. Есть ли зависимость между семейным положением и возвратом кредита в срок?\n",
    "- Да, мы можем наблюдать зависимость: Чаще всего возвращают кредиты во время такая категории людей с семейным статусом 'вдовец / вдова'(доля 0.066), хуже всего это делают люди в статусе 'не женат / не замужем'(доля 0.097)\n",
    "3. Есть ли зависимость между уровнем дохода и возвратом кредита в срок?\n",
    "- Да, мы можем наблюдать зависимость: чаще всего возвращают кредиты своевременно заемщики, которые имеют 'высокий' доход (доля 0.072), хуже всего это делают заемщики с доходом 'ниже среднего' (доля 0.087)\n",
    "4. Как разные цели кредита влияют на его возврат в срок?\n",
    "- Да, мы можем наблюдать зависимость: Чаще всего возвращают кредиты которые берут на 'жилье'(доля 0.072), хуже всего возвращаются кредиты на 'автомобиль' (доля 0.093)\n",
    "\n",
    "Мы можем сделать общий вывод такой, что самый благонадежный заемщик это тот, у которого есть дети, он находится в разводе или вдовец, с высоким уровнем дохода и цель его кредита на ремонт."
   ]
  },
  {
   "cell_type": "code",
   "execution_count": 22,
   "metadata": {},
   "outputs": [
    {
     "data": {
      "text/html": [
       "<div>\n",
       "<style scoped>\n",
       "    .dataframe tbody tr th:only-of-type {\n",
       "        vertical-align: middle;\n",
       "    }\n",
       "\n",
       "    .dataframe tbody tr th {\n",
       "        vertical-align: top;\n",
       "    }\n",
       "\n",
       "    .dataframe thead th {\n",
       "        text-align: right;\n",
       "    }\n",
       "</style>\n",
       "<table border=\"1\" class=\"dataframe\">\n",
       "  <thead>\n",
       "    <tr style=\"text-align: right;\">\n",
       "      <th></th>\n",
       "      <th>children_status</th>\n",
       "      <th>family_status</th>\n",
       "      <th>income_status</th>\n",
       "      <th>purpose_name</th>\n",
       "      <th>debt</th>\n",
       "    </tr>\n",
       "  </thead>\n",
       "  <tbody>\n",
       "    <tr>\n",
       "      <td>0</td>\n",
       "      <td>многодетная семья</td>\n",
       "      <td>не женат / не замужем</td>\n",
       "      <td>минимальный</td>\n",
       "      <td>жилье</td>\n",
       "      <td>1.000000</td>\n",
       "    </tr>\n",
       "    <tr>\n",
       "      <td>1</td>\n",
       "      <td>многодетная семья</td>\n",
       "      <td>гражданский брак</td>\n",
       "      <td>высокий</td>\n",
       "      <td>автомобиль</td>\n",
       "      <td>1.000000</td>\n",
       "    </tr>\n",
       "    <tr>\n",
       "      <td>2</td>\n",
       "      <td>многодетная семья</td>\n",
       "      <td>гражданский брак</td>\n",
       "      <td>минимальный</td>\n",
       "      <td>свадьба</td>\n",
       "      <td>0.666667</td>\n",
       "    </tr>\n",
       "    <tr>\n",
       "      <td>3</td>\n",
       "      <td>многодетная семья</td>\n",
       "      <td>не женат / не замужем</td>\n",
       "      <td>средний</td>\n",
       "      <td>жилье</td>\n",
       "      <td>0.500000</td>\n",
       "    </tr>\n",
       "    <tr>\n",
       "      <td>4</td>\n",
       "      <td>1-2 ребенка</td>\n",
       "      <td>вдовец / вдова</td>\n",
       "      <td>ниже среднего</td>\n",
       "      <td>образование</td>\n",
       "      <td>0.400000</td>\n",
       "    </tr>\n",
       "    <tr>\n",
       "      <td>...</td>\n",
       "      <td>...</td>\n",
       "      <td>...</td>\n",
       "      <td>...</td>\n",
       "      <td>...</td>\n",
       "      <td>...</td>\n",
       "    </tr>\n",
       "    <tr>\n",
       "      <td>169</td>\n",
       "      <td>многодетная семья</td>\n",
       "      <td>гражданский брак</td>\n",
       "      <td>ниже среднего</td>\n",
       "      <td>свадьба</td>\n",
       "      <td>0.000000</td>\n",
       "    </tr>\n",
       "    <tr>\n",
       "      <td>170</td>\n",
       "      <td>многодетная семья</td>\n",
       "      <td>гражданский брак</td>\n",
       "      <td>средний</td>\n",
       "      <td>жилье</td>\n",
       "      <td>0.000000</td>\n",
       "    </tr>\n",
       "    <tr>\n",
       "      <td>171</td>\n",
       "      <td>многодетная семья</td>\n",
       "      <td>женат / замужем</td>\n",
       "      <td>высокий</td>\n",
       "      <td>образование</td>\n",
       "      <td>0.000000</td>\n",
       "    </tr>\n",
       "    <tr>\n",
       "      <td>172</td>\n",
       "      <td>многодетная семья</td>\n",
       "      <td>женат / замужем</td>\n",
       "      <td>минимальный</td>\n",
       "      <td>образование</td>\n",
       "      <td>0.000000</td>\n",
       "    </tr>\n",
       "    <tr>\n",
       "      <td>173</td>\n",
       "      <td>многодетная семья</td>\n",
       "      <td>в разводе</td>\n",
       "      <td>ниже среднего</td>\n",
       "      <td>автомобиль</td>\n",
       "      <td>0.000000</td>\n",
       "    </tr>\n",
       "  </tbody>\n",
       "</table>\n",
       "<p>174 rows × 5 columns</p>\n",
       "</div>"
      ],
      "text/plain": [
       "       children_status          family_status  income_status purpose_name  \\\n",
       "0    многодетная семья  не женат / не замужем    минимальный        жилье   \n",
       "1    многодетная семья       гражданский брак        высокий   автомобиль   \n",
       "2    многодетная семья       гражданский брак    минимальный      свадьба   \n",
       "3    многодетная семья  не женат / не замужем        средний        жилье   \n",
       "4          1-2 ребенка         вдовец / вдова  ниже среднего  образование   \n",
       "..                 ...                    ...            ...          ...   \n",
       "169  многодетная семья       гражданский брак  ниже среднего      свадьба   \n",
       "170  многодетная семья       гражданский брак        средний        жилье   \n",
       "171  многодетная семья        женат / замужем        высокий  образование   \n",
       "172  многодетная семья        женат / замужем    минимальный  образование   \n",
       "173  многодетная семья              в разводе  ниже среднего   автомобиль   \n",
       "\n",
       "         debt  \n",
       "0    1.000000  \n",
       "1    1.000000  \n",
       "2    0.666667  \n",
       "3    0.500000  \n",
       "4    0.400000  \n",
       "..        ...  \n",
       "169  0.000000  \n",
       "170  0.000000  \n",
       "171  0.000000  \n",
       "172  0.000000  \n",
       "173  0.000000  \n",
       "\n",
       "[174 rows x 5 columns]"
      ]
     },
     "execution_count": 22,
     "metadata": {},
     "output_type": "execute_result"
    }
   ],
   "source": [
    "data_new.groupby(['children_status','family_status','income_status','purpose_name'])['debt'].mean().sort_values(ascending=False).reset_index()"
   ]
  }
 ],
 "metadata": {
  "ExecuteTimeLog": [
   {
    "duration": 624,
    "start_time": "2021-12-10T15:41:51.469Z"
   },
   {
    "duration": 65,
    "start_time": "2021-12-10T15:42:15.504Z"
   },
   {
    "duration": 52,
    "start_time": "2021-12-10T15:42:32.529Z"
   },
   {
    "duration": 11,
    "start_time": "2021-12-10T15:44:21.422Z"
   },
   {
    "duration": 13,
    "start_time": "2021-12-10T16:03:05.712Z"
   },
   {
    "duration": 7,
    "start_time": "2021-12-10T16:03:13.780Z"
   },
   {
    "duration": 10,
    "start_time": "2021-12-10T16:04:11.193Z"
   },
   {
    "duration": 8,
    "start_time": "2021-12-10T16:06:28.093Z"
   },
   {
    "duration": 9,
    "start_time": "2021-12-10T16:08:37.929Z"
   },
   {
    "duration": 293,
    "start_time": "2021-12-10T16:10:15.914Z"
   },
   {
    "duration": 9,
    "start_time": "2021-12-10T16:10:31.792Z"
   },
   {
    "duration": 6,
    "start_time": "2021-12-10T16:11:08.483Z"
   },
   {
    "duration": 57,
    "start_time": "2021-12-10T16:11:21.908Z"
   },
   {
    "duration": 6,
    "start_time": "2021-12-10T16:11:38.321Z"
   },
   {
    "duration": 5,
    "start_time": "2021-12-10T16:12:04.234Z"
   },
   {
    "duration": 5,
    "start_time": "2021-12-10T16:12:08.334Z"
   },
   {
    "duration": 5,
    "start_time": "2021-12-10T16:12:15.404Z"
   },
   {
    "duration": 6,
    "start_time": "2021-12-10T16:12:19.475Z"
   },
   {
    "duration": 6,
    "start_time": "2021-12-10T16:13:50.704Z"
   },
   {
    "duration": 5,
    "start_time": "2021-12-10T16:13:56.037Z"
   },
   {
    "duration": 9,
    "start_time": "2021-12-10T16:14:21.675Z"
   },
   {
    "duration": 11,
    "start_time": "2021-12-10T16:14:41.233Z"
   },
   {
    "duration": 7,
    "start_time": "2021-12-10T16:15:05.144Z"
   },
   {
    "duration": 7,
    "start_time": "2021-12-10T16:15:21.962Z"
   },
   {
    "duration": 7,
    "start_time": "2021-12-10T16:15:38.686Z"
   },
   {
    "duration": 7,
    "start_time": "2021-12-10T16:15:42.648Z"
   },
   {
    "duration": 242,
    "start_time": "2021-12-10T16:15:51.135Z"
   },
   {
    "duration": 7,
    "start_time": "2021-12-10T16:16:05.599Z"
   },
   {
    "duration": 6,
    "start_time": "2021-12-10T16:16:09.493Z"
   },
   {
    "duration": 57,
    "start_time": "2021-12-10T16:16:17.799Z"
   },
   {
    "duration": 7,
    "start_time": "2021-12-10T16:16:26.253Z"
   },
   {
    "duration": 7,
    "start_time": "2021-12-10T16:16:43.564Z"
   },
   {
    "duration": 55,
    "start_time": "2021-12-10T16:16:54.146Z"
   },
   {
    "duration": 7,
    "start_time": "2021-12-10T16:16:56.880Z"
   },
   {
    "duration": 7,
    "start_time": "2021-12-10T16:17:07.364Z"
   },
   {
    "duration": 55,
    "start_time": "2021-12-10T16:17:12.636Z"
   },
   {
    "duration": 7,
    "start_time": "2021-12-10T16:17:15.023Z"
   },
   {
    "duration": 5,
    "start_time": "2021-12-10T16:17:31.299Z"
   },
   {
    "duration": 11,
    "start_time": "2021-12-10T16:19:04.381Z"
   },
   {
    "duration": 77,
    "start_time": "2021-12-10T16:19:15.077Z"
   },
   {
    "duration": 6,
    "start_time": "2021-12-10T16:19:45.012Z"
   },
   {
    "duration": 240,
    "start_time": "2021-12-10T16:29:00.426Z"
   },
   {
    "duration": 12,
    "start_time": "2021-12-10T16:29:34.239Z"
   },
   {
    "duration": 16,
    "start_time": "2021-12-10T16:29:48.279Z"
   },
   {
    "duration": 25,
    "start_time": "2021-12-10T16:29:57.153Z"
   },
   {
    "duration": 18,
    "start_time": "2021-12-10T16:30:07.477Z"
   },
   {
    "duration": 8,
    "start_time": "2021-12-10T16:31:02.398Z"
   },
   {
    "duration": 17,
    "start_time": "2021-12-10T17:00:52.842Z"
   },
   {
    "duration": 3,
    "start_time": "2021-12-10T17:01:03.875Z"
   },
   {
    "duration": 54,
    "start_time": "2021-12-10T17:03:37.160Z"
   },
   {
    "duration": 8,
    "start_time": "2021-12-10T17:03:47.587Z"
   },
   {
    "duration": 5,
    "start_time": "2021-12-10T17:03:51.510Z"
   },
   {
    "duration": 15,
    "start_time": "2021-12-10T17:08:11.100Z"
   },
   {
    "duration": 240,
    "start_time": "2021-12-10T17:09:28.022Z"
   },
   {
    "duration": 279,
    "start_time": "2021-12-10T17:10:06.158Z"
   },
   {
    "duration": 14,
    "start_time": "2021-12-10T17:10:18.500Z"
   },
   {
    "duration": 25,
    "start_time": "2021-12-10T17:13:36.543Z"
   },
   {
    "duration": 13,
    "start_time": "2021-12-10T17:13:57.302Z"
   },
   {
    "duration": 14,
    "start_time": "2021-12-10T17:14:00.910Z"
   },
   {
    "duration": 20,
    "start_time": "2021-12-10T17:14:23.302Z"
   },
   {
    "duration": 18,
    "start_time": "2021-12-10T17:15:45.240Z"
   },
   {
    "duration": 27,
    "start_time": "2021-12-10T17:15:50.192Z"
   },
   {
    "duration": 17,
    "start_time": "2021-12-10T17:18:08.426Z"
   },
   {
    "duration": 23,
    "start_time": "2021-12-10T17:18:58.751Z"
   },
   {
    "duration": 19,
    "start_time": "2021-12-10T17:19:16.710Z"
   },
   {
    "duration": 26,
    "start_time": "2021-12-10T17:19:29.081Z"
   },
   {
    "duration": 23,
    "start_time": "2021-12-10T17:20:25.784Z"
   },
   {
    "duration": 22,
    "start_time": "2021-12-10T17:20:28.290Z"
   },
   {
    "duration": 29,
    "start_time": "2021-12-10T17:20:44.542Z"
   },
   {
    "duration": 35,
    "start_time": "2021-12-10T17:20:59.849Z"
   },
   {
    "duration": 29,
    "start_time": "2021-12-10T17:21:18.353Z"
   },
   {
    "duration": 27,
    "start_time": "2021-12-10T17:21:38.417Z"
   },
   {
    "duration": 25,
    "start_time": "2021-12-10T17:22:19.890Z"
   },
   {
    "duration": 284,
    "start_time": "2021-12-10T17:22:28.662Z"
   },
   {
    "duration": 22,
    "start_time": "2021-12-10T17:22:34.456Z"
   },
   {
    "duration": 11,
    "start_time": "2021-12-10T17:22:50.157Z"
   },
   {
    "duration": 23,
    "start_time": "2021-12-10T17:24:02.420Z"
   },
   {
    "duration": 38,
    "start_time": "2021-12-10T17:25:14.054Z"
   },
   {
    "duration": 35,
    "start_time": "2021-12-10T17:25:31.993Z"
   },
   {
    "duration": 9,
    "start_time": "2021-12-10T17:26:29.656Z"
   },
   {
    "duration": 433,
    "start_time": "2021-12-13T08:45:37.614Z"
   },
   {
    "duration": 276,
    "start_time": "2021-12-13T08:45:52.472Z"
   },
   {
    "duration": 281,
    "start_time": "2021-12-13T08:50:36.746Z"
   },
   {
    "duration": 824,
    "start_time": "2021-12-13T08:51:37.905Z"
   },
   {
    "duration": 13,
    "start_time": "2021-12-13T08:51:44.439Z"
   },
   {
    "duration": 6,
    "start_time": "2021-12-13T08:51:47.649Z"
   },
   {
    "duration": 60,
    "start_time": "2021-12-13T08:51:49.431Z"
   },
   {
    "duration": 8,
    "start_time": "2021-12-13T08:51:53.280Z"
   },
   {
    "duration": 361,
    "start_time": "2021-12-13T08:52:32.499Z"
   },
   {
    "duration": 286,
    "start_time": "2021-12-13T08:52:53.453Z"
   },
   {
    "duration": 483,
    "start_time": "2021-12-13T08:53:43.300Z"
   },
   {
    "duration": 292,
    "start_time": "2021-12-13T08:56:00.269Z"
   },
   {
    "duration": 377,
    "start_time": "2021-12-13T08:56:57.417Z"
   },
   {
    "duration": 8,
    "start_time": "2021-12-13T09:15:02.871Z"
   },
   {
    "duration": 7,
    "start_time": "2021-12-13T09:16:02.100Z"
   },
   {
    "duration": 4847,
    "start_time": "2021-12-13T09:19:50.394Z"
   },
   {
    "duration": 4763,
    "start_time": "2021-12-13T09:20:04.378Z"
   },
   {
    "duration": 5137,
    "start_time": "2021-12-13T09:20:42.185Z"
   },
   {
    "duration": 5202,
    "start_time": "2021-12-13T09:21:05.822Z"
   },
   {
    "duration": 4764,
    "start_time": "2021-12-13T09:22:24.286Z"
   },
   {
    "duration": 4646,
    "start_time": "2021-12-13T09:24:50.109Z"
   },
   {
    "duration": 4637,
    "start_time": "2021-12-13T09:25:21.161Z"
   },
   {
    "duration": 4633,
    "start_time": "2021-12-13T09:28:23.235Z"
   },
   {
    "duration": 4600,
    "start_time": "2021-12-13T09:32:13.379Z"
   },
   {
    "duration": 106,
    "start_time": "2021-12-13T10:26:46.088Z"
   },
   {
    "duration": 95,
    "start_time": "2021-12-13T10:27:37.641Z"
   },
   {
    "duration": 80,
    "start_time": "2021-12-13T10:27:54.583Z"
   },
   {
    "duration": 14,
    "start_time": "2021-12-13T10:28:55.770Z"
   },
   {
    "duration": 30,
    "start_time": "2021-12-13T10:29:07.864Z"
   },
   {
    "duration": 40,
    "start_time": "2021-12-13T10:29:56.883Z"
   },
   {
    "duration": 33,
    "start_time": "2021-12-13T10:30:12.357Z"
   },
   {
    "duration": 30,
    "start_time": "2021-12-13T10:30:20.699Z"
   },
   {
    "duration": 30,
    "start_time": "2021-12-13T10:34:06.886Z"
   },
   {
    "duration": 7,
    "start_time": "2021-12-13T10:34:08.309Z"
   },
   {
    "duration": 62,
    "start_time": "2021-12-13T10:34:10.187Z"
   },
   {
    "duration": 4836,
    "start_time": "2021-12-13T10:34:14.219Z"
   },
   {
    "duration": 82,
    "start_time": "2021-12-13T10:34:42.787Z"
   },
   {
    "duration": 25,
    "start_time": "2021-12-13T10:36:22.077Z"
   },
   {
    "duration": 24,
    "start_time": "2021-12-13T10:37:03.857Z"
   },
   {
    "duration": 60,
    "start_time": "2021-12-13T10:39:06.904Z"
   },
   {
    "duration": 28,
    "start_time": "2021-12-13T10:39:22.883Z"
   },
   {
    "duration": 52,
    "start_time": "2021-12-13T10:39:34.889Z"
   },
   {
    "duration": 22,
    "start_time": "2021-12-13T10:39:57.438Z"
   },
   {
    "duration": 317,
    "start_time": "2021-12-13T10:47:01.179Z"
   },
   {
    "duration": 1127,
    "start_time": "2021-12-13T10:47:32.215Z"
   },
   {
    "duration": 76,
    "start_time": "2021-12-13T10:47:44.493Z"
   },
   {
    "duration": 68,
    "start_time": "2021-12-13T10:48:02.422Z"
   },
   {
    "duration": 12,
    "start_time": "2021-12-13T10:48:23.744Z"
   },
   {
    "duration": 63,
    "start_time": "2021-12-13T10:48:47.747Z"
   },
   {
    "duration": 64,
    "start_time": "2021-12-13T10:48:53.359Z"
   },
   {
    "duration": 4,
    "start_time": "2021-12-13T10:49:07.127Z"
   },
   {
    "duration": 16,
    "start_time": "2021-12-13T10:49:10.857Z"
   },
   {
    "duration": 15,
    "start_time": "2021-12-13T10:49:31.859Z"
   },
   {
    "duration": 631,
    "start_time": "2021-12-13T10:49:38.587Z"
   },
   {
    "duration": 23,
    "start_time": "2021-12-13T10:50:02.672Z"
   },
   {
    "duration": 81,
    "start_time": "2021-12-13T10:50:10.430Z"
   },
   {
    "duration": 24,
    "start_time": "2021-12-13T10:50:13.056Z"
   },
   {
    "duration": 41,
    "start_time": "2021-12-13T10:51:58.987Z"
   },
   {
    "duration": 52,
    "start_time": "2021-12-13T10:56:48.895Z"
   },
   {
    "duration": 16,
    "start_time": "2021-12-13T10:57:04.088Z"
   },
   {
    "duration": 31,
    "start_time": "2021-12-13T10:57:47.452Z"
   },
   {
    "duration": 27,
    "start_time": "2021-12-13T10:57:54.503Z"
   },
   {
    "duration": 36,
    "start_time": "2021-12-13T10:58:19.423Z"
   },
   {
    "duration": 36,
    "start_time": "2021-12-13T10:59:53.801Z"
   },
   {
    "duration": 8,
    "start_time": "2021-12-13T10:59:56.542Z"
   },
   {
    "duration": 33,
    "start_time": "2021-12-13T11:01:37.331Z"
   },
   {
    "duration": 6,
    "start_time": "2021-12-13T11:02:37.165Z"
   },
   {
    "duration": 8,
    "start_time": "2021-12-13T11:04:19.670Z"
   },
   {
    "duration": 5,
    "start_time": "2021-12-13T11:14:39.085Z"
   },
   {
    "duration": 36,
    "start_time": "2021-12-13T11:21:31.036Z"
   },
   {
    "duration": 8,
    "start_time": "2021-12-13T11:21:45.763Z"
   },
   {
    "duration": 7,
    "start_time": "2021-12-13T11:22:02.959Z"
   },
   {
    "duration": 9,
    "start_time": "2021-12-13T11:22:07.309Z"
   },
   {
    "duration": 8,
    "start_time": "2021-12-13T11:22:55.004Z"
   },
   {
    "duration": 303,
    "start_time": "2021-12-13T11:23:06.824Z"
   },
   {
    "duration": 8,
    "start_time": "2021-12-13T11:23:18.595Z"
   },
   {
    "duration": 9,
    "start_time": "2021-12-13T11:23:26.156Z"
   },
   {
    "duration": 6,
    "start_time": "2021-12-13T11:24:26.972Z"
   },
   {
    "duration": 97,
    "start_time": "2021-12-13T11:25:28.553Z"
   },
   {
    "duration": 103,
    "start_time": "2021-12-13T11:25:32.711Z"
   },
   {
    "duration": 9,
    "start_time": "2021-12-13T11:25:38.812Z"
   },
   {
    "duration": 103,
    "start_time": "2021-12-13T11:27:46.332Z"
   },
   {
    "duration": 11,
    "start_time": "2021-12-13T11:30:31.926Z"
   },
   {
    "duration": 10,
    "start_time": "2021-12-13T11:31:05.689Z"
   },
   {
    "duration": 115,
    "start_time": "2021-12-13T11:31:14.625Z"
   },
   {
    "duration": 11,
    "start_time": "2021-12-13T11:33:10.621Z"
   },
   {
    "duration": 8,
    "start_time": "2021-12-13T11:33:29.534Z"
   },
   {
    "duration": 31,
    "start_time": "2021-12-13T11:33:36.096Z"
   },
   {
    "duration": 6,
    "start_time": "2021-12-13T11:33:36.765Z"
   },
   {
    "duration": 7,
    "start_time": "2021-12-13T11:33:41.943Z"
   },
   {
    "duration": 6,
    "start_time": "2021-12-13T11:33:49.698Z"
   },
   {
    "duration": 81,
    "start_time": "2021-12-13T11:33:54.748Z"
   },
   {
    "duration": 33,
    "start_time": "2021-12-13T11:33:55.789Z"
   },
   {
    "duration": 6,
    "start_time": "2021-12-13T11:33:56.017Z"
   },
   {
    "duration": 7,
    "start_time": "2021-12-13T11:34:00.978Z"
   },
   {
    "duration": 32,
    "start_time": "2021-12-13T11:34:02.983Z"
   },
   {
    "duration": 7,
    "start_time": "2021-12-13T11:34:03.240Z"
   },
   {
    "duration": 9,
    "start_time": "2021-12-13T11:36:03.881Z"
   },
   {
    "duration": 299,
    "start_time": "2021-12-13T11:36:22.347Z"
   },
   {
    "duration": 23,
    "start_time": "2021-12-13T11:36:44.587Z"
   },
   {
    "duration": 24,
    "start_time": "2021-12-13T11:37:03.604Z"
   },
   {
    "duration": 39,
    "start_time": "2021-12-13T11:37:22.823Z"
   },
   {
    "duration": 418,
    "start_time": "2021-12-13T11:41:29.413Z"
   },
   {
    "duration": 415,
    "start_time": "2021-12-13T11:42:07.364Z"
   },
   {
    "duration": 41,
    "start_time": "2021-12-13T11:42:24.001Z"
   },
   {
    "duration": 45,
    "start_time": "2021-12-13T11:46:32.936Z"
   },
   {
    "duration": 47,
    "start_time": "2021-12-13T11:48:27.189Z"
   },
   {
    "duration": 30,
    "start_time": "2021-12-13T11:48:39.773Z"
   },
   {
    "duration": 17,
    "start_time": "2021-12-13T11:49:00.469Z"
   },
   {
    "duration": 114,
    "start_time": "2021-12-13T11:49:08.331Z"
   },
   {
    "duration": 7,
    "start_time": "2021-12-13T11:51:57.756Z"
   },
   {
    "duration": 8,
    "start_time": "2021-12-13T11:52:01.053Z"
   },
   {
    "duration": 46,
    "start_time": "2021-12-13T11:52:03.926Z"
   },
   {
    "duration": 8,
    "start_time": "2021-12-13T11:52:04.264Z"
   },
   {
    "duration": 118,
    "start_time": "2021-12-13T11:52:12.501Z"
   },
   {
    "duration": 34,
    "start_time": "2021-12-13T11:52:13.742Z"
   },
   {
    "duration": 7,
    "start_time": "2021-12-13T11:52:14.251Z"
   },
   {
    "duration": 7,
    "start_time": "2021-12-13T11:52:26.663Z"
   },
   {
    "duration": 285,
    "start_time": "2021-12-13T11:53:21.621Z"
   },
   {
    "duration": 273,
    "start_time": "2021-12-13T11:54:28.696Z"
   },
   {
    "duration": 40,
    "start_time": "2021-12-13T11:54:46.352Z"
   },
   {
    "duration": 28,
    "start_time": "2021-12-13T11:54:59.703Z"
   },
   {
    "duration": 7,
    "start_time": "2021-12-13T11:56:33.578Z"
   },
   {
    "duration": 29,
    "start_time": "2021-12-13T11:56:49.431Z"
   },
   {
    "duration": 780,
    "start_time": "2021-12-15T14:58:22.776Z"
   },
   {
    "duration": 10,
    "start_time": "2021-12-15T14:58:23.558Z"
   },
   {
    "duration": 20,
    "start_time": "2021-12-15T14:58:23.569Z"
   },
   {
    "duration": 973,
    "start_time": "2021-12-15T14:58:23.590Z"
   },
   {
    "duration": 1742,
    "start_time": "2021-12-15T14:58:22.824Z"
   },
   {
    "duration": 1738,
    "start_time": "2021-12-15T14:58:22.829Z"
   },
   {
    "duration": 1734,
    "start_time": "2021-12-15T14:58:22.834Z"
   },
   {
    "duration": 1729,
    "start_time": "2021-12-15T14:58:22.840Z"
   },
   {
    "duration": 1725,
    "start_time": "2021-12-15T14:58:22.845Z"
   },
   {
    "duration": 1718,
    "start_time": "2021-12-15T14:58:22.853Z"
   },
   {
    "duration": 1711,
    "start_time": "2021-12-15T14:58:22.861Z"
   },
   {
    "duration": 1706,
    "start_time": "2021-12-15T14:58:22.867Z"
   },
   {
    "duration": 1702,
    "start_time": "2021-12-15T14:58:22.872Z"
   },
   {
    "duration": 1699,
    "start_time": "2021-12-15T14:58:22.876Z"
   },
   {
    "duration": 1696,
    "start_time": "2021-12-15T14:58:22.880Z"
   },
   {
    "duration": 1691,
    "start_time": "2021-12-15T14:58:22.885Z"
   },
   {
    "duration": 1688,
    "start_time": "2021-12-15T14:58:22.889Z"
   },
   {
    "duration": 1683,
    "start_time": "2021-12-15T14:58:22.895Z"
   },
   {
    "duration": 1669,
    "start_time": "2021-12-15T14:58:22.910Z"
   },
   {
    "duration": 1665,
    "start_time": "2021-12-15T14:58:22.915Z"
   },
   {
    "duration": 1662,
    "start_time": "2021-12-15T14:58:22.919Z"
   },
   {
    "duration": 1658,
    "start_time": "2021-12-15T14:58:22.924Z"
   },
   {
    "duration": 1654,
    "start_time": "2021-12-15T14:58:22.928Z"
   },
   {
    "duration": 1651,
    "start_time": "2021-12-15T14:58:22.932Z"
   },
   {
    "duration": 1648,
    "start_time": "2021-12-15T14:58:22.936Z"
   },
   {
    "duration": 1644,
    "start_time": "2021-12-15T14:58:22.941Z"
   },
   {
    "duration": 1640,
    "start_time": "2021-12-15T14:58:22.946Z"
   },
   {
    "duration": 1637,
    "start_time": "2021-12-15T14:58:22.950Z"
   },
   {
    "duration": 1634,
    "start_time": "2021-12-15T14:58:22.954Z"
   },
   {
    "duration": 1629,
    "start_time": "2021-12-15T14:58:22.959Z"
   },
   {
    "duration": 1626,
    "start_time": "2021-12-15T14:58:22.963Z"
   },
   {
    "duration": 1621,
    "start_time": "2021-12-15T14:58:22.969Z"
   },
   {
    "duration": 1618,
    "start_time": "2021-12-15T14:58:22.973Z"
   },
   {
    "duration": 1614,
    "start_time": "2021-12-15T14:58:22.978Z"
   },
   {
    "duration": 1611,
    "start_time": "2021-12-15T14:58:22.982Z"
   },
   {
    "duration": 1610,
    "start_time": "2021-12-15T14:58:22.986Z"
   },
   {
    "duration": 1606,
    "start_time": "2021-12-15T14:58:22.991Z"
   },
   {
    "duration": 1603,
    "start_time": "2021-12-15T14:58:22.995Z"
   },
   {
    "duration": 1601,
    "start_time": "2021-12-15T14:58:22.999Z"
   },
   {
    "duration": 1597,
    "start_time": "2021-12-15T14:58:23.004Z"
   },
   {
    "duration": 1582,
    "start_time": "2021-12-15T14:58:23.021Z"
   },
   {
    "duration": 1578,
    "start_time": "2021-12-15T14:58:23.026Z"
   },
   {
    "duration": 1575,
    "start_time": "2021-12-15T14:58:23.030Z"
   },
   {
    "duration": 1573,
    "start_time": "2021-12-15T14:58:23.034Z"
   },
   {
    "duration": 1277,
    "start_time": "2021-12-15T18:00:51.873Z"
   },
   {
    "duration": 21,
    "start_time": "2021-12-15T18:00:53.155Z"
   },
   {
    "duration": 45,
    "start_time": "2021-12-15T18:00:53.179Z"
   },
   {
    "duration": 21,
    "start_time": "2021-12-15T18:00:53.235Z"
   },
   {
    "duration": 6,
    "start_time": "2021-12-15T18:00:53.259Z"
   },
   {
    "duration": 11,
    "start_time": "2021-12-15T18:00:53.267Z"
   },
   {
    "duration": 7,
    "start_time": "2021-12-15T18:00:53.280Z"
   },
   {
    "duration": 32,
    "start_time": "2021-12-15T18:00:53.323Z"
   },
   {
    "duration": 4,
    "start_time": "2021-12-15T18:00:53.358Z"
   },
   {
    "duration": 10,
    "start_time": "2021-12-15T18:00:53.364Z"
   },
   {
    "duration": 102,
    "start_time": "2021-12-15T18:00:53.376Z"
   },
   {
    "duration": 5064,
    "start_time": "2021-12-15T18:00:53.480Z"
   },
   {
    "duration": 13,
    "start_time": "2021-12-15T18:00:58.547Z"
   },
   {
    "duration": 57,
    "start_time": "2021-12-15T18:00:58.563Z"
   },
   {
    "duration": 667,
    "start_time": "2021-12-15T18:00:58.623Z"
   },
   {
    "duration": 13,
    "start_time": "2021-12-15T18:00:59.293Z"
   },
   {
    "duration": 655,
    "start_time": "2021-12-15T18:00:59.324Z"
   },
   {
    "duration": 13,
    "start_time": "2021-12-15T18:00:59.981Z"
   },
   {
    "duration": 8,
    "start_time": "2021-12-15T18:00:59.996Z"
   },
   {
    "duration": 12,
    "start_time": "2021-12-15T18:01:00.032Z"
   },
   {
    "duration": 17,
    "start_time": "2021-12-15T18:01:00.046Z"
   },
   {
    "duration": 30,
    "start_time": "2021-12-15T18:01:00.066Z"
   },
   {
    "duration": 622,
    "start_time": "2021-12-15T18:01:00.128Z"
   },
   {
    "duration": 18,
    "start_time": "2021-12-15T18:01:00.753Z"
   },
   {
    "duration": 651,
    "start_time": "2021-12-15T18:01:00.773Z"
   },
   {
    "duration": 23,
    "start_time": "2021-12-15T18:01:01.431Z"
   },
   {
    "duration": 18,
    "start_time": "2021-12-15T18:01:01.457Z"
   },
   {
    "duration": 34,
    "start_time": "2021-12-15T18:01:01.478Z"
   },
   {
    "duration": 42,
    "start_time": "2021-12-15T18:01:01.515Z"
   },
   {
    "duration": 31,
    "start_time": "2021-12-15T18:01:01.559Z"
   },
   {
    "duration": 15,
    "start_time": "2021-12-15T18:01:01.593Z"
   },
   {
    "duration": 33,
    "start_time": "2021-12-15T18:01:01.611Z"
   },
   {
    "duration": 55,
    "start_time": "2021-12-15T18:01:01.647Z"
   },
   {
    "duration": 25,
    "start_time": "2021-12-15T18:01:01.705Z"
   },
   {
    "duration": 56,
    "start_time": "2021-12-15T18:01:01.736Z"
   },
   {
    "duration": 38,
    "start_time": "2021-12-15T18:01:01.794Z"
   },
   {
    "duration": 36,
    "start_time": "2021-12-15T18:01:01.834Z"
   },
   {
    "duration": 16,
    "start_time": "2021-12-15T18:01:01.873Z"
   },
   {
    "duration": 18,
    "start_time": "2021-12-15T18:01:01.892Z"
   },
   {
    "duration": 49,
    "start_time": "2021-12-15T18:01:01.912Z"
   },
   {
    "duration": 41,
    "start_time": "2021-12-15T18:01:01.963Z"
   },
   {
    "duration": 15,
    "start_time": "2021-12-15T18:01:02.006Z"
   },
   {
    "duration": 1150,
    "start_time": "2021-12-15T19:09:45.933Z"
   },
   {
    "duration": 18,
    "start_time": "2021-12-15T19:09:47.086Z"
   },
   {
    "duration": 67,
    "start_time": "2021-12-15T19:09:47.107Z"
   },
   {
    "duration": 38,
    "start_time": "2021-12-15T19:09:47.177Z"
   },
   {
    "duration": 5,
    "start_time": "2021-12-15T19:09:47.217Z"
   },
   {
    "duration": 40,
    "start_time": "2021-12-15T19:09:47.225Z"
   },
   {
    "duration": 23,
    "start_time": "2021-12-15T19:09:47.267Z"
   },
   {
    "duration": 67,
    "start_time": "2021-12-15T19:09:47.293Z"
   },
   {
    "duration": 6,
    "start_time": "2021-12-15T19:09:47.364Z"
   },
   {
    "duration": 57,
    "start_time": "2021-12-15T19:09:47.372Z"
   },
   {
    "duration": 114,
    "start_time": "2021-12-15T19:09:47.432Z"
   },
   {
    "duration": 5715,
    "start_time": "2021-12-15T19:09:47.549Z"
   },
   {
    "duration": 13,
    "start_time": "2021-12-15T19:09:53.267Z"
   },
   {
    "duration": 46,
    "start_time": "2021-12-15T19:09:53.283Z"
   },
   {
    "duration": 601,
    "start_time": "2021-12-15T19:09:53.331Z"
   },
   {
    "duration": 13,
    "start_time": "2021-12-15T19:09:53.934Z"
   },
   {
    "duration": 600,
    "start_time": "2021-12-15T19:09:53.950Z"
   },
   {
    "duration": 16,
    "start_time": "2021-12-15T19:09:54.553Z"
   },
   {
    "duration": 8,
    "start_time": "2021-12-15T19:09:54.572Z"
   },
   {
    "duration": 42,
    "start_time": "2021-12-15T19:09:54.582Z"
   },
   {
    "duration": 8,
    "start_time": "2021-12-15T19:09:54.627Z"
   },
   {
    "duration": 25,
    "start_time": "2021-12-15T19:09:54.637Z"
   },
   {
    "duration": 648,
    "start_time": "2021-12-15T19:09:54.667Z"
   },
   {
    "duration": 24,
    "start_time": "2021-12-15T19:09:55.318Z"
   },
   {
    "duration": 701,
    "start_time": "2021-12-15T19:09:55.344Z"
   },
   {
    "duration": 17,
    "start_time": "2021-12-15T19:09:56.047Z"
   },
   {
    "duration": 11,
    "start_time": "2021-12-15T19:09:56.066Z"
   },
   {
    "duration": 45,
    "start_time": "2021-12-15T19:09:56.080Z"
   },
   {
    "duration": 11,
    "start_time": "2021-12-15T19:09:56.127Z"
   },
   {
    "duration": 15,
    "start_time": "2021-12-15T19:09:56.140Z"
   },
   {
    "duration": 14,
    "start_time": "2021-12-15T19:09:56.157Z"
   },
   {
    "duration": 10,
    "start_time": "2021-12-15T19:09:56.174Z"
   },
   {
    "duration": 42,
    "start_time": "2021-12-15T19:09:56.186Z"
   },
   {
    "duration": 10,
    "start_time": "2021-12-15T19:09:56.230Z"
   },
   {
    "duration": 13,
    "start_time": "2021-12-15T19:09:56.243Z"
   },
   {
    "duration": 10,
    "start_time": "2021-12-15T19:09:56.259Z"
   },
   {
    "duration": 55,
    "start_time": "2021-12-15T19:09:56.272Z"
   },
   {
    "duration": 14,
    "start_time": "2021-12-15T19:09:56.330Z"
   },
   {
    "duration": 13,
    "start_time": "2021-12-15T19:09:56.346Z"
   },
   {
    "duration": 13,
    "start_time": "2021-12-15T19:09:56.361Z"
   },
   {
    "duration": 48,
    "start_time": "2021-12-15T19:09:56.377Z"
   },
   {
    "duration": 14,
    "start_time": "2021-12-15T19:09:56.428Z"
   },
   {
    "duration": 113,
    "start_time": "2021-12-15T19:29:03.527Z"
   },
   {
    "duration": 132,
    "start_time": "2021-12-15T19:29:08.546Z"
   },
   {
    "duration": 808,
    "start_time": "2021-12-17T12:32:24.177Z"
   },
   {
    "duration": 16,
    "start_time": "2021-12-17T12:32:24.987Z"
   },
   {
    "duration": 13,
    "start_time": "2021-12-17T12:32:25.006Z"
   },
   {
    "duration": 11,
    "start_time": "2021-12-17T12:32:25.021Z"
   },
   {
    "duration": 4,
    "start_time": "2021-12-17T12:32:25.034Z"
   },
   {
    "duration": 10,
    "start_time": "2021-12-17T12:32:25.039Z"
   },
   {
    "duration": 7,
    "start_time": "2021-12-17T12:32:25.050Z"
   },
   {
    "duration": 21,
    "start_time": "2021-12-17T12:32:25.089Z"
   },
   {
    "duration": 4,
    "start_time": "2021-12-17T12:32:25.111Z"
   },
   {
    "duration": 12,
    "start_time": "2021-12-17T12:32:25.116Z"
   },
   {
    "duration": 64,
    "start_time": "2021-12-17T12:32:25.129Z"
   },
   {
    "duration": 3521,
    "start_time": "2021-12-17T12:32:25.194Z"
   },
   {
    "duration": 13,
    "start_time": "2021-12-17T12:32:28.716Z"
   },
   {
    "duration": 14,
    "start_time": "2021-12-17T12:32:28.731Z"
   },
   {
    "duration": 9,
    "start_time": "2021-12-17T12:32:28.747Z"
   },
   {
    "duration": 43,
    "start_time": "2021-12-17T12:32:28.757Z"
   },
   {
    "duration": 10,
    "start_time": "2021-12-17T12:32:28.802Z"
   },
   {
    "duration": 7,
    "start_time": "2021-12-17T12:32:28.813Z"
   },
   {
    "duration": 7,
    "start_time": "2021-12-17T12:32:28.822Z"
   },
   {
    "duration": 8,
    "start_time": "2021-12-17T12:32:28.830Z"
   },
   {
    "duration": 8,
    "start_time": "2021-12-17T12:32:28.839Z"
   },
   {
    "duration": 368,
    "start_time": "2021-12-17T12:32:28.848Z"
   },
   {
    "duration": 2306,
    "start_time": "2021-12-17T12:37:53.305Z"
   },
   {
    "duration": 10,
    "start_time": "2021-12-17T12:37:55.613Z"
   },
   {
    "duration": 12,
    "start_time": "2021-12-17T12:37:55.627Z"
   },
   {
    "duration": 10,
    "start_time": "2021-12-17T12:37:55.640Z"
   },
   {
    "duration": 6,
    "start_time": "2021-12-17T12:37:55.651Z"
   },
   {
    "duration": 36,
    "start_time": "2021-12-17T12:37:55.658Z"
   },
   {
    "duration": 23,
    "start_time": "2021-12-17T12:37:55.695Z"
   },
   {
    "duration": 32,
    "start_time": "2021-12-17T12:37:55.720Z"
   },
   {
    "duration": 3,
    "start_time": "2021-12-17T12:37:55.753Z"
   },
   {
    "duration": 6,
    "start_time": "2021-12-17T12:37:55.758Z"
   },
   {
    "duration": 50,
    "start_time": "2021-12-17T12:37:55.765Z"
   },
   {
    "duration": 3375,
    "start_time": "2021-12-17T12:37:55.816Z"
   },
   {
    "duration": 13,
    "start_time": "2021-12-17T12:37:59.192Z"
   },
   {
    "duration": 13,
    "start_time": "2021-12-17T12:37:59.207Z"
   },
   {
    "duration": 8,
    "start_time": "2021-12-17T12:37:59.222Z"
   },
   {
    "duration": 15,
    "start_time": "2021-12-17T12:37:59.232Z"
   },
   {
    "duration": 53,
    "start_time": "2021-12-17T12:37:59.249Z"
   },
   {
    "duration": 7,
    "start_time": "2021-12-17T12:37:59.304Z"
   },
   {
    "duration": 8,
    "start_time": "2021-12-17T12:37:59.313Z"
   },
   {
    "duration": 9,
    "start_time": "2021-12-17T12:37:59.322Z"
   },
   {
    "duration": 6,
    "start_time": "2021-12-17T12:37:59.333Z"
   },
   {
    "duration": 336,
    "start_time": "2021-12-17T12:37:59.341Z"
   },
   {
    "duration": 76,
    "start_time": "2021-12-17T13:01:11.562Z"
   },
   {
    "duration": 4,
    "start_time": "2021-12-17T13:03:03.406Z"
   },
   {
    "duration": 13,
    "start_time": "2021-12-17T13:03:11.768Z"
   },
   {
    "duration": 4,
    "start_time": "2021-12-17T13:03:16.109Z"
   },
   {
    "duration": 11,
    "start_time": "2021-12-17T13:03:22.434Z"
   },
   {
    "duration": 4,
    "start_time": "2021-12-17T13:03:30.144Z"
   },
   {
    "duration": 5,
    "start_time": "2021-12-17T13:03:35.556Z"
   },
   {
    "duration": 4,
    "start_time": "2021-12-17T13:05:46.520Z"
   },
   {
    "duration": 4,
    "start_time": "2021-12-17T13:06:26.815Z"
   },
   {
    "duration": 392,
    "start_time": "2021-12-17T13:06:36.431Z"
   },
   {
    "duration": 12,
    "start_time": "2021-12-17T13:07:08.288Z"
   },
   {
    "duration": 19,
    "start_time": "2021-12-17T13:07:49.880Z"
   },
   {
    "duration": 260,
    "start_time": "2021-12-17T13:08:21.117Z"
   },
   {
    "duration": 44,
    "start_time": "2021-12-17T13:08:38.899Z"
   },
   {
    "duration": 16,
    "start_time": "2021-12-17T13:09:06.767Z"
   },
   {
    "duration": 1620,
    "start_time": "2021-12-17T13:09:11.309Z"
   },
   {
    "duration": 6206,
    "start_time": "2021-12-17T13:09:15.985Z"
   },
   {
    "duration": 12,
    "start_time": "2021-12-17T13:09:39.525Z"
   },
   {
    "duration": 10,
    "start_time": "2021-12-17T13:09:43.939Z"
   },
   {
    "duration": 234,
    "start_time": "2021-12-17T13:09:48.303Z"
   },
   {
    "duration": 11,
    "start_time": "2021-12-17T13:09:51.283Z"
   },
   {
    "duration": 10,
    "start_time": "2021-12-17T13:09:57.834Z"
   },
   {
    "duration": 8,
    "start_time": "2021-12-17T13:10:02.761Z"
   },
   {
    "duration": 9,
    "start_time": "2021-12-17T13:10:05.758Z"
   },
   {
    "duration": 11,
    "start_time": "2021-12-17T13:10:12.154Z"
   },
   {
    "duration": 12,
    "start_time": "2021-12-17T13:10:16.240Z"
   },
   {
    "duration": 8,
    "start_time": "2021-12-17T13:10:21.470Z"
   },
   {
    "duration": 6,
    "start_time": "2021-12-17T13:10:44.910Z"
   },
   {
    "duration": 17,
    "start_time": "2021-12-17T13:10:57.275Z"
   },
   {
    "duration": 10,
    "start_time": "2021-12-17T13:11:10.678Z"
   },
   {
    "duration": 15,
    "start_time": "2021-12-17T13:11:29.064Z"
   },
   {
    "duration": 8,
    "start_time": "2021-12-17T13:11:45.707Z"
   },
   {
    "duration": 232,
    "start_time": "2021-12-17T13:13:31.908Z"
   },
   {
    "duration": 238,
    "start_time": "2021-12-17T13:13:35.284Z"
   },
   {
    "duration": 70,
    "start_time": "2021-12-17T13:13:43.416Z"
   },
   {
    "duration": 247,
    "start_time": "2021-12-17T13:13:50.000Z"
   },
   {
    "duration": 31,
    "start_time": "2021-12-17T13:14:01.793Z"
   },
   {
    "duration": 214,
    "start_time": "2021-12-17T13:14:28.254Z"
   },
   {
    "duration": 10,
    "start_time": "2021-12-17T13:14:28.470Z"
   },
   {
    "duration": 14,
    "start_time": "2021-12-17T13:14:28.481Z"
   },
   {
    "duration": 18,
    "start_time": "2021-12-17T13:14:28.497Z"
   },
   {
    "duration": 4,
    "start_time": "2021-12-17T13:14:28.517Z"
   },
   {
    "duration": 12,
    "start_time": "2021-12-17T13:14:28.522Z"
   },
   {
    "duration": 6,
    "start_time": "2021-12-17T13:14:28.536Z"
   },
   {
    "duration": 16,
    "start_time": "2021-12-17T13:14:28.544Z"
   },
   {
    "duration": 3,
    "start_time": "2021-12-17T13:14:28.563Z"
   },
   {
    "duration": 4,
    "start_time": "2021-12-17T13:14:28.588Z"
   },
   {
    "duration": 54,
    "start_time": "2021-12-17T13:14:28.594Z"
   },
   {
    "duration": 3552,
    "start_time": "2021-12-17T13:14:28.650Z"
   },
   {
    "duration": 14,
    "start_time": "2021-12-17T13:14:32.203Z"
   },
   {
    "duration": 13,
    "start_time": "2021-12-17T13:14:32.219Z"
   },
   {
    "duration": 13,
    "start_time": "2021-12-17T13:14:32.233Z"
   },
   {
    "duration": 40,
    "start_time": "2021-12-17T13:14:32.248Z"
   },
   {
    "duration": 11,
    "start_time": "2021-12-17T13:14:32.290Z"
   },
   {
    "duration": 7,
    "start_time": "2021-12-17T13:14:32.302Z"
   },
   {
    "duration": 9,
    "start_time": "2021-12-17T13:14:32.311Z"
   },
   {
    "duration": 8,
    "start_time": "2021-12-17T13:14:32.322Z"
   },
   {
    "duration": 7,
    "start_time": "2021-12-17T13:14:32.331Z"
   },
   {
    "duration": 245,
    "start_time": "2021-12-17T13:14:41.773Z"
   },
   {
    "duration": 17,
    "start_time": "2021-12-17T13:14:46.333Z"
   },
   {
    "duration": 16,
    "start_time": "2021-12-17T13:14:51.110Z"
   },
   {
    "duration": 17,
    "start_time": "2021-12-17T13:19:11.918Z"
   },
   {
    "duration": 23,
    "start_time": "2021-12-17T13:19:22.027Z"
   },
   {
    "duration": 413,
    "start_time": "2021-12-17T13:42:04.100Z"
   },
   {
    "duration": 1995,
    "start_time": "2021-12-17T13:42:16.748Z"
   },
   {
    "duration": 16,
    "start_time": "2021-12-17T13:42:18.746Z"
   },
   {
    "duration": 22,
    "start_time": "2021-12-17T13:42:20.568Z"
   },
   {
    "duration": 16,
    "start_time": "2021-12-17T13:42:21.069Z"
   },
   {
    "duration": 5,
    "start_time": "2021-12-17T13:42:21.391Z"
   },
   {
    "duration": 11,
    "start_time": "2021-12-17T13:42:21.589Z"
   },
   {
    "duration": 11,
    "start_time": "2021-12-17T13:42:22.267Z"
   },
   {
    "duration": 28,
    "start_time": "2021-12-17T13:42:22.555Z"
   },
   {
    "duration": 5,
    "start_time": "2021-12-17T13:42:22.790Z"
   },
   {
    "duration": 6,
    "start_time": "2021-12-17T13:42:23.737Z"
   },
   {
    "duration": 86,
    "start_time": "2021-12-17T13:42:24.662Z"
   },
   {
    "duration": 5084,
    "start_time": "2021-12-17T13:42:25.562Z"
   },
   {
    "duration": 18,
    "start_time": "2021-12-17T13:42:30.649Z"
   },
   {
    "duration": 22,
    "start_time": "2021-12-17T13:42:30.669Z"
   },
   {
    "duration": 45,
    "start_time": "2021-12-17T13:42:30.693Z"
   },
   {
    "duration": 28,
    "start_time": "2021-12-17T13:42:30.741Z"
   },
   {
    "duration": 20,
    "start_time": "2021-12-17T13:42:30.772Z"
   },
   {
    "duration": 11,
    "start_time": "2021-12-17T13:42:34.253Z"
   },
   {
    "duration": 13,
    "start_time": "2021-12-17T13:42:35.275Z"
   },
   {
    "duration": 10,
    "start_time": "2021-12-17T13:42:36.187Z"
   },
   {
    "duration": 12,
    "start_time": "2021-12-17T13:42:37.100Z"
   },
   {
    "duration": 35,
    "start_time": "2021-12-17T13:42:38.368Z"
   },
   {
    "duration": 28,
    "start_time": "2021-12-17T13:45:12.948Z"
   },
   {
    "duration": 35,
    "start_time": "2021-12-17T13:45:25.217Z"
   },
   {
    "duration": 25,
    "start_time": "2021-12-17T13:45:43.204Z"
   },
   {
    "duration": 311,
    "start_time": "2021-12-17T13:45:58.061Z"
   },
   {
    "duration": 15,
    "start_time": "2021-12-17T13:45:58.449Z"
   },
   {
    "duration": 22,
    "start_time": "2021-12-17T13:45:59.837Z"
   },
   {
    "duration": 16,
    "start_time": "2021-12-17T13:46:00.094Z"
   },
   {
    "duration": 7,
    "start_time": "2021-12-17T13:46:00.383Z"
   },
   {
    "duration": 11,
    "start_time": "2021-12-17T13:46:00.709Z"
   },
   {
    "duration": 12,
    "start_time": "2021-12-17T13:46:01.323Z"
   },
   {
    "duration": 29,
    "start_time": "2021-12-17T13:46:01.811Z"
   },
   {
    "duration": 5,
    "start_time": "2021-12-17T13:46:02.211Z"
   },
   {
    "duration": 6,
    "start_time": "2021-12-17T13:46:03.887Z"
   },
   {
    "duration": 86,
    "start_time": "2021-12-17T13:46:05.755Z"
   },
   {
    "duration": 5017,
    "start_time": "2021-12-17T13:46:07.774Z"
   },
   {
    "duration": 25,
    "start_time": "2021-12-17T13:46:17.519Z"
   },
   {
    "duration": 31,
    "start_time": "2021-12-17T13:46:18.075Z"
   },
   {
    "duration": 13,
    "start_time": "2021-12-17T13:46:19.161Z"
   },
   {
    "duration": 26,
    "start_time": "2021-12-17T13:46:19.648Z"
   },
   {
    "duration": 18,
    "start_time": "2021-12-17T13:46:21.047Z"
   },
   {
    "duration": 714,
    "start_time": "2021-12-18T12:33:18.450Z"
   },
   {
    "duration": 10,
    "start_time": "2021-12-18T12:33:19.166Z"
   },
   {
    "duration": 13,
    "start_time": "2021-12-18T12:33:19.178Z"
   },
   {
    "duration": 11,
    "start_time": "2021-12-18T12:33:19.193Z"
   },
   {
    "duration": 3,
    "start_time": "2021-12-18T12:33:19.205Z"
   },
   {
    "duration": 8,
    "start_time": "2021-12-18T12:33:19.210Z"
   },
   {
    "duration": 7,
    "start_time": "2021-12-18T12:33:19.219Z"
   },
   {
    "duration": 16,
    "start_time": "2021-12-18T12:33:19.230Z"
   },
   {
    "duration": 4,
    "start_time": "2021-12-18T12:33:19.248Z"
   },
   {
    "duration": 42,
    "start_time": "2021-12-18T12:33:19.253Z"
   },
   {
    "duration": 50,
    "start_time": "2021-12-18T12:33:19.297Z"
   },
   {
    "duration": 3343,
    "start_time": "2021-12-18T12:33:19.349Z"
   },
   {
    "duration": 14,
    "start_time": "2021-12-18T12:33:22.694Z"
   },
   {
    "duration": 14,
    "start_time": "2021-12-18T12:33:22.710Z"
   },
   {
    "duration": 8,
    "start_time": "2021-12-18T12:33:22.725Z"
   },
   {
    "duration": 18,
    "start_time": "2021-12-18T12:33:22.735Z"
   },
   {
    "duration": 43,
    "start_time": "2021-12-18T12:33:22.755Z"
   },
   {
    "duration": 7,
    "start_time": "2021-12-18T12:33:22.800Z"
   },
   {
    "duration": 8,
    "start_time": "2021-12-18T12:33:22.809Z"
   },
   {
    "duration": 6,
    "start_time": "2021-12-18T12:33:22.819Z"
   },
   {
    "duration": 6,
    "start_time": "2021-12-18T12:33:22.827Z"
   },
   {
    "duration": 20,
    "start_time": "2021-12-18T12:33:22.835Z"
   }
  ],
  "kernelspec": {
   "display_name": "Python 3",
   "language": "python",
   "name": "python3"
  },
  "language_info": {
   "codemirror_mode": {
    "name": "ipython",
    "version": 3
   },
   "file_extension": ".py",
   "mimetype": "text/x-python",
   "name": "python",
   "nbconvert_exporter": "python",
   "pygments_lexer": "ipython3",
   "version": "3.7.12"
  },
  "toc": {
   "base_numbering": 1,
   "nav_menu": {},
   "number_sections": true,
   "sideBar": true,
   "skip_h1_title": true,
   "title_cell": "Table of Contents",
   "title_sidebar": "Contents",
   "toc_cell": false,
   "toc_position": {},
   "toc_section_display": true,
   "toc_window_display": true
  }
 },
 "nbformat": 4,
 "nbformat_minor": 2
}
