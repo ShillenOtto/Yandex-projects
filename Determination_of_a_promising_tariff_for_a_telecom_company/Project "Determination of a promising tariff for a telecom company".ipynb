{
 "cells": [
  {
   "cell_type": "markdown",
   "metadata": {},
   "source": [
    "# Определение перспективного тарифа для телеком-компании\n",
    "В нашем распоряжении данные 500 пользователей «Мегалайна» — федерального оператора сотовой связи: кто они, откуда, каким тарифом пользуются, сколько звонков и сообщений каждый отправил за 2018 год.\n",
    "Нужно скорректировать рекламный бюджет, но для этого коммерческий департамент хочет понять, какой тариф приносит больше денег.\n",
    "Нам нужно сделать предварительный анализ тарифов на небольшой выборке клиентов. Нужно проанализировать поведение клиентов и сделать вывод — какой тариф лучше."
   ]
  },
  {
   "cell_type": "markdown",
   "metadata": {},
   "source": [
    "## Изучение данных из файла"
   ]
  },
  {
   "cell_type": "code",
   "execution_count": 52,
   "metadata": {},
   "outputs": [],
   "source": [
    "# Импортируем библиотеку Pandas.\n",
    "import pandas as pd\n",
    "# Импортируем библиотеку для постраения графиков matplotlib.pyplot.\n",
    "import matplotlib.pyplot as plt\n",
    "# Импортируем библиотеку для постраения графиков seaborn.\n",
    "import seaborn as sns\n",
    "# Импортируем библиотеку для высокоуровневых математических функций numpy.\n",
    "import numpy as np\n",
    "import math\n",
    "from scipy import stats as st\n",
    "# Импортируем модуль для отключения предпреждений\n",
    "import warnings\n",
    "warnings.filterwarnings(\"ignore\", category=FutureWarning)"
   ]
  },
  {
   "cell_type": "code",
   "execution_count": 2,
   "metadata": {},
   "outputs": [],
   "source": [
    "# Прочитаем исходные DataFrame.\n",
    "try:\n",
    "    df_users = pd.read_csv('/datasets/users.csv')\n",
    "    df_calls = pd.read_csv('/datasets/calls.csv')\n",
    "    df_tariffs = pd.read_csv('/datasets/tariffs.csv')\n",
    "    df_messages = pd.read_csv('/datasets/messages.csv')\n",
    "    df_internet = pd.read_csv('/datasets/internet.csv')\n",
    "except:\n",
    "    df_users = pd.read_csv('users.csv')\n",
    "    df_calls = pd.read_csv('calls.csv')\n",
    "    df_tariffs = pd.read_csv('tariffs.csv')\n",
    "    df_messages = pd.read_csv('messages.csv')\n",
    "    df_internet = pd.read_csv('internet.csv')\n",
    "# Сделаем отображение всех столбцов DataFrame\n",
    "pd.set_option('display.max_columns', None)"
   ]
  },
  {
   "cell_type": "markdown",
   "metadata": {},
   "source": [
    "Посмотрим каждый DataFrame для понимания столбцов в каждом из них."
   ]
  },
  {
   "cell_type": "markdown",
   "metadata": {},
   "source": [
    "### Описание данных `df_users`<br>\n",
    "\n",
    "`user_id` — уникальный идентификатор пользователя<br>\n",
    "`first_name` — имя пользователя<br>\n",
    "`last_name` — фамилия пользователя<br>\n",
    "`age` — возраст пользователя (годы)<br>\n",
    "`reg_date` — дата подключения тарифа (день, месяц, год)<br>\n",
    "`churn_date` — дата прекращения пользования тарифом (если значение пропущено, то тариф ещё действовал на момент выгрузки данных)<br>\n",
    "`city` — город проживания пользователя<br>\n",
    "`tarif` — название тарифного плана<br>"
   ]
  },
  {
   "cell_type": "code",
   "execution_count": 3,
   "metadata": {
    "scrolled": false
   },
   "outputs": [
    {
     "data": {
      "text/html": [
       "<div>\n",
       "<style scoped>\n",
       "    .dataframe tbody tr th:only-of-type {\n",
       "        vertical-align: middle;\n",
       "    }\n",
       "\n",
       "    .dataframe tbody tr th {\n",
       "        vertical-align: top;\n",
       "    }\n",
       "\n",
       "    .dataframe thead th {\n",
       "        text-align: right;\n",
       "    }\n",
       "</style>\n",
       "<table border=\"1\" class=\"dataframe\">\n",
       "  <thead>\n",
       "    <tr style=\"text-align: right;\">\n",
       "      <th></th>\n",
       "      <th>user_id</th>\n",
       "      <th>age</th>\n",
       "      <th>churn_date</th>\n",
       "      <th>city</th>\n",
       "      <th>first_name</th>\n",
       "      <th>last_name</th>\n",
       "      <th>reg_date</th>\n",
       "      <th>tariff</th>\n",
       "    </tr>\n",
       "  </thead>\n",
       "  <tbody>\n",
       "    <tr>\n",
       "      <th>0</th>\n",
       "      <td>1000</td>\n",
       "      <td>52</td>\n",
       "      <td>NaN</td>\n",
       "      <td>Краснодар</td>\n",
       "      <td>Рафаил</td>\n",
       "      <td>Верещагин</td>\n",
       "      <td>2018-05-25</td>\n",
       "      <td>ultra</td>\n",
       "    </tr>\n",
       "    <tr>\n",
       "      <th>1</th>\n",
       "      <td>1001</td>\n",
       "      <td>41</td>\n",
       "      <td>NaN</td>\n",
       "      <td>Москва</td>\n",
       "      <td>Иван</td>\n",
       "      <td>Ежов</td>\n",
       "      <td>2018-11-01</td>\n",
       "      <td>smart</td>\n",
       "    </tr>\n",
       "    <tr>\n",
       "      <th>2</th>\n",
       "      <td>1002</td>\n",
       "      <td>59</td>\n",
       "      <td>NaN</td>\n",
       "      <td>Стерлитамак</td>\n",
       "      <td>Евгений</td>\n",
       "      <td>Абрамович</td>\n",
       "      <td>2018-06-17</td>\n",
       "      <td>smart</td>\n",
       "    </tr>\n",
       "    <tr>\n",
       "      <th>3</th>\n",
       "      <td>1003</td>\n",
       "      <td>23</td>\n",
       "      <td>NaN</td>\n",
       "      <td>Москва</td>\n",
       "      <td>Белла</td>\n",
       "      <td>Белякова</td>\n",
       "      <td>2018-08-17</td>\n",
       "      <td>ultra</td>\n",
       "    </tr>\n",
       "    <tr>\n",
       "      <th>4</th>\n",
       "      <td>1004</td>\n",
       "      <td>68</td>\n",
       "      <td>NaN</td>\n",
       "      <td>Новокузнецк</td>\n",
       "      <td>Татьяна</td>\n",
       "      <td>Авдеенко</td>\n",
       "      <td>2018-05-14</td>\n",
       "      <td>ultra</td>\n",
       "    </tr>\n",
       "  </tbody>\n",
       "</table>\n",
       "</div>"
      ],
      "text/plain": [
       "   user_id  age churn_date         city first_name  last_name    reg_date  \\\n",
       "0     1000   52        NaN    Краснодар     Рафаил  Верещагин  2018-05-25   \n",
       "1     1001   41        NaN       Москва       Иван       Ежов  2018-11-01   \n",
       "2     1002   59        NaN  Стерлитамак    Евгений  Абрамович  2018-06-17   \n",
       "3     1003   23        NaN       Москва      Белла   Белякова  2018-08-17   \n",
       "4     1004   68        NaN  Новокузнецк    Татьяна   Авдеенко  2018-05-14   \n",
       "\n",
       "  tariff  \n",
       "0  ultra  \n",
       "1  smart  \n",
       "2  smart  \n",
       "3  ultra  \n",
       "4  ultra  "
      ]
     },
     "execution_count": 3,
     "metadata": {},
     "output_type": "execute_result"
    }
   ],
   "source": [
    "df_users.head()"
   ]
  },
  {
   "cell_type": "code",
   "execution_count": 4,
   "metadata": {
    "scrolled": true
   },
   "outputs": [
    {
     "name": "stdout",
     "output_type": "stream",
     "text": [
      "<class 'pandas.core.frame.DataFrame'>\n",
      "RangeIndex: 500 entries, 0 to 499\n",
      "Data columns (total 8 columns):\n",
      " #   Column      Non-Null Count  Dtype \n",
      "---  ------      --------------  ----- \n",
      " 0   user_id     500 non-null    int64 \n",
      " 1   age         500 non-null    int64 \n",
      " 2   churn_date  38 non-null     object\n",
      " 3   city        500 non-null    object\n",
      " 4   first_name  500 non-null    object\n",
      " 5   last_name   500 non-null    object\n",
      " 6   reg_date    500 non-null    object\n",
      " 7   tariff      500 non-null    object\n",
      "dtypes: int64(2), object(6)\n",
      "memory usage: 31.4+ KB\n"
     ]
    }
   ],
   "source": [
    "df_users.info()"
   ]
  },
  {
   "cell_type": "markdown",
   "metadata": {},
   "source": [
    "### Описание данных `df_calls`<br>\n",
    "`id` — уникальный номер звонка<br>\n",
    "`call_date` — дата звонка<br>\n",
    "`duration` — длительность звонка в минутах<br>\n",
    "`user_id` — идентификатор пользователя, сделавшего звонок<br>"
   ]
  },
  {
   "cell_type": "code",
   "execution_count": 5,
   "metadata": {},
   "outputs": [
    {
     "data": {
      "text/html": [
       "<div>\n",
       "<style scoped>\n",
       "    .dataframe tbody tr th:only-of-type {\n",
       "        vertical-align: middle;\n",
       "    }\n",
       "\n",
       "    .dataframe tbody tr th {\n",
       "        vertical-align: top;\n",
       "    }\n",
       "\n",
       "    .dataframe thead th {\n",
       "        text-align: right;\n",
       "    }\n",
       "</style>\n",
       "<table border=\"1\" class=\"dataframe\">\n",
       "  <thead>\n",
       "    <tr style=\"text-align: right;\">\n",
       "      <th></th>\n",
       "      <th>id</th>\n",
       "      <th>call_date</th>\n",
       "      <th>duration</th>\n",
       "      <th>user_id</th>\n",
       "    </tr>\n",
       "  </thead>\n",
       "  <tbody>\n",
       "    <tr>\n",
       "      <th>0</th>\n",
       "      <td>1000_0</td>\n",
       "      <td>2018-07-25</td>\n",
       "      <td>0.00</td>\n",
       "      <td>1000</td>\n",
       "    </tr>\n",
       "    <tr>\n",
       "      <th>1</th>\n",
       "      <td>1000_1</td>\n",
       "      <td>2018-08-17</td>\n",
       "      <td>0.00</td>\n",
       "      <td>1000</td>\n",
       "    </tr>\n",
       "    <tr>\n",
       "      <th>2</th>\n",
       "      <td>1000_2</td>\n",
       "      <td>2018-06-11</td>\n",
       "      <td>2.85</td>\n",
       "      <td>1000</td>\n",
       "    </tr>\n",
       "    <tr>\n",
       "      <th>3</th>\n",
       "      <td>1000_3</td>\n",
       "      <td>2018-09-21</td>\n",
       "      <td>13.80</td>\n",
       "      <td>1000</td>\n",
       "    </tr>\n",
       "    <tr>\n",
       "      <th>4</th>\n",
       "      <td>1000_4</td>\n",
       "      <td>2018-12-15</td>\n",
       "      <td>5.18</td>\n",
       "      <td>1000</td>\n",
       "    </tr>\n",
       "  </tbody>\n",
       "</table>\n",
       "</div>"
      ],
      "text/plain": [
       "       id   call_date  duration  user_id\n",
       "0  1000_0  2018-07-25      0.00     1000\n",
       "1  1000_1  2018-08-17      0.00     1000\n",
       "2  1000_2  2018-06-11      2.85     1000\n",
       "3  1000_3  2018-09-21     13.80     1000\n",
       "4  1000_4  2018-12-15      5.18     1000"
      ]
     },
     "execution_count": 5,
     "metadata": {},
     "output_type": "execute_result"
    }
   ],
   "source": [
    "df_calls.head()"
   ]
  },
  {
   "cell_type": "code",
   "execution_count": 6,
   "metadata": {},
   "outputs": [
    {
     "name": "stdout",
     "output_type": "stream",
     "text": [
      "<class 'pandas.core.frame.DataFrame'>\n",
      "RangeIndex: 202607 entries, 0 to 202606\n",
      "Data columns (total 4 columns):\n",
      " #   Column     Non-Null Count   Dtype  \n",
      "---  ------     --------------   -----  \n",
      " 0   id         202607 non-null  object \n",
      " 1   call_date  202607 non-null  object \n",
      " 2   duration   202607 non-null  float64\n",
      " 3   user_id    202607 non-null  int64  \n",
      "dtypes: float64(1), int64(1), object(2)\n",
      "memory usage: 6.2+ MB\n"
     ]
    }
   ],
   "source": [
    "df_calls.info()"
   ]
  },
  {
   "cell_type": "markdown",
   "metadata": {},
   "source": [
    "### Описание данных `df_tariffs`<br>\n",
    "\n",
    "`tariff_name` — название тарифа<br>\n",
    "`rub_monthly_fee` — ежемесячная абонентская плата в рублях<br>\n",
    "`minutes_included` — количество минут разговора в месяц, включённых в абонентскую плату<br>\n",
    "`messages_included` — количество сообщений в месяц, включённых в абонентскую плату<br>\n",
    "`mb_per_month_included` — объём интернет-трафика, включённого в абонентскую плату (в мегабайтах)<br>\n",
    "`rub_per_minute` — стоимость минуты разговора сверх тарифного пакета (например, если в тарифе 100 минут разговора в месяц, то со 101 минуты будет взиматься плата)<br>\n",
    "`rub_per_message` — стоимость отправки сообщения сверх тарифного пакета<br>\n",
    "`rub_per_gb` — стоимость дополнительного гигабайта интернет-трафика сверх тарифного пакета (1 гигабайт = 1024 мегабайта)<br>"
   ]
  },
  {
   "cell_type": "code",
   "execution_count": 7,
   "metadata": {
    "scrolled": true
   },
   "outputs": [
    {
     "data": {
      "text/html": [
       "<div>\n",
       "<style scoped>\n",
       "    .dataframe tbody tr th:only-of-type {\n",
       "        vertical-align: middle;\n",
       "    }\n",
       "\n",
       "    .dataframe tbody tr th {\n",
       "        vertical-align: top;\n",
       "    }\n",
       "\n",
       "    .dataframe thead th {\n",
       "        text-align: right;\n",
       "    }\n",
       "</style>\n",
       "<table border=\"1\" class=\"dataframe\">\n",
       "  <thead>\n",
       "    <tr style=\"text-align: right;\">\n",
       "      <th></th>\n",
       "      <th>messages_included</th>\n",
       "      <th>mb_per_month_included</th>\n",
       "      <th>minutes_included</th>\n",
       "      <th>rub_monthly_fee</th>\n",
       "      <th>rub_per_gb</th>\n",
       "      <th>rub_per_message</th>\n",
       "      <th>rub_per_minute</th>\n",
       "      <th>tariff_name</th>\n",
       "    </tr>\n",
       "  </thead>\n",
       "  <tbody>\n",
       "    <tr>\n",
       "      <th>0</th>\n",
       "      <td>50</td>\n",
       "      <td>15360</td>\n",
       "      <td>500</td>\n",
       "      <td>550</td>\n",
       "      <td>200</td>\n",
       "      <td>3</td>\n",
       "      <td>3</td>\n",
       "      <td>smart</td>\n",
       "    </tr>\n",
       "    <tr>\n",
       "      <th>1</th>\n",
       "      <td>1000</td>\n",
       "      <td>30720</td>\n",
       "      <td>3000</td>\n",
       "      <td>1950</td>\n",
       "      <td>150</td>\n",
       "      <td>1</td>\n",
       "      <td>1</td>\n",
       "      <td>ultra</td>\n",
       "    </tr>\n",
       "  </tbody>\n",
       "</table>\n",
       "</div>"
      ],
      "text/plain": [
       "   messages_included  mb_per_month_included  minutes_included  \\\n",
       "0                 50                  15360               500   \n",
       "1               1000                  30720              3000   \n",
       "\n",
       "   rub_monthly_fee  rub_per_gb  rub_per_message  rub_per_minute tariff_name  \n",
       "0              550         200                3               3       smart  \n",
       "1             1950         150                1               1       ultra  "
      ]
     },
     "execution_count": 7,
     "metadata": {},
     "output_type": "execute_result"
    }
   ],
   "source": [
    "df_tariffs.head()"
   ]
  },
  {
   "cell_type": "code",
   "execution_count": 8,
   "metadata": {},
   "outputs": [
    {
     "name": "stdout",
     "output_type": "stream",
     "text": [
      "<class 'pandas.core.frame.DataFrame'>\n",
      "RangeIndex: 2 entries, 0 to 1\n",
      "Data columns (total 8 columns):\n",
      "messages_included        2 non-null int64\n",
      "mb_per_month_included    2 non-null int64\n",
      "minutes_included         2 non-null int64\n",
      "rub_monthly_fee          2 non-null int64\n",
      "rub_per_gb               2 non-null int64\n",
      "rub_per_message          2 non-null int64\n",
      "rub_per_minute           2 non-null int64\n",
      "tariff_name              2 non-null object\n",
      "dtypes: int64(7), object(1)\n",
      "memory usage: 256.0+ bytes\n"
     ]
    }
   ],
   "source": [
    "df_tariffs.info()"
   ]
  },
  {
   "cell_type": "markdown",
   "metadata": {},
   "source": [
    "### Описание данных `df_messages`<br>\n",
    "\n",
    "`id` — уникальный номер сообщения<br>\n",
    "`message_date` — дата сообщения<br>\n",
    "`user_id` — идентификатор пользователя, отправившего сообщение<br>"
   ]
  },
  {
   "cell_type": "code",
   "execution_count": 8,
   "metadata": {
    "scrolled": true
   },
   "outputs": [
    {
     "data": {
      "text/html": [
       "<div>\n",
       "<style scoped>\n",
       "    .dataframe tbody tr th:only-of-type {\n",
       "        vertical-align: middle;\n",
       "    }\n",
       "\n",
       "    .dataframe tbody tr th {\n",
       "        vertical-align: top;\n",
       "    }\n",
       "\n",
       "    .dataframe thead th {\n",
       "        text-align: right;\n",
       "    }\n",
       "</style>\n",
       "<table border=\"1\" class=\"dataframe\">\n",
       "  <thead>\n",
       "    <tr style=\"text-align: right;\">\n",
       "      <th></th>\n",
       "      <th>id</th>\n",
       "      <th>message_date</th>\n",
       "      <th>user_id</th>\n",
       "    </tr>\n",
       "  </thead>\n",
       "  <tbody>\n",
       "    <tr>\n",
       "      <th>0</th>\n",
       "      <td>1000_0</td>\n",
       "      <td>2018-06-27</td>\n",
       "      <td>1000</td>\n",
       "    </tr>\n",
       "    <tr>\n",
       "      <th>1</th>\n",
       "      <td>1000_1</td>\n",
       "      <td>2018-10-08</td>\n",
       "      <td>1000</td>\n",
       "    </tr>\n",
       "    <tr>\n",
       "      <th>2</th>\n",
       "      <td>1000_2</td>\n",
       "      <td>2018-08-04</td>\n",
       "      <td>1000</td>\n",
       "    </tr>\n",
       "    <tr>\n",
       "      <th>3</th>\n",
       "      <td>1000_3</td>\n",
       "      <td>2018-06-16</td>\n",
       "      <td>1000</td>\n",
       "    </tr>\n",
       "    <tr>\n",
       "      <th>4</th>\n",
       "      <td>1000_4</td>\n",
       "      <td>2018-12-05</td>\n",
       "      <td>1000</td>\n",
       "    </tr>\n",
       "  </tbody>\n",
       "</table>\n",
       "</div>"
      ],
      "text/plain": [
       "       id message_date  user_id\n",
       "0  1000_0   2018-06-27     1000\n",
       "1  1000_1   2018-10-08     1000\n",
       "2  1000_2   2018-08-04     1000\n",
       "3  1000_3   2018-06-16     1000\n",
       "4  1000_4   2018-12-05     1000"
      ]
     },
     "execution_count": 8,
     "metadata": {},
     "output_type": "execute_result"
    }
   ],
   "source": [
    "df_messages.head()"
   ]
  },
  {
   "cell_type": "code",
   "execution_count": 9,
   "metadata": {},
   "outputs": [
    {
     "name": "stdout",
     "output_type": "stream",
     "text": [
      "<class 'pandas.core.frame.DataFrame'>\n",
      "RangeIndex: 123036 entries, 0 to 123035\n",
      "Data columns (total 3 columns):\n",
      " #   Column        Non-Null Count   Dtype \n",
      "---  ------        --------------   ----- \n",
      " 0   id            123036 non-null  object\n",
      " 1   message_date  123036 non-null  object\n",
      " 2   user_id       123036 non-null  int64 \n",
      "dtypes: int64(1), object(2)\n",
      "memory usage: 2.8+ MB\n"
     ]
    }
   ],
   "source": [
    "df_messages.info()"
   ]
  },
  {
   "cell_type": "markdown",
   "metadata": {},
   "source": [
    "### Описание данных `df_internet`<br>\n",
    "\n",
    "`id` — уникальный номер сессии<br>\n",
    "`mb_used` — объём потраченного за сессию интернет-трафика (в мегабайтах)<br>\n",
    "`session_date` — дата интернет-сессии<br>\n",
    "`user_id` — идентификатор пользователя<br>"
   ]
  },
  {
   "cell_type": "code",
   "execution_count": 10,
   "metadata": {
    "scrolled": true
   },
   "outputs": [
    {
     "data": {
      "text/html": [
       "<div>\n",
       "<style scoped>\n",
       "    .dataframe tbody tr th:only-of-type {\n",
       "        vertical-align: middle;\n",
       "    }\n",
       "\n",
       "    .dataframe tbody tr th {\n",
       "        vertical-align: top;\n",
       "    }\n",
       "\n",
       "    .dataframe thead th {\n",
       "        text-align: right;\n",
       "    }\n",
       "</style>\n",
       "<table border=\"1\" class=\"dataframe\">\n",
       "  <thead>\n",
       "    <tr style=\"text-align: right;\">\n",
       "      <th></th>\n",
       "      <th>Unnamed: 0</th>\n",
       "      <th>id</th>\n",
       "      <th>mb_used</th>\n",
       "      <th>session_date</th>\n",
       "      <th>user_id</th>\n",
       "    </tr>\n",
       "  </thead>\n",
       "  <tbody>\n",
       "    <tr>\n",
       "      <th>0</th>\n",
       "      <td>0</td>\n",
       "      <td>1000_0</td>\n",
       "      <td>112.95</td>\n",
       "      <td>2018-11-25</td>\n",
       "      <td>1000</td>\n",
       "    </tr>\n",
       "    <tr>\n",
       "      <th>1</th>\n",
       "      <td>1</td>\n",
       "      <td>1000_1</td>\n",
       "      <td>1052.81</td>\n",
       "      <td>2018-09-07</td>\n",
       "      <td>1000</td>\n",
       "    </tr>\n",
       "    <tr>\n",
       "      <th>2</th>\n",
       "      <td>2</td>\n",
       "      <td>1000_2</td>\n",
       "      <td>1197.26</td>\n",
       "      <td>2018-06-25</td>\n",
       "      <td>1000</td>\n",
       "    </tr>\n",
       "    <tr>\n",
       "      <th>3</th>\n",
       "      <td>3</td>\n",
       "      <td>1000_3</td>\n",
       "      <td>550.27</td>\n",
       "      <td>2018-08-22</td>\n",
       "      <td>1000</td>\n",
       "    </tr>\n",
       "    <tr>\n",
       "      <th>4</th>\n",
       "      <td>4</td>\n",
       "      <td>1000_4</td>\n",
       "      <td>302.56</td>\n",
       "      <td>2018-09-24</td>\n",
       "      <td>1000</td>\n",
       "    </tr>\n",
       "  </tbody>\n",
       "</table>\n",
       "</div>"
      ],
      "text/plain": [
       "   Unnamed: 0      id  mb_used session_date  user_id\n",
       "0           0  1000_0   112.95   2018-11-25     1000\n",
       "1           1  1000_1  1052.81   2018-09-07     1000\n",
       "2           2  1000_2  1197.26   2018-06-25     1000\n",
       "3           3  1000_3   550.27   2018-08-22     1000\n",
       "4           4  1000_4   302.56   2018-09-24     1000"
      ]
     },
     "execution_count": 10,
     "metadata": {},
     "output_type": "execute_result"
    }
   ],
   "source": [
    "df_internet.head()"
   ]
  },
  {
   "cell_type": "code",
   "execution_count": 11,
   "metadata": {},
   "outputs": [
    {
     "name": "stdout",
     "output_type": "stream",
     "text": [
      "<class 'pandas.core.frame.DataFrame'>\n",
      "RangeIndex: 149396 entries, 0 to 149395\n",
      "Data columns (total 5 columns):\n",
      " #   Column        Non-Null Count   Dtype  \n",
      "---  ------        --------------   -----  \n",
      " 0   Unnamed: 0    149396 non-null  int64  \n",
      " 1   id            149396 non-null  object \n",
      " 2   mb_used       149396 non-null  float64\n",
      " 3   session_date  149396 non-null  object \n",
      " 4   user_id       149396 non-null  int64  \n",
      "dtypes: float64(1), int64(2), object(2)\n",
      "memory usage: 5.7+ MB\n"
     ]
    }
   ],
   "source": [
    "df_internet.info()"
   ]
  },
  {
   "cell_type": "markdown",
   "metadata": {},
   "source": [
    "## Предобработка данных"
   ]
  },
  {
   "cell_type": "code",
   "execution_count": 12,
   "metadata": {
    "scrolled": true
   },
   "outputs": [
    {
     "data": {
      "text/plain": [
       "array(['Краснодар', 'Москва', 'Стерлитамак', 'Новокузнецк',\n",
       "       'Набережные Челны', 'Ульяновск', 'Челябинск', 'Пермь', 'Тюмень',\n",
       "       'Самара', 'Санкт-Петербург', 'Иваново', 'Чебоксары', 'Омск', 'Уфа',\n",
       "       'Томск', 'Чита', 'Мурманск', 'Петрозаводск', 'Тверь',\n",
       "       'Екатеринбург', 'Махачкала', 'Вологда', 'Череповец', 'Ярославль',\n",
       "       'Сочи', 'Хабаровск', 'Ставрополь', 'Рязань', 'Улан-Удэ', 'Тула',\n",
       "       'Саратов', 'Ростов-на-Дону', 'Казань', 'Иркутск', 'Курск',\n",
       "       'Калуга', 'Якутск', 'Астрахань', 'Химки', 'Владикавказ',\n",
       "       'Волгоград', 'Саранск', 'Ижевск', 'Новосибирск', 'Брянск',\n",
       "       'Тольятти', 'Нижний Тагил', 'Орёл', 'Белгород', 'Воронеж',\n",
       "       'Волжский', 'Курган', 'Барнаул', 'Красноярск', 'Архангельск',\n",
       "       'Липецк', 'Кемерово', 'Киров', 'Сургут', 'Пенза', 'Магнитогорск',\n",
       "       'Нижний Новгород', 'Кострома', 'Владивосток', 'Тамбов', 'Балашиха',\n",
       "       'Севастополь', 'Калининград', 'Оренбург', 'Смоленск',\n",
       "       'Нижневартовск', 'Владимир', 'Новороссийск', 'Грозный', 'Подольск'],\n",
       "      dtype=object)"
      ]
     },
     "execution_count": 12,
     "metadata": {},
     "output_type": "execute_result"
    }
   ],
   "source": [
    "# Проверим уникальность значений в столбце 'city' для исключения неточностей.\n",
    "df_users['city'].unique()"
   ]
  },
  {
   "cell_type": "code",
   "execution_count": 13,
   "metadata": {
    "scrolled": false
   },
   "outputs": [],
   "source": [
    "# В DF df_calls округлим длительность разговора до целых минут и переведем тип данных в int.\n",
    "df_calls['duration'] = df_calls['duration'].apply(math.ceil)\n",
    "   "
   ]
  },
  {
   "cell_type": "code",
   "execution_count": 14,
   "metadata": {},
   "outputs": [],
   "source": [
    "# Сделаем столбец в df_tariffs['gb_per_month_included'], для перевода мегабайтов в гигобайты.\n",
    "df_tariffs['gb_per_month_included'] = df_tariffs['mb_per_month_included'] / 1024"
   ]
  },
  {
   "cell_type": "markdown",
   "metadata": {},
   "source": [
    "### Сделаем сводные таблицы Users с Calls/Messages/Internet"
   ]
  },
  {
   "cell_type": "markdown",
   "metadata": {},
   "source": [
    "#### Таблица `df_users_calls`"
   ]
  },
  {
   "cell_type": "code",
   "execution_count": 15,
   "metadata": {
    "scrolled": false
   },
   "outputs": [
    {
     "data": {
      "text/html": [
       "<div>\n",
       "<style scoped>\n",
       "    .dataframe tbody tr th:only-of-type {\n",
       "        vertical-align: middle;\n",
       "    }\n",
       "\n",
       "    .dataframe tbody tr th {\n",
       "        vertical-align: top;\n",
       "    }\n",
       "\n",
       "    .dataframe thead th {\n",
       "        text-align: right;\n",
       "    }\n",
       "</style>\n",
       "<table border=\"1\" class=\"dataframe\">\n",
       "  <thead>\n",
       "    <tr style=\"text-align: right;\">\n",
       "      <th></th>\n",
       "      <th>user_id</th>\n",
       "      <th>age</th>\n",
       "      <th>churn_date</th>\n",
       "      <th>city</th>\n",
       "      <th>first_name</th>\n",
       "      <th>last_name</th>\n",
       "      <th>reg_date</th>\n",
       "      <th>tariff</th>\n",
       "      <th>id</th>\n",
       "      <th>call_date</th>\n",
       "      <th>duration</th>\n",
       "    </tr>\n",
       "  </thead>\n",
       "  <tbody>\n",
       "    <tr>\n",
       "      <th>0</th>\n",
       "      <td>1000</td>\n",
       "      <td>52</td>\n",
       "      <td>NaN</td>\n",
       "      <td>Краснодар</td>\n",
       "      <td>Рафаил</td>\n",
       "      <td>Верещагин</td>\n",
       "      <td>2018-05-25</td>\n",
       "      <td>ultra</td>\n",
       "      <td>1000_0</td>\n",
       "      <td>2018-07-25</td>\n",
       "      <td>0.0</td>\n",
       "    </tr>\n",
       "    <tr>\n",
       "      <th>1</th>\n",
       "      <td>1000</td>\n",
       "      <td>52</td>\n",
       "      <td>NaN</td>\n",
       "      <td>Краснодар</td>\n",
       "      <td>Рафаил</td>\n",
       "      <td>Верещагин</td>\n",
       "      <td>2018-05-25</td>\n",
       "      <td>ultra</td>\n",
       "      <td>1000_1</td>\n",
       "      <td>2018-08-17</td>\n",
       "      <td>0.0</td>\n",
       "    </tr>\n",
       "    <tr>\n",
       "      <th>2</th>\n",
       "      <td>1000</td>\n",
       "      <td>52</td>\n",
       "      <td>NaN</td>\n",
       "      <td>Краснодар</td>\n",
       "      <td>Рафаил</td>\n",
       "      <td>Верещагин</td>\n",
       "      <td>2018-05-25</td>\n",
       "      <td>ultra</td>\n",
       "      <td>1000_2</td>\n",
       "      <td>2018-06-11</td>\n",
       "      <td>3.0</td>\n",
       "    </tr>\n",
       "    <tr>\n",
       "      <th>3</th>\n",
       "      <td>1000</td>\n",
       "      <td>52</td>\n",
       "      <td>NaN</td>\n",
       "      <td>Краснодар</td>\n",
       "      <td>Рафаил</td>\n",
       "      <td>Верещагин</td>\n",
       "      <td>2018-05-25</td>\n",
       "      <td>ultra</td>\n",
       "      <td>1000_3</td>\n",
       "      <td>2018-09-21</td>\n",
       "      <td>14.0</td>\n",
       "    </tr>\n",
       "    <tr>\n",
       "      <th>4</th>\n",
       "      <td>1000</td>\n",
       "      <td>52</td>\n",
       "      <td>NaN</td>\n",
       "      <td>Краснодар</td>\n",
       "      <td>Рафаил</td>\n",
       "      <td>Верещагин</td>\n",
       "      <td>2018-05-25</td>\n",
       "      <td>ultra</td>\n",
       "      <td>1000_4</td>\n",
       "      <td>2018-12-15</td>\n",
       "      <td>6.0</td>\n",
       "    </tr>\n",
       "  </tbody>\n",
       "</table>\n",
       "</div>"
      ],
      "text/plain": [
       "   user_id  age churn_date       city first_name  last_name    reg_date  \\\n",
       "0     1000   52        NaN  Краснодар     Рафаил  Верещагин  2018-05-25   \n",
       "1     1000   52        NaN  Краснодар     Рафаил  Верещагин  2018-05-25   \n",
       "2     1000   52        NaN  Краснодар     Рафаил  Верещагин  2018-05-25   \n",
       "3     1000   52        NaN  Краснодар     Рафаил  Верещагин  2018-05-25   \n",
       "4     1000   52        NaN  Краснодар     Рафаил  Верещагин  2018-05-25   \n",
       "\n",
       "  tariff      id   call_date  duration  \n",
       "0  ultra  1000_0  2018-07-25       0.0  \n",
       "1  ultra  1000_1  2018-08-17       0.0  \n",
       "2  ultra  1000_2  2018-06-11       3.0  \n",
       "3  ultra  1000_3  2018-09-21      14.0  \n",
       "4  ultra  1000_4  2018-12-15       6.0  "
      ]
     },
     "execution_count": 15,
     "metadata": {},
     "output_type": "execute_result"
    }
   ],
   "source": [
    "df_users_calls = df_users.merge(df_calls, on='user_id', how='left')\n",
    "df_users_calls.head()"
   ]
  },
  {
   "cell_type": "code",
   "execution_count": 16,
   "metadata": {},
   "outputs": [
    {
     "data": {
      "text/plain": [
       "0"
      ]
     },
     "execution_count": 16,
     "metadata": {},
     "output_type": "execute_result"
    }
   ],
   "source": [
    "# Проверим наличие дубликатов методом duplicated().\n",
    "df_users_calls.duplicated().sum()"
   ]
  },
  {
   "cell_type": "code",
   "execution_count": 17,
   "metadata": {},
   "outputs": [],
   "source": [
    "# Приводим форму столбца \"call_date\" в понятный вид.\n",
    "df_users_calls['call_date'] = pd.to_datetime(df_users_calls['call_date'], format='%Y-%m-%d')\n",
    "df_users_calls['reg_date'] = pd.to_datetime(df_users_calls['reg_date'], format='%Y-%m-%d')\n",
    "df_users_calls['month'] = df_users_calls['call_date'].dt.month"
   ]
  },
  {
   "cell_type": "markdown",
   "metadata": {},
   "source": [
    "#### Таблица `df_users_messages`"
   ]
  },
  {
   "cell_type": "code",
   "execution_count": 18,
   "metadata": {
    "scrolled": true
   },
   "outputs": [
    {
     "data": {
      "text/html": [
       "<div>\n",
       "<style scoped>\n",
       "    .dataframe tbody tr th:only-of-type {\n",
       "        vertical-align: middle;\n",
       "    }\n",
       "\n",
       "    .dataframe tbody tr th {\n",
       "        vertical-align: top;\n",
       "    }\n",
       "\n",
       "    .dataframe thead th {\n",
       "        text-align: right;\n",
       "    }\n",
       "</style>\n",
       "<table border=\"1\" class=\"dataframe\">\n",
       "  <thead>\n",
       "    <tr style=\"text-align: right;\">\n",
       "      <th></th>\n",
       "      <th>user_id</th>\n",
       "      <th>age</th>\n",
       "      <th>churn_date</th>\n",
       "      <th>city</th>\n",
       "      <th>first_name</th>\n",
       "      <th>last_name</th>\n",
       "      <th>reg_date</th>\n",
       "      <th>tariff</th>\n",
       "      <th>id</th>\n",
       "      <th>message_date</th>\n",
       "    </tr>\n",
       "  </thead>\n",
       "  <tbody>\n",
       "    <tr>\n",
       "      <th>0</th>\n",
       "      <td>1000</td>\n",
       "      <td>52</td>\n",
       "      <td>NaN</td>\n",
       "      <td>Краснодар</td>\n",
       "      <td>Рафаил</td>\n",
       "      <td>Верещагин</td>\n",
       "      <td>2018-05-25</td>\n",
       "      <td>ultra</td>\n",
       "      <td>1000_0</td>\n",
       "      <td>2018-06-27</td>\n",
       "    </tr>\n",
       "    <tr>\n",
       "      <th>1</th>\n",
       "      <td>1000</td>\n",
       "      <td>52</td>\n",
       "      <td>NaN</td>\n",
       "      <td>Краснодар</td>\n",
       "      <td>Рафаил</td>\n",
       "      <td>Верещагин</td>\n",
       "      <td>2018-05-25</td>\n",
       "      <td>ultra</td>\n",
       "      <td>1000_1</td>\n",
       "      <td>2018-10-08</td>\n",
       "    </tr>\n",
       "    <tr>\n",
       "      <th>2</th>\n",
       "      <td>1000</td>\n",
       "      <td>52</td>\n",
       "      <td>NaN</td>\n",
       "      <td>Краснодар</td>\n",
       "      <td>Рафаил</td>\n",
       "      <td>Верещагин</td>\n",
       "      <td>2018-05-25</td>\n",
       "      <td>ultra</td>\n",
       "      <td>1000_2</td>\n",
       "      <td>2018-08-04</td>\n",
       "    </tr>\n",
       "    <tr>\n",
       "      <th>3</th>\n",
       "      <td>1000</td>\n",
       "      <td>52</td>\n",
       "      <td>NaN</td>\n",
       "      <td>Краснодар</td>\n",
       "      <td>Рафаил</td>\n",
       "      <td>Верещагин</td>\n",
       "      <td>2018-05-25</td>\n",
       "      <td>ultra</td>\n",
       "      <td>1000_3</td>\n",
       "      <td>2018-06-16</td>\n",
       "    </tr>\n",
       "    <tr>\n",
       "      <th>4</th>\n",
       "      <td>1000</td>\n",
       "      <td>52</td>\n",
       "      <td>NaN</td>\n",
       "      <td>Краснодар</td>\n",
       "      <td>Рафаил</td>\n",
       "      <td>Верещагин</td>\n",
       "      <td>2018-05-25</td>\n",
       "      <td>ultra</td>\n",
       "      <td>1000_4</td>\n",
       "      <td>2018-12-05</td>\n",
       "    </tr>\n",
       "  </tbody>\n",
       "</table>\n",
       "</div>"
      ],
      "text/plain": [
       "   user_id  age churn_date       city first_name  last_name    reg_date  \\\n",
       "0     1000   52        NaN  Краснодар     Рафаил  Верещагин  2018-05-25   \n",
       "1     1000   52        NaN  Краснодар     Рафаил  Верещагин  2018-05-25   \n",
       "2     1000   52        NaN  Краснодар     Рафаил  Верещагин  2018-05-25   \n",
       "3     1000   52        NaN  Краснодар     Рафаил  Верещагин  2018-05-25   \n",
       "4     1000   52        NaN  Краснодар     Рафаил  Верещагин  2018-05-25   \n",
       "\n",
       "  tariff      id message_date  \n",
       "0  ultra  1000_0   2018-06-27  \n",
       "1  ultra  1000_1   2018-10-08  \n",
       "2  ultra  1000_2   2018-08-04  \n",
       "3  ultra  1000_3   2018-06-16  \n",
       "4  ultra  1000_4   2018-12-05  "
      ]
     },
     "execution_count": 18,
     "metadata": {},
     "output_type": "execute_result"
    }
   ],
   "source": [
    "df_users_messages = df_users.merge(df_messages, on='user_id', how='left')\n",
    "df_users_messages.head()"
   ]
  },
  {
   "cell_type": "code",
   "execution_count": 19,
   "metadata": {},
   "outputs": [
    {
     "data": {
      "text/plain": [
       "0"
      ]
     },
     "execution_count": 19,
     "metadata": {},
     "output_type": "execute_result"
    }
   ],
   "source": [
    "# Проверим наличие дубликатов методом duplicated().\n",
    "df_users_messages.duplicated().sum()"
   ]
  },
  {
   "cell_type": "code",
   "execution_count": 20,
   "metadata": {},
   "outputs": [
    {
     "data": {
      "text/plain": [
       "74"
      ]
     },
     "execution_count": 20,
     "metadata": {},
     "output_type": "execute_result"
    }
   ],
   "source": [
    "# Смотрим далее. Столбец с пропусками это 'message_date'\n",
    "mess_nan = df_users_messages[df_users_messages['message_date'].isna()]\n",
    "len(mess_nan)"
   ]
  },
  {
   "cell_type": "code",
   "execution_count": 21,
   "metadata": {},
   "outputs": [],
   "source": [
    "# Приводим форму столбца \"message_date\" в понятный вид.\n",
    "df_users_messages['message_date'] = pd.to_datetime(df_users_messages['message_date'], format='%Y-%m-%d')\n",
    "df_users_messages['month'] = df_users_messages['message_date'].dt.month"
   ]
  },
  {
   "cell_type": "markdown",
   "metadata": {},
   "source": [
    "#### Таблица `df_users_internet`"
   ]
  },
  {
   "cell_type": "code",
   "execution_count": 22,
   "metadata": {
    "scrolled": false
   },
   "outputs": [
    {
     "data": {
      "text/html": [
       "<div>\n",
       "<style scoped>\n",
       "    .dataframe tbody tr th:only-of-type {\n",
       "        vertical-align: middle;\n",
       "    }\n",
       "\n",
       "    .dataframe tbody tr th {\n",
       "        vertical-align: top;\n",
       "    }\n",
       "\n",
       "    .dataframe thead th {\n",
       "        text-align: right;\n",
       "    }\n",
       "</style>\n",
       "<table border=\"1\" class=\"dataframe\">\n",
       "  <thead>\n",
       "    <tr style=\"text-align: right;\">\n",
       "      <th></th>\n",
       "      <th>user_id</th>\n",
       "      <th>age</th>\n",
       "      <th>churn_date</th>\n",
       "      <th>city</th>\n",
       "      <th>first_name</th>\n",
       "      <th>last_name</th>\n",
       "      <th>reg_date</th>\n",
       "      <th>tariff</th>\n",
       "      <th>Unnamed: 0</th>\n",
       "      <th>id</th>\n",
       "      <th>mb_used</th>\n",
       "      <th>session_date</th>\n",
       "    </tr>\n",
       "  </thead>\n",
       "  <tbody>\n",
       "    <tr>\n",
       "      <th>0</th>\n",
       "      <td>1000</td>\n",
       "      <td>52</td>\n",
       "      <td>NaN</td>\n",
       "      <td>Краснодар</td>\n",
       "      <td>Рафаил</td>\n",
       "      <td>Верещагин</td>\n",
       "      <td>2018-05-25</td>\n",
       "      <td>ultra</td>\n",
       "      <td>0.0</td>\n",
       "      <td>1000_0</td>\n",
       "      <td>112.95</td>\n",
       "      <td>2018-11-25</td>\n",
       "    </tr>\n",
       "    <tr>\n",
       "      <th>1</th>\n",
       "      <td>1000</td>\n",
       "      <td>52</td>\n",
       "      <td>NaN</td>\n",
       "      <td>Краснодар</td>\n",
       "      <td>Рафаил</td>\n",
       "      <td>Верещагин</td>\n",
       "      <td>2018-05-25</td>\n",
       "      <td>ultra</td>\n",
       "      <td>1.0</td>\n",
       "      <td>1000_1</td>\n",
       "      <td>1052.81</td>\n",
       "      <td>2018-09-07</td>\n",
       "    </tr>\n",
       "    <tr>\n",
       "      <th>2</th>\n",
       "      <td>1000</td>\n",
       "      <td>52</td>\n",
       "      <td>NaN</td>\n",
       "      <td>Краснодар</td>\n",
       "      <td>Рафаил</td>\n",
       "      <td>Верещагин</td>\n",
       "      <td>2018-05-25</td>\n",
       "      <td>ultra</td>\n",
       "      <td>2.0</td>\n",
       "      <td>1000_2</td>\n",
       "      <td>1197.26</td>\n",
       "      <td>2018-06-25</td>\n",
       "    </tr>\n",
       "    <tr>\n",
       "      <th>3</th>\n",
       "      <td>1000</td>\n",
       "      <td>52</td>\n",
       "      <td>NaN</td>\n",
       "      <td>Краснодар</td>\n",
       "      <td>Рафаил</td>\n",
       "      <td>Верещагин</td>\n",
       "      <td>2018-05-25</td>\n",
       "      <td>ultra</td>\n",
       "      <td>3.0</td>\n",
       "      <td>1000_3</td>\n",
       "      <td>550.27</td>\n",
       "      <td>2018-08-22</td>\n",
       "    </tr>\n",
       "    <tr>\n",
       "      <th>4</th>\n",
       "      <td>1000</td>\n",
       "      <td>52</td>\n",
       "      <td>NaN</td>\n",
       "      <td>Краснодар</td>\n",
       "      <td>Рафаил</td>\n",
       "      <td>Верещагин</td>\n",
       "      <td>2018-05-25</td>\n",
       "      <td>ultra</td>\n",
       "      <td>4.0</td>\n",
       "      <td>1000_4</td>\n",
       "      <td>302.56</td>\n",
       "      <td>2018-09-24</td>\n",
       "    </tr>\n",
       "  </tbody>\n",
       "</table>\n",
       "</div>"
      ],
      "text/plain": [
       "   user_id  age churn_date       city first_name  last_name    reg_date  \\\n",
       "0     1000   52        NaN  Краснодар     Рафаил  Верещагин  2018-05-25   \n",
       "1     1000   52        NaN  Краснодар     Рафаил  Верещагин  2018-05-25   \n",
       "2     1000   52        NaN  Краснодар     Рафаил  Верещагин  2018-05-25   \n",
       "3     1000   52        NaN  Краснодар     Рафаил  Верещагин  2018-05-25   \n",
       "4     1000   52        NaN  Краснодар     Рафаил  Верещагин  2018-05-25   \n",
       "\n",
       "  tariff  Unnamed: 0      id  mb_used session_date  \n",
       "0  ultra         0.0  1000_0   112.95   2018-11-25  \n",
       "1  ultra         1.0  1000_1  1052.81   2018-09-07  \n",
       "2  ultra         2.0  1000_2  1197.26   2018-06-25  \n",
       "3  ultra         3.0  1000_3   550.27   2018-08-22  \n",
       "4  ultra         4.0  1000_4   302.56   2018-09-24  "
      ]
     },
     "execution_count": 22,
     "metadata": {},
     "output_type": "execute_result"
    }
   ],
   "source": [
    "df_users_internet = df_users.merge(df_internet, on='user_id', how='left')\n",
    "df_users_internet.head()"
   ]
  },
  {
   "cell_type": "code",
   "execution_count": 23,
   "metadata": {},
   "outputs": [
    {
     "data": {
      "text/plain": [
       "0"
      ]
     },
     "execution_count": 23,
     "metadata": {},
     "output_type": "execute_result"
    }
   ],
   "source": [
    "# Проверим наличие дубликатов методом duplicated().\n",
    "df_users_internet.duplicated().sum()"
   ]
  },
  {
   "cell_type": "code",
   "execution_count": 24,
   "metadata": {},
   "outputs": [],
   "source": [
    "# Приводим форма столбца \"message_date\" в понятный вид.\n",
    "df_users_internet['session_date'] = pd.to_datetime(df_users_internet['session_date'], format='%Y-%m-%d')\n",
    "df_users_internet['month'] = df_users_internet['session_date'].dt.month"
   ]
  },
  {
   "cell_type": "markdown",
   "metadata": {},
   "source": [
    "## Расчёты и добавление результатов в таблицу"
   ]
  },
  {
   "cell_type": "markdown",
   "metadata": {},
   "source": [
    "### Найдем количество сделанных звонков и израсходованных минут разговора по месяцам для каждого пользователя:"
   ]
  },
  {
   "cell_type": "code",
   "execution_count": 25,
   "metadata": {
    "scrolled": true
   },
   "outputs": [
    {
     "data": {
      "text/html": [
       "<div>\n",
       "<style scoped>\n",
       "    .dataframe tbody tr th:only-of-type {\n",
       "        vertical-align: middle;\n",
       "    }\n",
       "\n",
       "    .dataframe tbody tr th {\n",
       "        vertical-align: top;\n",
       "    }\n",
       "\n",
       "    .dataframe thead th {\n",
       "        text-align: right;\n",
       "    }\n",
       "</style>\n",
       "<table border=\"1\" class=\"dataframe\">\n",
       "  <thead>\n",
       "    <tr style=\"text-align: right;\">\n",
       "      <th></th>\n",
       "      <th>user_id</th>\n",
       "      <th>age</th>\n",
       "      <th>churn_date</th>\n",
       "      <th>city</th>\n",
       "      <th>first_name</th>\n",
       "      <th>last_name</th>\n",
       "      <th>reg_date</th>\n",
       "      <th>tariff</th>\n",
       "      <th>id</th>\n",
       "      <th>call_date</th>\n",
       "      <th>duration</th>\n",
       "      <th>month</th>\n",
       "    </tr>\n",
       "  </thead>\n",
       "  <tbody>\n",
       "    <tr>\n",
       "      <th>0</th>\n",
       "      <td>1000</td>\n",
       "      <td>52</td>\n",
       "      <td>NaN</td>\n",
       "      <td>Краснодар</td>\n",
       "      <td>Рафаил</td>\n",
       "      <td>Верещагин</td>\n",
       "      <td>2018-05-25</td>\n",
       "      <td>ultra</td>\n",
       "      <td>1000_0</td>\n",
       "      <td>2018-07-25</td>\n",
       "      <td>0.0</td>\n",
       "      <td>7.0</td>\n",
       "    </tr>\n",
       "    <tr>\n",
       "      <th>1</th>\n",
       "      <td>1000</td>\n",
       "      <td>52</td>\n",
       "      <td>NaN</td>\n",
       "      <td>Краснодар</td>\n",
       "      <td>Рафаил</td>\n",
       "      <td>Верещагин</td>\n",
       "      <td>2018-05-25</td>\n",
       "      <td>ultra</td>\n",
       "      <td>1000_1</td>\n",
       "      <td>2018-08-17</td>\n",
       "      <td>0.0</td>\n",
       "      <td>8.0</td>\n",
       "    </tr>\n",
       "    <tr>\n",
       "      <th>2</th>\n",
       "      <td>1000</td>\n",
       "      <td>52</td>\n",
       "      <td>NaN</td>\n",
       "      <td>Краснодар</td>\n",
       "      <td>Рафаил</td>\n",
       "      <td>Верещагин</td>\n",
       "      <td>2018-05-25</td>\n",
       "      <td>ultra</td>\n",
       "      <td>1000_2</td>\n",
       "      <td>2018-06-11</td>\n",
       "      <td>3.0</td>\n",
       "      <td>6.0</td>\n",
       "    </tr>\n",
       "    <tr>\n",
       "      <th>3</th>\n",
       "      <td>1000</td>\n",
       "      <td>52</td>\n",
       "      <td>NaN</td>\n",
       "      <td>Краснодар</td>\n",
       "      <td>Рафаил</td>\n",
       "      <td>Верещагин</td>\n",
       "      <td>2018-05-25</td>\n",
       "      <td>ultra</td>\n",
       "      <td>1000_3</td>\n",
       "      <td>2018-09-21</td>\n",
       "      <td>14.0</td>\n",
       "      <td>9.0</td>\n",
       "    </tr>\n",
       "    <tr>\n",
       "      <th>4</th>\n",
       "      <td>1000</td>\n",
       "      <td>52</td>\n",
       "      <td>NaN</td>\n",
       "      <td>Краснодар</td>\n",
       "      <td>Рафаил</td>\n",
       "      <td>Верещагин</td>\n",
       "      <td>2018-05-25</td>\n",
       "      <td>ultra</td>\n",
       "      <td>1000_4</td>\n",
       "      <td>2018-12-15</td>\n",
       "      <td>6.0</td>\n",
       "      <td>12.0</td>\n",
       "    </tr>\n",
       "  </tbody>\n",
       "</table>\n",
       "</div>"
      ],
      "text/plain": [
       "   user_id  age churn_date       city first_name  last_name   reg_date tariff  \\\n",
       "0     1000   52        NaN  Краснодар     Рафаил  Верещагин 2018-05-25  ultra   \n",
       "1     1000   52        NaN  Краснодар     Рафаил  Верещагин 2018-05-25  ultra   \n",
       "2     1000   52        NaN  Краснодар     Рафаил  Верещагин 2018-05-25  ultra   \n",
       "3     1000   52        NaN  Краснодар     Рафаил  Верещагин 2018-05-25  ultra   \n",
       "4     1000   52        NaN  Краснодар     Рафаил  Верещагин 2018-05-25  ultra   \n",
       "\n",
       "       id  call_date  duration  month  \n",
       "0  1000_0 2018-07-25       0.0    7.0  \n",
       "1  1000_1 2018-08-17       0.0    8.0  \n",
       "2  1000_2 2018-06-11       3.0    6.0  \n",
       "3  1000_3 2018-09-21      14.0    9.0  \n",
       "4  1000_4 2018-12-15       6.0   12.0  "
      ]
     },
     "execution_count": 25,
     "metadata": {},
     "output_type": "execute_result"
    }
   ],
   "source": [
    "df_users_calls.head()"
   ]
  },
  {
   "cell_type": "code",
   "execution_count": 26,
   "metadata": {
    "scrolled": false
   },
   "outputs": [
    {
     "data": {
      "text/html": [
       "<div>\n",
       "<style scoped>\n",
       "    .dataframe tbody tr th:only-of-type {\n",
       "        vertical-align: middle;\n",
       "    }\n",
       "\n",
       "    .dataframe tbody tr th {\n",
       "        vertical-align: top;\n",
       "    }\n",
       "\n",
       "    .dataframe thead th {\n",
       "        text-align: right;\n",
       "    }\n",
       "</style>\n",
       "<table border=\"1\" class=\"dataframe\">\n",
       "  <thead>\n",
       "    <tr style=\"text-align: right;\">\n",
       "      <th></th>\n",
       "      <th></th>\n",
       "      <th></th>\n",
       "      <th></th>\n",
       "      <th>calls_count</th>\n",
       "      <th>calls_sum</th>\n",
       "    </tr>\n",
       "    <tr>\n",
       "      <th>user_id</th>\n",
       "      <th>city</th>\n",
       "      <th>month</th>\n",
       "      <th>tariff</th>\n",
       "      <th></th>\n",
       "      <th></th>\n",
       "    </tr>\n",
       "  </thead>\n",
       "  <tbody>\n",
       "    <tr>\n",
       "      <th rowspan=\"5\" valign=\"top\">1000</th>\n",
       "      <th rowspan=\"5\" valign=\"top\">Краснодар</th>\n",
       "      <th>5.0</th>\n",
       "      <th>ultra</th>\n",
       "      <td>22</td>\n",
       "      <td>159.0</td>\n",
       "    </tr>\n",
       "    <tr>\n",
       "      <th>6.0</th>\n",
       "      <th>ultra</th>\n",
       "      <td>43</td>\n",
       "      <td>172.0</td>\n",
       "    </tr>\n",
       "    <tr>\n",
       "      <th>7.0</th>\n",
       "      <th>ultra</th>\n",
       "      <td>47</td>\n",
       "      <td>340.0</td>\n",
       "    </tr>\n",
       "    <tr>\n",
       "      <th>8.0</th>\n",
       "      <th>ultra</th>\n",
       "      <td>52</td>\n",
       "      <td>408.0</td>\n",
       "    </tr>\n",
       "    <tr>\n",
       "      <th>9.0</th>\n",
       "      <th>ultra</th>\n",
       "      <td>58</td>\n",
       "      <td>466.0</td>\n",
       "    </tr>\n",
       "  </tbody>\n",
       "</table>\n",
       "</div>"
      ],
      "text/plain": [
       "                                calls_count  calls_sum\n",
       "user_id city      month tariff                        \n",
       "1000    Краснодар 5.0   ultra            22      159.0\n",
       "                  6.0   ultra            43      172.0\n",
       "                  7.0   ultra            47      340.0\n",
       "                  8.0   ultra            52      408.0\n",
       "                  9.0   ultra            58      466.0"
      ]
     },
     "execution_count": 26,
     "metadata": {},
     "output_type": "execute_result"
    }
   ],
   "source": [
    "calls_pivot = df_users_calls.pivot_table(index= ['user_id', 'city', 'month', 'tariff'], \n",
    "                                         values= ['duration','call_date'], \n",
    "                                         aggfunc={'duration':sum, 'call_date':'count'})\n",
    "calls_pivot.columns = 'calls_count','calls_sum'\n",
    "calls_pivot.head()"
   ]
  },
  {
   "cell_type": "markdown",
   "metadata": {},
   "source": [
    "### Найдем количество отправленных сообщений по месяцам для каждого пользователя."
   ]
  },
  {
   "cell_type": "code",
   "execution_count": 27,
   "metadata": {},
   "outputs": [
    {
     "data": {
      "text/html": [
       "<div>\n",
       "<style scoped>\n",
       "    .dataframe tbody tr th:only-of-type {\n",
       "        vertical-align: middle;\n",
       "    }\n",
       "\n",
       "    .dataframe tbody tr th {\n",
       "        vertical-align: top;\n",
       "    }\n",
       "\n",
       "    .dataframe thead th {\n",
       "        text-align: right;\n",
       "    }\n",
       "</style>\n",
       "<table border=\"1\" class=\"dataframe\">\n",
       "  <thead>\n",
       "    <tr style=\"text-align: right;\">\n",
       "      <th></th>\n",
       "      <th>user_id</th>\n",
       "      <th>age</th>\n",
       "      <th>churn_date</th>\n",
       "      <th>city</th>\n",
       "      <th>first_name</th>\n",
       "      <th>last_name</th>\n",
       "      <th>reg_date</th>\n",
       "      <th>tariff</th>\n",
       "      <th>id</th>\n",
       "      <th>message_date</th>\n",
       "      <th>month</th>\n",
       "    </tr>\n",
       "  </thead>\n",
       "  <tbody>\n",
       "    <tr>\n",
       "      <th>0</th>\n",
       "      <td>1000</td>\n",
       "      <td>52</td>\n",
       "      <td>NaN</td>\n",
       "      <td>Краснодар</td>\n",
       "      <td>Рафаил</td>\n",
       "      <td>Верещагин</td>\n",
       "      <td>2018-05-25</td>\n",
       "      <td>ultra</td>\n",
       "      <td>1000_0</td>\n",
       "      <td>2018-06-27</td>\n",
       "      <td>6.0</td>\n",
       "    </tr>\n",
       "    <tr>\n",
       "      <th>1</th>\n",
       "      <td>1000</td>\n",
       "      <td>52</td>\n",
       "      <td>NaN</td>\n",
       "      <td>Краснодар</td>\n",
       "      <td>Рафаил</td>\n",
       "      <td>Верещагин</td>\n",
       "      <td>2018-05-25</td>\n",
       "      <td>ultra</td>\n",
       "      <td>1000_1</td>\n",
       "      <td>2018-10-08</td>\n",
       "      <td>10.0</td>\n",
       "    </tr>\n",
       "    <tr>\n",
       "      <th>2</th>\n",
       "      <td>1000</td>\n",
       "      <td>52</td>\n",
       "      <td>NaN</td>\n",
       "      <td>Краснодар</td>\n",
       "      <td>Рафаил</td>\n",
       "      <td>Верещагин</td>\n",
       "      <td>2018-05-25</td>\n",
       "      <td>ultra</td>\n",
       "      <td>1000_2</td>\n",
       "      <td>2018-08-04</td>\n",
       "      <td>8.0</td>\n",
       "    </tr>\n",
       "    <tr>\n",
       "      <th>3</th>\n",
       "      <td>1000</td>\n",
       "      <td>52</td>\n",
       "      <td>NaN</td>\n",
       "      <td>Краснодар</td>\n",
       "      <td>Рафаил</td>\n",
       "      <td>Верещагин</td>\n",
       "      <td>2018-05-25</td>\n",
       "      <td>ultra</td>\n",
       "      <td>1000_3</td>\n",
       "      <td>2018-06-16</td>\n",
       "      <td>6.0</td>\n",
       "    </tr>\n",
       "    <tr>\n",
       "      <th>4</th>\n",
       "      <td>1000</td>\n",
       "      <td>52</td>\n",
       "      <td>NaN</td>\n",
       "      <td>Краснодар</td>\n",
       "      <td>Рафаил</td>\n",
       "      <td>Верещагин</td>\n",
       "      <td>2018-05-25</td>\n",
       "      <td>ultra</td>\n",
       "      <td>1000_4</td>\n",
       "      <td>2018-12-05</td>\n",
       "      <td>12.0</td>\n",
       "    </tr>\n",
       "  </tbody>\n",
       "</table>\n",
       "</div>"
      ],
      "text/plain": [
       "   user_id  age churn_date       city first_name  last_name    reg_date  \\\n",
       "0     1000   52        NaN  Краснодар     Рафаил  Верещагин  2018-05-25   \n",
       "1     1000   52        NaN  Краснодар     Рафаил  Верещагин  2018-05-25   \n",
       "2     1000   52        NaN  Краснодар     Рафаил  Верещагин  2018-05-25   \n",
       "3     1000   52        NaN  Краснодар     Рафаил  Верещагин  2018-05-25   \n",
       "4     1000   52        NaN  Краснодар     Рафаил  Верещагин  2018-05-25   \n",
       "\n",
       "  tariff      id message_date  month  \n",
       "0  ultra  1000_0   2018-06-27    6.0  \n",
       "1  ultra  1000_1   2018-10-08   10.0  \n",
       "2  ultra  1000_2   2018-08-04    8.0  \n",
       "3  ultra  1000_3   2018-06-16    6.0  \n",
       "4  ultra  1000_4   2018-12-05   12.0  "
      ]
     },
     "execution_count": 27,
     "metadata": {},
     "output_type": "execute_result"
    }
   ],
   "source": [
    "df_users_messages.head()"
   ]
  },
  {
   "cell_type": "code",
   "execution_count": 28,
   "metadata": {},
   "outputs": [
    {
     "data": {
      "text/html": [
       "<div>\n",
       "<style scoped>\n",
       "    .dataframe tbody tr th:only-of-type {\n",
       "        vertical-align: middle;\n",
       "    }\n",
       "\n",
       "    .dataframe tbody tr th {\n",
       "        vertical-align: top;\n",
       "    }\n",
       "\n",
       "    .dataframe thead th {\n",
       "        text-align: right;\n",
       "    }\n",
       "</style>\n",
       "<table border=\"1\" class=\"dataframe\">\n",
       "  <thead>\n",
       "    <tr style=\"text-align: right;\">\n",
       "      <th></th>\n",
       "      <th></th>\n",
       "      <th></th>\n",
       "      <th></th>\n",
       "      <th>messages_count</th>\n",
       "    </tr>\n",
       "    <tr>\n",
       "      <th>user_id</th>\n",
       "      <th>city</th>\n",
       "      <th>month</th>\n",
       "      <th>tariff</th>\n",
       "      <th></th>\n",
       "    </tr>\n",
       "  </thead>\n",
       "  <tbody>\n",
       "    <tr>\n",
       "      <th rowspan=\"5\" valign=\"top\">1000</th>\n",
       "      <th rowspan=\"5\" valign=\"top\">Краснодар</th>\n",
       "      <th>5.0</th>\n",
       "      <th>ultra</th>\n",
       "      <td>22</td>\n",
       "    </tr>\n",
       "    <tr>\n",
       "      <th>6.0</th>\n",
       "      <th>ultra</th>\n",
       "      <td>60</td>\n",
       "    </tr>\n",
       "    <tr>\n",
       "      <th>7.0</th>\n",
       "      <th>ultra</th>\n",
       "      <td>75</td>\n",
       "    </tr>\n",
       "    <tr>\n",
       "      <th>8.0</th>\n",
       "      <th>ultra</th>\n",
       "      <td>81</td>\n",
       "    </tr>\n",
       "    <tr>\n",
       "      <th>9.0</th>\n",
       "      <th>ultra</th>\n",
       "      <td>57</td>\n",
       "    </tr>\n",
       "  </tbody>\n",
       "</table>\n",
       "</div>"
      ],
      "text/plain": [
       "                                messages_count\n",
       "user_id city      month tariff                \n",
       "1000    Краснодар 5.0   ultra               22\n",
       "                  6.0   ultra               60\n",
       "                  7.0   ultra               75\n",
       "                  8.0   ultra               81\n",
       "                  9.0   ultra               57"
      ]
     },
     "execution_count": 28,
     "metadata": {},
     "output_type": "execute_result"
    }
   ],
   "source": [
    "messages_pivot = df_users_messages.pivot_table(index= ['user_id', 'city', 'month', 'tariff'], \n",
    "                                               values= 'id', aggfunc= 'count')\n",
    "messages_pivot.columns = ['messages_count']\n",
    "messages_pivot.head()"
   ]
  },
  {
   "cell_type": "markdown",
   "metadata": {},
   "source": [
    "### Найдем объем израсходованного интернет-трафика по месяцам для каждого пользователя."
   ]
  },
  {
   "cell_type": "code",
   "execution_count": 29,
   "metadata": {},
   "outputs": [
    {
     "data": {
      "text/html": [
       "<div>\n",
       "<style scoped>\n",
       "    .dataframe tbody tr th:only-of-type {\n",
       "        vertical-align: middle;\n",
       "    }\n",
       "\n",
       "    .dataframe tbody tr th {\n",
       "        vertical-align: top;\n",
       "    }\n",
       "\n",
       "    .dataframe thead th {\n",
       "        text-align: right;\n",
       "    }\n",
       "</style>\n",
       "<table border=\"1\" class=\"dataframe\">\n",
       "  <thead>\n",
       "    <tr style=\"text-align: right;\">\n",
       "      <th></th>\n",
       "      <th>user_id</th>\n",
       "      <th>age</th>\n",
       "      <th>churn_date</th>\n",
       "      <th>city</th>\n",
       "      <th>first_name</th>\n",
       "      <th>last_name</th>\n",
       "      <th>reg_date</th>\n",
       "      <th>tariff</th>\n",
       "      <th>Unnamed: 0</th>\n",
       "      <th>id</th>\n",
       "      <th>mb_used</th>\n",
       "      <th>session_date</th>\n",
       "      <th>month</th>\n",
       "    </tr>\n",
       "  </thead>\n",
       "  <tbody>\n",
       "    <tr>\n",
       "      <th>0</th>\n",
       "      <td>1000</td>\n",
       "      <td>52</td>\n",
       "      <td>NaN</td>\n",
       "      <td>Краснодар</td>\n",
       "      <td>Рафаил</td>\n",
       "      <td>Верещагин</td>\n",
       "      <td>2018-05-25</td>\n",
       "      <td>ultra</td>\n",
       "      <td>0.0</td>\n",
       "      <td>1000_0</td>\n",
       "      <td>112.95</td>\n",
       "      <td>2018-11-25</td>\n",
       "      <td>11.0</td>\n",
       "    </tr>\n",
       "    <tr>\n",
       "      <th>1</th>\n",
       "      <td>1000</td>\n",
       "      <td>52</td>\n",
       "      <td>NaN</td>\n",
       "      <td>Краснодар</td>\n",
       "      <td>Рафаил</td>\n",
       "      <td>Верещагин</td>\n",
       "      <td>2018-05-25</td>\n",
       "      <td>ultra</td>\n",
       "      <td>1.0</td>\n",
       "      <td>1000_1</td>\n",
       "      <td>1052.81</td>\n",
       "      <td>2018-09-07</td>\n",
       "      <td>9.0</td>\n",
       "    </tr>\n",
       "    <tr>\n",
       "      <th>2</th>\n",
       "      <td>1000</td>\n",
       "      <td>52</td>\n",
       "      <td>NaN</td>\n",
       "      <td>Краснодар</td>\n",
       "      <td>Рафаил</td>\n",
       "      <td>Верещагин</td>\n",
       "      <td>2018-05-25</td>\n",
       "      <td>ultra</td>\n",
       "      <td>2.0</td>\n",
       "      <td>1000_2</td>\n",
       "      <td>1197.26</td>\n",
       "      <td>2018-06-25</td>\n",
       "      <td>6.0</td>\n",
       "    </tr>\n",
       "    <tr>\n",
       "      <th>3</th>\n",
       "      <td>1000</td>\n",
       "      <td>52</td>\n",
       "      <td>NaN</td>\n",
       "      <td>Краснодар</td>\n",
       "      <td>Рафаил</td>\n",
       "      <td>Верещагин</td>\n",
       "      <td>2018-05-25</td>\n",
       "      <td>ultra</td>\n",
       "      <td>3.0</td>\n",
       "      <td>1000_3</td>\n",
       "      <td>550.27</td>\n",
       "      <td>2018-08-22</td>\n",
       "      <td>8.0</td>\n",
       "    </tr>\n",
       "    <tr>\n",
       "      <th>4</th>\n",
       "      <td>1000</td>\n",
       "      <td>52</td>\n",
       "      <td>NaN</td>\n",
       "      <td>Краснодар</td>\n",
       "      <td>Рафаил</td>\n",
       "      <td>Верещагин</td>\n",
       "      <td>2018-05-25</td>\n",
       "      <td>ultra</td>\n",
       "      <td>4.0</td>\n",
       "      <td>1000_4</td>\n",
       "      <td>302.56</td>\n",
       "      <td>2018-09-24</td>\n",
       "      <td>9.0</td>\n",
       "    </tr>\n",
       "  </tbody>\n",
       "</table>\n",
       "</div>"
      ],
      "text/plain": [
       "   user_id  age churn_date       city first_name  last_name    reg_date  \\\n",
       "0     1000   52        NaN  Краснодар     Рафаил  Верещагин  2018-05-25   \n",
       "1     1000   52        NaN  Краснодар     Рафаил  Верещагин  2018-05-25   \n",
       "2     1000   52        NaN  Краснодар     Рафаил  Верещагин  2018-05-25   \n",
       "3     1000   52        NaN  Краснодар     Рафаил  Верещагин  2018-05-25   \n",
       "4     1000   52        NaN  Краснодар     Рафаил  Верещагин  2018-05-25   \n",
       "\n",
       "  tariff  Unnamed: 0      id  mb_used session_date  month  \n",
       "0  ultra         0.0  1000_0   112.95   2018-11-25   11.0  \n",
       "1  ultra         1.0  1000_1  1052.81   2018-09-07    9.0  \n",
       "2  ultra         2.0  1000_2  1197.26   2018-06-25    6.0  \n",
       "3  ultra         3.0  1000_3   550.27   2018-08-22    8.0  \n",
       "4  ultra         4.0  1000_4   302.56   2018-09-24    9.0  "
      ]
     },
     "execution_count": 29,
     "metadata": {},
     "output_type": "execute_result"
    }
   ],
   "source": [
    "df_users_internet.head()"
   ]
  },
  {
   "cell_type": "code",
   "execution_count": 30,
   "metadata": {},
   "outputs": [
    {
     "data": {
      "text/html": [
       "<div>\n",
       "<style scoped>\n",
       "    .dataframe tbody tr th:only-of-type {\n",
       "        vertical-align: middle;\n",
       "    }\n",
       "\n",
       "    .dataframe tbody tr th {\n",
       "        vertical-align: top;\n",
       "    }\n",
       "\n",
       "    .dataframe thead th {\n",
       "        text-align: right;\n",
       "    }\n",
       "</style>\n",
       "<table border=\"1\" class=\"dataframe\">\n",
       "  <thead>\n",
       "    <tr style=\"text-align: right;\">\n",
       "      <th></th>\n",
       "      <th></th>\n",
       "      <th></th>\n",
       "      <th></th>\n",
       "      <th>mb_internet_sum</th>\n",
       "    </tr>\n",
       "    <tr>\n",
       "      <th>user_id</th>\n",
       "      <th>city</th>\n",
       "      <th>month</th>\n",
       "      <th>tariff</th>\n",
       "      <th></th>\n",
       "    </tr>\n",
       "  </thead>\n",
       "  <tbody>\n",
       "    <tr>\n",
       "      <th rowspan=\"5\" valign=\"top\">1000</th>\n",
       "      <th rowspan=\"5\" valign=\"top\">Краснодар</th>\n",
       "      <th>5.0</th>\n",
       "      <th>ultra</th>\n",
       "      <td>2253.49</td>\n",
       "    </tr>\n",
       "    <tr>\n",
       "      <th>6.0</th>\n",
       "      <th>ultra</th>\n",
       "      <td>23233.77</td>\n",
       "    </tr>\n",
       "    <tr>\n",
       "      <th>7.0</th>\n",
       "      <th>ultra</th>\n",
       "      <td>14003.64</td>\n",
       "    </tr>\n",
       "    <tr>\n",
       "      <th>8.0</th>\n",
       "      <th>ultra</th>\n",
       "      <td>14055.93</td>\n",
       "    </tr>\n",
       "    <tr>\n",
       "      <th>9.0</th>\n",
       "      <th>ultra</th>\n",
       "      <td>14568.91</td>\n",
       "    </tr>\n",
       "  </tbody>\n",
       "</table>\n",
       "</div>"
      ],
      "text/plain": [
       "                                mb_internet_sum\n",
       "user_id city      month tariff                 \n",
       "1000    Краснодар 5.0   ultra           2253.49\n",
       "                  6.0   ultra          23233.77\n",
       "                  7.0   ultra          14003.64\n",
       "                  8.0   ultra          14055.93\n",
       "                  9.0   ultra          14568.91"
      ]
     },
     "execution_count": 30,
     "metadata": {},
     "output_type": "execute_result"
    }
   ],
   "source": [
    "internet_pivot = df_users_internet.pivot_table(index= ['user_id', 'city', 'month', 'tariff'], \n",
    "                                               values= 'mb_used', aggfunc= 'sum')\n",
    "internet_pivot.columns = ['mb_internet_sum']\n",
    "internet_pivot.head()"
   ]
  },
  {
   "cell_type": "code",
   "execution_count": 31,
   "metadata": {},
   "outputs": [],
   "source": [
    "internet_pivot['gb_internet_sum'] = (internet_pivot['mb_internet_sum'] / 1024).apply(math.ceil)"
   ]
  },
  {
   "cell_type": "code",
   "execution_count": 32,
   "metadata": {},
   "outputs": [
    {
     "data": {
      "text/html": [
       "<div>\n",
       "<style scoped>\n",
       "    .dataframe tbody tr th:only-of-type {\n",
       "        vertical-align: middle;\n",
       "    }\n",
       "\n",
       "    .dataframe tbody tr th {\n",
       "        vertical-align: top;\n",
       "    }\n",
       "\n",
       "    .dataframe thead th {\n",
       "        text-align: right;\n",
       "    }\n",
       "</style>\n",
       "<table border=\"1\" class=\"dataframe\">\n",
       "  <thead>\n",
       "    <tr style=\"text-align: right;\">\n",
       "      <th></th>\n",
       "      <th></th>\n",
       "      <th></th>\n",
       "      <th></th>\n",
       "      <th>mb_internet_sum</th>\n",
       "      <th>gb_internet_sum</th>\n",
       "    </tr>\n",
       "    <tr>\n",
       "      <th>user_id</th>\n",
       "      <th>city</th>\n",
       "      <th>month</th>\n",
       "      <th>tariff</th>\n",
       "      <th></th>\n",
       "      <th></th>\n",
       "    </tr>\n",
       "  </thead>\n",
       "  <tbody>\n",
       "    <tr>\n",
       "      <th rowspan=\"5\" valign=\"top\">1000</th>\n",
       "      <th rowspan=\"5\" valign=\"top\">Краснодар</th>\n",
       "      <th>5.0</th>\n",
       "      <th>ultra</th>\n",
       "      <td>2253.49</td>\n",
       "      <td>3</td>\n",
       "    </tr>\n",
       "    <tr>\n",
       "      <th>6.0</th>\n",
       "      <th>ultra</th>\n",
       "      <td>23233.77</td>\n",
       "      <td>23</td>\n",
       "    </tr>\n",
       "    <tr>\n",
       "      <th>7.0</th>\n",
       "      <th>ultra</th>\n",
       "      <td>14003.64</td>\n",
       "      <td>14</td>\n",
       "    </tr>\n",
       "    <tr>\n",
       "      <th>8.0</th>\n",
       "      <th>ultra</th>\n",
       "      <td>14055.93</td>\n",
       "      <td>14</td>\n",
       "    </tr>\n",
       "    <tr>\n",
       "      <th>9.0</th>\n",
       "      <th>ultra</th>\n",
       "      <td>14568.91</td>\n",
       "      <td>15</td>\n",
       "    </tr>\n",
       "  </tbody>\n",
       "</table>\n",
       "</div>"
      ],
      "text/plain": [
       "                                mb_internet_sum  gb_internet_sum\n",
       "user_id city      month tariff                                  \n",
       "1000    Краснодар 5.0   ultra           2253.49                3\n",
       "                  6.0   ultra          23233.77               23\n",
       "                  7.0   ultra          14003.64               14\n",
       "                  8.0   ultra          14055.93               14\n",
       "                  9.0   ultra          14568.91               15"
      ]
     },
     "execution_count": 32,
     "metadata": {},
     "output_type": "execute_result"
    }
   ],
   "source": [
    "internet_pivot.head()"
   ]
  },
  {
   "cell_type": "markdown",
   "metadata": {},
   "source": [
    "### Cоеденим данным таблицы в одно целое."
   ]
  },
  {
   "cell_type": "code",
   "execution_count": 33,
   "metadata": {
    "scrolled": true
   },
   "outputs": [
    {
     "data": {
      "text/html": [
       "<div>\n",
       "<style scoped>\n",
       "    .dataframe tbody tr th:only-of-type {\n",
       "        vertical-align: middle;\n",
       "    }\n",
       "\n",
       "    .dataframe tbody tr th {\n",
       "        vertical-align: top;\n",
       "    }\n",
       "\n",
       "    .dataframe thead th {\n",
       "        text-align: right;\n",
       "    }\n",
       "</style>\n",
       "<table border=\"1\" class=\"dataframe\">\n",
       "  <thead>\n",
       "    <tr style=\"text-align: right;\">\n",
       "      <th></th>\n",
       "      <th></th>\n",
       "      <th></th>\n",
       "      <th></th>\n",
       "      <th>calls_count</th>\n",
       "      <th>calls_sum</th>\n",
       "      <th>mb_internet_sum</th>\n",
       "      <th>gb_internet_sum</th>\n",
       "      <th>messages_count</th>\n",
       "    </tr>\n",
       "    <tr>\n",
       "      <th>user_id</th>\n",
       "      <th>city</th>\n",
       "      <th>month</th>\n",
       "      <th>tariff</th>\n",
       "      <th></th>\n",
       "      <th></th>\n",
       "      <th></th>\n",
       "      <th></th>\n",
       "      <th></th>\n",
       "    </tr>\n",
       "  </thead>\n",
       "  <tbody>\n",
       "    <tr>\n",
       "      <th rowspan=\"5\" valign=\"top\">1000</th>\n",
       "      <th rowspan=\"5\" valign=\"top\">Краснодар</th>\n",
       "      <th>5.0</th>\n",
       "      <th>ultra</th>\n",
       "      <td>22.0</td>\n",
       "      <td>159.0</td>\n",
       "      <td>2253.49</td>\n",
       "      <td>3.0</td>\n",
       "      <td>22.0</td>\n",
       "    </tr>\n",
       "    <tr>\n",
       "      <th>6.0</th>\n",
       "      <th>ultra</th>\n",
       "      <td>43.0</td>\n",
       "      <td>172.0</td>\n",
       "      <td>23233.77</td>\n",
       "      <td>23.0</td>\n",
       "      <td>60.0</td>\n",
       "    </tr>\n",
       "    <tr>\n",
       "      <th>7.0</th>\n",
       "      <th>ultra</th>\n",
       "      <td>47.0</td>\n",
       "      <td>340.0</td>\n",
       "      <td>14003.64</td>\n",
       "      <td>14.0</td>\n",
       "      <td>75.0</td>\n",
       "    </tr>\n",
       "    <tr>\n",
       "      <th>8.0</th>\n",
       "      <th>ultra</th>\n",
       "      <td>52.0</td>\n",
       "      <td>408.0</td>\n",
       "      <td>14055.93</td>\n",
       "      <td>14.0</td>\n",
       "      <td>81.0</td>\n",
       "    </tr>\n",
       "    <tr>\n",
       "      <th>9.0</th>\n",
       "      <th>ultra</th>\n",
       "      <td>58.0</td>\n",
       "      <td>466.0</td>\n",
       "      <td>14568.91</td>\n",
       "      <td>15.0</td>\n",
       "      <td>57.0</td>\n",
       "    </tr>\n",
       "  </tbody>\n",
       "</table>\n",
       "</div>"
      ],
      "text/plain": [
       "                                calls_count  calls_sum  mb_internet_sum  \\\n",
       "user_id city      month tariff                                            \n",
       "1000    Краснодар 5.0   ultra          22.0      159.0          2253.49   \n",
       "                  6.0   ultra          43.0      172.0         23233.77   \n",
       "                  7.0   ultra          47.0      340.0         14003.64   \n",
       "                  8.0   ultra          52.0      408.0         14055.93   \n",
       "                  9.0   ultra          58.0      466.0         14568.91   \n",
       "\n",
       "                                gb_internet_sum  messages_count  \n",
       "user_id city      month tariff                                   \n",
       "1000    Краснодар 5.0   ultra               3.0            22.0  \n",
       "                  6.0   ultra              23.0            60.0  \n",
       "                  7.0   ultra              14.0            75.0  \n",
       "                  8.0   ultra              14.0            81.0  \n",
       "                  9.0   ultra              15.0            57.0  "
      ]
     },
     "execution_count": 33,
     "metadata": {},
     "output_type": "execute_result"
    }
   ],
   "source": [
    "general_table = pd.concat([calls_pivot, internet_pivot, messages_pivot], sort=True, axis=1)\n",
    "general_table.head()"
   ]
  },
  {
   "cell_type": "code",
   "execution_count": 34,
   "metadata": {},
   "outputs": [],
   "source": [
    "general_table = general_table.reset_index()"
   ]
  },
  {
   "cell_type": "code",
   "execution_count": 35,
   "metadata": {},
   "outputs": [
    {
     "data": {
      "text/plain": [
       "497"
      ]
     },
     "execution_count": 35,
     "metadata": {},
     "output_type": "execute_result"
    }
   ],
   "source": [
    "mess_count_nan = general_table[general_table['messages_count'].isna()]\n",
    "len(mess_count_nan)"
   ]
  },
  {
   "cell_type": "code",
   "execution_count": 36,
   "metadata": {},
   "outputs": [],
   "source": [
    "# Пропущеные значения в столбце messages_count предлагаю заменить на 0, что означает, смс не отправлялись.\n",
    "general_table['messages_count'] = general_table['messages_count'].fillna(0)"
   ]
  },
  {
   "cell_type": "markdown",
   "metadata": {},
   "source": [
    "### Найдем помесячную выручку с каждого пользователя."
   ]
  },
  {
   "cell_type": "code",
   "execution_count": 37,
   "metadata": {
    "scrolled": true
   },
   "outputs": [
    {
     "data": {
      "text/html": [
       "<div>\n",
       "<style scoped>\n",
       "    .dataframe tbody tr th:only-of-type {\n",
       "        vertical-align: middle;\n",
       "    }\n",
       "\n",
       "    .dataframe tbody tr th {\n",
       "        vertical-align: top;\n",
       "    }\n",
       "\n",
       "    .dataframe thead th {\n",
       "        text-align: right;\n",
       "    }\n",
       "</style>\n",
       "<table border=\"1\" class=\"dataframe\">\n",
       "  <thead>\n",
       "    <tr style=\"text-align: right;\">\n",
       "      <th></th>\n",
       "      <th>messages_included</th>\n",
       "      <th>mb_per_month_included</th>\n",
       "      <th>minutes_included</th>\n",
       "      <th>rub_monthly_fee</th>\n",
       "      <th>rub_per_gb</th>\n",
       "      <th>rub_per_message</th>\n",
       "      <th>rub_per_minute</th>\n",
       "      <th>tariff_name</th>\n",
       "      <th>gb_per_month_included</th>\n",
       "    </tr>\n",
       "  </thead>\n",
       "  <tbody>\n",
       "    <tr>\n",
       "      <th>0</th>\n",
       "      <td>50</td>\n",
       "      <td>15360</td>\n",
       "      <td>500</td>\n",
       "      <td>550</td>\n",
       "      <td>200</td>\n",
       "      <td>3</td>\n",
       "      <td>3</td>\n",
       "      <td>smart</td>\n",
       "      <td>15.0</td>\n",
       "    </tr>\n",
       "    <tr>\n",
       "      <th>1</th>\n",
       "      <td>1000</td>\n",
       "      <td>30720</td>\n",
       "      <td>3000</td>\n",
       "      <td>1950</td>\n",
       "      <td>150</td>\n",
       "      <td>1</td>\n",
       "      <td>1</td>\n",
       "      <td>ultra</td>\n",
       "      <td>30.0</td>\n",
       "    </tr>\n",
       "  </tbody>\n",
       "</table>\n",
       "</div>"
      ],
      "text/plain": [
       "   messages_included  mb_per_month_included  minutes_included  \\\n",
       "0                 50                  15360               500   \n",
       "1               1000                  30720              3000   \n",
       "\n",
       "   rub_monthly_fee  rub_per_gb  rub_per_message  rub_per_minute tariff_name  \\\n",
       "0              550         200                3               3       smart   \n",
       "1             1950         150                1               1       ultra   \n",
       "\n",
       "   gb_per_month_included  \n",
       "0                   15.0  \n",
       "1                   30.0  "
      ]
     },
     "execution_count": 37,
     "metadata": {},
     "output_type": "execute_result"
    }
   ],
   "source": [
    "df_tariffs.head()"
   ]
  },
  {
   "cell_type": "code",
   "execution_count": 38,
   "metadata": {
    "scrolled": true
   },
   "outputs": [
    {
     "data": {
      "text/html": [
       "<div>\n",
       "<style scoped>\n",
       "    .dataframe tbody tr th:only-of-type {\n",
       "        vertical-align: middle;\n",
       "    }\n",
       "\n",
       "    .dataframe tbody tr th {\n",
       "        vertical-align: top;\n",
       "    }\n",
       "\n",
       "    .dataframe thead th {\n",
       "        text-align: right;\n",
       "    }\n",
       "</style>\n",
       "<table border=\"1\" class=\"dataframe\">\n",
       "  <thead>\n",
       "    <tr style=\"text-align: right;\">\n",
       "      <th></th>\n",
       "      <th>user_id</th>\n",
       "      <th>city</th>\n",
       "      <th>month</th>\n",
       "      <th>tariff</th>\n",
       "      <th>calls_count</th>\n",
       "      <th>calls_sum</th>\n",
       "      <th>mb_internet_sum</th>\n",
       "      <th>gb_internet_sum</th>\n",
       "      <th>messages_count</th>\n",
       "      <th>messages_included</th>\n",
       "      <th>mb_per_month_included</th>\n",
       "      <th>minutes_included</th>\n",
       "      <th>rub_monthly_fee</th>\n",
       "      <th>rub_per_gb</th>\n",
       "      <th>rub_per_message</th>\n",
       "      <th>rub_per_minute</th>\n",
       "      <th>tariff_name</th>\n",
       "      <th>gb_per_month_included</th>\n",
       "    </tr>\n",
       "  </thead>\n",
       "  <tbody>\n",
       "    <tr>\n",
       "      <th>0</th>\n",
       "      <td>1000</td>\n",
       "      <td>Краснодар</td>\n",
       "      <td>5.0</td>\n",
       "      <td>ultra</td>\n",
       "      <td>22.0</td>\n",
       "      <td>159.0</td>\n",
       "      <td>2253.49</td>\n",
       "      <td>3.0</td>\n",
       "      <td>22.0</td>\n",
       "      <td>1000</td>\n",
       "      <td>30720</td>\n",
       "      <td>3000</td>\n",
       "      <td>1950</td>\n",
       "      <td>150</td>\n",
       "      <td>1</td>\n",
       "      <td>1</td>\n",
       "      <td>ultra</td>\n",
       "      <td>30.0</td>\n",
       "    </tr>\n",
       "    <tr>\n",
       "      <th>1</th>\n",
       "      <td>1000</td>\n",
       "      <td>Краснодар</td>\n",
       "      <td>6.0</td>\n",
       "      <td>ultra</td>\n",
       "      <td>43.0</td>\n",
       "      <td>172.0</td>\n",
       "      <td>23233.77</td>\n",
       "      <td>23.0</td>\n",
       "      <td>60.0</td>\n",
       "      <td>1000</td>\n",
       "      <td>30720</td>\n",
       "      <td>3000</td>\n",
       "      <td>1950</td>\n",
       "      <td>150</td>\n",
       "      <td>1</td>\n",
       "      <td>1</td>\n",
       "      <td>ultra</td>\n",
       "      <td>30.0</td>\n",
       "    </tr>\n",
       "    <tr>\n",
       "      <th>2</th>\n",
       "      <td>1000</td>\n",
       "      <td>Краснодар</td>\n",
       "      <td>7.0</td>\n",
       "      <td>ultra</td>\n",
       "      <td>47.0</td>\n",
       "      <td>340.0</td>\n",
       "      <td>14003.64</td>\n",
       "      <td>14.0</td>\n",
       "      <td>75.0</td>\n",
       "      <td>1000</td>\n",
       "      <td>30720</td>\n",
       "      <td>3000</td>\n",
       "      <td>1950</td>\n",
       "      <td>150</td>\n",
       "      <td>1</td>\n",
       "      <td>1</td>\n",
       "      <td>ultra</td>\n",
       "      <td>30.0</td>\n",
       "    </tr>\n",
       "    <tr>\n",
       "      <th>3</th>\n",
       "      <td>1000</td>\n",
       "      <td>Краснодар</td>\n",
       "      <td>8.0</td>\n",
       "      <td>ultra</td>\n",
       "      <td>52.0</td>\n",
       "      <td>408.0</td>\n",
       "      <td>14055.93</td>\n",
       "      <td>14.0</td>\n",
       "      <td>81.0</td>\n",
       "      <td>1000</td>\n",
       "      <td>30720</td>\n",
       "      <td>3000</td>\n",
       "      <td>1950</td>\n",
       "      <td>150</td>\n",
       "      <td>1</td>\n",
       "      <td>1</td>\n",
       "      <td>ultra</td>\n",
       "      <td>30.0</td>\n",
       "    </tr>\n",
       "    <tr>\n",
       "      <th>4</th>\n",
       "      <td>1000</td>\n",
       "      <td>Краснодар</td>\n",
       "      <td>9.0</td>\n",
       "      <td>ultra</td>\n",
       "      <td>58.0</td>\n",
       "      <td>466.0</td>\n",
       "      <td>14568.91</td>\n",
       "      <td>15.0</td>\n",
       "      <td>57.0</td>\n",
       "      <td>1000</td>\n",
       "      <td>30720</td>\n",
       "      <td>3000</td>\n",
       "      <td>1950</td>\n",
       "      <td>150</td>\n",
       "      <td>1</td>\n",
       "      <td>1</td>\n",
       "      <td>ultra</td>\n",
       "      <td>30.0</td>\n",
       "    </tr>\n",
       "    <tr>\n",
       "      <th>...</th>\n",
       "      <td>...</td>\n",
       "      <td>...</td>\n",
       "      <td>...</td>\n",
       "      <td>...</td>\n",
       "      <td>...</td>\n",
       "      <td>...</td>\n",
       "      <td>...</td>\n",
       "      <td>...</td>\n",
       "      <td>...</td>\n",
       "      <td>...</td>\n",
       "      <td>...</td>\n",
       "      <td>...</td>\n",
       "      <td>...</td>\n",
       "      <td>...</td>\n",
       "      <td>...</td>\n",
       "      <td>...</td>\n",
       "      <td>...</td>\n",
       "      <td>...</td>\n",
       "    </tr>\n",
       "    <tr>\n",
       "      <th>3209</th>\n",
       "      <td>1498</td>\n",
       "      <td>Владикавказ</td>\n",
       "      <td>10.0</td>\n",
       "      <td>smart</td>\n",
       "      <td>41.0</td>\n",
       "      <td>247.0</td>\n",
       "      <td>20579.36</td>\n",
       "      <td>21.0</td>\n",
       "      <td>42.0</td>\n",
       "      <td>50</td>\n",
       "      <td>15360</td>\n",
       "      <td>500</td>\n",
       "      <td>550</td>\n",
       "      <td>200</td>\n",
       "      <td>3</td>\n",
       "      <td>3</td>\n",
       "      <td>smart</td>\n",
       "      <td>15.0</td>\n",
       "    </tr>\n",
       "    <tr>\n",
       "      <th>3210</th>\n",
       "      <td>1499</td>\n",
       "      <td>Пермь</td>\n",
       "      <td>9.0</td>\n",
       "      <td>smart</td>\n",
       "      <td>9.0</td>\n",
       "      <td>70.0</td>\n",
       "      <td>1845.75</td>\n",
       "      <td>2.0</td>\n",
       "      <td>11.0</td>\n",
       "      <td>50</td>\n",
       "      <td>15360</td>\n",
       "      <td>500</td>\n",
       "      <td>550</td>\n",
       "      <td>200</td>\n",
       "      <td>3</td>\n",
       "      <td>3</td>\n",
       "      <td>smart</td>\n",
       "      <td>15.0</td>\n",
       "    </tr>\n",
       "    <tr>\n",
       "      <th>3211</th>\n",
       "      <td>1499</td>\n",
       "      <td>Пермь</td>\n",
       "      <td>10.0</td>\n",
       "      <td>smart</td>\n",
       "      <td>68.0</td>\n",
       "      <td>449.0</td>\n",
       "      <td>17788.51</td>\n",
       "      <td>18.0</td>\n",
       "      <td>48.0</td>\n",
       "      <td>50</td>\n",
       "      <td>15360</td>\n",
       "      <td>500</td>\n",
       "      <td>550</td>\n",
       "      <td>200</td>\n",
       "      <td>3</td>\n",
       "      <td>3</td>\n",
       "      <td>smart</td>\n",
       "      <td>15.0</td>\n",
       "    </tr>\n",
       "    <tr>\n",
       "      <th>3212</th>\n",
       "      <td>1499</td>\n",
       "      <td>Пермь</td>\n",
       "      <td>11.0</td>\n",
       "      <td>smart</td>\n",
       "      <td>74.0</td>\n",
       "      <td>612.0</td>\n",
       "      <td>17963.31</td>\n",
       "      <td>18.0</td>\n",
       "      <td>59.0</td>\n",
       "      <td>50</td>\n",
       "      <td>15360</td>\n",
       "      <td>500</td>\n",
       "      <td>550</td>\n",
       "      <td>200</td>\n",
       "      <td>3</td>\n",
       "      <td>3</td>\n",
       "      <td>smart</td>\n",
       "      <td>15.0</td>\n",
       "    </tr>\n",
       "    <tr>\n",
       "      <th>3213</th>\n",
       "      <td>1499</td>\n",
       "      <td>Пермь</td>\n",
       "      <td>12.0</td>\n",
       "      <td>smart</td>\n",
       "      <td>69.0</td>\n",
       "      <td>492.0</td>\n",
       "      <td>13055.58</td>\n",
       "      <td>13.0</td>\n",
       "      <td>66.0</td>\n",
       "      <td>50</td>\n",
       "      <td>15360</td>\n",
       "      <td>500</td>\n",
       "      <td>550</td>\n",
       "      <td>200</td>\n",
       "      <td>3</td>\n",
       "      <td>3</td>\n",
       "      <td>smart</td>\n",
       "      <td>15.0</td>\n",
       "    </tr>\n",
       "  </tbody>\n",
       "</table>\n",
       "<p>3214 rows × 18 columns</p>\n",
       "</div>"
      ],
      "text/plain": [
       "      user_id         city  month tariff  calls_count  calls_sum  \\\n",
       "0        1000    Краснодар    5.0  ultra         22.0      159.0   \n",
       "1        1000    Краснодар    6.0  ultra         43.0      172.0   \n",
       "2        1000    Краснодар    7.0  ultra         47.0      340.0   \n",
       "3        1000    Краснодар    8.0  ultra         52.0      408.0   \n",
       "4        1000    Краснодар    9.0  ultra         58.0      466.0   \n",
       "...       ...          ...    ...    ...          ...        ...   \n",
       "3209     1498  Владикавказ   10.0  smart         41.0      247.0   \n",
       "3210     1499        Пермь    9.0  smart          9.0       70.0   \n",
       "3211     1499        Пермь   10.0  smart         68.0      449.0   \n",
       "3212     1499        Пермь   11.0  smart         74.0      612.0   \n",
       "3213     1499        Пермь   12.0  smart         69.0      492.0   \n",
       "\n",
       "      mb_internet_sum  gb_internet_sum  messages_count  messages_included  \\\n",
       "0             2253.49              3.0            22.0               1000   \n",
       "1            23233.77             23.0            60.0               1000   \n",
       "2            14003.64             14.0            75.0               1000   \n",
       "3            14055.93             14.0            81.0               1000   \n",
       "4            14568.91             15.0            57.0               1000   \n",
       "...               ...              ...             ...                ...   \n",
       "3209         20579.36             21.0            42.0                 50   \n",
       "3210          1845.75              2.0            11.0                 50   \n",
       "3211         17788.51             18.0            48.0                 50   \n",
       "3212         17963.31             18.0            59.0                 50   \n",
       "3213         13055.58             13.0            66.0                 50   \n",
       "\n",
       "      mb_per_month_included  minutes_included  rub_monthly_fee  rub_per_gb  \\\n",
       "0                     30720              3000             1950         150   \n",
       "1                     30720              3000             1950         150   \n",
       "2                     30720              3000             1950         150   \n",
       "3                     30720              3000             1950         150   \n",
       "4                     30720              3000             1950         150   \n",
       "...                     ...               ...              ...         ...   \n",
       "3209                  15360               500              550         200   \n",
       "3210                  15360               500              550         200   \n",
       "3211                  15360               500              550         200   \n",
       "3212                  15360               500              550         200   \n",
       "3213                  15360               500              550         200   \n",
       "\n",
       "      rub_per_message  rub_per_minute tariff_name  gb_per_month_included  \n",
       "0                   1               1       ultra                   30.0  \n",
       "1                   1               1       ultra                   30.0  \n",
       "2                   1               1       ultra                   30.0  \n",
       "3                   1               1       ultra                   30.0  \n",
       "4                   1               1       ultra                   30.0  \n",
       "...               ...             ...         ...                    ...  \n",
       "3209                3               3       smart                   15.0  \n",
       "3210                3               3       smart                   15.0  \n",
       "3211                3               3       smart                   15.0  \n",
       "3212                3               3       smart                   15.0  \n",
       "3213                3               3       smart                   15.0  \n",
       "\n",
       "[3214 rows x 18 columns]"
      ]
     },
     "execution_count": 38,
     "metadata": {},
     "output_type": "execute_result"
    }
   ],
   "source": [
    "general_table_new = general_table.merge(df_tariffs, left_on = 'tariff', right_on = 'tariff_name', how='left')\n",
    "general_table_new"
   ]
  },
  {
   "cell_type": "code",
   "execution_count": 39,
   "metadata": {
    "scrolled": true
   },
   "outputs": [],
   "source": [
    "def revenue(row):\n",
    "    call = 0\n",
    "    mess = 0\n",
    "    inte = 0\n",
    "    total = 0\n",
    "    if row['tariff'] == 'ultra':\n",
    "        if row['calls_sum'] - row['minutes_included'] > 0:\n",
    "            call += (row['calls_sum'] - row['minutes_included']) * row['rub_per_minute']\n",
    "\n",
    "    if row['tariff'] == 'ultra':\n",
    "        if row['messages_count'] - row['messages_included'] > 0:\n",
    "            mess += (row['messages_count'] - row['messages_included']) * row['rub_per_message']\n",
    "\n",
    "    if row['tariff'] == 'ultra':\n",
    "        if row['gb_internet_sum'] - row['gb_per_month_included'] > 0:\n",
    "            inte += (row['gb_internet_sum'] - row['gb_per_month_included']) * row['rub_per_gb']\n",
    "            \n",
    "    if row['tariff'] == 'smart':\n",
    "        if row['calls_sum'] - row['minutes_included'] > 0:\n",
    "            call += (row['calls_sum'] - row['minutes_included']) * row['rub_per_minute']\n",
    "\n",
    "    if row['tariff'] == 'smart':\n",
    "        if row['messages_count'] - row['messages_included'] > 0:\n",
    "            mess += (row['messages_count'] - row['messages_included']) * row['rub_per_message']\n",
    "\n",
    "    if row['tariff'] == 'smart':\n",
    "        if row['gb_internet_sum'] - row['gb_per_month_included'] > 0:\n",
    "            inte += (row['gb_internet_sum'] - row['gb_per_month_included']) * row['rub_per_gb']\n",
    "            \n",
    "    if row['tariff'] == 'smart':\n",
    "        total = call + mess + inte + row['rub_monthly_fee']\n",
    "    else:\n",
    "        total = call + mess + inte + row['rub_monthly_fee']\n",
    "    \n",
    "    return total\n",
    "\n",
    "general_table_new['revenue_per_month'] = general_table_new.apply(revenue, axis = 1)"
   ]
  },
  {
   "cell_type": "code",
   "execution_count": 40,
   "metadata": {},
   "outputs": [
    {
     "data": {
      "text/html": [
       "<div>\n",
       "<style scoped>\n",
       "    .dataframe tbody tr th:only-of-type {\n",
       "        vertical-align: middle;\n",
       "    }\n",
       "\n",
       "    .dataframe tbody tr th {\n",
       "        vertical-align: top;\n",
       "    }\n",
       "\n",
       "    .dataframe thead th {\n",
       "        text-align: right;\n",
       "    }\n",
       "</style>\n",
       "<table border=\"1\" class=\"dataframe\">\n",
       "  <thead>\n",
       "    <tr style=\"text-align: right;\">\n",
       "      <th></th>\n",
       "      <th>user_id</th>\n",
       "      <th>city</th>\n",
       "      <th>month</th>\n",
       "      <th>tariff</th>\n",
       "      <th>calls_count</th>\n",
       "      <th>calls_sum</th>\n",
       "      <th>mb_internet_sum</th>\n",
       "      <th>gb_internet_sum</th>\n",
       "      <th>messages_count</th>\n",
       "      <th>messages_included</th>\n",
       "      <th>mb_per_month_included</th>\n",
       "      <th>minutes_included</th>\n",
       "      <th>rub_monthly_fee</th>\n",
       "      <th>rub_per_gb</th>\n",
       "      <th>rub_per_message</th>\n",
       "      <th>rub_per_minute</th>\n",
       "      <th>tariff_name</th>\n",
       "      <th>gb_per_month_included</th>\n",
       "      <th>revenue_per_month</th>\n",
       "    </tr>\n",
       "  </thead>\n",
       "  <tbody>\n",
       "    <tr>\n",
       "      <th>0</th>\n",
       "      <td>1000</td>\n",
       "      <td>Краснодар</td>\n",
       "      <td>5.0</td>\n",
       "      <td>ultra</td>\n",
       "      <td>22.0</td>\n",
       "      <td>159.0</td>\n",
       "      <td>2253.49</td>\n",
       "      <td>3.0</td>\n",
       "      <td>22.0</td>\n",
       "      <td>1000</td>\n",
       "      <td>30720</td>\n",
       "      <td>3000</td>\n",
       "      <td>1950</td>\n",
       "      <td>150</td>\n",
       "      <td>1</td>\n",
       "      <td>1</td>\n",
       "      <td>ultra</td>\n",
       "      <td>30.0</td>\n",
       "      <td>1950.0</td>\n",
       "    </tr>\n",
       "    <tr>\n",
       "      <th>1</th>\n",
       "      <td>1000</td>\n",
       "      <td>Краснодар</td>\n",
       "      <td>6.0</td>\n",
       "      <td>ultra</td>\n",
       "      <td>43.0</td>\n",
       "      <td>172.0</td>\n",
       "      <td>23233.77</td>\n",
       "      <td>23.0</td>\n",
       "      <td>60.0</td>\n",
       "      <td>1000</td>\n",
       "      <td>30720</td>\n",
       "      <td>3000</td>\n",
       "      <td>1950</td>\n",
       "      <td>150</td>\n",
       "      <td>1</td>\n",
       "      <td>1</td>\n",
       "      <td>ultra</td>\n",
       "      <td>30.0</td>\n",
       "      <td>1950.0</td>\n",
       "    </tr>\n",
       "    <tr>\n",
       "      <th>2</th>\n",
       "      <td>1000</td>\n",
       "      <td>Краснодар</td>\n",
       "      <td>7.0</td>\n",
       "      <td>ultra</td>\n",
       "      <td>47.0</td>\n",
       "      <td>340.0</td>\n",
       "      <td>14003.64</td>\n",
       "      <td>14.0</td>\n",
       "      <td>75.0</td>\n",
       "      <td>1000</td>\n",
       "      <td>30720</td>\n",
       "      <td>3000</td>\n",
       "      <td>1950</td>\n",
       "      <td>150</td>\n",
       "      <td>1</td>\n",
       "      <td>1</td>\n",
       "      <td>ultra</td>\n",
       "      <td>30.0</td>\n",
       "      <td>1950.0</td>\n",
       "    </tr>\n",
       "    <tr>\n",
       "      <th>3</th>\n",
       "      <td>1000</td>\n",
       "      <td>Краснодар</td>\n",
       "      <td>8.0</td>\n",
       "      <td>ultra</td>\n",
       "      <td>52.0</td>\n",
       "      <td>408.0</td>\n",
       "      <td>14055.93</td>\n",
       "      <td>14.0</td>\n",
       "      <td>81.0</td>\n",
       "      <td>1000</td>\n",
       "      <td>30720</td>\n",
       "      <td>3000</td>\n",
       "      <td>1950</td>\n",
       "      <td>150</td>\n",
       "      <td>1</td>\n",
       "      <td>1</td>\n",
       "      <td>ultra</td>\n",
       "      <td>30.0</td>\n",
       "      <td>1950.0</td>\n",
       "    </tr>\n",
       "    <tr>\n",
       "      <th>4</th>\n",
       "      <td>1000</td>\n",
       "      <td>Краснодар</td>\n",
       "      <td>9.0</td>\n",
       "      <td>ultra</td>\n",
       "      <td>58.0</td>\n",
       "      <td>466.0</td>\n",
       "      <td>14568.91</td>\n",
       "      <td>15.0</td>\n",
       "      <td>57.0</td>\n",
       "      <td>1000</td>\n",
       "      <td>30720</td>\n",
       "      <td>3000</td>\n",
       "      <td>1950</td>\n",
       "      <td>150</td>\n",
       "      <td>1</td>\n",
       "      <td>1</td>\n",
       "      <td>ultra</td>\n",
       "      <td>30.0</td>\n",
       "      <td>1950.0</td>\n",
       "    </tr>\n",
       "  </tbody>\n",
       "</table>\n",
       "</div>"
      ],
      "text/plain": [
       "   user_id       city  month tariff  calls_count  calls_sum  mb_internet_sum  \\\n",
       "0     1000  Краснодар    5.0  ultra         22.0      159.0          2253.49   \n",
       "1     1000  Краснодар    6.0  ultra         43.0      172.0         23233.77   \n",
       "2     1000  Краснодар    7.0  ultra         47.0      340.0         14003.64   \n",
       "3     1000  Краснодар    8.0  ultra         52.0      408.0         14055.93   \n",
       "4     1000  Краснодар    9.0  ultra         58.0      466.0         14568.91   \n",
       "\n",
       "   gb_internet_sum  messages_count  messages_included  mb_per_month_included  \\\n",
       "0              3.0            22.0               1000                  30720   \n",
       "1             23.0            60.0               1000                  30720   \n",
       "2             14.0            75.0               1000                  30720   \n",
       "3             14.0            81.0               1000                  30720   \n",
       "4             15.0            57.0               1000                  30720   \n",
       "\n",
       "   minutes_included  rub_monthly_fee  rub_per_gb  rub_per_message  \\\n",
       "0              3000             1950         150                1   \n",
       "1              3000             1950         150                1   \n",
       "2              3000             1950         150                1   \n",
       "3              3000             1950         150                1   \n",
       "4              3000             1950         150                1   \n",
       "\n",
       "   rub_per_minute tariff_name  gb_per_month_included  revenue_per_month  \n",
       "0               1       ultra                   30.0             1950.0  \n",
       "1               1       ultra                   30.0             1950.0  \n",
       "2               1       ultra                   30.0             1950.0  \n",
       "3               1       ultra                   30.0             1950.0  \n",
       "4               1       ultra                   30.0             1950.0  "
      ]
     },
     "execution_count": 40,
     "metadata": {},
     "output_type": "execute_result"
    }
   ],
   "source": [
    "general_table_new.head()"
   ]
  },
  {
   "cell_type": "markdown",
   "metadata": {},
   "source": [
    "## Исследовательский анализ данных"
   ]
  },
  {
   "cell_type": "markdown",
   "metadata": {},
   "source": [
    "Нам нужно описать поведение клиентов оператора, исходя из выборки. Сколько минут разговора, сколько сообщений и какой объём интернет-трафика требуется пользователям каждого тарифа в месяц. Посчитаем среднее количество, дисперсию и стандартное отклонение. Построем гистограммы. Опишем распределения."
   ]
  },
  {
   "cell_type": "code",
   "execution_count": 41,
   "metadata": {},
   "outputs": [],
   "source": [
    "# Разделим таблицу на две, относительно каждого тарифа.\n",
    "tariff_ultra = general_table_new.query('tariff == \"ultra\"')\n",
    "tariff_smart = general_table_new.query('tariff == \"smart\"')"
   ]
  },
  {
   "cell_type": "markdown",
   "metadata": {},
   "source": [
    "### Иследуем тариф Ultra"
   ]
  },
  {
   "cell_type": "code",
   "execution_count": 42,
   "metadata": {},
   "outputs": [
    {
     "data": {
      "text/plain": [
       "2070.1522842639592"
      ]
     },
     "execution_count": 42,
     "metadata": {},
     "output_type": "execute_result"
    }
   ],
   "source": [
    "# Найдем сколько в среднем приносит тариф Ultra\n",
    "avg_sum_ultra = (tariff_ultra['revenue_per_month']).sum() / len(tariff_ultra['revenue_per_month'])\n",
    "avg_sum_ultra"
   ]
  },
  {
   "cell_type": "code",
   "execution_count": 43,
   "metadata": {
    "scrolled": false
   },
   "outputs": [
    {
     "data": {
      "text/html": [
       "<div>\n",
       "<style scoped>\n",
       "    .dataframe tbody tr th:only-of-type {\n",
       "        vertical-align: middle;\n",
       "    }\n",
       "\n",
       "    .dataframe tbody tr th {\n",
       "        vertical-align: top;\n",
       "    }\n",
       "\n",
       "    .dataframe thead th {\n",
       "        text-align: right;\n",
       "    }\n",
       "</style>\n",
       "<table border=\"1\" class=\"dataframe\">\n",
       "  <thead>\n",
       "    <tr style=\"text-align: right;\">\n",
       "      <th></th>\n",
       "      <th>month</th>\n",
       "      <th>calls_sum</th>\n",
       "    </tr>\n",
       "  </thead>\n",
       "  <tbody>\n",
       "    <tr>\n",
       "      <th>0</th>\n",
       "      <td>1.0</td>\n",
       "      <td>428.111111</td>\n",
       "    </tr>\n",
       "    <tr>\n",
       "      <th>1</th>\n",
       "      <td>2.0</td>\n",
       "      <td>297.125000</td>\n",
       "    </tr>\n",
       "    <tr>\n",
       "      <th>2</th>\n",
       "      <td>3.0</td>\n",
       "      <td>489.648649</td>\n",
       "    </tr>\n",
       "    <tr>\n",
       "      <th>3</th>\n",
       "      <td>4.0</td>\n",
       "      <td>475.301887</td>\n",
       "    </tr>\n",
       "    <tr>\n",
       "      <th>4</th>\n",
       "      <td>5.0</td>\n",
       "      <td>534.250000</td>\n",
       "    </tr>\n",
       "    <tr>\n",
       "      <th>5</th>\n",
       "      <td>6.0</td>\n",
       "      <td>497.469136</td>\n",
       "    </tr>\n",
       "    <tr>\n",
       "      <th>6</th>\n",
       "      <td>7.0</td>\n",
       "      <td>564.397727</td>\n",
       "    </tr>\n",
       "    <tr>\n",
       "      <th>7</th>\n",
       "      <td>8.0</td>\n",
       "      <td>530.611650</td>\n",
       "    </tr>\n",
       "    <tr>\n",
       "      <th>8</th>\n",
       "      <td>9.0</td>\n",
       "      <td>558.882883</td>\n",
       "    </tr>\n",
       "    <tr>\n",
       "      <th>9</th>\n",
       "      <td>10.0</td>\n",
       "      <td>581.728814</td>\n",
       "    </tr>\n",
       "    <tr>\n",
       "      <th>10</th>\n",
       "      <td>11.0</td>\n",
       "      <td>562.364341</td>\n",
       "    </tr>\n",
       "    <tr>\n",
       "      <th>11</th>\n",
       "      <td>12.0</td>\n",
       "      <td>614.925373</td>\n",
       "    </tr>\n",
       "  </tbody>\n",
       "</table>\n",
       "</div>"
      ],
      "text/plain": [
       "    month   calls_sum\n",
       "0     1.0  428.111111\n",
       "1     2.0  297.125000\n",
       "2     3.0  489.648649\n",
       "3     4.0  475.301887\n",
       "4     5.0  534.250000\n",
       "5     6.0  497.469136\n",
       "6     7.0  564.397727\n",
       "7     8.0  530.611650\n",
       "8     9.0  558.882883\n",
       "9    10.0  581.728814\n",
       "10   11.0  562.364341\n",
       "11   12.0  614.925373"
      ]
     },
     "metadata": {},
     "output_type": "display_data"
    }
   ],
   "source": [
    "# Найдем среднее количества минут разговора по месяцам в тарифе \"Ultra\"\n",
    "avg_call_ultra = tariff_ultra.pivot_table(index='month', values=['calls_sum'], aggfunc='mean')\n",
    "avg_call_ultra.sort_values(by= 'month').reset_index()"
   ]
  },
  {
   "cell_type": "code",
   "execution_count": 44,
   "metadata": {
    "scrolled": true
   },
   "outputs": [
    {
     "data": {
      "text/plain": [
       "Text(0, 0.5, 'Количество минут')"
      ]
     },
     "execution_count": 44,
     "metadata": {},
     "output_type": "execute_result"
    },
    {
     "data": {
      "image/png": "[encoded data removed]",
      "text/plain": [
       "<Figure size 432x432 with 1 Axes>"
      ]
     },
     "metadata": {
      "needs_background": "light"
     },
     "output_type": "display_data"
    }
   ],
   "source": [
    "avg_call_ultra['calls_sum'].plot(grid=True, figsize=(6, 6), kind= 'bar')\n",
    "plt.title('Гистограмма потраченных минут в месяц')\n",
    "plt.xlabel('Месяц')\n",
    "plt.ylabel('Количество минут')"
   ]
  },
  {
   "cell_type": "code",
   "execution_count": 46,
   "metadata": {},
   "outputs": [],
   "source": [
    "avg_call_ultra = avg_call_ultra.reset_index()"
   ]
  },
  {
   "cell_type": "code",
   "execution_count": 45,
   "metadata": {
    "scrolled": false
   },
   "outputs": [
    {
     "data": {
      "text/html": [
       "<div>\n",
       "<style scoped>\n",
       "    .dataframe tbody tr th:only-of-type {\n",
       "        vertical-align: middle;\n",
       "    }\n",
       "\n",
       "    .dataframe tbody tr th {\n",
       "        vertical-align: top;\n",
       "    }\n",
       "\n",
       "    .dataframe thead th {\n",
       "        text-align: right;\n",
       "    }\n",
       "</style>\n",
       "<table border=\"1\" class=\"dataframe\">\n",
       "  <thead>\n",
       "    <tr style=\"text-align: right;\">\n",
       "      <th></th>\n",
       "      <th>month</th>\n",
       "      <th>minutes_included</th>\n",
       "    </tr>\n",
       "  </thead>\n",
       "  <tbody>\n",
       "    <tr>\n",
       "      <th>0</th>\n",
       "      <td>1.0</td>\n",
       "      <td>27000</td>\n",
       "    </tr>\n",
       "    <tr>\n",
       "      <th>1</th>\n",
       "      <td>2.0</td>\n",
       "      <td>72000</td>\n",
       "    </tr>\n",
       "    <tr>\n",
       "      <th>2</th>\n",
       "      <td>3.0</td>\n",
       "      <td>111000</td>\n",
       "    </tr>\n",
       "    <tr>\n",
       "      <th>3</th>\n",
       "      <td>4.0</td>\n",
       "      <td>165000</td>\n",
       "    </tr>\n",
       "    <tr>\n",
       "      <th>4</th>\n",
       "      <td>5.0</td>\n",
       "      <td>201000</td>\n",
       "    </tr>\n",
       "    <tr>\n",
       "      <th>5</th>\n",
       "      <td>6.0</td>\n",
       "      <td>252000</td>\n",
       "    </tr>\n",
       "    <tr>\n",
       "      <th>6</th>\n",
       "      <td>7.0</td>\n",
       "      <td>273000</td>\n",
       "    </tr>\n",
       "    <tr>\n",
       "      <th>7</th>\n",
       "      <td>8.0</td>\n",
       "      <td>321000</td>\n",
       "    </tr>\n",
       "    <tr>\n",
       "      <th>8</th>\n",
       "      <td>9.0</td>\n",
       "      <td>345000</td>\n",
       "    </tr>\n",
       "    <tr>\n",
       "      <th>9</th>\n",
       "      <td>10.0</td>\n",
       "      <td>369000</td>\n",
       "    </tr>\n",
       "    <tr>\n",
       "      <th>10</th>\n",
       "      <td>11.0</td>\n",
       "      <td>402000</td>\n",
       "    </tr>\n",
       "    <tr>\n",
       "      <th>11</th>\n",
       "      <td>12.0</td>\n",
       "      <td>417000</td>\n",
       "    </tr>\n",
       "  </tbody>\n",
       "</table>\n",
       "</div>"
      ],
      "text/plain": [
       "    month  minutes_included\n",
       "0     1.0             27000\n",
       "1     2.0             72000\n",
       "2     3.0            111000\n",
       "3     4.0            165000\n",
       "4     5.0            201000\n",
       "5     6.0            252000\n",
       "6     7.0            273000\n",
       "7     8.0            321000\n",
       "8     9.0            345000\n",
       "9    10.0            369000\n",
       "10   11.0            402000\n",
       "11   12.0            417000"
      ]
     },
     "execution_count": 45,
     "metadata": {},
     "output_type": "execute_result"
    }
   ],
   "source": [
    "# Найдем количество лимита минут разговора по месяцам в тарифе \"Ultra\"\n",
    "limit_call_ultra = tariff_ultra.pivot_table(index='month', values=['minutes_included'], aggfunc='sum')\n",
    "limit_call_ultra.sort_values(by= 'month').reset_index()"
   ]
  },
  {
   "cell_type": "code",
   "execution_count": 46,
   "metadata": {
    "scrolled": true
   },
   "outputs": [
    {
     "data": {
      "text/html": [
       "<div>\n",
       "<style scoped>\n",
       "    .dataframe tbody tr th:only-of-type {\n",
       "        vertical-align: middle;\n",
       "    }\n",
       "\n",
       "    .dataframe tbody tr th {\n",
       "        vertical-align: top;\n",
       "    }\n",
       "\n",
       "    .dataframe thead th {\n",
       "        text-align: right;\n",
       "    }\n",
       "</style>\n",
       "<table border=\"1\" class=\"dataframe\">\n",
       "  <thead>\n",
       "    <tr style=\"text-align: right;\">\n",
       "      <th></th>\n",
       "      <th>month</th>\n",
       "      <th>calls_sum</th>\n",
       "    </tr>\n",
       "  </thead>\n",
       "  <tbody>\n",
       "    <tr>\n",
       "      <th>0</th>\n",
       "      <td>1.0</td>\n",
       "      <td>3853.0</td>\n",
       "    </tr>\n",
       "    <tr>\n",
       "      <th>1</th>\n",
       "      <td>2.0</td>\n",
       "      <td>7131.0</td>\n",
       "    </tr>\n",
       "    <tr>\n",
       "      <th>2</th>\n",
       "      <td>3.0</td>\n",
       "      <td>18117.0</td>\n",
       "    </tr>\n",
       "    <tr>\n",
       "      <th>3</th>\n",
       "      <td>4.0</td>\n",
       "      <td>25191.0</td>\n",
       "    </tr>\n",
       "    <tr>\n",
       "      <th>4</th>\n",
       "      <td>5.0</td>\n",
       "      <td>34192.0</td>\n",
       "    </tr>\n",
       "    <tr>\n",
       "      <th>5</th>\n",
       "      <td>6.0</td>\n",
       "      <td>40295.0</td>\n",
       "    </tr>\n",
       "    <tr>\n",
       "      <th>6</th>\n",
       "      <td>7.0</td>\n",
       "      <td>49667.0</td>\n",
       "    </tr>\n",
       "    <tr>\n",
       "      <th>7</th>\n",
       "      <td>8.0</td>\n",
       "      <td>54653.0</td>\n",
       "    </tr>\n",
       "    <tr>\n",
       "      <th>8</th>\n",
       "      <td>9.0</td>\n",
       "      <td>62036.0</td>\n",
       "    </tr>\n",
       "    <tr>\n",
       "      <th>9</th>\n",
       "      <td>10.0</td>\n",
       "      <td>68644.0</td>\n",
       "    </tr>\n",
       "    <tr>\n",
       "      <th>10</th>\n",
       "      <td>11.0</td>\n",
       "      <td>72545.0</td>\n",
       "    </tr>\n",
       "    <tr>\n",
       "      <th>11</th>\n",
       "      <td>12.0</td>\n",
       "      <td>82400.0</td>\n",
       "    </tr>\n",
       "  </tbody>\n",
       "</table>\n",
       "</div>"
      ],
      "text/plain": [
       "    month  calls_sum\n",
       "0     1.0     3853.0\n",
       "1     2.0     7131.0\n",
       "2     3.0    18117.0\n",
       "3     4.0    25191.0\n",
       "4     5.0    34192.0\n",
       "5     6.0    40295.0\n",
       "6     7.0    49667.0\n",
       "7     8.0    54653.0\n",
       "8     9.0    62036.0\n",
       "9    10.0    68644.0\n",
       "10   11.0    72545.0\n",
       "11   12.0    82400.0"
      ]
     },
     "execution_count": 46,
     "metadata": {},
     "output_type": "execute_result"
    }
   ],
   "source": [
    "# Найдем количество потраченных минут разговора по месяцам в тарифе \"Ultra\"\n",
    "use_call_ultra = tariff_ultra.pivot_table(index='month', values=['calls_sum'], aggfunc='sum')\n",
    "use_call_ultra.sort_values(by= 'month').reset_index()"
   ]
  },
  {
   "cell_type": "code",
   "execution_count": 47,
   "metadata": {},
   "outputs": [
    {
     "data": {
      "text/plain": [
       "<matplotlib.legend.Legend at 0x7fa0b8466d10>"
      ]
     },
     "execution_count": 47,
     "metadata": {},
     "output_type": "execute_result"
    },
    {
     "data": {
      "image/png": "[encoded data removed]",
      "text/plain": [
       "<Figure size 432x288 with 1 Axes>"
      ]
     },
     "metadata": {
      "needs_background": "light"
     },
     "output_type": "display_data"
    }
   ],
   "source": [
    "# Построим график, который показывает, сколько у пользователей лимита и сколько они тратят\n",
    "plt.plot(limit_call_ultra, 'b-', use_call_ultra, 'g-')\n",
    "plt.legend(['Лимит в месяц','Использованно в месяц'])"
   ]
  },
  {
   "cell_type": "code",
   "execution_count": 48,
   "metadata": {},
   "outputs": [
    {
     "data": {
      "text/plain": [
       "511.23471423122083"
      ]
     },
     "execution_count": 48,
     "metadata": {},
     "output_type": "execute_result"
    }
   ],
   "source": [
    "# Найдем сколько минут требуется пользователям тарифа Ultra в среднем в месяц\n",
    "avg_call_ultra_month = (avg_call_ultra['calls_sum']).sum() / len(avg_call_ultra['calls_sum'])\n",
    "avg_call_ultra_month"
   ]
  },
  {
   "cell_type": "code",
   "execution_count": 53,
   "metadata": {},
   "outputs": [
    {
     "data": {
      "text/plain": [
       "94104.36117385981"
      ]
     },
     "execution_count": 53,
     "metadata": {},
     "output_type": "execute_result"
    }
   ],
   "source": [
    "# Найдем дисперсию количества минут разговора\n",
    "call_ultra_variance = np.var(tariff_ultra)['calls_sum']\n",
    "call_ultra_variance"
   ]
  },
  {
   "cell_type": "code",
   "execution_count": 54,
   "metadata": {
    "scrolled": false
   },
   "outputs": [
    {
     "data": {
      "text/plain": [
       "306.7643414314314"
      ]
     },
     "execution_count": 54,
     "metadata": {},
     "output_type": "execute_result"
    }
   ],
   "source": [
    "# Найдем стандартное отклонение минут разговора\n",
    "call_ultra_std = np.std(tariff_ultra)['calls_sum']\n",
    "call_ultra_std"
   ]
  },
  {
   "cell_type": "code",
   "execution_count": 55,
   "metadata": {
    "scrolled": false
   },
   "outputs": [
    {
     "data": {
      "text/html": [
       "<div>\n",
       "<style scoped>\n",
       "    .dataframe tbody tr th:only-of-type {\n",
       "        vertical-align: middle;\n",
       "    }\n",
       "\n",
       "    .dataframe tbody tr th {\n",
       "        vertical-align: top;\n",
       "    }\n",
       "\n",
       "    .dataframe thead th {\n",
       "        text-align: right;\n",
       "    }\n",
       "</style>\n",
       "<table border=\"1\" class=\"dataframe\">\n",
       "  <thead>\n",
       "    <tr style=\"text-align: right;\">\n",
       "      <th></th>\n",
       "      <th>month</th>\n",
       "      <th>messages_count</th>\n",
       "    </tr>\n",
       "  </thead>\n",
       "  <tbody>\n",
       "    <tr>\n",
       "      <th>0</th>\n",
       "      <td>1.0</td>\n",
       "      <td>33.777778</td>\n",
       "    </tr>\n",
       "    <tr>\n",
       "      <th>1</th>\n",
       "      <td>2.0</td>\n",
       "      <td>21.958333</td>\n",
       "    </tr>\n",
       "    <tr>\n",
       "      <th>2</th>\n",
       "      <td>3.0</td>\n",
       "      <td>32.297297</td>\n",
       "    </tr>\n",
       "    <tr>\n",
       "      <th>3</th>\n",
       "      <td>4.0</td>\n",
       "      <td>31.563636</td>\n",
       "    </tr>\n",
       "    <tr>\n",
       "      <th>4</th>\n",
       "      <td>5.0</td>\n",
       "      <td>37.850746</td>\n",
       "    </tr>\n",
       "    <tr>\n",
       "      <th>5</th>\n",
       "      <td>6.0</td>\n",
       "      <td>41.726190</td>\n",
       "    </tr>\n",
       "    <tr>\n",
       "      <th>6</th>\n",
       "      <td>7.0</td>\n",
       "      <td>49.846154</td>\n",
       "    </tr>\n",
       "    <tr>\n",
       "      <th>7</th>\n",
       "      <td>8.0</td>\n",
       "      <td>48.439252</td>\n",
       "    </tr>\n",
       "    <tr>\n",
       "      <th>8</th>\n",
       "      <td>9.0</td>\n",
       "      <td>52.286957</td>\n",
       "    </tr>\n",
       "    <tr>\n",
       "      <th>9</th>\n",
       "      <td>10.0</td>\n",
       "      <td>58.430894</td>\n",
       "    </tr>\n",
       "    <tr>\n",
       "      <th>10</th>\n",
       "      <td>11.0</td>\n",
       "      <td>55.791045</td>\n",
       "    </tr>\n",
       "    <tr>\n",
       "      <th>11</th>\n",
       "      <td>12.0</td>\n",
       "      <td>60.611511</td>\n",
       "    </tr>\n",
       "  </tbody>\n",
       "</table>\n",
       "</div>"
      ],
      "text/plain": [
       "    month  messages_count\n",
       "0     1.0       33.777778\n",
       "1     2.0       21.958333\n",
       "2     3.0       32.297297\n",
       "3     4.0       31.563636\n",
       "4     5.0       37.850746\n",
       "5     6.0       41.726190\n",
       "6     7.0       49.846154\n",
       "7     8.0       48.439252\n",
       "8     9.0       52.286957\n",
       "9    10.0       58.430894\n",
       "10   11.0       55.791045\n",
       "11   12.0       60.611511"
      ]
     },
     "execution_count": 55,
     "metadata": {},
     "output_type": "execute_result"
    }
   ],
   "source": [
    "# Найдем среднее количество отправленных смс по месяцам в тарифе \"Ultra\"\n",
    "avg_mess_ultra = tariff_ultra.pivot_table(index='month', values=['messages_count'], aggfunc='mean')\n",
    "avg_mess_ultra.sort_values(by= 'month').reset_index()"
   ]
  },
  {
   "cell_type": "code",
   "execution_count": 56,
   "metadata": {},
   "outputs": [],
   "source": [
    "avg_mess_ultra = avg_mess_ultra.reset_index()"
   ]
  },
  {
   "cell_type": "code",
   "execution_count": 57,
   "metadata": {},
   "outputs": [
    {
     "data": {
      "text/html": [
       "<div>\n",
       "<style scoped>\n",
       "    .dataframe tbody tr th:only-of-type {\n",
       "        vertical-align: middle;\n",
       "    }\n",
       "\n",
       "    .dataframe tbody tr th {\n",
       "        vertical-align: top;\n",
       "    }\n",
       "\n",
       "    .dataframe thead th {\n",
       "        text-align: right;\n",
       "    }\n",
       "</style>\n",
       "<table border=\"1\" class=\"dataframe\">\n",
       "  <thead>\n",
       "    <tr style=\"text-align: right;\">\n",
       "      <th></th>\n",
       "      <th>month</th>\n",
       "      <th>messages_included</th>\n",
       "    </tr>\n",
       "  </thead>\n",
       "  <tbody>\n",
       "    <tr>\n",
       "      <th>0</th>\n",
       "      <td>1.0</td>\n",
       "      <td>9000</td>\n",
       "    </tr>\n",
       "    <tr>\n",
       "      <th>1</th>\n",
       "      <td>2.0</td>\n",
       "      <td>24000</td>\n",
       "    </tr>\n",
       "    <tr>\n",
       "      <th>2</th>\n",
       "      <td>3.0</td>\n",
       "      <td>37000</td>\n",
       "    </tr>\n",
       "    <tr>\n",
       "      <th>3</th>\n",
       "      <td>4.0</td>\n",
       "      <td>55000</td>\n",
       "    </tr>\n",
       "    <tr>\n",
       "      <th>4</th>\n",
       "      <td>5.0</td>\n",
       "      <td>67000</td>\n",
       "    </tr>\n",
       "    <tr>\n",
       "      <th>5</th>\n",
       "      <td>6.0</td>\n",
       "      <td>84000</td>\n",
       "    </tr>\n",
       "    <tr>\n",
       "      <th>6</th>\n",
       "      <td>7.0</td>\n",
       "      <td>91000</td>\n",
       "    </tr>\n",
       "    <tr>\n",
       "      <th>7</th>\n",
       "      <td>8.0</td>\n",
       "      <td>107000</td>\n",
       "    </tr>\n",
       "    <tr>\n",
       "      <th>8</th>\n",
       "      <td>9.0</td>\n",
       "      <td>115000</td>\n",
       "    </tr>\n",
       "    <tr>\n",
       "      <th>9</th>\n",
       "      <td>10.0</td>\n",
       "      <td>123000</td>\n",
       "    </tr>\n",
       "    <tr>\n",
       "      <th>10</th>\n",
       "      <td>11.0</td>\n",
       "      <td>134000</td>\n",
       "    </tr>\n",
       "    <tr>\n",
       "      <th>11</th>\n",
       "      <td>12.0</td>\n",
       "      <td>139000</td>\n",
       "    </tr>\n",
       "  </tbody>\n",
       "</table>\n",
       "</div>"
      ],
      "text/plain": [
       "    month  messages_included\n",
       "0     1.0               9000\n",
       "1     2.0              24000\n",
       "2     3.0              37000\n",
       "3     4.0              55000\n",
       "4     5.0              67000\n",
       "5     6.0              84000\n",
       "6     7.0              91000\n",
       "7     8.0             107000\n",
       "8     9.0             115000\n",
       "9    10.0             123000\n",
       "10   11.0             134000\n",
       "11   12.0             139000"
      ]
     },
     "execution_count": 57,
     "metadata": {},
     "output_type": "execute_result"
    }
   ],
   "source": [
    "# Найдем количество лимита смс по месяцам в тарифе \"Ultra\"\n",
    "limit_mess_ultra = tariff_ultra.pivot_table(index='month', values=['messages_included'], aggfunc='sum')\n",
    "limit_mess_ultra.sort_values(by= 'month').reset_index()"
   ]
  },
  {
   "cell_type": "code",
   "execution_count": 58,
   "metadata": {},
   "outputs": [
    {
     "data": {
      "text/html": [
       "<div>\n",
       "<style scoped>\n",
       "    .dataframe tbody tr th:only-of-type {\n",
       "        vertical-align: middle;\n",
       "    }\n",
       "\n",
       "    .dataframe tbody tr th {\n",
       "        vertical-align: top;\n",
       "    }\n",
       "\n",
       "    .dataframe thead th {\n",
       "        text-align: right;\n",
       "    }\n",
       "</style>\n",
       "<table border=\"1\" class=\"dataframe\">\n",
       "  <thead>\n",
       "    <tr style=\"text-align: right;\">\n",
       "      <th></th>\n",
       "      <th>month</th>\n",
       "      <th>messages_count</th>\n",
       "    </tr>\n",
       "  </thead>\n",
       "  <tbody>\n",
       "    <tr>\n",
       "      <th>0</th>\n",
       "      <td>1.0</td>\n",
       "      <td>304.0</td>\n",
       "    </tr>\n",
       "    <tr>\n",
       "      <th>1</th>\n",
       "      <td>2.0</td>\n",
       "      <td>527.0</td>\n",
       "    </tr>\n",
       "    <tr>\n",
       "      <th>2</th>\n",
       "      <td>3.0</td>\n",
       "      <td>1195.0</td>\n",
       "    </tr>\n",
       "    <tr>\n",
       "      <th>3</th>\n",
       "      <td>4.0</td>\n",
       "      <td>1736.0</td>\n",
       "    </tr>\n",
       "    <tr>\n",
       "      <th>4</th>\n",
       "      <td>5.0</td>\n",
       "      <td>2536.0</td>\n",
       "    </tr>\n",
       "    <tr>\n",
       "      <th>5</th>\n",
       "      <td>6.0</td>\n",
       "      <td>3505.0</td>\n",
       "    </tr>\n",
       "    <tr>\n",
       "      <th>6</th>\n",
       "      <td>7.0</td>\n",
       "      <td>4536.0</td>\n",
       "    </tr>\n",
       "    <tr>\n",
       "      <th>7</th>\n",
       "      <td>8.0</td>\n",
       "      <td>5183.0</td>\n",
       "    </tr>\n",
       "    <tr>\n",
       "      <th>8</th>\n",
       "      <td>9.0</td>\n",
       "      <td>6013.0</td>\n",
       "    </tr>\n",
       "    <tr>\n",
       "      <th>9</th>\n",
       "      <td>10.0</td>\n",
       "      <td>7187.0</td>\n",
       "    </tr>\n",
       "    <tr>\n",
       "      <th>10</th>\n",
       "      <td>11.0</td>\n",
       "      <td>7476.0</td>\n",
       "    </tr>\n",
       "    <tr>\n",
       "      <th>11</th>\n",
       "      <td>12.0</td>\n",
       "      <td>8425.0</td>\n",
       "    </tr>\n",
       "  </tbody>\n",
       "</table>\n",
       "</div>"
      ],
      "text/plain": [
       "    month  messages_count\n",
       "0     1.0           304.0\n",
       "1     2.0           527.0\n",
       "2     3.0          1195.0\n",
       "3     4.0          1736.0\n",
       "4     5.0          2536.0\n",
       "5     6.0          3505.0\n",
       "6     7.0          4536.0\n",
       "7     8.0          5183.0\n",
       "8     9.0          6013.0\n",
       "9    10.0          7187.0\n",
       "10   11.0          7476.0\n",
       "11   12.0          8425.0"
      ]
     },
     "execution_count": 58,
     "metadata": {},
     "output_type": "execute_result"
    }
   ],
   "source": [
    "# Найдем количество потраченных смс по месяцам в тарифе \"Ultra\"\n",
    "use_mess_ultra = tariff_ultra.pivot_table(index='month', values=['messages_count'], aggfunc='sum')\n",
    "use_mess_ultra.sort_values(by= 'month').reset_index()"
   ]
  },
  {
   "cell_type": "code",
   "execution_count": 59,
   "metadata": {},
   "outputs": [
    {
     "data": {
      "text/plain": [
       "<matplotlib.legend.Legend at 0x7fa0daffe350>"
      ]
     },
     "execution_count": 59,
     "metadata": {},
     "output_type": "execute_result"
    },
    {
     "data": {
      "image/png": "[encoded data removed]",
      "text/plain": [
       "<Figure size 432x288 with 1 Axes>"
      ]
     },
     "metadata": {
      "needs_background": "light"
     },
     "output_type": "display_data"
    }
   ],
   "source": [
    "# Построим график, который показывает, сколько у пользователей лимита и сколько они тратят\n",
    "plt.plot(limit_mess_ultra, 'b-', use_mess_ultra, 'g-')\n",
    "plt.legend(['Лимит в месяц','Использованно в месяц'])"
   ]
  },
  {
   "cell_type": "code",
   "execution_count": 60,
   "metadata": {},
   "outputs": [
    {
     "data": {
      "text/plain": [
       "43.71498284147191"
      ]
     },
     "execution_count": 60,
     "metadata": {},
     "output_type": "execute_result"
    }
   ],
   "source": [
    "# Найдем сколько сообщений требуется пользователям тарифа Ultra в среднем в месяц\n",
    "avg_mess_ultra_month = (avg_mess_ultra['messages_count']).sum() / len(avg_mess_ultra['messages_count'])\n",
    "avg_mess_ultra_month"
   ]
  },
  {
   "cell_type": "code",
   "execution_count": 61,
   "metadata": {},
   "outputs": [
    {
     "data": {
      "text/plain": [
       "2282.9460753948824"
      ]
     },
     "execution_count": 61,
     "metadata": {},
     "output_type": "execute_result"
    }
   ],
   "source": [
    "# Найдем дисперсию количества отправленых смс\n",
    "mess_ultra_variance = np.var(tariff_ultra)['messages_count']\n",
    "mess_ultra_variance"
   ]
  },
  {
   "cell_type": "code",
   "execution_count": 62,
   "metadata": {},
   "outputs": [
    {
     "data": {
      "text/plain": [
       "47.78018496610161"
      ]
     },
     "execution_count": 62,
     "metadata": {},
     "output_type": "execute_result"
    }
   ],
   "source": [
    "# Найдем стандартное отклонение отправленых смс\n",
    "mess_ultra_std = np.std(tariff_ultra)['messages_count']\n",
    "mess_ultra_std"
   ]
  },
  {
   "cell_type": "code",
   "execution_count": 63,
   "metadata": {},
   "outputs": [
    {
     "data": {
      "text/plain": [
       "Text(0, 0.5, 'Количество смс')"
      ]
     },
     "execution_count": 63,
     "metadata": {},
     "output_type": "execute_result"
    },
    {
     "data": {
      "image/png": "[encoded data removed]",
      "text/plain": [
       "<Figure size 432x432 with 1 Axes>"
      ]
     },
     "metadata": {
      "needs_background": "light"
     },
     "output_type": "display_data"
    }
   ],
   "source": [
    "avg_mess_ultra['messages_count'].plot(grid=True, figsize=(6, 6), kind= 'bar')\n",
    "plt.title('Гистограмма потраченных смс в месяц')\n",
    "plt.xlabel('Месяц')\n",
    "plt.ylabel('Количество смс')"
   ]
  },
  {
   "cell_type": "code",
   "execution_count": 64,
   "metadata": {
    "scrolled": true
   },
   "outputs": [
    {
     "data": {
      "text/html": [
       "<div>\n",
       "<style scoped>\n",
       "    .dataframe tbody tr th:only-of-type {\n",
       "        vertical-align: middle;\n",
       "    }\n",
       "\n",
       "    .dataframe tbody tr th {\n",
       "        vertical-align: top;\n",
       "    }\n",
       "\n",
       "    .dataframe thead th {\n",
       "        text-align: right;\n",
       "    }\n",
       "</style>\n",
       "<table border=\"1\" class=\"dataframe\">\n",
       "  <thead>\n",
       "    <tr style=\"text-align: right;\">\n",
       "      <th></th>\n",
       "      <th>month</th>\n",
       "      <th>gb_internet_sum</th>\n",
       "    </tr>\n",
       "  </thead>\n",
       "  <tbody>\n",
       "    <tr>\n",
       "      <th>0</th>\n",
       "      <td>1.0</td>\n",
       "      <td>13.222222</td>\n",
       "    </tr>\n",
       "    <tr>\n",
       "      <th>1</th>\n",
       "      <td>2.0</td>\n",
       "      <td>13.090909</td>\n",
       "    </tr>\n",
       "    <tr>\n",
       "      <th>2</th>\n",
       "      <td>3.0</td>\n",
       "      <td>17.648649</td>\n",
       "    </tr>\n",
       "    <tr>\n",
       "      <th>3</th>\n",
       "      <td>4.0</td>\n",
       "      <td>16.963636</td>\n",
       "    </tr>\n",
       "    <tr>\n",
       "      <th>4</th>\n",
       "      <td>5.0</td>\n",
       "      <td>19.666667</td>\n",
       "    </tr>\n",
       "    <tr>\n",
       "      <th>5</th>\n",
       "      <td>6.0</td>\n",
       "      <td>19.168675</td>\n",
       "    </tr>\n",
       "    <tr>\n",
       "      <th>6</th>\n",
       "      <td>7.0</td>\n",
       "      <td>20.733333</td>\n",
       "    </tr>\n",
       "    <tr>\n",
       "      <th>7</th>\n",
       "      <td>8.0</td>\n",
       "      <td>19.783019</td>\n",
       "    </tr>\n",
       "    <tr>\n",
       "      <th>8</th>\n",
       "      <td>9.0</td>\n",
       "      <td>19.412281</td>\n",
       "    </tr>\n",
       "    <tr>\n",
       "      <th>9</th>\n",
       "      <td>10.0</td>\n",
       "      <td>20.229508</td>\n",
       "    </tr>\n",
       "    <tr>\n",
       "      <th>10</th>\n",
       "      <td>11.0</td>\n",
       "      <td>19.954887</td>\n",
       "    </tr>\n",
       "    <tr>\n",
       "      <th>11</th>\n",
       "      <td>12.0</td>\n",
       "      <td>21.898551</td>\n",
       "    </tr>\n",
       "  </tbody>\n",
       "</table>\n",
       "</div>"
      ],
      "text/plain": [
       "    month  gb_internet_sum\n",
       "0     1.0        13.222222\n",
       "1     2.0        13.090909\n",
       "2     3.0        17.648649\n",
       "3     4.0        16.963636\n",
       "4     5.0        19.666667\n",
       "5     6.0        19.168675\n",
       "6     7.0        20.733333\n",
       "7     8.0        19.783019\n",
       "8     9.0        19.412281\n",
       "9    10.0        20.229508\n",
       "10   11.0        19.954887\n",
       "11   12.0        21.898551"
      ]
     },
     "execution_count": 64,
     "metadata": {},
     "output_type": "execute_result"
    }
   ],
   "source": [
    "# Найдем среднее количество использованного интернет трафика по месяцам в тарифе \"Ultra\"\n",
    "avg_inte_ultra = tariff_ultra.pivot_table(index='month', values=['gb_internet_sum'], aggfunc='mean')\n",
    "avg_inte_ultra.sort_values(by= 'month').reset_index()"
   ]
  },
  {
   "cell_type": "code",
   "execution_count": 65,
   "metadata": {},
   "outputs": [],
   "source": [
    "avg_inte_ultra = avg_inte_ultra.reset_index()"
   ]
  },
  {
   "cell_type": "code",
   "execution_count": 66,
   "metadata": {},
   "outputs": [
    {
     "data": {
      "text/html": [
       "<div>\n",
       "<style scoped>\n",
       "    .dataframe tbody tr th:only-of-type {\n",
       "        vertical-align: middle;\n",
       "    }\n",
       "\n",
       "    .dataframe tbody tr th {\n",
       "        vertical-align: top;\n",
       "    }\n",
       "\n",
       "    .dataframe thead th {\n",
       "        text-align: right;\n",
       "    }\n",
       "</style>\n",
       "<table border=\"1\" class=\"dataframe\">\n",
       "  <thead>\n",
       "    <tr style=\"text-align: right;\">\n",
       "      <th></th>\n",
       "      <th>month</th>\n",
       "      <th>gb_per_month_included</th>\n",
       "    </tr>\n",
       "  </thead>\n",
       "  <tbody>\n",
       "    <tr>\n",
       "      <th>0</th>\n",
       "      <td>1.0</td>\n",
       "      <td>270.0</td>\n",
       "    </tr>\n",
       "    <tr>\n",
       "      <th>1</th>\n",
       "      <td>2.0</td>\n",
       "      <td>720.0</td>\n",
       "    </tr>\n",
       "    <tr>\n",
       "      <th>2</th>\n",
       "      <td>3.0</td>\n",
       "      <td>1110.0</td>\n",
       "    </tr>\n",
       "    <tr>\n",
       "      <th>3</th>\n",
       "      <td>4.0</td>\n",
       "      <td>1650.0</td>\n",
       "    </tr>\n",
       "    <tr>\n",
       "      <th>4</th>\n",
       "      <td>5.0</td>\n",
       "      <td>2010.0</td>\n",
       "    </tr>\n",
       "    <tr>\n",
       "      <th>5</th>\n",
       "      <td>6.0</td>\n",
       "      <td>2520.0</td>\n",
       "    </tr>\n",
       "    <tr>\n",
       "      <th>6</th>\n",
       "      <td>7.0</td>\n",
       "      <td>2730.0</td>\n",
       "    </tr>\n",
       "    <tr>\n",
       "      <th>7</th>\n",
       "      <td>8.0</td>\n",
       "      <td>3210.0</td>\n",
       "    </tr>\n",
       "    <tr>\n",
       "      <th>8</th>\n",
       "      <td>9.0</td>\n",
       "      <td>3450.0</td>\n",
       "    </tr>\n",
       "    <tr>\n",
       "      <th>9</th>\n",
       "      <td>10.0</td>\n",
       "      <td>3690.0</td>\n",
       "    </tr>\n",
       "    <tr>\n",
       "      <th>10</th>\n",
       "      <td>11.0</td>\n",
       "      <td>4020.0</td>\n",
       "    </tr>\n",
       "    <tr>\n",
       "      <th>11</th>\n",
       "      <td>12.0</td>\n",
       "      <td>4170.0</td>\n",
       "    </tr>\n",
       "  </tbody>\n",
       "</table>\n",
       "</div>"
      ],
      "text/plain": [
       "    month  gb_per_month_included\n",
       "0     1.0                  270.0\n",
       "1     2.0                  720.0\n",
       "2     3.0                 1110.0\n",
       "3     4.0                 1650.0\n",
       "4     5.0                 2010.0\n",
       "5     6.0                 2520.0\n",
       "6     7.0                 2730.0\n",
       "7     8.0                 3210.0\n",
       "8     9.0                 3450.0\n",
       "9    10.0                 3690.0\n",
       "10   11.0                 4020.0\n",
       "11   12.0                 4170.0"
      ]
     },
     "execution_count": 66,
     "metadata": {},
     "output_type": "execute_result"
    }
   ],
   "source": [
    "# Найдем количество лимита gb по месяцам в тарифе \"Ultra\"\n",
    "limit_gb_ultra = tariff_ultra.pivot_table(index='month', values=['gb_per_month_included'], aggfunc='sum')\n",
    "limit_gb_ultra.sort_values(by= 'month').reset_index()"
   ]
  },
  {
   "cell_type": "code",
   "execution_count": 67,
   "metadata": {},
   "outputs": [
    {
     "data": {
      "text/html": [
       "<div>\n",
       "<style scoped>\n",
       "    .dataframe tbody tr th:only-of-type {\n",
       "        vertical-align: middle;\n",
       "    }\n",
       "\n",
       "    .dataframe tbody tr th {\n",
       "        vertical-align: top;\n",
       "    }\n",
       "\n",
       "    .dataframe thead th {\n",
       "        text-align: right;\n",
       "    }\n",
       "</style>\n",
       "<table border=\"1\" class=\"dataframe\">\n",
       "  <thead>\n",
       "    <tr style=\"text-align: right;\">\n",
       "      <th></th>\n",
       "      <th>month</th>\n",
       "      <th>gb_internet_sum</th>\n",
       "    </tr>\n",
       "  </thead>\n",
       "  <tbody>\n",
       "    <tr>\n",
       "      <th>0</th>\n",
       "      <td>1.0</td>\n",
       "      <td>119.0</td>\n",
       "    </tr>\n",
       "    <tr>\n",
       "      <th>1</th>\n",
       "      <td>2.0</td>\n",
       "      <td>288.0</td>\n",
       "    </tr>\n",
       "    <tr>\n",
       "      <th>2</th>\n",
       "      <td>3.0</td>\n",
       "      <td>653.0</td>\n",
       "    </tr>\n",
       "    <tr>\n",
       "      <th>3</th>\n",
       "      <td>4.0</td>\n",
       "      <td>933.0</td>\n",
       "    </tr>\n",
       "    <tr>\n",
       "      <th>4</th>\n",
       "      <td>5.0</td>\n",
       "      <td>1298.0</td>\n",
       "    </tr>\n",
       "    <tr>\n",
       "      <th>5</th>\n",
       "      <td>6.0</td>\n",
       "      <td>1591.0</td>\n",
       "    </tr>\n",
       "    <tr>\n",
       "      <th>6</th>\n",
       "      <td>7.0</td>\n",
       "      <td>1866.0</td>\n",
       "    </tr>\n",
       "    <tr>\n",
       "      <th>7</th>\n",
       "      <td>8.0</td>\n",
       "      <td>2097.0</td>\n",
       "    </tr>\n",
       "    <tr>\n",
       "      <th>8</th>\n",
       "      <td>9.0</td>\n",
       "      <td>2213.0</td>\n",
       "    </tr>\n",
       "    <tr>\n",
       "      <th>9</th>\n",
       "      <td>10.0</td>\n",
       "      <td>2468.0</td>\n",
       "    </tr>\n",
       "    <tr>\n",
       "      <th>10</th>\n",
       "      <td>11.0</td>\n",
       "      <td>2654.0</td>\n",
       "    </tr>\n",
       "    <tr>\n",
       "      <th>11</th>\n",
       "      <td>12.0</td>\n",
       "      <td>3022.0</td>\n",
       "    </tr>\n",
       "  </tbody>\n",
       "</table>\n",
       "</div>"
      ],
      "text/plain": [
       "    month  gb_internet_sum\n",
       "0     1.0            119.0\n",
       "1     2.0            288.0\n",
       "2     3.0            653.0\n",
       "3     4.0            933.0\n",
       "4     5.0           1298.0\n",
       "5     6.0           1591.0\n",
       "6     7.0           1866.0\n",
       "7     8.0           2097.0\n",
       "8     9.0           2213.0\n",
       "9    10.0           2468.0\n",
       "10   11.0           2654.0\n",
       "11   12.0           3022.0"
      ]
     },
     "execution_count": 67,
     "metadata": {},
     "output_type": "execute_result"
    }
   ],
   "source": [
    "# Найдем количество потраченных gb по месяцам в тарифе \"Ultra\"\n",
    "use_gb_ultra = tariff_ultra.pivot_table(index='month', values=['gb_internet_sum'], aggfunc='sum')\n",
    "use_gb_ultra.sort_values(by= 'month').reset_index()"
   ]
  },
  {
   "cell_type": "code",
   "execution_count": 68,
   "metadata": {},
   "outputs": [
    {
     "data": {
      "text/plain": [
       "<matplotlib.legend.Legend at 0x7fa0e9550a90>"
      ]
     },
     "execution_count": 68,
     "metadata": {},
     "output_type": "execute_result"
    },
    {
     "data": {
      "image/png": "[encoded data removed]",
      "text/plain": [
       "<Figure size 432x288 with 1 Axes>"
      ]
     },
     "metadata": {
      "needs_background": "light"
     },
     "output_type": "display_data"
    }
   ],
   "source": [
    "# Построим график, который показывает, сколько у пользователей лимита и сколько они тратят\n",
    "plt.plot(limit_gb_ultra, 'b-', use_gb_ultra, 'g-')\n",
    "plt.legend(['Лимит в месяц','Использованно в месяц'])"
   ]
  },
  {
   "cell_type": "code",
   "execution_count": 69,
   "metadata": {},
   "outputs": [
    {
     "data": {
      "text/plain": [
       "18.481028061107875"
      ]
     },
     "execution_count": 69,
     "metadata": {},
     "output_type": "execute_result"
    }
   ],
   "source": [
    "# Найдем сколько GB требуется пользователям тарифа Ultra в среднем в месяц\n",
    "avg_inte_ultra_month = (avg_inte_ultra['gb_internet_sum']).sum() / len(avg_inte_ultra['gb_internet_sum'])\n",
    "avg_inte_ultra_month"
   ]
  },
  {
   "cell_type": "code",
   "execution_count": 70,
   "metadata": {},
   "outputs": [
    {
     "data": {
      "text/plain": [
       "94.05017330703484"
      ]
     },
     "execution_count": 70,
     "metadata": {},
     "output_type": "execute_result"
    }
   ],
   "source": [
    "# Найдем дисперсию интернет трафика\n",
    "inte_ultra_variance = np.var(tariff_ultra)['gb_internet_sum']\n",
    "inte_ultra_variance"
   ]
  },
  {
   "cell_type": "code",
   "execution_count": 71,
   "metadata": {},
   "outputs": [
    {
     "data": {
      "text/plain": [
       "9.697946860394463"
      ]
     },
     "execution_count": 71,
     "metadata": {},
     "output_type": "execute_result"
    }
   ],
   "source": [
    "# Найдем стандартное интернет трафика\n",
    "inte_ultra_std = np.std(tariff_ultra)['gb_internet_sum']\n",
    "inte_ultra_std"
   ]
  },
  {
   "cell_type": "code",
   "execution_count": 72,
   "metadata": {},
   "outputs": [
    {
     "data": {
      "text/plain": [
       "Text(0, 0.5, 'Количество ГБ')"
      ]
     },
     "execution_count": 72,
     "metadata": {},
     "output_type": "execute_result"
    },
    {
     "data": {
      "image/png": "[encoded data removed]",
      "text/plain": [
       "<Figure size 432x432 with 1 Axes>"
      ]
     },
     "metadata": {
      "needs_background": "light"
     },
     "output_type": "display_data"
    }
   ],
   "source": [
    "avg_inte_ultra['gb_internet_sum'].plot(grid=True, figsize=(6, 6), kind= 'bar')\n",
    "plt.title('Гистограмма потраченных ГБ в месяц')\n",
    "plt.xlabel('Месяц')\n",
    "plt.ylabel('Количество ГБ')"
   ]
  },
  {
   "cell_type": "markdown",
   "metadata": {},
   "source": [
    "### Иследуем тариф Smart"
   ]
  },
  {
   "cell_type": "code",
   "execution_count": 73,
   "metadata": {},
   "outputs": [
    {
     "data": {
      "text/plain": [
       "1289.9735307312696"
      ]
     },
     "execution_count": 73,
     "metadata": {},
     "output_type": "execute_result"
    }
   ],
   "source": [
    "# Найдем сколько в среднем приносит тариф Ultra\n",
    "avg_sum_smart = (tariff_smart['revenue_per_month']).sum() / len(tariff_smart['revenue_per_month'])\n",
    "avg_sum_smart"
   ]
  },
  {
   "cell_type": "code",
   "execution_count": 74,
   "metadata": {},
   "outputs": [
    {
     "data": {
      "text/html": [
       "<div>\n",
       "<style scoped>\n",
       "    .dataframe tbody tr th:only-of-type {\n",
       "        vertical-align: middle;\n",
       "    }\n",
       "\n",
       "    .dataframe tbody tr th {\n",
       "        vertical-align: top;\n",
       "    }\n",
       "\n",
       "    .dataframe thead th {\n",
       "        text-align: right;\n",
       "    }\n",
       "</style>\n",
       "<table border=\"1\" class=\"dataframe\">\n",
       "  <thead>\n",
       "    <tr style=\"text-align: right;\">\n",
       "      <th></th>\n",
       "      <th>month</th>\n",
       "      <th>calls_sum</th>\n",
       "    </tr>\n",
       "  </thead>\n",
       "  <tbody>\n",
       "    <tr>\n",
       "      <th>0</th>\n",
       "      <td>1.0</td>\n",
       "      <td>203.852941</td>\n",
       "    </tr>\n",
       "    <tr>\n",
       "      <th>1</th>\n",
       "      <td>2.0</td>\n",
       "      <td>298.689655</td>\n",
       "    </tr>\n",
       "    <tr>\n",
       "      <th>2</th>\n",
       "      <td>3.0</td>\n",
       "      <td>390.051948</td>\n",
       "    </tr>\n",
       "    <tr>\n",
       "      <th>3</th>\n",
       "      <td>4.0</td>\n",
       "      <td>367.133929</td>\n",
       "    </tr>\n",
       "    <tr>\n",
       "      <th>4</th>\n",
       "      <td>5.0</td>\n",
       "      <td>387.361702</td>\n",
       "    </tr>\n",
       "    <tr>\n",
       "      <th>5</th>\n",
       "      <td>6.0</td>\n",
       "      <td>398.067485</td>\n",
       "    </tr>\n",
       "    <tr>\n",
       "      <th>6</th>\n",
       "      <td>7.0</td>\n",
       "      <td>408.353234</td>\n",
       "    </tr>\n",
       "    <tr>\n",
       "      <th>7</th>\n",
       "      <td>8.0</td>\n",
       "      <td>423.269231</td>\n",
       "    </tr>\n",
       "    <tr>\n",
       "      <th>8</th>\n",
       "      <td>9.0</td>\n",
       "      <td>430.266409</td>\n",
       "    </tr>\n",
       "    <tr>\n",
       "      <th>9</th>\n",
       "      <td>10.0</td>\n",
       "      <td>427.590444</td>\n",
       "    </tr>\n",
       "    <tr>\n",
       "      <th>10</th>\n",
       "      <td>11.0</td>\n",
       "      <td>436.647619</td>\n",
       "    </tr>\n",
       "    <tr>\n",
       "      <th>11</th>\n",
       "      <td>12.0</td>\n",
       "      <td>479.985119</td>\n",
       "    </tr>\n",
       "  </tbody>\n",
       "</table>\n",
       "</div>"
      ],
      "text/plain": [
       "    month   calls_sum\n",
       "0     1.0  203.852941\n",
       "1     2.0  298.689655\n",
       "2     3.0  390.051948\n",
       "3     4.0  367.133929\n",
       "4     5.0  387.361702\n",
       "5     6.0  398.067485\n",
       "6     7.0  408.353234\n",
       "7     8.0  423.269231\n",
       "8     9.0  430.266409\n",
       "9    10.0  427.590444\n",
       "10   11.0  436.647619\n",
       "11   12.0  479.985119"
      ]
     },
     "execution_count": 74,
     "metadata": {},
     "output_type": "execute_result"
    }
   ],
   "source": [
    "# Найдем среднее количества минут разговора по месяцам в тарифе \"Smart\"\n",
    "avg_call_smart = tariff_smart.pivot_table(index='month', values=['calls_sum'], aggfunc='mean')\n",
    "avg_call_smart.sort_values(by= 'month').reset_index()"
   ]
  },
  {
   "cell_type": "code",
   "execution_count": 75,
   "metadata": {},
   "outputs": [],
   "source": [
    "avg_call_smart = avg_call_smart.reset_index()"
   ]
  },
  {
   "cell_type": "code",
   "execution_count": 76,
   "metadata": {},
   "outputs": [
    {
     "data": {
      "text/html": [
       "<div>\n",
       "<style scoped>\n",
       "    .dataframe tbody tr th:only-of-type {\n",
       "        vertical-align: middle;\n",
       "    }\n",
       "\n",
       "    .dataframe tbody tr th {\n",
       "        vertical-align: top;\n",
       "    }\n",
       "\n",
       "    .dataframe thead th {\n",
       "        text-align: right;\n",
       "    }\n",
       "</style>\n",
       "<table border=\"1\" class=\"dataframe\">\n",
       "  <thead>\n",
       "    <tr style=\"text-align: right;\">\n",
       "      <th></th>\n",
       "      <th>month</th>\n",
       "      <th>minutes_included</th>\n",
       "    </tr>\n",
       "  </thead>\n",
       "  <tbody>\n",
       "    <tr>\n",
       "      <th>0</th>\n",
       "      <td>1.0</td>\n",
       "      <td>17000</td>\n",
       "    </tr>\n",
       "    <tr>\n",
       "      <th>1</th>\n",
       "      <td>2.0</td>\n",
       "      <td>29000</td>\n",
       "    </tr>\n",
       "    <tr>\n",
       "      <th>2</th>\n",
       "      <td>3.0</td>\n",
       "      <td>38500</td>\n",
       "    </tr>\n",
       "    <tr>\n",
       "      <th>3</th>\n",
       "      <td>4.0</td>\n",
       "      <td>56000</td>\n",
       "    </tr>\n",
       "    <tr>\n",
       "      <th>4</th>\n",
       "      <td>5.0</td>\n",
       "      <td>70500</td>\n",
       "    </tr>\n",
       "    <tr>\n",
       "      <th>5</th>\n",
       "      <td>6.0</td>\n",
       "      <td>82000</td>\n",
       "    </tr>\n",
       "    <tr>\n",
       "      <th>6</th>\n",
       "      <td>7.0</td>\n",
       "      <td>100500</td>\n",
       "    </tr>\n",
       "    <tr>\n",
       "      <th>7</th>\n",
       "      <td>8.0</td>\n",
       "      <td>117500</td>\n",
       "    </tr>\n",
       "    <tr>\n",
       "      <th>8</th>\n",
       "      <td>9.0</td>\n",
       "      <td>130000</td>\n",
       "    </tr>\n",
       "    <tr>\n",
       "      <th>9</th>\n",
       "      <td>10.0</td>\n",
       "      <td>147000</td>\n",
       "    </tr>\n",
       "    <tr>\n",
       "      <th>10</th>\n",
       "      <td>11.0</td>\n",
       "      <td>158000</td>\n",
       "    </tr>\n",
       "    <tr>\n",
       "      <th>11</th>\n",
       "      <td>12.0</td>\n",
       "      <td>168500</td>\n",
       "    </tr>\n",
       "  </tbody>\n",
       "</table>\n",
       "</div>"
      ],
      "text/plain": [
       "    month  minutes_included\n",
       "0     1.0             17000\n",
       "1     2.0             29000\n",
       "2     3.0             38500\n",
       "3     4.0             56000\n",
       "4     5.0             70500\n",
       "5     6.0             82000\n",
       "6     7.0            100500\n",
       "7     8.0            117500\n",
       "8     9.0            130000\n",
       "9    10.0            147000\n",
       "10   11.0            158000\n",
       "11   12.0            168500"
      ]
     },
     "execution_count": 76,
     "metadata": {},
     "output_type": "execute_result"
    }
   ],
   "source": [
    "# Найдем количество лимита минут разговора по месяцам в тарифе \"Smart\"\n",
    "limit_call_smart = tariff_smart.pivot_table(index='month', values=['minutes_included'], aggfunc='sum')\n",
    "limit_call_smart.sort_values(by= 'month').reset_index()"
   ]
  },
  {
   "cell_type": "code",
   "execution_count": 77,
   "metadata": {},
   "outputs": [
    {
     "data": {
      "text/html": [
       "<div>\n",
       "<style scoped>\n",
       "    .dataframe tbody tr th:only-of-type {\n",
       "        vertical-align: middle;\n",
       "    }\n",
       "\n",
       "    .dataframe tbody tr th {\n",
       "        vertical-align: top;\n",
       "    }\n",
       "\n",
       "    .dataframe thead th {\n",
       "        text-align: right;\n",
       "    }\n",
       "</style>\n",
       "<table border=\"1\" class=\"dataframe\">\n",
       "  <thead>\n",
       "    <tr style=\"text-align: right;\">\n",
       "      <th></th>\n",
       "      <th>month</th>\n",
       "      <th>calls_sum</th>\n",
       "    </tr>\n",
       "  </thead>\n",
       "  <tbody>\n",
       "    <tr>\n",
       "      <th>0</th>\n",
       "      <td>1.0</td>\n",
       "      <td>6931.0</td>\n",
       "    </tr>\n",
       "    <tr>\n",
       "      <th>1</th>\n",
       "      <td>2.0</td>\n",
       "      <td>17324.0</td>\n",
       "    </tr>\n",
       "    <tr>\n",
       "      <th>2</th>\n",
       "      <td>3.0</td>\n",
       "      <td>30034.0</td>\n",
       "    </tr>\n",
       "    <tr>\n",
       "      <th>3</th>\n",
       "      <td>4.0</td>\n",
       "      <td>41119.0</td>\n",
       "    </tr>\n",
       "    <tr>\n",
       "      <th>4</th>\n",
       "      <td>5.0</td>\n",
       "      <td>54618.0</td>\n",
       "    </tr>\n",
       "    <tr>\n",
       "      <th>5</th>\n",
       "      <td>6.0</td>\n",
       "      <td>64885.0</td>\n",
       "    </tr>\n",
       "    <tr>\n",
       "      <th>6</th>\n",
       "      <td>7.0</td>\n",
       "      <td>82079.0</td>\n",
       "    </tr>\n",
       "    <tr>\n",
       "      <th>7</th>\n",
       "      <td>8.0</td>\n",
       "      <td>99045.0</td>\n",
       "    </tr>\n",
       "    <tr>\n",
       "      <th>8</th>\n",
       "      <td>9.0</td>\n",
       "      <td>111439.0</td>\n",
       "    </tr>\n",
       "    <tr>\n",
       "      <th>9</th>\n",
       "      <td>10.0</td>\n",
       "      <td>125284.0</td>\n",
       "    </tr>\n",
       "    <tr>\n",
       "      <th>10</th>\n",
       "      <td>11.0</td>\n",
       "      <td>137544.0</td>\n",
       "    </tr>\n",
       "    <tr>\n",
       "      <th>11</th>\n",
       "      <td>12.0</td>\n",
       "      <td>161275.0</td>\n",
       "    </tr>\n",
       "  </tbody>\n",
       "</table>\n",
       "</div>"
      ],
      "text/plain": [
       "    month  calls_sum\n",
       "0     1.0     6931.0\n",
       "1     2.0    17324.0\n",
       "2     3.0    30034.0\n",
       "3     4.0    41119.0\n",
       "4     5.0    54618.0\n",
       "5     6.0    64885.0\n",
       "6     7.0    82079.0\n",
       "7     8.0    99045.0\n",
       "8     9.0   111439.0\n",
       "9    10.0   125284.0\n",
       "10   11.0   137544.0\n",
       "11   12.0   161275.0"
      ]
     },
     "execution_count": 77,
     "metadata": {},
     "output_type": "execute_result"
    }
   ],
   "source": [
    "# Найдем количество потраченных минут разговора по месяцам в тарифе \"Smart\"\n",
    "use_call_smart = tariff_smart.pivot_table(index='month', values=['calls_sum'], aggfunc='sum')\n",
    "use_call_smart.sort_values(by= 'month').reset_index()"
   ]
  },
  {
   "cell_type": "code",
   "execution_count": 78,
   "metadata": {
    "scrolled": true
   },
   "outputs": [
    {
     "data": {
      "text/plain": [
       "<matplotlib.legend.Legend at 0x7fa0e9568e90>"
      ]
     },
     "execution_count": 78,
     "metadata": {},
     "output_type": "execute_result"
    },
    {
     "data": {
      "image/png": "[encoded data removed]",
      "text/plain": [
       "<Figure size 432x288 with 1 Axes>"
      ]
     },
     "metadata": {
      "needs_background": "light"
     },
     "output_type": "display_data"
    }
   ],
   "source": [
    "# Найдем количество потраченных смс по месяцам в тарифе \"Smart\"\n",
    "plt.plot(limit_call_smart, 'b-', use_call_smart, 'g-')\n",
    "plt.legend(['Лимит в месяц','Использованно в месяц'])"
   ]
  },
  {
   "cell_type": "code",
   "execution_count": 79,
   "metadata": {},
   "outputs": [
    {
     "data": {
      "text/plain": [
       "387.605809617519"
      ]
     },
     "execution_count": 79,
     "metadata": {},
     "output_type": "execute_result"
    }
   ],
   "source": [
    "# Найдем сколько минут требуется пользователям тарифа Smart в среднем в месяц\n",
    "avg_call_smart_month = (avg_call_smart['calls_sum']).sum() / len(avg_call_smart['calls_sum'])\n",
    "avg_call_smart_month"
   ]
  },
  {
   "cell_type": "code",
   "execution_count": 80,
   "metadata": {},
   "outputs": [
    {
     "data": {
      "text/plain": [
       "35828.06530953033"
      ]
     },
     "execution_count": 80,
     "metadata": {},
     "output_type": "execute_result"
    }
   ],
   "source": [
    "# Найдем дисперсию количества минут разговора\n",
    "call_smart_variance = np.var(tariff_smart)['calls_sum']\n",
    "call_smart_variance"
   ]
  },
  {
   "cell_type": "code",
   "execution_count": 81,
   "metadata": {},
   "outputs": [
    {
     "data": {
      "text/plain": [
       "189.2830296395594"
      ]
     },
     "execution_count": 81,
     "metadata": {},
     "output_type": "execute_result"
    }
   ],
   "source": [
    "# Найдем стандартное отклонение минут разговора\n",
    "call_smart_std = np.std(tariff_smart)['calls_sum']\n",
    "call_smart_std"
   ]
  },
  {
   "cell_type": "code",
   "execution_count": 80,
   "metadata": {},
   "outputs": [
    {
     "data": {
      "text/plain": [
       "Text(0, 0.5, 'Количество минут')"
      ]
     },
     "execution_count": 80,
     "metadata": {},
     "output_type": "execute_result"
    },
    {
     "data": {
      "image/png": "[encoded data removed]",
      "text/plain": [
       "<Figure size 432x432 with 1 Axes>"
      ]
     },
     "metadata": {
      "needs_background": "light"
     },
     "output_type": "display_data"
    }
   ],
   "source": [
    "avg_call_smart['calls_sum'].plot(grid=True, figsize=(6, 6), kind= 'bar')\n",
    "plt.title('Гистограмма потраченных минут в месяц')\n",
    "plt.xlabel('Месяц')\n",
    "plt.ylabel('Количество минут')"
   ]
  },
  {
   "cell_type": "code",
   "execution_count": 82,
   "metadata": {},
   "outputs": [
    {
     "data": {
      "text/html": [
       "<div>\n",
       "<style scoped>\n",
       "    .dataframe tbody tr th:only-of-type {\n",
       "        vertical-align: middle;\n",
       "    }\n",
       "\n",
       "    .dataframe tbody tr th {\n",
       "        vertical-align: top;\n",
       "    }\n",
       "\n",
       "    .dataframe thead th {\n",
       "        text-align: right;\n",
       "    }\n",
       "</style>\n",
       "<table border=\"1\" class=\"dataframe\">\n",
       "  <thead>\n",
       "    <tr style=\"text-align: right;\">\n",
       "      <th></th>\n",
       "      <th>month</th>\n",
       "      <th>messages_count</th>\n",
       "    </tr>\n",
       "  </thead>\n",
       "  <tbody>\n",
       "    <tr>\n",
       "      <th>0</th>\n",
       "      <td>1.0</td>\n",
       "      <td>18.235294</td>\n",
       "    </tr>\n",
       "    <tr>\n",
       "      <th>1</th>\n",
       "      <td>2.0</td>\n",
       "      <td>24.086207</td>\n",
       "    </tr>\n",
       "    <tr>\n",
       "      <th>2</th>\n",
       "      <td>3.0</td>\n",
       "      <td>31.857143</td>\n",
       "    </tr>\n",
       "    <tr>\n",
       "      <th>3</th>\n",
       "      <td>4.0</td>\n",
       "      <td>30.741071</td>\n",
       "    </tr>\n",
       "    <tr>\n",
       "      <th>4</th>\n",
       "      <td>5.0</td>\n",
       "      <td>33.773050</td>\n",
       "    </tr>\n",
       "    <tr>\n",
       "      <th>5</th>\n",
       "      <td>6.0</td>\n",
       "      <td>33.402439</td>\n",
       "    </tr>\n",
       "    <tr>\n",
       "      <th>6</th>\n",
       "      <td>7.0</td>\n",
       "      <td>33.751244</td>\n",
       "    </tr>\n",
       "    <tr>\n",
       "      <th>7</th>\n",
       "      <td>8.0</td>\n",
       "      <td>33.638298</td>\n",
       "    </tr>\n",
       "    <tr>\n",
       "      <th>8</th>\n",
       "      <td>9.0</td>\n",
       "      <td>33.638462</td>\n",
       "    </tr>\n",
       "    <tr>\n",
       "      <th>9</th>\n",
       "      <td>10.0</td>\n",
       "      <td>33.765306</td>\n",
       "    </tr>\n",
       "    <tr>\n",
       "      <th>10</th>\n",
       "      <td>11.0</td>\n",
       "      <td>34.075949</td>\n",
       "    </tr>\n",
       "    <tr>\n",
       "      <th>11</th>\n",
       "      <td>12.0</td>\n",
       "      <td>35.994065</td>\n",
       "    </tr>\n",
       "  </tbody>\n",
       "</table>\n",
       "</div>"
      ],
      "text/plain": [
       "    month  messages_count\n",
       "0     1.0       18.235294\n",
       "1     2.0       24.086207\n",
       "2     3.0       31.857143\n",
       "3     4.0       30.741071\n",
       "4     5.0       33.773050\n",
       "5     6.0       33.402439\n",
       "6     7.0       33.751244\n",
       "7     8.0       33.638298\n",
       "8     9.0       33.638462\n",
       "9    10.0       33.765306\n",
       "10   11.0       34.075949\n",
       "11   12.0       35.994065"
      ]
     },
     "execution_count": 82,
     "metadata": {},
     "output_type": "execute_result"
    }
   ],
   "source": [
    "# Найдем среднее количество отправленных смс по месяцам в тарифе \"Smart\"\n",
    "avg_mess_smart = tariff_smart.pivot_table(index='month', values=['messages_count'], aggfunc='mean')\n",
    "avg_mess_smart.sort_values(by= 'month').reset_index()"
   ]
  },
  {
   "cell_type": "code",
   "execution_count": 83,
   "metadata": {},
   "outputs": [],
   "source": [
    "avg_mess_smart = avg_mess_smart.reset_index()"
   ]
  },
  {
   "cell_type": "code",
   "execution_count": 84,
   "metadata": {},
   "outputs": [
    {
     "data": {
      "text/html": [
       "<div>\n",
       "<style scoped>\n",
       "    .dataframe tbody tr th:only-of-type {\n",
       "        vertical-align: middle;\n",
       "    }\n",
       "\n",
       "    .dataframe tbody tr th {\n",
       "        vertical-align: top;\n",
       "    }\n",
       "\n",
       "    .dataframe thead th {\n",
       "        text-align: right;\n",
       "    }\n",
       "</style>\n",
       "<table border=\"1\" class=\"dataframe\">\n",
       "  <thead>\n",
       "    <tr style=\"text-align: right;\">\n",
       "      <th></th>\n",
       "      <th>month</th>\n",
       "      <th>messages_included</th>\n",
       "    </tr>\n",
       "  </thead>\n",
       "  <tbody>\n",
       "    <tr>\n",
       "      <th>0</th>\n",
       "      <td>1.0</td>\n",
       "      <td>1700</td>\n",
       "    </tr>\n",
       "    <tr>\n",
       "      <th>1</th>\n",
       "      <td>2.0</td>\n",
       "      <td>2900</td>\n",
       "    </tr>\n",
       "    <tr>\n",
       "      <th>2</th>\n",
       "      <td>3.0</td>\n",
       "      <td>3850</td>\n",
       "    </tr>\n",
       "    <tr>\n",
       "      <th>3</th>\n",
       "      <td>4.0</td>\n",
       "      <td>5600</td>\n",
       "    </tr>\n",
       "    <tr>\n",
       "      <th>4</th>\n",
       "      <td>5.0</td>\n",
       "      <td>7050</td>\n",
       "    </tr>\n",
       "    <tr>\n",
       "      <th>5</th>\n",
       "      <td>6.0</td>\n",
       "      <td>8200</td>\n",
       "    </tr>\n",
       "    <tr>\n",
       "      <th>6</th>\n",
       "      <td>7.0</td>\n",
       "      <td>10050</td>\n",
       "    </tr>\n",
       "    <tr>\n",
       "      <th>7</th>\n",
       "      <td>8.0</td>\n",
       "      <td>11750</td>\n",
       "    </tr>\n",
       "    <tr>\n",
       "      <th>8</th>\n",
       "      <td>9.0</td>\n",
       "      <td>13000</td>\n",
       "    </tr>\n",
       "    <tr>\n",
       "      <th>9</th>\n",
       "      <td>10.0</td>\n",
       "      <td>14700</td>\n",
       "    </tr>\n",
       "    <tr>\n",
       "      <th>10</th>\n",
       "      <td>11.0</td>\n",
       "      <td>15800</td>\n",
       "    </tr>\n",
       "    <tr>\n",
       "      <th>11</th>\n",
       "      <td>12.0</td>\n",
       "      <td>16850</td>\n",
       "    </tr>\n",
       "  </tbody>\n",
       "</table>\n",
       "</div>"
      ],
      "text/plain": [
       "    month  messages_included\n",
       "0     1.0               1700\n",
       "1     2.0               2900\n",
       "2     3.0               3850\n",
       "3     4.0               5600\n",
       "4     5.0               7050\n",
       "5     6.0               8200\n",
       "6     7.0              10050\n",
       "7     8.0              11750\n",
       "8     9.0              13000\n",
       "9    10.0              14700\n",
       "10   11.0              15800\n",
       "11   12.0              16850"
      ]
     },
     "execution_count": 84,
     "metadata": {},
     "output_type": "execute_result"
    }
   ],
   "source": [
    "# Найдем количество лимита смс по месяцам в тарифе \"Smart\"\n",
    "limit_mess_smart = tariff_smart.pivot_table(index='month', values=['messages_included'], aggfunc='sum')\n",
    "limit_mess_smart.sort_values(by= 'month').reset_index()"
   ]
  },
  {
   "cell_type": "code",
   "execution_count": 85,
   "metadata": {},
   "outputs": [
    {
     "data": {
      "text/html": [
       "<div>\n",
       "<style scoped>\n",
       "    .dataframe tbody tr th:only-of-type {\n",
       "        vertical-align: middle;\n",
       "    }\n",
       "\n",
       "    .dataframe tbody tr th {\n",
       "        vertical-align: top;\n",
       "    }\n",
       "\n",
       "    .dataframe thead th {\n",
       "        text-align: right;\n",
       "    }\n",
       "</style>\n",
       "<table border=\"1\" class=\"dataframe\">\n",
       "  <thead>\n",
       "    <tr style=\"text-align: right;\">\n",
       "      <th></th>\n",
       "      <th>month</th>\n",
       "      <th>messages_count</th>\n",
       "    </tr>\n",
       "  </thead>\n",
       "  <tbody>\n",
       "    <tr>\n",
       "      <th>0</th>\n",
       "      <td>1.0</td>\n",
       "      <td>620.0</td>\n",
       "    </tr>\n",
       "    <tr>\n",
       "      <th>1</th>\n",
       "      <td>2.0</td>\n",
       "      <td>1397.0</td>\n",
       "    </tr>\n",
       "    <tr>\n",
       "      <th>2</th>\n",
       "      <td>3.0</td>\n",
       "      <td>2453.0</td>\n",
       "    </tr>\n",
       "    <tr>\n",
       "      <th>3</th>\n",
       "      <td>4.0</td>\n",
       "      <td>3443.0</td>\n",
       "    </tr>\n",
       "    <tr>\n",
       "      <th>4</th>\n",
       "      <td>5.0</td>\n",
       "      <td>4762.0</td>\n",
       "    </tr>\n",
       "    <tr>\n",
       "      <th>5</th>\n",
       "      <td>6.0</td>\n",
       "      <td>5478.0</td>\n",
       "    </tr>\n",
       "    <tr>\n",
       "      <th>6</th>\n",
       "      <td>7.0</td>\n",
       "      <td>6784.0</td>\n",
       "    </tr>\n",
       "    <tr>\n",
       "      <th>7</th>\n",
       "      <td>8.0</td>\n",
       "      <td>7905.0</td>\n",
       "    </tr>\n",
       "    <tr>\n",
       "      <th>8</th>\n",
       "      <td>9.0</td>\n",
       "      <td>8746.0</td>\n",
       "    </tr>\n",
       "    <tr>\n",
       "      <th>9</th>\n",
       "      <td>10.0</td>\n",
       "      <td>9927.0</td>\n",
       "    </tr>\n",
       "    <tr>\n",
       "      <th>10</th>\n",
       "      <td>11.0</td>\n",
       "      <td>10768.0</td>\n",
       "    </tr>\n",
       "    <tr>\n",
       "      <th>11</th>\n",
       "      <td>12.0</td>\n",
       "      <td>12130.0</td>\n",
       "    </tr>\n",
       "  </tbody>\n",
       "</table>\n",
       "</div>"
      ],
      "text/plain": [
       "    month  messages_count\n",
       "0     1.0           620.0\n",
       "1     2.0          1397.0\n",
       "2     3.0          2453.0\n",
       "3     4.0          3443.0\n",
       "4     5.0          4762.0\n",
       "5     6.0          5478.0\n",
       "6     7.0          6784.0\n",
       "7     8.0          7905.0\n",
       "8     9.0          8746.0\n",
       "9    10.0          9927.0\n",
       "10   11.0         10768.0\n",
       "11   12.0         12130.0"
      ]
     },
     "execution_count": 85,
     "metadata": {},
     "output_type": "execute_result"
    }
   ],
   "source": [
    "# Найдем количество потраченных смс по месяцам в тарифе \"Smart\"\n",
    "use_mess_smart = tariff_smart.pivot_table(index='month', values=['messages_count'], aggfunc='sum')\n",
    "use_mess_smart.sort_values(by= 'month').reset_index()"
   ]
  },
  {
   "cell_type": "code",
   "execution_count": 86,
   "metadata": {
    "scrolled": false
   },
   "outputs": [
    {
     "data": {
      "text/plain": [
       "<matplotlib.legend.Legend at 0x7fa0e95cef90>"
      ]
     },
     "execution_count": 86,
     "metadata": {},
     "output_type": "execute_result"
    },
    {
     "data": {
      "image/png": "[encoded data removed]",
      "text/plain": [
       "<Figure size 432x288 with 1 Axes>"
      ]
     },
     "metadata": {
      "needs_background": "light"
     },
     "output_type": "display_data"
    }
   ],
   "source": [
    "# Найдем количество потраченных смс по месяцам в тарифе \"Smart\"\n",
    "plt.plot(limit_mess_smart, 'b-', use_mess_smart, 'g-')\n",
    "plt.legend(['Лимит в месяц','Использованно в месяц'])"
   ]
  },
  {
   "cell_type": "code",
   "execution_count": 87,
   "metadata": {},
   "outputs": [
    {
     "data": {
      "text/plain": [
       "31.413210661085547"
      ]
     },
     "execution_count": 87,
     "metadata": {},
     "output_type": "execute_result"
    }
   ],
   "source": [
    "# Найдем сколько сообщений требуется пользователям тарифа Smart в среднем в месяц\n",
    "avg_mess_smart_month = (avg_mess_smart['messages_count']).sum() / len(avg_mess_smart['messages_count'])\n",
    "avg_mess_smart_month"
   ]
  },
  {
   "cell_type": "code",
   "execution_count": 88,
   "metadata": {
    "scrolled": true
   },
   "outputs": [
    {
     "data": {
      "text/plain": [
       "796.455482917076"
      ]
     },
     "execution_count": 88,
     "metadata": {},
     "output_type": "execute_result"
    }
   ],
   "source": [
    "# Найдем дисперсию количества отправленых смс\n",
    "mess_smart_variance = np.var(tariff_smart)['messages_count']\n",
    "mess_smart_variance"
   ]
  },
  {
   "cell_type": "code",
   "execution_count": 89,
   "metadata": {},
   "outputs": [
    {
     "data": {
      "text/plain": [
       "28.221542886898938"
      ]
     },
     "execution_count": 89,
     "metadata": {},
     "output_type": "execute_result"
    }
   ],
   "source": [
    "# Найдем стандартное отклонение отправленых смс\n",
    "mess_smart_std = np.std(tariff_smart)['messages_count']\n",
    "mess_smart_std"
   ]
  },
  {
   "cell_type": "code",
   "execution_count": 90,
   "metadata": {},
   "outputs": [
    {
     "data": {
      "text/plain": [
       "Text(0, 0.5, 'Количество смс')"
      ]
     },
     "execution_count": 90,
     "metadata": {},
     "output_type": "execute_result"
    },
    {
     "data": {
      "image/png": "[encoded data removed]",
      "text/plain": [
       "<Figure size 432x432 with 1 Axes>"
      ]
     },
     "metadata": {
      "needs_background": "light"
     },
     "output_type": "display_data"
    }
   ],
   "source": [
    "avg_mess_smart['messages_count'].plot(grid=True, figsize=(6, 6), kind= 'bar')\n",
    "plt.title('Гистограмма потраченных смс в месяц')\n",
    "plt.xlabel('Месяц')\n",
    "plt.ylabel('Количество смс')"
   ]
  },
  {
   "cell_type": "code",
   "execution_count": 91,
   "metadata": {},
   "outputs": [
    {
     "data": {
      "text/html": [
       "<div>\n",
       "<style scoped>\n",
       "    .dataframe tbody tr th:only-of-type {\n",
       "        vertical-align: middle;\n",
       "    }\n",
       "\n",
       "    .dataframe tbody tr th {\n",
       "        vertical-align: top;\n",
       "    }\n",
       "\n",
       "    .dataframe thead th {\n",
       "        text-align: right;\n",
       "    }\n",
       "</style>\n",
       "<table border=\"1\" class=\"dataframe\">\n",
       "  <thead>\n",
       "    <tr style=\"text-align: right;\">\n",
       "      <th></th>\n",
       "      <th>month</th>\n",
       "      <th>gb_internet_sum</th>\n",
       "    </tr>\n",
       "  </thead>\n",
       "  <tbody>\n",
       "    <tr>\n",
       "      <th>0</th>\n",
       "      <td>1.0</td>\n",
       "      <td>8.735294</td>\n",
       "    </tr>\n",
       "    <tr>\n",
       "      <th>1</th>\n",
       "      <td>2.0</td>\n",
       "      <td>11.844828</td>\n",
       "    </tr>\n",
       "    <tr>\n",
       "      <th>2</th>\n",
       "      <td>3.0</td>\n",
       "      <td>15.233766</td>\n",
       "    </tr>\n",
       "    <tr>\n",
       "      <th>3</th>\n",
       "      <td>4.0</td>\n",
       "      <td>13.625000</td>\n",
       "    </tr>\n",
       "    <tr>\n",
       "      <th>4</th>\n",
       "      <td>5.0</td>\n",
       "      <td>15.907801</td>\n",
       "    </tr>\n",
       "    <tr>\n",
       "      <th>5</th>\n",
       "      <td>6.0</td>\n",
       "      <td>15.951220</td>\n",
       "    </tr>\n",
       "    <tr>\n",
       "      <th>6</th>\n",
       "      <td>7.0</td>\n",
       "      <td>15.875622</td>\n",
       "    </tr>\n",
       "    <tr>\n",
       "      <th>7</th>\n",
       "      <td>8.0</td>\n",
       "      <td>16.807692</td>\n",
       "    </tr>\n",
       "    <tr>\n",
       "      <th>8</th>\n",
       "      <td>9.0</td>\n",
       "      <td>16.392308</td>\n",
       "    </tr>\n",
       "    <tr>\n",
       "      <th>9</th>\n",
       "      <td>10.0</td>\n",
       "      <td>16.880952</td>\n",
       "    </tr>\n",
       "    <tr>\n",
       "      <th>10</th>\n",
       "      <td>11.0</td>\n",
       "      <td>17.000000</td>\n",
       "    </tr>\n",
       "    <tr>\n",
       "      <th>11</th>\n",
       "      <td>12.0</td>\n",
       "      <td>18.201780</td>\n",
       "    </tr>\n",
       "  </tbody>\n",
       "</table>\n",
       "</div>"
      ],
      "text/plain": [
       "    month  gb_internet_sum\n",
       "0     1.0         8.735294\n",
       "1     2.0        11.844828\n",
       "2     3.0        15.233766\n",
       "3     4.0        13.625000\n",
       "4     5.0        15.907801\n",
       "5     6.0        15.951220\n",
       "6     7.0        15.875622\n",
       "7     8.0        16.807692\n",
       "8     9.0        16.392308\n",
       "9    10.0        16.880952\n",
       "10   11.0        17.000000\n",
       "11   12.0        18.201780"
      ]
     },
     "execution_count": 91,
     "metadata": {},
     "output_type": "execute_result"
    }
   ],
   "source": [
    "# Найдем среднее количество использованного интернет трафика по месяцам в тарифе \"Smart\"\n",
    "avg_inte_smart = tariff_smart.pivot_table(index='month', values=['gb_internet_sum'], aggfunc='mean')\n",
    "avg_inte_smart.sort_values(by= 'month').reset_index()"
   ]
  },
  {
   "cell_type": "code",
   "execution_count": 92,
   "metadata": {},
   "outputs": [],
   "source": [
    "avg_inte_smart = avg_inte_smart.reset_index()"
   ]
  },
  {
   "cell_type": "code",
   "execution_count": 93,
   "metadata": {},
   "outputs": [
    {
     "data": {
      "text/html": [
       "<div>\n",
       "<style scoped>\n",
       "    .dataframe tbody tr th:only-of-type {\n",
       "        vertical-align: middle;\n",
       "    }\n",
       "\n",
       "    .dataframe tbody tr th {\n",
       "        vertical-align: top;\n",
       "    }\n",
       "\n",
       "    .dataframe thead th {\n",
       "        text-align: right;\n",
       "    }\n",
       "</style>\n",
       "<table border=\"1\" class=\"dataframe\">\n",
       "  <thead>\n",
       "    <tr style=\"text-align: right;\">\n",
       "      <th></th>\n",
       "      <th>month</th>\n",
       "      <th>gb_per_month_included</th>\n",
       "    </tr>\n",
       "  </thead>\n",
       "  <tbody>\n",
       "    <tr>\n",
       "      <th>0</th>\n",
       "      <td>1.0</td>\n",
       "      <td>510.0</td>\n",
       "    </tr>\n",
       "    <tr>\n",
       "      <th>1</th>\n",
       "      <td>2.0</td>\n",
       "      <td>870.0</td>\n",
       "    </tr>\n",
       "    <tr>\n",
       "      <th>2</th>\n",
       "      <td>3.0</td>\n",
       "      <td>1155.0</td>\n",
       "    </tr>\n",
       "    <tr>\n",
       "      <th>3</th>\n",
       "      <td>4.0</td>\n",
       "      <td>1680.0</td>\n",
       "    </tr>\n",
       "    <tr>\n",
       "      <th>4</th>\n",
       "      <td>5.0</td>\n",
       "      <td>2115.0</td>\n",
       "    </tr>\n",
       "    <tr>\n",
       "      <th>5</th>\n",
       "      <td>6.0</td>\n",
       "      <td>2460.0</td>\n",
       "    </tr>\n",
       "    <tr>\n",
       "      <th>6</th>\n",
       "      <td>7.0</td>\n",
       "      <td>3015.0</td>\n",
       "    </tr>\n",
       "    <tr>\n",
       "      <th>7</th>\n",
       "      <td>8.0</td>\n",
       "      <td>3525.0</td>\n",
       "    </tr>\n",
       "    <tr>\n",
       "      <th>8</th>\n",
       "      <td>9.0</td>\n",
       "      <td>3900.0</td>\n",
       "    </tr>\n",
       "    <tr>\n",
       "      <th>9</th>\n",
       "      <td>10.0</td>\n",
       "      <td>4410.0</td>\n",
       "    </tr>\n",
       "    <tr>\n",
       "      <th>10</th>\n",
       "      <td>11.0</td>\n",
       "      <td>4740.0</td>\n",
       "    </tr>\n",
       "    <tr>\n",
       "      <th>11</th>\n",
       "      <td>12.0</td>\n",
       "      <td>5055.0</td>\n",
       "    </tr>\n",
       "  </tbody>\n",
       "</table>\n",
       "</div>"
      ],
      "text/plain": [
       "    month  gb_per_month_included\n",
       "0     1.0                  510.0\n",
       "1     2.0                  870.0\n",
       "2     3.0                 1155.0\n",
       "3     4.0                 1680.0\n",
       "4     5.0                 2115.0\n",
       "5     6.0                 2460.0\n",
       "6     7.0                 3015.0\n",
       "7     8.0                 3525.0\n",
       "8     9.0                 3900.0\n",
       "9    10.0                 4410.0\n",
       "10   11.0                 4740.0\n",
       "11   12.0                 5055.0"
      ]
     },
     "execution_count": 93,
     "metadata": {},
     "output_type": "execute_result"
    }
   ],
   "source": [
    "# Найдем количество лимита gb по месяцам в тарифе \"Smart\"\n",
    "limit_gb_smart = tariff_smart.pivot_table(index='month', values=['gb_per_month_included'], aggfunc='sum')\n",
    "limit_gb_smart.sort_values(by= 'month').reset_index()"
   ]
  },
  {
   "cell_type": "code",
   "execution_count": 94,
   "metadata": {},
   "outputs": [
    {
     "data": {
      "text/html": [
       "<div>\n",
       "<style scoped>\n",
       "    .dataframe tbody tr th:only-of-type {\n",
       "        vertical-align: middle;\n",
       "    }\n",
       "\n",
       "    .dataframe tbody tr th {\n",
       "        vertical-align: top;\n",
       "    }\n",
       "\n",
       "    .dataframe thead th {\n",
       "        text-align: right;\n",
       "    }\n",
       "</style>\n",
       "<table border=\"1\" class=\"dataframe\">\n",
       "  <thead>\n",
       "    <tr style=\"text-align: right;\">\n",
       "      <th></th>\n",
       "      <th>month</th>\n",
       "      <th>gb_internet_sum</th>\n",
       "    </tr>\n",
       "  </thead>\n",
       "  <tbody>\n",
       "    <tr>\n",
       "      <th>0</th>\n",
       "      <td>1.0</td>\n",
       "      <td>297.0</td>\n",
       "    </tr>\n",
       "    <tr>\n",
       "      <th>1</th>\n",
       "      <td>2.0</td>\n",
       "      <td>687.0</td>\n",
       "    </tr>\n",
       "    <tr>\n",
       "      <th>2</th>\n",
       "      <td>3.0</td>\n",
       "      <td>1173.0</td>\n",
       "    </tr>\n",
       "    <tr>\n",
       "      <th>3</th>\n",
       "      <td>4.0</td>\n",
       "      <td>1526.0</td>\n",
       "    </tr>\n",
       "    <tr>\n",
       "      <th>4</th>\n",
       "      <td>5.0</td>\n",
       "      <td>2243.0</td>\n",
       "    </tr>\n",
       "    <tr>\n",
       "      <th>5</th>\n",
       "      <td>6.0</td>\n",
       "      <td>2616.0</td>\n",
       "    </tr>\n",
       "    <tr>\n",
       "      <th>6</th>\n",
       "      <td>7.0</td>\n",
       "      <td>3191.0</td>\n",
       "    </tr>\n",
       "    <tr>\n",
       "      <th>7</th>\n",
       "      <td>8.0</td>\n",
       "      <td>3933.0</td>\n",
       "    </tr>\n",
       "    <tr>\n",
       "      <th>8</th>\n",
       "      <td>9.0</td>\n",
       "      <td>4262.0</td>\n",
       "    </tr>\n",
       "    <tr>\n",
       "      <th>9</th>\n",
       "      <td>10.0</td>\n",
       "      <td>4963.0</td>\n",
       "    </tr>\n",
       "    <tr>\n",
       "      <th>10</th>\n",
       "      <td>11.0</td>\n",
       "      <td>5372.0</td>\n",
       "    </tr>\n",
       "    <tr>\n",
       "      <th>11</th>\n",
       "      <td>12.0</td>\n",
       "      <td>6134.0</td>\n",
       "    </tr>\n",
       "  </tbody>\n",
       "</table>\n",
       "</div>"
      ],
      "text/plain": [
       "    month  gb_internet_sum\n",
       "0     1.0            297.0\n",
       "1     2.0            687.0\n",
       "2     3.0           1173.0\n",
       "3     4.0           1526.0\n",
       "4     5.0           2243.0\n",
       "5     6.0           2616.0\n",
       "6     7.0           3191.0\n",
       "7     8.0           3933.0\n",
       "8     9.0           4262.0\n",
       "9    10.0           4963.0\n",
       "10   11.0           5372.0\n",
       "11   12.0           6134.0"
      ]
     },
     "execution_count": 94,
     "metadata": {},
     "output_type": "execute_result"
    }
   ],
   "source": [
    "# Найдем количество потраченных gb по месяцам в тарифе \"Smart\"\n",
    "use_gb_smart = tariff_smart.pivot_table(index='month', values=['gb_internet_sum'], aggfunc='sum')\n",
    "use_gb_smart.sort_values(by= 'month').reset_index()"
   ]
  },
  {
   "cell_type": "code",
   "execution_count": 95,
   "metadata": {
    "scrolled": false
   },
   "outputs": [
    {
     "data": {
      "text/plain": [
       "<matplotlib.legend.Legend at 0x7fa0b971bf50>"
      ]
     },
     "execution_count": 95,
     "metadata": {},
     "output_type": "execute_result"
    },
    {
     "data": {
      "image/png": "[encoded data removed]",
      "text/plain": [
       "<Figure size 432x288 with 1 Axes>"
      ]
     },
     "metadata": {
      "needs_background": "light"
     },
     "output_type": "display_data"
    }
   ],
   "source": [
    "# Найдем количество потраченных смс по месяцам в тарифе \"Smart\"\n",
    "plt.plot(limit_gb_smart, 'b-', use_gb_smart, 'g-')\n",
    "plt.legend(['Лимит в месяц','Использованно в месяц'])"
   ]
  },
  {
   "cell_type": "code",
   "execution_count": 96,
   "metadata": {},
   "outputs": [
    {
     "data": {
      "text/plain": [
       "15.204688629598747"
      ]
     },
     "execution_count": 96,
     "metadata": {},
     "output_type": "execute_result"
    }
   ],
   "source": [
    "# Найдем сколько GB требуется пользователям тарифа Smart в среднем в месяц\n",
    "avg_inte_smart_month = (avg_inte_smart['gb_internet_sum']).sum() / len(avg_inte_smart['gb_internet_sum'])\n",
    "avg_inte_smart_month"
   ]
  },
  {
   "cell_type": "code",
   "execution_count": 97,
   "metadata": {},
   "outputs": [
    {
     "data": {
      "text/plain": [
       "32.908978554322495"
      ]
     },
     "execution_count": 97,
     "metadata": {},
     "output_type": "execute_result"
    }
   ],
   "source": [
    "# Найдем дисперсию количества использованного интернет трафика\n",
    "inte_smart_variance = np.var(tariff_smart)['gb_internet_sum']\n",
    "inte_smart_variance"
   ]
  },
  {
   "cell_type": "code",
   "execution_count": 98,
   "metadata": {},
   "outputs": [
    {
     "data": {
      "text/plain": [
       "5.73663477609674"
      ]
     },
     "execution_count": 98,
     "metadata": {},
     "output_type": "execute_result"
    }
   ],
   "source": [
    "# Найдем стандартное отклонение использованного интернет трафика\n",
    "inte_smart_std = np.std(tariff_smart)['gb_internet_sum']\n",
    "inte_smart_std"
   ]
  },
  {
   "cell_type": "code",
   "execution_count": 99,
   "metadata": {
    "scrolled": false
   },
   "outputs": [
    {
     "data": {
      "text/plain": [
       "Text(0, 0.5, 'Количество ГБ')"
      ]
     },
     "execution_count": 99,
     "metadata": {},
     "output_type": "execute_result"
    },
    {
     "data": {
      "image/png": "[encoded data removed]",
      "text/plain": [
       "<Figure size 432x432 with 1 Axes>"
      ]
     },
     "metadata": {
      "needs_background": "light"
     },
     "output_type": "display_data"
    }
   ],
   "source": [
    "avg_inte_smart['gb_internet_sum'].plot(grid=True, figsize=(6, 6), kind= 'bar')\n",
    "plt.title('Гистограмма потраченных ГБ в месяц')\n",
    "plt.xlabel('Месяц')\n",
    "plt.ylabel('Количество ГБ')"
   ]
  },
  {
   "cell_type": "markdown",
   "metadata": {},
   "source": [
    "### Графики однотипных услуг"
   ]
  },
  {
   "cell_type": "code",
   "execution_count": 100,
   "metadata": {
    "scrolled": false
   },
   "outputs": [
    {
     "data": {
      "image/png": "[encoded data removed]",
      "text/plain": [
       "<Figure size 648x432 with 1 Axes>"
      ]
     },
     "metadata": {
      "needs_background": "light"
     },
     "output_type": "display_data"
    }
   ],
   "source": [
    "# Построим два графика по сумме звонков для тарифа 'Ultra' и 'Smart' \n",
    "fig, ax = plt.subplots(figsize=(9, 6)) # создание объектов фигуры и оси\n",
    "# Вызываем метод hist для построения гистограммы\n",
    "ax.hist(general_table_new.query(\"tariff=='ultra'\")['calls_sum'], bins=31, alpha=0.5, label='Ultra')\n",
    "ax.hist(general_table_new.query(\"tariff=='smart'\")['calls_sum'], bins=31, alpha=0.5, label='Smart')\n",
    "ax.legend();"
   ]
  },
  {
   "cell_type": "markdown",
   "metadata": {},
   "source": [
    "Вывод: Мы видим, что в тарифе Smart довольно много пользователей выходят за свой лимит в 500 минут, а вот пользователи тарифа Ultra не тратят свой лимит в 3000 минут."
   ]
  },
  {
   "cell_type": "code",
   "execution_count": 101,
   "metadata": {
    "scrolled": true
   },
   "outputs": [
    {
     "data": {
      "image/png": "[encoded data removed]",
      "text/plain": [
       "<Figure size 648x432 with 1 Axes>"
      ]
     },
     "metadata": {
      "needs_background": "light"
     },
     "output_type": "display_data"
    }
   ],
   "source": [
    "# Построим два графика по сумме смс для тарифа 'Ultra' и 'Smart' \n",
    "fig, ax = plt.subplots(figsize=(9, 6)) # создание объектов фигуры и оси\n",
    "# Вызываем метод hist для построения гистограммы\n",
    "ax.hist(general_table_new.query(\"tariff=='ultra'\")['messages_count'], bins=31, alpha=0.5, label='Ultra')\n",
    "ax.hist(general_table_new.query(\"tariff=='smart'\")['messages_count'], bins=31, alpha=0.5, label='Smart')\n",
    "\n",
    "ax.legend();"
   ]
  },
  {
   "cell_type": "markdown",
   "metadata": {},
   "source": [
    "Вывод: Мы видим, что пользователи тарифа Smart выходят за свой лимит в 50 смс, а вот пользователи тарифа Ultra снова не тратят свой лимит в 1000 смс."
   ]
  },
  {
   "cell_type": "code",
   "execution_count": 101,
   "metadata": {},
   "outputs": [
    {
     "data": {
      "image/png": "[encoded data removed]",
      "text/plain": [
       "<Figure size 648x432 with 1 Axes>"
      ]
     },
     "metadata": {
      "needs_background": "light"
     },
     "output_type": "display_data"
    }
   ],
   "source": [
    "# Построим два графика по сумме GB для тарифа 'Ultra' и 'Smart' \n",
    "fig, ax = plt.subplots(figsize=(9, 6))   # создание объектов фигуры и оси\n",
    "for t in general_table_new['tariff'].unique():\n",
    "    series = general_table_new[general_table_new['tariff']==t]['gb_internet_sum']\n",
    "    ax.hist(series, bins=20, alpha=0.5, label=t.upper())\n",
    "ax.legend();"
   ]
  },
  {
   "cell_type": "markdown",
   "metadata": {},
   "source": [
    "Вывод: Мы можем наблюдать, что много пользователей тарифа Smart выходят за свой лимит в 15 гб, и даже пользователи тарифа Ultra используют больше своего лимита в 30 гб, но их не очень много."
   ]
  },
  {
   "cell_type": "markdown",
   "metadata": {},
   "source": [
    "### Иследуем общий доход относительно тарифов"
   ]
  },
  {
   "cell_type": "code",
   "execution_count": 102,
   "metadata": {
    "scrolled": false
   },
   "outputs": [
    {
     "name": "stdout",
     "output_type": "stream",
     "text": [
      "2039099.9999999998\n",
      "2875351.0\n",
      "0.41491918425883173\n",
      "0.5850808157411682\n"
     ]
    }
   ],
   "source": [
    "# Найдем количесво каждого тарифа в выборке и умножим на их среднюю доходность. Тем самым определим какой тариф приносит больше.\n",
    "ultra = len(tariff_ultra) * avg_sum_ultra\n",
    "print(ultra)\n",
    "smart = len(tariff_smart) * avg_sum_smart\n",
    "print(smart)\n",
    "share_sum_ultra = ultra / (smart + ultra)\n",
    "print(share_sum_ultra)\n",
    "share_sum_smart = smart / (smart + ultra)\n",
    "print(share_sum_smart)"
   ]
  },
  {
   "cell_type": "code",
   "execution_count": 103,
   "metadata": {},
   "outputs": [
    {
     "name": "stdout",
     "output_type": "stream",
     "text": [
      "0.30647168637212197\n",
      "0.693528313627878\n"
     ]
    }
   ],
   "source": [
    "share_ultra = len(tariff_ultra) / len(general_table)\n",
    "print(share_ultra)\n",
    "share_smart = len(tariff_smart) / len(general_table)\n",
    "print(share_smart)"
   ]
  },
  {
   "cell_type": "code",
   "execution_count": 104,
   "metadata": {},
   "outputs": [
    {
     "data": {
      "text/html": [
       "<div>\n",
       "<style scoped>\n",
       "    .dataframe tbody tr th:only-of-type {\n",
       "        vertical-align: middle;\n",
       "    }\n",
       "\n",
       "    .dataframe tbody tr th {\n",
       "        vertical-align: top;\n",
       "    }\n",
       "\n",
       "    .dataframe thead th {\n",
       "        text-align: right;\n",
       "    }\n",
       "</style>\n",
       "<table border=\"1\" class=\"dataframe\">\n",
       "  <thead>\n",
       "    <tr style=\"text-align: right;\">\n",
       "      <th></th>\n",
       "      <th>revenue_per_month</th>\n",
       "      <th>share_of_revenue</th>\n",
       "    </tr>\n",
       "    <tr>\n",
       "      <th>tariff</th>\n",
       "      <th></th>\n",
       "      <th></th>\n",
       "    </tr>\n",
       "  </thead>\n",
       "  <tbody>\n",
       "    <tr>\n",
       "      <th>smart</th>\n",
       "      <td>2875351.0</td>\n",
       "      <td>0.585081</td>\n",
       "    </tr>\n",
       "    <tr>\n",
       "      <th>ultra</th>\n",
       "      <td>2039100.0</td>\n",
       "      <td>0.414919</td>\n",
       "    </tr>\n",
       "  </tbody>\n",
       "</table>\n",
       "</div>"
      ],
      "text/plain": [
       "        revenue_per_month  share_of_revenue\n",
       "tariff                                     \n",
       "smart           2875351.0          0.585081\n",
       "ultra           2039100.0          0.414919"
      ]
     },
     "execution_count": 104,
     "metadata": {},
     "output_type": "execute_result"
    }
   ],
   "source": [
    "general_table_new.groupby('tariff').agg({'revenue_per_month': 'sum'})\\\n",
    "    .assign(share_of_revenue=lambda row: row['revenue_per_month'] / row['revenue_per_month'].sum())"
   ]
  },
  {
   "cell_type": "markdown",
   "metadata": {},
   "source": [
    "## Проверка гипотиз"
   ]
  },
  {
   "cell_type": "markdown",
   "metadata": {},
   "source": [
    "### Cредняя выручка пользователей тарифов «Ультра» и «Смарт» различаются."
   ]
  },
  {
   "cell_type": "markdown",
   "metadata": {},
   "source": [
    "Мы формилируем нулевую гипотезу H₀ - средняя выручка пользователей тарифов «Ультра» и «Смарт» равна.<br>\n",
    "Формилируем альтернативную гипотезу H₁ - средняя выручка пользователей тарифов «Ультра» и «Смарт» различается.<br>\n",
    "Используем метод для проверки гипотезы о равенстве среднего двух генеральных совокупностей по взятым из них выборкам: `scipy.stats.ttest_ind (array1, array2,equal_var)`"
   ]
  },
  {
   "cell_type": "code",
   "execution_count": 105,
   "metadata": {},
   "outputs": [
    {
     "name": "stdout",
     "output_type": "stream",
     "text": [
      "p-значение:  4.2606313931076085e-250\n",
      "Отвергаем нулевую гипотезу\n"
     ]
    }
   ],
   "source": [
    "alpha = .01 # критический уровень статистической значимости, если p-value окажется меньше него - отвегнем гипотезу\n",
    "\n",
    "results = st.ttest_ind(\n",
    "    tariff_ultra['revenue_per_month'], \n",
    "    tariff_smart['revenue_per_month'],\n",
    "    equal_var= False)\n",
    "\n",
    "print('p-значение: ', results.pvalue)\n",
    "\n",
    "if results.pvalue < alpha:\n",
    "    print(\"Отвергаем нулевую гипотезу\")\n",
    "else:\n",
    "    print(\"Не получилось отвергнуть нулевую гипотезу\") "
   ]
  },
  {
   "cell_type": "markdown",
   "metadata": {},
   "source": [
    "#### Вывод"
   ]
  },
  {
   "cell_type": "markdown",
   "metadata": {},
   "source": [
    "Мы получили значение p-значение:  4.26e-250, которое значительно ниже заданного alpha. Получается, средняя выручка пользователей тарифов «Ультра» и «Смарт» различаются. И у нас достаточно фактов для отвержения нулевой гипотезы H₀ - средняя выручка пользователей тарифов «Ультра» и «Смарт» равна."
   ]
  },
  {
   "cell_type": "markdown",
   "metadata": {},
   "source": [
    "### Cредняя выручка пользователей из Москвы отличается от выручки пользователей из других регионов."
   ]
  },
  {
   "cell_type": "markdown",
   "metadata": {},
   "source": [
    "Мы формилируем нулевую гипотезу H₀ - Cредняя выручка пользователей из Москвы и выручки пользователей из других регионов равны.<br>\n",
    "Формилируем альтернативную гипотезу H₁ - Cредняя выручка пользователей из Москвы отличается от выручки пользователей из других регионов.<br>\n",
    "Используем метод для проверки гипотезы о равенстве среднего двух генеральных совокупностей по взятым из них выборкам: `scipy.stats.ttest_ind (array1, array2,equal_var)`"
   ]
  },
  {
   "cell_type": "code",
   "execution_count": 106,
   "metadata": {},
   "outputs": [],
   "source": [
    "# Разделим таблицу на две, относительно региона. 1 таблица только Москва, 2 таблица все остальные регионы.\n",
    "mos_region = general_table_new.query('city == \"Москва\"')\n",
    "others_region = general_table_new.query('city != \"Москва\"')"
   ]
  },
  {
   "cell_type": "code",
   "execution_count": 107,
   "metadata": {},
   "outputs": [
    {
     "name": "stdout",
     "output_type": "stream",
     "text": [
      "p-значение:  0.5257376663729298\n",
      "Не получилось отвергнуть нулевую гипотезу\n"
     ]
    }
   ],
   "source": [
    "alpha = .01 # критический уровень статистической значимости, если p-value окажется меньше него - отвегнем гипотезу\n",
    "\n",
    "results = st.ttest_ind(\n",
    "    mos_region['revenue_per_month'], \n",
    "    others_region['revenue_per_month'],\n",
    "    equal_var= False)\n",
    "\n",
    "print('p-значение: ', results.pvalue)\n",
    "\n",
    "if results.pvalue < alpha:\n",
    "    print(\"Отвергаем нулевую гипотезу\")\n",
    "else:\n",
    "    print(\"Не получилось отвергнуть нулевую гипотезу\") "
   ]
  },
  {
   "cell_type": "markdown",
   "metadata": {},
   "source": [
    "#### Вывод"
   ]
  },
  {
   "cell_type": "markdown",
   "metadata": {},
   "source": [
    "Мы получили значение p-значение:  0.52, которое значительно выше заданного alpha. Это значит, что 52% значений попдают в наш диапазон. Получается, что средняя выручка пользователей из Москвы, относительно других регионов практически не отличается. И у нас нет достаточно фактов для отвержения нулевой гипотезы H₀ - Cредняя выручка пользователей из Москвы и выручки пользователей из других регионов равны."
   ]
  },
  {
   "cell_type": "markdown",
   "metadata": {},
   "source": [
    "## Общий вывод"
   ]
  },
  {
   "cell_type": "markdown",
   "metadata": {},
   "source": [
    "Анализируя датасет:\n",
    "- Мы импортировали библиотеки (pandas, matplotlib.pyplot, seaborn, numpy, math, stats)\n",
    "- Прочли исхдные DF.  И добавили описание данных.\n",
    "- Проверили данные DF на наличие пропущенных значений.\n",
    "- Пропуски были только в df_users[churn_date], которые мы оставили.\n",
    "- Столбец df_users[city] был проверен на неявные дубликаты.\n",
    "- Был преобразован столбец df[first_day_exposition] в читаемый формат.\t\n",
    "\n",
    "Переходя к итогам исследования:\n",
    "1. Столбец df_tariffs[mb_per_month_included] был пересчитан в GB и добавлен новый столбец df_tariffs['gb_per_month_included'].\n",
    "2. Далее столбец df_calls['duration'] мы окргулили в большую сторону используя метод math.ceil\n",
    "3. Были сделаны сводные таблицы (df_users_calls, df_users_messages, df_users_internet) методом merge()\n",
    "4. Далее мы методом .pivot_table() расчитали количесво звонков и сумму потраченых минут, количесво отправленых смс и ГБ потраченного трафика для каждого пользователя в каждом месяце.\n",
    "5. Создали одну таблицу general_table в которой совместили все предыдущие методом pd.concat()\n",
    "6. Нашли выручку с каждого пользователя в месяц. Для этого создали функцию revenue и применили ко всем строкам DF добавив столбец general_table['revenue_per_month']\n",
    "7. Следом сделали два среза по каждому тарифу.\n",
    "8. Исследовали каждый тариф в отдельности на среднюю выручку с пользователя avg_sum_ultra, среднее количесво используемых минут avg_call_ultra_month, среднее количесво используемого интернет трафика avg_inte_ultra, дисперсию и стандартное отклонение этих параметров.\n",
    "9. Нашли выручку каждого тарифа в выборке.\n",
    "10. Проверили две гипотизы.\n",
    "\n",
    "Можно сделать такие выводы:\n",
    "1. Тарифный план Ultra приносит компании выручку(2039099 рублей за 2018 год это 41% от всей выручки), чем тариф Smart (2875351 рублей за 2018 год это 59% от всей выручки) несмотря на то, Smart в среднем дешевле, но им пользуется больше людей (69%)\n",
    "2. Гипотиза \"Cредняя выручка пользователей тарифов «Ультра» и «Смарт» различаются\" можно считать правдивой. Так проведя ислледование это подвердилось\n",
    "3. Гипотиза \"Cредняя выручка пользователей из Москвы отличается от выручки пользователей из других регионов.\" можно считать ложной, так как иследования показали, что отличий Москвы от регионов нет или оно незначительное."
   ]
  }
 ],
 "metadata": {
  "ExecuteTimeLog": [
   {
    "duration": 1177,
    "start_time": "2022-01-25T03:32:24.413Z"
   },
   {
    "duration": 1945,
    "start_time": "2022-01-25T03:32:25.592Z"
   },
   {
    "duration": -66,
    "start_time": "2022-01-25T03:32:27.609Z"
   },
   {
    "duration": -89,
    "start_time": "2022-01-25T03:32:27.634Z"
   },
   {
    "duration": -98,
    "start_time": "2022-01-25T03:32:27.644Z"
   },
   {
    "duration": -104,
    "start_time": "2022-01-25T03:32:27.652Z"
   },
   {
    "duration": -111,
    "start_time": "2022-01-25T03:32:27.660Z"
   },
   {
    "duration": -115,
    "start_time": "2022-01-25T03:32:27.666Z"
   },
   {
    "duration": -122,
    "start_time": "2022-01-25T03:32:27.675Z"
   },
   {
    "duration": -128,
    "start_time": "2022-01-25T03:32:27.682Z"
   },
   {
    "duration": -135,
    "start_time": "2022-01-25T03:32:27.691Z"
   },
   {
    "duration": -140,
    "start_time": "2022-01-25T03:32:27.697Z"
   },
   {
    "duration": -147,
    "start_time": "2022-01-25T03:32:27.706Z"
   },
   {
    "duration": -152,
    "start_time": "2022-01-25T03:32:27.713Z"
   },
   {
    "duration": -159,
    "start_time": "2022-01-25T03:32:27.721Z"
   },
   {
    "duration": -162,
    "start_time": "2022-01-25T03:32:27.726Z"
   },
   {
    "duration": -182,
    "start_time": "2022-01-25T03:32:27.747Z"
   },
   {
    "duration": -188,
    "start_time": "2022-01-25T03:32:27.755Z"
   },
   {
    "duration": -196,
    "start_time": "2022-01-25T03:32:27.764Z"
   },
   {
    "duration": -200,
    "start_time": "2022-01-25T03:32:27.770Z"
   },
   {
    "duration": -206,
    "start_time": "2022-01-25T03:32:27.777Z"
   },
   {
    "duration": -209,
    "start_time": "2022-01-25T03:32:27.782Z"
   },
   {
    "duration": -218,
    "start_time": "2022-01-25T03:32:27.793Z"
   },
   {
    "duration": -223,
    "start_time": "2022-01-25T03:32:27.799Z"
   },
   {
    "duration": -229,
    "start_time": "2022-01-25T03:32:27.807Z"
   },
   {
    "duration": -234,
    "start_time": "2022-01-25T03:32:27.813Z"
   },
   {
    "duration": -214,
    "start_time": "2022-01-25T03:32:27.822Z"
   },
   {
    "duration": -220,
    "start_time": "2022-01-25T03:32:27.830Z"
   },
   {
    "duration": -226,
    "start_time": "2022-01-25T03:32:27.837Z"
   },
   {
    "duration": -242,
    "start_time": "2022-01-25T03:32:27.855Z"
   },
   {
    "duration": -248,
    "start_time": "2022-01-25T03:32:27.863Z"
   },
   {
    "duration": -253,
    "start_time": "2022-01-25T03:32:27.869Z"
   },
   {
    "duration": -376,
    "start_time": "2022-01-25T03:32:27.994Z"
   },
   {
    "duration": -695,
    "start_time": "2022-01-25T03:32:28.314Z"
   },
   {
    "duration": -753,
    "start_time": "2022-01-25T03:32:28.374Z"
   },
   {
    "duration": -759,
    "start_time": "2022-01-25T03:32:28.381Z"
   },
   {
    "duration": -768,
    "start_time": "2022-01-25T03:32:28.392Z"
   },
   {
    "duration": -773,
    "start_time": "2022-01-25T03:32:28.398Z"
   },
   {
    "duration": -780,
    "start_time": "2022-01-25T03:32:28.407Z"
   },
   {
    "duration": -823,
    "start_time": "2022-01-25T03:32:28.451Z"
   },
   {
    "duration": -830,
    "start_time": "2022-01-25T03:32:28.460Z"
   },
   {
    "duration": -837,
    "start_time": "2022-01-25T03:32:28.468Z"
   },
   {
    "duration": -854,
    "start_time": "2022-01-25T03:32:28.486Z"
   },
   {
    "duration": -861,
    "start_time": "2022-01-25T03:32:28.495Z"
   },
   {
    "duration": -868,
    "start_time": "2022-01-25T03:32:28.503Z"
   },
   {
    "duration": -907,
    "start_time": "2022-01-25T03:32:28.543Z"
   },
   {
    "duration": -914,
    "start_time": "2022-01-25T03:32:28.551Z"
   },
   {
    "duration": -920,
    "start_time": "2022-01-25T03:32:28.558Z"
   },
   {
    "duration": -926,
    "start_time": "2022-01-25T03:32:28.566Z"
   },
   {
    "duration": -936,
    "start_time": "2022-01-25T03:32:28.577Z"
   },
   {
    "duration": -949,
    "start_time": "2022-01-25T03:32:28.591Z"
   },
   {
    "duration": -952,
    "start_time": "2022-01-25T03:32:28.595Z"
   },
   {
    "duration": -955,
    "start_time": "2022-01-25T03:32:28.600Z"
   },
   {
    "duration": -958,
    "start_time": "2022-01-25T03:32:28.604Z"
   },
   {
    "duration": -962,
    "start_time": "2022-01-25T03:32:28.609Z"
   },
   {
    "duration": -905,
    "start_time": "2022-01-25T03:32:28.612Z"
   },
   {
    "duration": -923,
    "start_time": "2022-01-25T03:32:28.631Z"
   },
   {
    "duration": -926,
    "start_time": "2022-01-25T03:32:28.636Z"
   },
   {
    "duration": -930,
    "start_time": "2022-01-25T03:32:28.641Z"
   },
   {
    "duration": -932,
    "start_time": "2022-01-25T03:32:28.644Z"
   },
   {
    "duration": -935,
    "start_time": "2022-01-25T03:32:28.648Z"
   },
   {
    "duration": -938,
    "start_time": "2022-01-25T03:32:28.652Z"
   },
   {
    "duration": -942,
    "start_time": "2022-01-25T03:32:28.657Z"
   },
   {
    "duration": -944,
    "start_time": "2022-01-25T03:32:28.660Z"
   },
   {
    "duration": -948,
    "start_time": "2022-01-25T03:32:28.665Z"
   },
   {
    "duration": -950,
    "start_time": "2022-01-25T03:32:28.668Z"
   },
   {
    "duration": -953,
    "start_time": "2022-01-25T03:32:28.672Z"
   },
   {
    "duration": -965,
    "start_time": "2022-01-25T03:32:28.685Z"
   },
   {
    "duration": -976,
    "start_time": "2022-01-25T03:32:28.698Z"
   },
   {
    "duration": -979,
    "start_time": "2022-01-25T03:32:28.702Z"
   },
   {
    "duration": -982,
    "start_time": "2022-01-25T03:32:28.706Z"
   },
   {
    "duration": -984,
    "start_time": "2022-01-25T03:32:28.710Z"
   },
   {
    "duration": -987,
    "start_time": "2022-01-25T03:32:28.714Z"
   },
   {
    "duration": -988,
    "start_time": "2022-01-25T03:32:28.718Z"
   },
   {
    "duration": -991,
    "start_time": "2022-01-25T03:32:28.722Z"
   },
   {
    "duration": -994,
    "start_time": "2022-01-25T03:32:28.727Z"
   },
   {
    "duration": -1007,
    "start_time": "2022-01-25T03:32:28.741Z"
   },
   {
    "duration": -1008,
    "start_time": "2022-01-25T03:32:28.744Z"
   },
   {
    "duration": -1011,
    "start_time": "2022-01-25T03:32:28.748Z"
   },
   {
    "duration": -1014,
    "start_time": "2022-01-25T03:32:28.753Z"
   },
   {
    "duration": -1018,
    "start_time": "2022-01-25T03:32:28.758Z"
   },
   {
    "duration": -1020,
    "start_time": "2022-01-25T03:32:28.761Z"
   },
   {
    "duration": -1022,
    "start_time": "2022-01-25T03:32:28.765Z"
   },
   {
    "duration": -1025,
    "start_time": "2022-01-25T03:32:28.769Z"
   },
   {
    "duration": 439,
    "start_time": "2022-01-25T03:52:46.117Z"
   },
   {
    "duration": 1179,
    "start_time": "2022-01-25T03:52:52.593Z"
   },
   {
    "duration": 434,
    "start_time": "2022-01-25T03:52:53.774Z"
   },
   {
    "duration": 14,
    "start_time": "2022-01-25T03:52:54.210Z"
   },
   {
    "duration": 10,
    "start_time": "2022-01-25T03:52:54.226Z"
   },
   {
    "duration": 11,
    "start_time": "2022-01-25T03:52:54.238Z"
   },
   {
    "duration": 23,
    "start_time": "2022-01-25T03:52:54.251Z"
   },
   {
    "duration": 36,
    "start_time": "2022-01-25T03:52:54.276Z"
   },
   {
    "duration": 9,
    "start_time": "2022-01-25T03:52:54.315Z"
   },
   {
    "duration": 10,
    "start_time": "2022-01-25T03:52:54.326Z"
   },
   {
    "duration": 17,
    "start_time": "2022-01-25T03:52:54.338Z"
   },
   {
    "duration": 8,
    "start_time": "2022-01-25T03:52:54.357Z"
   },
   {
    "duration": 53,
    "start_time": "2022-01-25T03:52:54.367Z"
   },
   {
    "duration": 5,
    "start_time": "2022-01-25T03:52:54.422Z"
   },
   {
    "duration": 87,
    "start_time": "2022-01-25T03:52:54.429Z"
   },
   {
    "duration": 6,
    "start_time": "2022-01-25T03:52:54.518Z"
   },
   {
    "duration": 67,
    "start_time": "2022-01-25T03:52:54.526Z"
   },
   {
    "duration": 232,
    "start_time": "2022-01-25T03:52:54.608Z"
   },
   {
    "duration": 92,
    "start_time": "2022-01-25T03:52:54.842Z"
   },
   {
    "duration": 36,
    "start_time": "2022-01-25T03:52:54.936Z"
   },
   {
    "duration": 122,
    "start_time": "2022-01-25T03:52:54.975Z"
   },
   {
    "duration": 28,
    "start_time": "2022-01-25T03:52:55.099Z"
   },
   {
    "duration": 37,
    "start_time": "2022-01-25T03:52:55.129Z"
   },
   {
    "duration": 79,
    "start_time": "2022-01-25T03:52:55.170Z"
   },
   {
    "duration": 141,
    "start_time": "2022-01-25T03:52:55.252Z"
   },
   {
    "duration": 43,
    "start_time": "2022-01-25T03:52:55.394Z"
   },
   {
    "duration": 15,
    "start_time": "2022-01-25T03:52:55.438Z"
   },
   {
    "duration": 116,
    "start_time": "2022-01-25T03:52:55.455Z"
   },
   {
    "duration": 13,
    "start_time": "2022-01-25T03:52:55.573Z"
   },
   {
    "duration": 59,
    "start_time": "2022-01-25T03:52:55.588Z"
   },
   {
    "duration": 14,
    "start_time": "2022-01-25T03:52:55.650Z"
   },
   {
    "duration": 84,
    "start_time": "2022-01-25T03:52:55.666Z"
   },
   {
    "duration": 6,
    "start_time": "2022-01-25T03:52:55.752Z"
   },
   {
    "duration": 14,
    "start_time": "2022-01-25T03:52:55.759Z"
   },
   {
    "duration": 65,
    "start_time": "2022-01-25T03:52:55.775Z"
   },
   {
    "duration": 6,
    "start_time": "2022-01-25T03:52:55.842Z"
   },
   {
    "duration": 6,
    "start_time": "2022-01-25T03:52:55.850Z"
   },
   {
    "duration": 5,
    "start_time": "2022-01-25T03:52:55.858Z"
   },
   {
    "duration": 14,
    "start_time": "2022-01-25T03:52:55.865Z"
   },
   {
    "duration": 261,
    "start_time": "2022-01-25T03:52:55.882Z"
   },
   {
    "duration": 15,
    "start_time": "2022-01-25T03:52:56.145Z"
   },
   {
    "duration": 11,
    "start_time": "2022-01-25T03:52:56.162Z"
   },
   {
    "duration": 6,
    "start_time": "2022-01-25T03:52:56.175Z"
   },
   {
    "duration": 16,
    "start_time": "2022-01-25T03:52:56.208Z"
   },
   {
    "duration": 6,
    "start_time": "2022-01-25T03:52:56.226Z"
   },
   {
    "duration": 7,
    "start_time": "2022-01-25T03:52:56.234Z"
   },
   {
    "duration": 6,
    "start_time": "2022-01-25T03:52:56.244Z"
   },
   {
    "duration": 7,
    "start_time": "2022-01-25T03:52:56.252Z"
   },
   {
    "duration": 250,
    "start_time": "2022-01-25T03:52:56.261Z"
   },
   {
    "duration": 15,
    "start_time": "2022-01-25T03:52:56.513Z"
   },
   {
    "duration": 4,
    "start_time": "2022-01-25T03:52:56.530Z"
   },
   {
    "duration": 9,
    "start_time": "2022-01-25T03:52:56.536Z"
   },
   {
    "duration": 10,
    "start_time": "2022-01-25T03:52:56.546Z"
   },
   {
    "duration": 9,
    "start_time": "2022-01-25T03:52:56.558Z"
   },
   {
    "duration": 227,
    "start_time": "2022-01-25T03:52:56.569Z"
   },
   {
    "duration": 21,
    "start_time": "2022-01-25T03:52:56.798Z"
   },
   {
    "duration": 9,
    "start_time": "2022-01-25T03:52:56.820Z"
   },
   {
    "duration": 10,
    "start_time": "2022-01-25T03:52:56.832Z"
   },
   {
    "duration": 9,
    "start_time": "2022-01-25T03:52:56.843Z"
   },
   {
    "duration": 7,
    "start_time": "2022-01-25T03:52:56.854Z"
   },
   {
    "duration": 214,
    "start_time": "2022-01-25T03:52:56.863Z"
   },
   {
    "duration": 5,
    "start_time": "2022-01-25T03:52:57.079Z"
   },
   {
    "duration": 28,
    "start_time": "2022-01-25T03:52:57.086Z"
   },
   {
    "duration": 9,
    "start_time": "2022-01-25T03:52:57.116Z"
   },
   {
    "duration": 8,
    "start_time": "2022-01-25T03:52:57.126Z"
   },
   {
    "duration": 14,
    "start_time": "2022-01-25T03:52:57.136Z"
   },
   {
    "duration": 13,
    "start_time": "2022-01-25T03:52:57.152Z"
   },
   {
    "duration": 272,
    "start_time": "2022-01-25T03:52:57.167Z"
   },
   {
    "duration": 15,
    "start_time": "2022-01-25T03:52:57.445Z"
   },
   {
    "duration": 6,
    "start_time": "2022-01-25T03:52:57.463Z"
   },
   {
    "duration": 9,
    "start_time": "2022-01-25T03:52:57.471Z"
   },
   {
    "duration": 6,
    "start_time": "2022-01-25T03:52:57.507Z"
   },
   {
    "duration": 8,
    "start_time": "2022-01-25T03:52:57.515Z"
   },
   {
    "duration": 219,
    "start_time": "2022-01-25T03:52:57.525Z"
   },
   {
    "duration": 15,
    "start_time": "2022-01-25T03:52:57.746Z"
   },
   {
    "duration": 8,
    "start_time": "2022-01-25T03:52:57.763Z"
   },
   {
    "duration": 13,
    "start_time": "2022-01-25T03:52:57.773Z"
   },
   {
    "duration": 23,
    "start_time": "2022-01-25T03:52:57.788Z"
   },
   {
    "duration": 11,
    "start_time": "2022-01-25T03:52:57.813Z"
   },
   {
    "duration": 219,
    "start_time": "2022-01-25T03:52:57.826Z"
   },
   {
    "duration": 323,
    "start_time": "2022-01-25T03:52:58.047Z"
   },
   {
    "duration": -135,
    "start_time": "2022-01-25T03:52:58.507Z"
   },
   {
    "duration": -141,
    "start_time": "2022-01-25T03:52:58.514Z"
   },
   {
    "duration": -149,
    "start_time": "2022-01-25T03:52:58.524Z"
   },
   {
    "duration": -156,
    "start_time": "2022-01-25T03:52:58.532Z"
   },
   {
    "duration": 4,
    "start_time": "2022-01-25T03:56:54.137Z"
   },
   {
    "duration": 5,
    "start_time": "2022-01-25T04:09:30.768Z"
   },
   {
    "duration": 4,
    "start_time": "2022-01-25T04:09:34.135Z"
   },
   {
    "duration": 20,
    "start_time": "2022-01-25T04:11:40.088Z"
   },
   {
    "duration": 10,
    "start_time": "2022-01-25T04:11:51.057Z"
   },
   {
    "duration": 12,
    "start_time": "2022-01-25T04:12:29.868Z"
   },
   {
    "duration": 6,
    "start_time": "2022-01-25T04:33:46.451Z"
   },
   {
    "duration": 8,
    "start_time": "2022-01-25T04:33:48.566Z"
   },
   {
    "duration": 8,
    "start_time": "2022-01-25T04:33:49.252Z"
   },
   {
    "duration": 1119,
    "start_time": "2022-01-25T14:31:39.491Z"
   },
   {
    "duration": 376,
    "start_time": "2022-01-25T14:31:40.612Z"
   },
   {
    "duration": 12,
    "start_time": "2022-01-25T14:31:40.992Z"
   },
   {
    "duration": 12,
    "start_time": "2022-01-25T14:31:41.005Z"
   },
   {
    "duration": 8,
    "start_time": "2022-01-25T14:31:41.019Z"
   },
   {
    "duration": 20,
    "start_time": "2022-01-25T14:31:41.028Z"
   },
   {
    "duration": 21,
    "start_time": "2022-01-25T14:31:41.051Z"
   },
   {
    "duration": 6,
    "start_time": "2022-01-25T14:31:41.074Z"
   },
   {
    "duration": 9,
    "start_time": "2022-01-25T14:31:41.081Z"
   },
   {
    "duration": 13,
    "start_time": "2022-01-25T14:31:41.091Z"
   },
   {
    "duration": 7,
    "start_time": "2022-01-25T14:31:41.106Z"
   },
   {
    "duration": 15,
    "start_time": "2022-01-25T14:31:41.114Z"
   },
   {
    "duration": 4,
    "start_time": "2022-01-25T14:31:41.131Z"
   },
   {
    "duration": 95,
    "start_time": "2022-01-25T14:31:41.136Z"
   },
   {
    "duration": 6,
    "start_time": "2022-01-25T14:31:41.233Z"
   },
   {
    "duration": 74,
    "start_time": "2022-01-25T14:31:41.240Z"
   },
   {
    "duration": 174,
    "start_time": "2022-01-25T14:31:41.316Z"
   },
   {
    "duration": 82,
    "start_time": "2022-01-25T14:31:41.492Z"
   },
   {
    "duration": 28,
    "start_time": "2022-01-25T14:31:41.576Z"
   },
   {
    "duration": 95,
    "start_time": "2022-01-25T14:31:41.605Z"
   },
   {
    "duration": 21,
    "start_time": "2022-01-25T14:31:41.702Z"
   },
   {
    "duration": 49,
    "start_time": "2022-01-25T14:31:41.726Z"
   },
   {
    "duration": 45,
    "start_time": "2022-01-25T14:31:41.778Z"
   },
   {
    "duration": 110,
    "start_time": "2022-01-25T14:31:41.824Z"
   },
   {
    "duration": 39,
    "start_time": "2022-01-25T14:31:41.935Z"
   },
   {
    "duration": 12,
    "start_time": "2022-01-25T14:31:41.976Z"
   },
   {
    "duration": 99,
    "start_time": "2022-01-25T14:31:41.989Z"
   },
   {
    "duration": 10,
    "start_time": "2022-01-25T14:31:42.090Z"
   },
   {
    "duration": 39,
    "start_time": "2022-01-25T14:31:42.101Z"
   },
   {
    "duration": 30,
    "start_time": "2022-01-25T14:31:42.142Z"
   },
   {
    "duration": 59,
    "start_time": "2022-01-25T14:31:42.173Z"
   },
   {
    "duration": 4,
    "start_time": "2022-01-25T14:31:42.234Z"
   },
   {
    "duration": 10,
    "start_time": "2022-01-25T14:31:42.239Z"
   },
   {
    "duration": 55,
    "start_time": "2022-01-25T14:31:42.251Z"
   },
   {
    "duration": 5,
    "start_time": "2022-01-25T14:31:42.308Z"
   },
   {
    "duration": 5,
    "start_time": "2022-01-25T14:31:42.314Z"
   },
   {
    "duration": 31,
    "start_time": "2022-01-25T14:31:42.320Z"
   },
   {
    "duration": 13,
    "start_time": "2022-01-25T14:31:42.353Z"
   },
   {
    "duration": 24,
    "start_time": "2022-01-25T14:31:42.367Z"
   },
   {
    "duration": 286,
    "start_time": "2022-01-25T14:31:42.393Z"
   },
   {
    "duration": 14,
    "start_time": "2022-01-25T14:31:42.680Z"
   },
   {
    "duration": 8,
    "start_time": "2022-01-25T14:31:42.696Z"
   },
   {
    "duration": 4,
    "start_time": "2022-01-25T14:31:42.706Z"
   },
   {
    "duration": 13,
    "start_time": "2022-01-25T14:31:42.711Z"
   },
   {
    "duration": 3,
    "start_time": "2022-01-25T14:31:42.725Z"
   },
   {
    "duration": 4,
    "start_time": "2022-01-25T14:31:42.730Z"
   },
   {
    "duration": 38,
    "start_time": "2022-01-25T14:31:42.735Z"
   },
   {
    "duration": 10,
    "start_time": "2022-01-25T14:31:42.774Z"
   },
   {
    "duration": 4,
    "start_time": "2022-01-25T14:31:42.786Z"
   },
   {
    "duration": 207,
    "start_time": "2022-01-25T14:31:42.791Z"
   },
   {
    "duration": 14,
    "start_time": "2022-01-25T14:31:42.999Z"
   },
   {
    "duration": 4,
    "start_time": "2022-01-25T14:31:43.015Z"
   },
   {
    "duration": 5,
    "start_time": "2022-01-25T14:31:43.021Z"
   },
   {
    "duration": 6,
    "start_time": "2022-01-25T14:31:43.028Z"
   },
   {
    "duration": 4,
    "start_time": "2022-01-25T14:31:43.035Z"
   },
   {
    "duration": 208,
    "start_time": "2022-01-25T14:31:43.041Z"
   },
   {
    "duration": 13,
    "start_time": "2022-01-25T14:31:43.250Z"
   },
   {
    "duration": 3,
    "start_time": "2022-01-25T14:31:43.272Z"
   },
   {
    "duration": 7,
    "start_time": "2022-01-25T14:31:43.276Z"
   },
   {
    "duration": 7,
    "start_time": "2022-01-25T14:31:43.285Z"
   },
   {
    "duration": 4,
    "start_time": "2022-01-25T14:31:43.293Z"
   },
   {
    "duration": 194,
    "start_time": "2022-01-25T14:31:43.299Z"
   },
   {
    "duration": 4,
    "start_time": "2022-01-25T14:31:43.494Z"
   },
   {
    "duration": 16,
    "start_time": "2022-01-25T14:31:43.500Z"
   },
   {
    "duration": 3,
    "start_time": "2022-01-25T14:31:43.517Z"
   },
   {
    "duration": 5,
    "start_time": "2022-01-25T14:31:43.522Z"
   },
   {
    "duration": 4,
    "start_time": "2022-01-25T14:31:43.532Z"
   },
   {
    "duration": 4,
    "start_time": "2022-01-25T14:31:43.538Z"
   },
   {
    "duration": 260,
    "start_time": "2022-01-25T14:31:43.544Z"
   },
   {
    "duration": 13,
    "start_time": "2022-01-25T14:31:43.805Z"
   },
   {
    "duration": 4,
    "start_time": "2022-01-25T14:31:43.820Z"
   },
   {
    "duration": 5,
    "start_time": "2022-01-25T14:31:43.826Z"
   },
   {
    "duration": 5,
    "start_time": "2022-01-25T14:31:43.833Z"
   },
   {
    "duration": 6,
    "start_time": "2022-01-25T14:31:43.839Z"
   },
   {
    "duration": 214,
    "start_time": "2022-01-25T14:31:43.847Z"
   },
   {
    "duration": 14,
    "start_time": "2022-01-25T14:31:44.062Z"
   },
   {
    "duration": 4,
    "start_time": "2022-01-25T14:31:44.078Z"
   },
   {
    "duration": 6,
    "start_time": "2022-01-25T14:31:44.083Z"
   },
   {
    "duration": 5,
    "start_time": "2022-01-25T14:31:44.090Z"
   },
   {
    "duration": 5,
    "start_time": "2022-01-25T14:31:44.097Z"
   },
   {
    "duration": 205,
    "start_time": "2022-01-25T14:31:44.103Z"
   },
   {
    "duration": 4,
    "start_time": "2022-01-25T14:31:44.309Z"
   },
   {
    "duration": 8,
    "start_time": "2022-01-25T14:31:44.315Z"
   },
   {
    "duration": 10,
    "start_time": "2022-01-25T14:31:44.324Z"
   },
   {
    "duration": 4,
    "start_time": "2022-01-25T14:31:44.335Z"
   },
   {
    "duration": 8,
    "start_time": "2022-01-25T14:31:44.341Z"
   },
   {
    "duration": 22,
    "start_time": "2022-01-25T14:31:44.351Z"
   },
   {
    "duration": 1137,
    "start_time": "2022-01-26T04:44:47.506Z"
   },
   {
    "duration": 432,
    "start_time": "2022-01-26T04:44:48.645Z"
   },
   {
    "duration": 21,
    "start_time": "2022-01-26T04:44:49.079Z"
   },
   {
    "duration": 9,
    "start_time": "2022-01-26T04:44:49.102Z"
   },
   {
    "duration": 11,
    "start_time": "2022-01-26T04:44:49.112Z"
   },
   {
    "duration": 23,
    "start_time": "2022-01-26T04:44:49.124Z"
   },
   {
    "duration": 8,
    "start_time": "2022-01-26T04:44:49.149Z"
   },
   {
    "duration": 8,
    "start_time": "2022-01-26T04:44:49.159Z"
   },
   {
    "duration": 30,
    "start_time": "2022-01-26T04:44:49.169Z"
   },
   {
    "duration": 20,
    "start_time": "2022-01-26T04:44:49.200Z"
   },
   {
    "duration": 8,
    "start_time": "2022-01-26T04:44:49.221Z"
   },
   {
    "duration": 20,
    "start_time": "2022-01-26T04:44:49.230Z"
   },
   {
    "duration": 4,
    "start_time": "2022-01-26T04:44:49.251Z"
   },
   {
    "duration": 99,
    "start_time": "2022-01-26T04:44:49.257Z"
   },
   {
    "duration": 6,
    "start_time": "2022-01-26T04:44:49.358Z"
   },
   {
    "duration": 75,
    "start_time": "2022-01-26T04:44:49.365Z"
   },
   {
    "duration": 209,
    "start_time": "2022-01-26T04:44:49.442Z"
   },
   {
    "duration": 91,
    "start_time": "2022-01-26T04:44:49.653Z"
   },
   {
    "duration": 35,
    "start_time": "2022-01-26T04:44:49.745Z"
   },
   {
    "duration": 107,
    "start_time": "2022-01-26T04:44:49.782Z"
   },
   {
    "duration": 28,
    "start_time": "2022-01-26T04:44:49.897Z"
   },
   {
    "duration": 34,
    "start_time": "2022-01-26T04:44:49.927Z"
   },
   {
    "duration": 75,
    "start_time": "2022-01-26T04:44:49.965Z"
   },
   {
    "duration": 136,
    "start_time": "2022-01-26T04:44:50.043Z"
   },
   {
    "duration": 43,
    "start_time": "2022-01-26T04:44:50.180Z"
   },
   {
    "duration": 14,
    "start_time": "2022-01-26T04:44:50.224Z"
   },
   {
    "duration": 123,
    "start_time": "2022-01-26T04:44:50.239Z"
   },
   {
    "duration": 12,
    "start_time": "2022-01-26T04:44:50.363Z"
   },
   {
    "duration": 56,
    "start_time": "2022-01-26T04:44:50.376Z"
   },
   {
    "duration": 13,
    "start_time": "2022-01-26T04:44:50.434Z"
   },
   {
    "duration": 92,
    "start_time": "2022-01-26T04:44:50.448Z"
   },
   {
    "duration": 5,
    "start_time": "2022-01-26T04:44:50.541Z"
   },
   {
    "duration": 24,
    "start_time": "2022-01-26T04:44:50.548Z"
   },
   {
    "duration": 66,
    "start_time": "2022-01-26T04:44:50.573Z"
   },
   {
    "duration": 6,
    "start_time": "2022-01-26T04:44:50.640Z"
   },
   {
    "duration": 34,
    "start_time": "2022-01-26T04:44:50.647Z"
   },
   {
    "duration": 27,
    "start_time": "2022-01-26T04:44:50.682Z"
   },
   {
    "duration": 24,
    "start_time": "2022-01-26T04:44:50.710Z"
   },
   {
    "duration": 45,
    "start_time": "2022-01-26T04:44:50.736Z"
   },
   {
    "duration": 311,
    "start_time": "2022-01-26T04:44:50.783Z"
   },
   {
    "duration": 15,
    "start_time": "2022-01-26T04:44:51.097Z"
   },
   {
    "duration": 11,
    "start_time": "2022-01-26T04:44:51.114Z"
   },
   {
    "duration": 4,
    "start_time": "2022-01-26T04:44:51.127Z"
   },
   {
    "duration": 19,
    "start_time": "2022-01-26T04:44:51.132Z"
   },
   {
    "duration": 6,
    "start_time": "2022-01-26T04:44:51.153Z"
   },
   {
    "duration": 37,
    "start_time": "2022-01-26T04:44:51.161Z"
   },
   {
    "duration": 20,
    "start_time": "2022-01-26T04:44:51.200Z"
   },
   {
    "duration": 186,
    "start_time": "2022-01-26T04:44:51.221Z"
   },
   {
    "duration": 5,
    "start_time": "2022-01-26T04:44:51.408Z"
   },
   {
    "duration": 16,
    "start_time": "2022-01-26T04:44:51.414Z"
   },
   {
    "duration": 14,
    "start_time": "2022-01-26T04:44:51.432Z"
   },
   {
    "duration": 240,
    "start_time": "2022-01-26T04:44:51.448Z"
   },
   {
    "duration": 18,
    "start_time": "2022-01-26T04:44:51.690Z"
   },
   {
    "duration": 3,
    "start_time": "2022-01-26T04:44:51.710Z"
   },
   {
    "duration": 29,
    "start_time": "2022-01-26T04:44:51.714Z"
   },
   {
    "duration": 24,
    "start_time": "2022-01-26T04:44:51.745Z"
   },
   {
    "duration": 209,
    "start_time": "2022-01-26T04:44:51.770Z"
   },
   {
    "duration": 6,
    "start_time": "2022-01-26T04:44:51.981Z"
   },
   {
    "duration": 27,
    "start_time": "2022-01-26T04:44:51.989Z"
   },
   {
    "duration": 22,
    "start_time": "2022-01-26T04:44:52.018Z"
   },
   {
    "duration": 298,
    "start_time": "2022-01-26T04:44:52.042Z"
   },
   {
    "duration": 15,
    "start_time": "2022-01-26T04:44:52.342Z"
   },
   {
    "duration": 3,
    "start_time": "2022-01-26T04:44:52.359Z"
   },
   {
    "duration": 35,
    "start_time": "2022-01-26T04:44:52.364Z"
   },
   {
    "duration": 17,
    "start_time": "2022-01-26T04:44:52.400Z"
   },
   {
    "duration": 215,
    "start_time": "2022-01-26T04:44:52.419Z"
   },
   {
    "duration": 4,
    "start_time": "2022-01-26T04:44:52.636Z"
   },
   {
    "duration": 12,
    "start_time": "2022-01-26T04:44:52.646Z"
   },
   {
    "duration": 14,
    "start_time": "2022-01-26T04:44:52.660Z"
   },
   {
    "duration": 211,
    "start_time": "2022-01-26T04:44:52.698Z"
   },
   {
    "duration": 4,
    "start_time": "2022-01-26T04:44:52.911Z"
   },
   {
    "duration": 21,
    "start_time": "2022-01-26T04:44:52.917Z"
   },
   {
    "duration": 6,
    "start_time": "2022-01-26T04:44:52.939Z"
   },
   {
    "duration": 22,
    "start_time": "2022-01-26T04:44:52.946Z"
   },
   {
    "duration": 31,
    "start_time": "2022-01-26T04:44:52.969Z"
   },
   {
    "duration": 207,
    "start_time": "2022-01-26T04:44:53.002Z"
   },
   {
    "duration": 4,
    "start_time": "2022-01-26T04:44:53.211Z"
   },
   {
    "duration": 28,
    "start_time": "2022-01-26T04:44:53.217Z"
   },
   {
    "duration": 34,
    "start_time": "2022-01-26T04:44:53.247Z"
   },
   {
    "duration": 217,
    "start_time": "2022-01-26T04:44:53.282Z"
   },
   {
    "duration": 16,
    "start_time": "2022-01-26T04:44:53.500Z"
   },
   {
    "duration": 26,
    "start_time": "2022-01-26T04:44:53.517Z"
   },
   {
    "duration": 27,
    "start_time": "2022-01-26T04:44:53.544Z"
   },
   {
    "duration": 17,
    "start_time": "2022-01-26T04:44:53.572Z"
   },
   {
    "duration": 191,
    "start_time": "2022-01-26T04:44:53.590Z"
   },
   {
    "duration": 4,
    "start_time": "2022-01-26T04:44:53.783Z"
   },
   {
    "duration": 15,
    "start_time": "2022-01-26T04:44:53.796Z"
   },
   {
    "duration": 20,
    "start_time": "2022-01-26T04:44:53.813Z"
   },
   {
    "duration": 243,
    "start_time": "2022-01-26T04:44:53.834Z"
   },
   {
    "duration": 20,
    "start_time": "2022-01-26T04:44:54.079Z"
   },
   {
    "duration": 13,
    "start_time": "2022-01-26T04:44:54.101Z"
   },
   {
    "duration": 33,
    "start_time": "2022-01-26T04:44:54.116Z"
   },
   {
    "duration": 24,
    "start_time": "2022-01-26T04:44:54.151Z"
   },
   {
    "duration": 199,
    "start_time": "2022-01-26T04:44:54.177Z"
   },
   {
    "duration": 5,
    "start_time": "2022-01-26T04:44:54.377Z"
   },
   {
    "duration": 23,
    "start_time": "2022-01-26T04:44:54.384Z"
   },
   {
    "duration": 20,
    "start_time": "2022-01-26T04:44:54.409Z"
   },
   {
    "duration": 237,
    "start_time": "2022-01-26T04:44:54.430Z"
   },
   {
    "duration": 207,
    "start_time": "2022-01-26T04:44:54.668Z"
   },
   {
    "duration": 200,
    "start_time": "2022-01-26T04:44:54.877Z"
   },
   {
    "duration": 286,
    "start_time": "2022-01-26T04:44:55.078Z"
   },
   {
    "duration": 5,
    "start_time": "2022-01-26T04:44:55.365Z"
   },
   {
    "duration": 14,
    "start_time": "2022-01-26T04:44:55.372Z"
   },
   {
    "duration": 15,
    "start_time": "2022-01-26T04:44:55.388Z"
   },
   {
    "duration": 9,
    "start_time": "2022-01-26T04:44:55.404Z"
   },
   {
    "duration": 11,
    "start_time": "2022-01-26T04:44:55.415Z"
   },
   {
    "duration": 9,
    "start_time": "2022-01-26T04:44:55.428Z"
   },
   {
    "duration": 25,
    "start_time": "2022-01-26T04:53:40.602Z"
   },
   {
    "duration": 276,
    "start_time": "2022-01-26T04:54:07.013Z"
   },
   {
    "duration": 600,
    "start_time": "2022-01-26T04:58:09.350Z"
   },
   {
    "duration": 680,
    "start_time": "2022-01-26T04:58:24.008Z"
   },
   {
    "duration": 4636,
    "start_time": "2022-01-26T04:58:33.832Z"
   },
   {
    "duration": 274,
    "start_time": "2022-01-26T04:58:42.425Z"
   },
   {
    "duration": 289,
    "start_time": "2022-01-26T05:02:29.893Z"
   },
   {
    "duration": 273,
    "start_time": "2022-01-26T05:02:36.177Z"
   },
   {
    "duration": 371,
    "start_time": "2022-01-26T05:03:03.819Z"
   },
   {
    "duration": 357,
    "start_time": "2022-01-26T05:05:18.979Z"
   },
   {
    "duration": 3,
    "start_time": "2022-01-26T05:07:30.697Z"
   },
   {
    "duration": 350,
    "start_time": "2022-01-26T05:08:35.861Z"
   },
   {
    "duration": 464,
    "start_time": "2022-01-26T05:08:46.826Z"
   },
   {
    "duration": 371,
    "start_time": "2022-01-26T05:09:05.557Z"
   },
   {
    "duration": 339,
    "start_time": "2022-01-26T05:09:47.914Z"
   },
   {
    "duration": 5,
    "start_time": "2022-01-26T05:10:18.587Z"
   },
   {
    "duration": 388,
    "start_time": "2022-01-26T05:10:29.270Z"
   },
   {
    "duration": 40,
    "start_time": "2022-01-26T05:10:57.591Z"
   },
   {
    "duration": 4,
    "start_time": "2022-01-26T05:11:24.099Z"
   },
   {
    "duration": 372,
    "start_time": "2022-01-26T05:11:28.299Z"
   },
   {
    "duration": 235,
    "start_time": "2022-01-26T05:11:41.551Z"
   },
   {
    "duration": 217,
    "start_time": "2022-01-26T05:11:56.463Z"
   },
   {
    "duration": 1493,
    "start_time": "2022-01-27T03:33:41.147Z"
   },
   {
    "duration": 514,
    "start_time": "2022-01-27T03:33:42.643Z"
   },
   {
    "duration": 19,
    "start_time": "2022-01-27T03:33:43.160Z"
   },
   {
    "duration": 10,
    "start_time": "2022-01-27T03:33:43.181Z"
   },
   {
    "duration": 13,
    "start_time": "2022-01-27T03:33:43.193Z"
   },
   {
    "duration": 25,
    "start_time": "2022-01-27T03:33:43.233Z"
   },
   {
    "duration": 11,
    "start_time": "2022-01-27T03:33:43.261Z"
   },
   {
    "duration": 9,
    "start_time": "2022-01-27T03:33:43.276Z"
   },
   {
    "duration": 46,
    "start_time": "2022-01-27T03:33:43.288Z"
   },
   {
    "duration": 20,
    "start_time": "2022-01-27T03:33:43.336Z"
   },
   {
    "duration": 14,
    "start_time": "2022-01-27T03:33:43.358Z"
   },
   {
    "duration": 26,
    "start_time": "2022-01-27T03:33:43.374Z"
   },
   {
    "duration": 35,
    "start_time": "2022-01-27T03:33:43.402Z"
   },
   {
    "duration": 116,
    "start_time": "2022-01-27T03:33:43.439Z"
   },
   {
    "duration": 9,
    "start_time": "2022-01-27T03:33:43.558Z"
   },
   {
    "duration": 98,
    "start_time": "2022-01-27T03:33:43.569Z"
   },
   {
    "duration": 270,
    "start_time": "2022-01-27T03:33:43.670Z"
   },
   {
    "duration": 126,
    "start_time": "2022-01-27T03:33:43.942Z"
   },
   {
    "duration": 50,
    "start_time": "2022-01-27T03:33:44.071Z"
   },
   {
    "duration": 133,
    "start_time": "2022-01-27T03:33:44.133Z"
   },
   {
    "duration": 35,
    "start_time": "2022-01-27T03:33:44.269Z"
   },
   {
    "duration": 62,
    "start_time": "2022-01-27T03:33:44.307Z"
   },
   {
    "duration": 85,
    "start_time": "2022-01-27T03:33:44.375Z"
   },
   {
    "duration": 194,
    "start_time": "2022-01-27T03:33:44.464Z"
   },
   {
    "duration": 46,
    "start_time": "2022-01-27T03:33:44.660Z"
   },
   {
    "duration": 35,
    "start_time": "2022-01-27T03:33:44.709Z"
   },
   {
    "duration": 147,
    "start_time": "2022-01-27T03:33:44.747Z"
   },
   {
    "duration": 17,
    "start_time": "2022-01-27T03:33:44.896Z"
   },
   {
    "duration": 71,
    "start_time": "2022-01-27T03:33:44.916Z"
   },
   {
    "duration": 21,
    "start_time": "2022-01-27T03:33:44.989Z"
   },
   {
    "duration": 124,
    "start_time": "2022-01-27T03:33:45.012Z"
   },
   {
    "duration": 6,
    "start_time": "2022-01-27T03:33:45.139Z"
   },
   {
    "duration": 29,
    "start_time": "2022-01-27T03:33:45.147Z"
   },
   {
    "duration": 72,
    "start_time": "2022-01-27T03:33:45.178Z"
   },
   {
    "duration": 8,
    "start_time": "2022-01-27T03:33:45.252Z"
   },
   {
    "duration": 7,
    "start_time": "2022-01-27T03:33:45.262Z"
   },
   {
    "duration": 12,
    "start_time": "2022-01-27T03:33:45.271Z"
   },
   {
    "duration": 20,
    "start_time": "2022-01-27T03:33:45.285Z"
   },
   {
    "duration": 64,
    "start_time": "2022-01-27T03:33:45.308Z"
   },
   {
    "duration": 549,
    "start_time": "2022-01-27T03:33:45.374Z"
   },
   {
    "duration": 29,
    "start_time": "2022-01-27T03:33:45.926Z"
   },
   {
    "duration": 15,
    "start_time": "2022-01-27T03:33:45.958Z"
   },
   {
    "duration": 8,
    "start_time": "2022-01-27T03:33:45.975Z"
   },
   {
    "duration": 58,
    "start_time": "2022-01-27T03:33:45.985Z"
   },
   {
    "duration": 339,
    "start_time": "2022-01-27T03:33:46.045Z"
   },
   {
    "duration": 5,
    "start_time": "2022-01-27T03:33:46.387Z"
   },
   {
    "duration": 46,
    "start_time": "2022-01-27T03:33:46.395Z"
   },
   {
    "duration": 22,
    "start_time": "2022-01-27T03:33:46.444Z"
   },
   {
    "duration": 294,
    "start_time": "2022-01-27T03:33:46.468Z"
   },
   {
    "duration": 6,
    "start_time": "2022-01-27T03:33:46.764Z"
   },
   {
    "duration": 20,
    "start_time": "2022-01-27T03:33:46.772Z"
   },
   {
    "duration": 48,
    "start_time": "2022-01-27T03:33:46.794Z"
   },
   {
    "duration": 21,
    "start_time": "2022-01-27T03:33:46.844Z"
   },
   {
    "duration": 7,
    "start_time": "2022-01-27T03:33:46.867Z"
   },
   {
    "duration": 22,
    "start_time": "2022-01-27T03:33:46.876Z"
   },
   {
    "duration": 49,
    "start_time": "2022-01-27T03:33:46.901Z"
   },
   {
    "duration": 287,
    "start_time": "2022-01-27T03:33:46.952Z"
   },
   {
    "duration": 7,
    "start_time": "2022-01-27T03:33:47.242Z"
   },
   {
    "duration": 19,
    "start_time": "2022-01-27T03:33:47.251Z"
   },
   {
    "duration": 19,
    "start_time": "2022-01-27T03:33:47.272Z"
   },
   {
    "duration": 419,
    "start_time": "2022-01-27T03:33:47.293Z"
   },
   {
    "duration": 32,
    "start_time": "2022-01-27T03:33:47.715Z"
   },
   {
    "duration": 8,
    "start_time": "2022-01-27T03:33:47.750Z"
   },
   {
    "duration": 26,
    "start_time": "2022-01-27T03:33:47.760Z"
   },
   {
    "duration": 46,
    "start_time": "2022-01-27T03:33:47.788Z"
   },
   {
    "duration": 310,
    "start_time": "2022-01-27T03:33:47.837Z"
   },
   {
    "duration": 8,
    "start_time": "2022-01-27T03:33:48.150Z"
   },
   {
    "duration": 18,
    "start_time": "2022-01-27T03:33:48.166Z"
   },
   {
    "duration": 61,
    "start_time": "2022-01-27T03:33:48.187Z"
   },
   {
    "duration": 607,
    "start_time": "2022-01-27T03:33:48.250Z"
   },
   {
    "duration": 7,
    "start_time": "2022-01-27T03:33:48.860Z"
   },
   {
    "duration": 71,
    "start_time": "2022-01-27T03:33:48.869Z"
   },
   {
    "duration": 6,
    "start_time": "2022-01-27T03:33:48.943Z"
   },
   {
    "duration": 22,
    "start_time": "2022-01-27T03:33:48.951Z"
   },
   {
    "duration": 59,
    "start_time": "2022-01-27T03:33:48.975Z"
   },
   {
    "duration": 321,
    "start_time": "2022-01-27T03:33:49.036Z"
   },
   {
    "duration": 6,
    "start_time": "2022-01-27T03:33:49.360Z"
   },
   {
    "duration": 32,
    "start_time": "2022-01-27T03:33:49.368Z"
   },
   {
    "duration": 47,
    "start_time": "2022-01-27T03:33:49.403Z"
   },
   {
    "duration": 338,
    "start_time": "2022-01-27T03:33:49.453Z"
   },
   {
    "duration": 21,
    "start_time": "2022-01-27T03:33:49.793Z"
   },
   {
    "duration": 17,
    "start_time": "2022-01-27T03:33:49.817Z"
   },
   {
    "duration": 24,
    "start_time": "2022-01-27T03:33:49.836Z"
   },
   {
    "duration": 29,
    "start_time": "2022-01-27T03:33:49.862Z"
   },
   {
    "duration": 325,
    "start_time": "2022-01-27T03:33:49.893Z"
   },
   {
    "duration": 6,
    "start_time": "2022-01-27T03:33:50.232Z"
   },
   {
    "duration": 24,
    "start_time": "2022-01-27T03:33:50.240Z"
   },
   {
    "duration": 28,
    "start_time": "2022-01-27T03:33:50.267Z"
   },
   {
    "duration": 368,
    "start_time": "2022-01-27T03:33:50.297Z"
   },
   {
    "duration": 21,
    "start_time": "2022-01-27T03:33:50.667Z"
   },
   {
    "duration": 6,
    "start_time": "2022-01-27T03:33:50.691Z"
   },
   {
    "duration": 47,
    "start_time": "2022-01-27T03:33:50.699Z"
   },
   {
    "duration": 22,
    "start_time": "2022-01-27T03:33:50.748Z"
   },
   {
    "duration": 301,
    "start_time": "2022-01-27T03:33:50.772Z"
   },
   {
    "duration": 7,
    "start_time": "2022-01-27T03:33:51.075Z"
   },
   {
    "duration": 46,
    "start_time": "2022-01-27T03:33:51.084Z"
   },
   {
    "duration": 27,
    "start_time": "2022-01-27T03:33:51.133Z"
   },
   {
    "duration": 350,
    "start_time": "2022-01-27T03:33:51.163Z"
   },
   {
    "duration": 555,
    "start_time": "2022-01-27T03:33:51.516Z"
   },
   {
    "duration": 633,
    "start_time": "2022-01-27T03:33:52.074Z"
   },
   {
    "duration": 466,
    "start_time": "2022-01-27T03:33:52.710Z"
   },
   {
    "duration": 431,
    "start_time": "2022-01-27T03:33:53.178Z"
   },
   {
    "duration": 541,
    "start_time": "2022-01-27T03:33:53.612Z"
   },
   {
    "duration": 545,
    "start_time": "2022-01-27T03:33:54.156Z"
   },
   {
    "duration": 4,
    "start_time": "2022-01-27T03:33:54.703Z"
   },
   {
    "duration": 362,
    "start_time": "2022-01-27T03:33:54.709Z"
   },
   {
    "duration": 6,
    "start_time": "2022-01-27T03:33:55.074Z"
   },
   {
    "duration": 14,
    "start_time": "2022-01-27T03:33:55.082Z"
   },
   {
    "duration": 36,
    "start_time": "2022-01-27T03:33:55.098Z"
   },
   {
    "duration": 8,
    "start_time": "2022-01-27T03:33:55.136Z"
   },
   {
    "duration": 13,
    "start_time": "2022-01-27T03:33:55.146Z"
   },
   {
    "duration": 9,
    "start_time": "2022-01-27T03:33:55.161Z"
   }
  ],
  "kernelspec": {
   "display_name": "Python 3",
   "language": "python",
   "name": "python3"
  },
  "language_info": {
   "codemirror_mode": {
    "name": "ipython",
    "version": 3
   },
   "file_extension": ".py",
   "mimetype": "text/x-python",
   "name": "python",
   "nbconvert_exporter": "python",
   "pygments_lexer": "ipython3",
   "version": "3.7.12"
  },
  "toc": {
   "base_numbering": 1,
   "nav_menu": {},
   "number_sections": true,
   "sideBar": true,
   "skip_h1_title": true,
   "title_cell": "Table of Contents",
   "title_sidebar": "Contents",
   "toc_cell": false,
   "toc_position": {
    "height": "calc(100% - 180px)",
    "left": "10px",
    "top": "150px",
    "width": "288px"
   },
   "toc_section_display": true,
   "toc_window_display": true
  }
 },
 "nbformat": 4,
 "nbformat_minor": 2
}
