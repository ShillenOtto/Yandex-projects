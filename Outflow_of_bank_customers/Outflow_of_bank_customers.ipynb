{
 "cells": [
  {
   "cell_type": "markdown",
   "metadata": {
    "toc": true
   },
   "source": [
    "<h1>Содержание<span class=\"tocSkip\"></span></h1>\n",
    "<div class=\"toc\"><ul class=\"toc-item\"><li><span><a href=\"#Подготовка-данных\" data-toc-modified-id=\"Подготовка-данных-1\"><span class=\"toc-item-num\">1&nbsp;&nbsp;</span>Подготовка данных</a></span><ul class=\"toc-item\"><li><span><a href=\"#Опишим-данные\" data-toc-modified-id=\"Опишим-данные-1.1\"><span class=\"toc-item-num\">1.1&nbsp;&nbsp;</span>Опишим данные<br></a></span></li></ul></li><li><span><a href=\"#Исследование-задачи\" data-toc-modified-id=\"Исследование-задачи-2\"><span class=\"toc-item-num\">2&nbsp;&nbsp;</span>Исследование задачи</a></span></li><li><span><a href=\"#Борьба-с-дисбалансом\" data-toc-modified-id=\"Борьба-с-дисбалансом-3\"><span class=\"toc-item-num\">3&nbsp;&nbsp;</span>Борьба с дисбалансом</a></span><ul class=\"toc-item\"><li><span><a href=\"#F1-Мера\" data-toc-modified-id=\"F1-Мера-3.1\"><span class=\"toc-item-num\">3.1&nbsp;&nbsp;</span>F1 Мера</a></span></li><li><span><a href=\"#Порог-классификации\" data-toc-modified-id=\"Порог-классификации-3.2\"><span class=\"toc-item-num\">3.2&nbsp;&nbsp;</span>Порог классификации</a></span></li><li><span><a href=\"#Дерево-решений\" data-toc-modified-id=\"Дерево-решений-3.3\"><span class=\"toc-item-num\">3.3&nbsp;&nbsp;</span>Дерево решений</a></span></li><li><span><a href=\"#Случайный-лес\" data-toc-modified-id=\"Случайный-лес-3.4\"><span class=\"toc-item-num\">3.4&nbsp;&nbsp;</span>Случайный лес</a></span></li></ul></li><li><span><a href=\"#Тестирование-модели\" data-toc-modified-id=\"Тестирование-модели-4\"><span class=\"toc-item-num\">4&nbsp;&nbsp;</span>Тестирование модели</a></span><ul class=\"toc-item\"><li><span><a href=\"#Случайный-лес\" data-toc-modified-id=\"Случайный-лес-4.1\"><span class=\"toc-item-num\">4.1&nbsp;&nbsp;</span>Случайный лес</a></span><ul class=\"toc-item\"><li><span><a href=\"#Результат-F1\" data-toc-modified-id=\"Результат-F1-4.1.1\"><span class=\"toc-item-num\">4.1.1&nbsp;&nbsp;</span>Результат F1</a></span></li><li><span><a href=\"#Результат-Accuracy\" data-toc-modified-id=\"Результат-Accuracy-4.1.2\"><span class=\"toc-item-num\">4.1.2&nbsp;&nbsp;</span>Результат Accuracy</a></span></li><li><span><a href=\"#Результат-MAE\" data-toc-modified-id=\"Результат-MAE-4.1.3\"><span class=\"toc-item-num\">4.1.3&nbsp;&nbsp;</span>Результат MAE</a></span></li><li><span><a href=\"#ROC-кривая\" data-toc-modified-id=\"ROC-кривая-4.1.4\"><span class=\"toc-item-num\">4.1.4&nbsp;&nbsp;</span>ROC-кривая</a></span></li></ul></li></ul></li><li><span><a href=\"#Чек-лист-готовности-проекта\" data-toc-modified-id=\"Чек-лист-готовности-проекта-5\"><span class=\"toc-item-num\">5&nbsp;&nbsp;</span>Чек-лист готовности проекта</a></span></li></ul></div>"
   ]
  },
  {
   "cell_type": "markdown",
   "metadata": {},
   "source": [
    "# Отток клиентов"
   ]
  },
  {
   "cell_type": "markdown",
   "metadata": {},
   "source": [
    "Из «Бета-Банка» стали уходить клиенты. Каждый месяц. Немного, но заметно. Банковские маркетологи посчитали: сохранять текущих клиентов дешевле, чем привлекать новых.\n",
    "\n",
    "Нужно спрогнозировать, уйдёт клиент из банка в ближайшее время или нет. Нам предоставлены исторические данные о поведении клиентов и расторжении договоров с банком. \n",
    "\n",
    "Построим модель с предельно большим значением *F1*-меры. Нужно довести метрику до 0.59. Проверим *F1*-меру на тестовой выборке.\n",
    "\n",
    "Дополнительно измерим *AUC-ROC*, сравним её значение с *F1*-мерой.\n",
    "\n",
    "Источник данных: [https://www.kaggle.com/barelydedicated/bank-customer-churn-modeling](https://www.kaggle.com/barelydedicated/bank-customer-churn-modeling)"
   ]
  },
  {
   "cell_type": "markdown",
   "metadata": {},
   "source": [
    "## Подготовка данных"
   ]
  },
  {
   "cell_type": "code",
   "execution_count": 58,
   "metadata": {},
   "outputs": [],
   "source": [
    "# Импортируем библиотеку Pandas.\n",
    "import pandas as pd\n",
    "#from pandas import DataFrame\n",
    "# Импортируем библиотеку для постраения графиков matplotlib.pyplot.\n",
    "import matplotlib.pyplot as plt\n",
    "# Импортируем библиотеку для постраения графиков seaborn\n",
    "import seaborn as sns\n",
    "# Импортируем библиотеку для высокоуровневых математических функций numpy.\n",
    "import numpy as np\n",
    "import math\n",
    "# Импортируем библиотеки машинного обучения \n",
    "from scipy import stats as st \n",
    "import sklearn.metrics\n",
    "from sklearn.tree import DecisionTreeRegressor\n",
    "from sklearn.ensemble import RandomForestRegressor\n",
    "from sklearn.linear_model import LinearRegression\n",
    "from sklearn.linear_model import LogisticRegression\n",
    "from sklearn.model_selection import train_test_split\n",
    "from sklearn.metrics import mean_squared_error\n",
    "from sklearn.metrics import accuracy_score \n",
    "from sklearn.tree import DecisionTreeClassifier\n",
    "from sklearn.ensemble import RandomForestClassifier\n",
    "from sklearn.dummy import DummyClassifier\n",
    "from sklearn.preprocessing import StandardScaler\n",
    "from sklearn.metrics import confusion_matrix\n",
    "from sklearn.metrics import recall_score\n",
    "from sklearn.metrics import precision_score\n",
    "from sklearn.metrics import f1_score\n",
    "from sklearn.utils import shuffle\n",
    "from sklearn.metrics import precision_recall_curve\n",
    "from sklearn.metrics import roc_curve\n",
    "from sklearn.metrics import roc_curve, auc\n",
    "from sklearn.metrics import roc_auc_score\n",
    "from sklearn.metrics import mean_squared_error\n",
    "from sklearn.metrics import r2_score\n",
    "from sklearn.metrics import mean_absolute_error\n",
    "import warnings\n",
    "warnings.filterwarnings('ignore')\n",
    "pd.options.mode.chained_assignment = None"
   ]
  },
  {
   "cell_type": "code",
   "execution_count": 2,
   "metadata": {},
   "outputs": [],
   "source": [
    "# Прочитаем исходные DataFrame.\n",
    "try:\n",
    "    df = pd.read_csv('/datasets/Churn.csv')\n",
    "except:\n",
    "    df = pd.read_csv('Churn.csv')"
   ]
  },
  {
   "cell_type": "code",
   "execution_count": 3,
   "metadata": {},
   "outputs": [
    {
     "data": {
      "text/html": [
       "<div>\n",
       "<style scoped>\n",
       "    .dataframe tbody tr th:only-of-type {\n",
       "        vertical-align: middle;\n",
       "    }\n",
       "\n",
       "    .dataframe tbody tr th {\n",
       "        vertical-align: top;\n",
       "    }\n",
       "\n",
       "    .dataframe thead th {\n",
       "        text-align: right;\n",
       "    }\n",
       "</style>\n",
       "<table border=\"1\" class=\"dataframe\">\n",
       "  <thead>\n",
       "    <tr style=\"text-align: right;\">\n",
       "      <th></th>\n",
       "      <th>RowNumber</th>\n",
       "      <th>CustomerId</th>\n",
       "      <th>Surname</th>\n",
       "      <th>CreditScore</th>\n",
       "      <th>Geography</th>\n",
       "      <th>Gender</th>\n",
       "      <th>Age</th>\n",
       "      <th>Tenure</th>\n",
       "      <th>Balance</th>\n",
       "      <th>NumOfProducts</th>\n",
       "      <th>HasCrCard</th>\n",
       "      <th>IsActiveMember</th>\n",
       "      <th>EstimatedSalary</th>\n",
       "      <th>Exited</th>\n",
       "    </tr>\n",
       "  </thead>\n",
       "  <tbody>\n",
       "    <tr>\n",
       "      <th>0</th>\n",
       "      <td>1</td>\n",
       "      <td>15634602</td>\n",
       "      <td>Hargrave</td>\n",
       "      <td>619</td>\n",
       "      <td>France</td>\n",
       "      <td>Female</td>\n",
       "      <td>42</td>\n",
       "      <td>2.0</td>\n",
       "      <td>0.00</td>\n",
       "      <td>1</td>\n",
       "      <td>1</td>\n",
       "      <td>1</td>\n",
       "      <td>101348.88</td>\n",
       "      <td>1</td>\n",
       "    </tr>\n",
       "    <tr>\n",
       "      <th>1</th>\n",
       "      <td>2</td>\n",
       "      <td>15647311</td>\n",
       "      <td>Hill</td>\n",
       "      <td>608</td>\n",
       "      <td>Spain</td>\n",
       "      <td>Female</td>\n",
       "      <td>41</td>\n",
       "      <td>1.0</td>\n",
       "      <td>83807.86</td>\n",
       "      <td>1</td>\n",
       "      <td>0</td>\n",
       "      <td>1</td>\n",
       "      <td>112542.58</td>\n",
       "      <td>0</td>\n",
       "    </tr>\n",
       "    <tr>\n",
       "      <th>2</th>\n",
       "      <td>3</td>\n",
       "      <td>15619304</td>\n",
       "      <td>Onio</td>\n",
       "      <td>502</td>\n",
       "      <td>France</td>\n",
       "      <td>Female</td>\n",
       "      <td>42</td>\n",
       "      <td>8.0</td>\n",
       "      <td>159660.80</td>\n",
       "      <td>3</td>\n",
       "      <td>1</td>\n",
       "      <td>0</td>\n",
       "      <td>113931.57</td>\n",
       "      <td>1</td>\n",
       "    </tr>\n",
       "    <tr>\n",
       "      <th>3</th>\n",
       "      <td>4</td>\n",
       "      <td>15701354</td>\n",
       "      <td>Boni</td>\n",
       "      <td>699</td>\n",
       "      <td>France</td>\n",
       "      <td>Female</td>\n",
       "      <td>39</td>\n",
       "      <td>1.0</td>\n",
       "      <td>0.00</td>\n",
       "      <td>2</td>\n",
       "      <td>0</td>\n",
       "      <td>0</td>\n",
       "      <td>93826.63</td>\n",
       "      <td>0</td>\n",
       "    </tr>\n",
       "    <tr>\n",
       "      <th>4</th>\n",
       "      <td>5</td>\n",
       "      <td>15737888</td>\n",
       "      <td>Mitchell</td>\n",
       "      <td>850</td>\n",
       "      <td>Spain</td>\n",
       "      <td>Female</td>\n",
       "      <td>43</td>\n",
       "      <td>2.0</td>\n",
       "      <td>125510.82</td>\n",
       "      <td>1</td>\n",
       "      <td>1</td>\n",
       "      <td>1</td>\n",
       "      <td>79084.10</td>\n",
       "      <td>0</td>\n",
       "    </tr>\n",
       "  </tbody>\n",
       "</table>\n",
       "</div>"
      ],
      "text/plain": [
       "   RowNumber  CustomerId   Surname  CreditScore Geography  Gender  Age  \\\n",
       "0          1    15634602  Hargrave          619    France  Female   42   \n",
       "1          2    15647311      Hill          608     Spain  Female   41   \n",
       "2          3    15619304      Onio          502    France  Female   42   \n",
       "3          4    15701354      Boni          699    France  Female   39   \n",
       "4          5    15737888  Mitchell          850     Spain  Female   43   \n",
       "\n",
       "   Tenure    Balance  NumOfProducts  HasCrCard  IsActiveMember  \\\n",
       "0     2.0       0.00              1          1               1   \n",
       "1     1.0   83807.86              1          0               1   \n",
       "2     8.0  159660.80              3          1               0   \n",
       "3     1.0       0.00              2          0               0   \n",
       "4     2.0  125510.82              1          1               1   \n",
       "\n",
       "   EstimatedSalary  Exited  \n",
       "0        101348.88       1  \n",
       "1        112542.58       0  \n",
       "2        113931.57       1  \n",
       "3         93826.63       0  \n",
       "4         79084.10       0  "
      ]
     },
     "execution_count": 3,
     "metadata": {},
     "output_type": "execute_result"
    }
   ],
   "source": [
    "# Выведем data frame\n",
    "df.head()"
   ]
  },
  {
   "cell_type": "markdown",
   "metadata": {},
   "source": [
    "### Опишим данные<br>\n",
    "**Признаки**<br>\n",
    "***RowNumber*** — индекс строки в данных<br>\n",
    "***CustomerId*** — уникальный идентификатор клиента<br>\n",
    "***Surname*** — фамилия<br>\n",
    "***CreditScore*** — кредитный рейтинг<br>\n",
    "***Geography*** — страна проживания<br>\n",
    "***Gender*** — пол<br>\n",
    "***Age*** — возраст<br>\n",
    "***Tenure*** — сколько лет человек является клиентом банка<br>\n",
    "***Balance*** — баланс на счёте<br>\n",
    "***NumOfProducts*** — количество продуктов банка, используемых клиентом<br>\n",
    "***HasCrCard*** — наличие кредитной карты(1-имеется / 0-отсутствует)<br>\n",
    "***IsActiveMember*** — активность клиента(1-активен / 0-не активен)<br>\n",
    "***EstimatedSalary*** — предполагаемая зарплата<br>\n",
    "**Целевой признак**<br>\n",
    "***Exited*** — факт ухода клиента(1-остался / 0- ушел)<br> "
   ]
  },
  {
   "cell_type": "code",
   "execution_count": 4,
   "metadata": {},
   "outputs": [
    {
     "data": {
      "text/plain": [
       "(10000, 14)"
      ]
     },
     "execution_count": 4,
     "metadata": {},
     "output_type": "execute_result"
    }
   ],
   "source": [
    "df.shape"
   ]
  },
  {
   "cell_type": "code",
   "execution_count": 5,
   "metadata": {},
   "outputs": [
    {
     "name": "stdout",
     "output_type": "stream",
     "text": [
      "<class 'pandas.core.frame.DataFrame'>\n",
      "RangeIndex: 10000 entries, 0 to 9999\n",
      "Data columns (total 14 columns):\n",
      " #   Column           Non-Null Count  Dtype  \n",
      "---  ------           --------------  -----  \n",
      " 0   RowNumber        10000 non-null  int64  \n",
      " 1   CustomerId       10000 non-null  int64  \n",
      " 2   Surname          10000 non-null  object \n",
      " 3   CreditScore      10000 non-null  int64  \n",
      " 4   Geography        10000 non-null  object \n",
      " 5   Gender           10000 non-null  object \n",
      " 6   Age              10000 non-null  int64  \n",
      " 7   Tenure           9091 non-null   float64\n",
      " 8   Balance          10000 non-null  float64\n",
      " 9   NumOfProducts    10000 non-null  int64  \n",
      " 10  HasCrCard        10000 non-null  int64  \n",
      " 11  IsActiveMember   10000 non-null  int64  \n",
      " 12  EstimatedSalary  10000 non-null  float64\n",
      " 13  Exited           10000 non-null  int64  \n",
      "dtypes: float64(3), int64(8), object(3)\n",
      "memory usage: 1.1+ MB\n"
     ]
    }
   ],
   "source": [
    "# Посмотрим инфо по DF\n",
    "df.info()"
   ]
  },
  {
   "cell_type": "code",
   "execution_count": 6,
   "metadata": {},
   "outputs": [
    {
     "data": {
      "text/plain": [
       "array([ 2.,  1.,  8.,  7.,  4.,  6.,  3., 10.,  5.,  9.,  0., nan])"
      ]
     },
     "execution_count": 6,
     "metadata": {},
     "output_type": "execute_result"
    }
   ],
   "source": [
    "# Проверим какой тип пропусков, далее заменим их на медиану в каждой выборке отдельно\n",
    "df['Tenure'].unique()"
   ]
  },
  {
   "cell_type": "code",
   "execution_count": 7,
   "metadata": {},
   "outputs": [],
   "source": [
    "# Применим технику прямого кодирования для преобразования категориальных признаков в числовые.\n",
    "df_ohe = df.drop('Surname', axis=1)\n",
    "df_ohe = pd.get_dummies(df_ohe, drop_first=False)"
   ]
  },
  {
   "cell_type": "code",
   "execution_count": 8,
   "metadata": {
    "scrolled": true
   },
   "outputs": [
    {
     "data": {
      "text/html": [
       "<div>\n",
       "<style scoped>\n",
       "    .dataframe tbody tr th:only-of-type {\n",
       "        vertical-align: middle;\n",
       "    }\n",
       "\n",
       "    .dataframe tbody tr th {\n",
       "        vertical-align: top;\n",
       "    }\n",
       "\n",
       "    .dataframe thead th {\n",
       "        text-align: right;\n",
       "    }\n",
       "</style>\n",
       "<table border=\"1\" class=\"dataframe\">\n",
       "  <thead>\n",
       "    <tr style=\"text-align: right;\">\n",
       "      <th></th>\n",
       "      <th>RowNumber</th>\n",
       "      <th>CustomerId</th>\n",
       "      <th>CreditScore</th>\n",
       "      <th>Age</th>\n",
       "      <th>Tenure</th>\n",
       "      <th>Balance</th>\n",
       "      <th>NumOfProducts</th>\n",
       "      <th>HasCrCard</th>\n",
       "      <th>IsActiveMember</th>\n",
       "      <th>EstimatedSalary</th>\n",
       "      <th>Exited</th>\n",
       "      <th>Geography_France</th>\n",
       "      <th>Geography_Germany</th>\n",
       "      <th>Geography_Spain</th>\n",
       "      <th>Gender_Female</th>\n",
       "      <th>Gender_Male</th>\n",
       "    </tr>\n",
       "  </thead>\n",
       "  <tbody>\n",
       "    <tr>\n",
       "      <th>0</th>\n",
       "      <td>1</td>\n",
       "      <td>15634602</td>\n",
       "      <td>619</td>\n",
       "      <td>42</td>\n",
       "      <td>2.0</td>\n",
       "      <td>0.00</td>\n",
       "      <td>1</td>\n",
       "      <td>1</td>\n",
       "      <td>1</td>\n",
       "      <td>101348.88</td>\n",
       "      <td>1</td>\n",
       "      <td>1</td>\n",
       "      <td>0</td>\n",
       "      <td>0</td>\n",
       "      <td>1</td>\n",
       "      <td>0</td>\n",
       "    </tr>\n",
       "    <tr>\n",
       "      <th>1</th>\n",
       "      <td>2</td>\n",
       "      <td>15647311</td>\n",
       "      <td>608</td>\n",
       "      <td>41</td>\n",
       "      <td>1.0</td>\n",
       "      <td>83807.86</td>\n",
       "      <td>1</td>\n",
       "      <td>0</td>\n",
       "      <td>1</td>\n",
       "      <td>112542.58</td>\n",
       "      <td>0</td>\n",
       "      <td>0</td>\n",
       "      <td>0</td>\n",
       "      <td>1</td>\n",
       "      <td>1</td>\n",
       "      <td>0</td>\n",
       "    </tr>\n",
       "    <tr>\n",
       "      <th>2</th>\n",
       "      <td>3</td>\n",
       "      <td>15619304</td>\n",
       "      <td>502</td>\n",
       "      <td>42</td>\n",
       "      <td>8.0</td>\n",
       "      <td>159660.80</td>\n",
       "      <td>3</td>\n",
       "      <td>1</td>\n",
       "      <td>0</td>\n",
       "      <td>113931.57</td>\n",
       "      <td>1</td>\n",
       "      <td>1</td>\n",
       "      <td>0</td>\n",
       "      <td>0</td>\n",
       "      <td>1</td>\n",
       "      <td>0</td>\n",
       "    </tr>\n",
       "    <tr>\n",
       "      <th>3</th>\n",
       "      <td>4</td>\n",
       "      <td>15701354</td>\n",
       "      <td>699</td>\n",
       "      <td>39</td>\n",
       "      <td>1.0</td>\n",
       "      <td>0.00</td>\n",
       "      <td>2</td>\n",
       "      <td>0</td>\n",
       "      <td>0</td>\n",
       "      <td>93826.63</td>\n",
       "      <td>0</td>\n",
       "      <td>1</td>\n",
       "      <td>0</td>\n",
       "      <td>0</td>\n",
       "      <td>1</td>\n",
       "      <td>0</td>\n",
       "    </tr>\n",
       "    <tr>\n",
       "      <th>4</th>\n",
       "      <td>5</td>\n",
       "      <td>15737888</td>\n",
       "      <td>850</td>\n",
       "      <td>43</td>\n",
       "      <td>2.0</td>\n",
       "      <td>125510.82</td>\n",
       "      <td>1</td>\n",
       "      <td>1</td>\n",
       "      <td>1</td>\n",
       "      <td>79084.10</td>\n",
       "      <td>0</td>\n",
       "      <td>0</td>\n",
       "      <td>0</td>\n",
       "      <td>1</td>\n",
       "      <td>1</td>\n",
       "      <td>0</td>\n",
       "    </tr>\n",
       "  </tbody>\n",
       "</table>\n",
       "</div>"
      ],
      "text/plain": [
       "   RowNumber  CustomerId  CreditScore  Age  Tenure    Balance  NumOfProducts  \\\n",
       "0          1    15634602          619   42     2.0       0.00              1   \n",
       "1          2    15647311          608   41     1.0   83807.86              1   \n",
       "2          3    15619304          502   42     8.0  159660.80              3   \n",
       "3          4    15701354          699   39     1.0       0.00              2   \n",
       "4          5    15737888          850   43     2.0  125510.82              1   \n",
       "\n",
       "   HasCrCard  IsActiveMember  EstimatedSalary  Exited  Geography_France  \\\n",
       "0          1               1        101348.88       1                 1   \n",
       "1          0               1        112542.58       0                 0   \n",
       "2          1               0        113931.57       1                 1   \n",
       "3          0               0         93826.63       0                 1   \n",
       "4          1               1         79084.10       0                 0   \n",
       "\n",
       "   Geography_Germany  Geography_Spain  Gender_Female  Gender_Male  \n",
       "0                  0                0              1            0  \n",
       "1                  0                1              1            0  \n",
       "2                  0                0              1            0  \n",
       "3                  0                0              1            0  \n",
       "4                  0                1              1            0  "
      ]
     },
     "execution_count": 8,
     "metadata": {},
     "output_type": "execute_result"
    }
   ],
   "source": [
    "df_ohe.head()"
   ]
  },
  {
   "cell_type": "code",
   "execution_count": 11,
   "metadata": {
    "scrolled": true
   },
   "outputs": [
    {
     "data": {
      "text/plain": [
       "Text(0.5, 1.0, 'Correlation Heatmap')"
      ]
     },
     "execution_count": 11,
     "metadata": {},
     "output_type": "execute_result"
    },
    {
     "data": {
      "image/png": "[encoded data removed]",
      "text/plain": [
       "<Figure size 720x576 with 2 Axes>"
      ]
     },
     "metadata": {
      "needs_background": "light"
     },
     "output_type": "display_data"
    }
   ],
   "source": [
    "# Проверим на карреляцию\n",
    "plt.figure(figsize=(10, 8)) \n",
    "heatmap = sns.heatmap(df_ohe.corr(), vmin=-1, vmax=1) \n",
    "heatmap.set_title('Correlation Heatmap', fontdict={'fontsize':15}, pad=20)"
   ]
  },
  {
   "cell_type": "code",
   "execution_count": 12,
   "metadata": {},
   "outputs": [],
   "source": [
    "# Извлечем признаки и целевое знаечение\n",
    "features = df_ohe.drop(['Exited', 'CustomerId'], axis=1)\n",
    "target = df_ohe['Exited']"
   ]
  },
  {
   "cell_type": "code",
   "execution_count": 13,
   "metadata": {},
   "outputs": [],
   "source": [
    "# Разделим обучающую, валидационную и тестовую выборки\n",
    "features_train, features_temp, target_train, target_temp = train_test_split(\n",
    "    features, target, test_size=0.40, random_state=12345)\n",
    "features_valid, features_test, target_valid, target_test = train_test_split(\n",
    "    features_temp, target_temp, test_size=0.50, random_state=12345)"
   ]
  },
  {
   "cell_type": "code",
   "execution_count": 14,
   "metadata": {},
   "outputs": [
    {
     "name": "stdout",
     "output_type": "stream",
     "text": [
      "Размер выборки train: (6000, 14)\n",
      "Размер выборки valid: (2000, 14)\n",
      "Размер выборки test: (2000, 14)\n"
     ]
    }
   ],
   "source": [
    "# Проверим размеры выборок\n",
    "print('Размер выборки train:', features_train.shape)\n",
    "print('Размер выборки valid:', features_valid.shape)\n",
    "print('Размер выборки test:', features_valid.shape)"
   ]
  },
  {
   "cell_type": "code",
   "execution_count": 15,
   "metadata": {},
   "outputs": [],
   "source": [
    "# Заменим NaN в Tenure\n",
    "features_train['Tenure'] = features_train['Tenure'].fillna(features_train['Tenure'].median())\n",
    "features_valid['Tenure'] = features_valid['Tenure'].fillna(features_train['Tenure'].median())\n",
    "features_test['Tenure'] = features_test['Tenure'].fillna(features_train['Tenure'].median())"
   ]
  },
  {
   "cell_type": "code",
   "execution_count": 16,
   "metadata": {},
   "outputs": [
    {
     "data": {
      "text/html": [
       "<div>\n",
       "<style scoped>\n",
       "    .dataframe tbody tr th:only-of-type {\n",
       "        vertical-align: middle;\n",
       "    }\n",
       "\n",
       "    .dataframe tbody tr th {\n",
       "        vertical-align: top;\n",
       "    }\n",
       "\n",
       "    .dataframe thead th {\n",
       "        text-align: right;\n",
       "    }\n",
       "</style>\n",
       "<table border=\"1\" class=\"dataframe\">\n",
       "  <thead>\n",
       "    <tr style=\"text-align: right;\">\n",
       "      <th></th>\n",
       "      <th>RowNumber</th>\n",
       "      <th>CustomerId</th>\n",
       "      <th>CreditScore</th>\n",
       "      <th>Age</th>\n",
       "      <th>Tenure</th>\n",
       "      <th>Balance</th>\n",
       "      <th>NumOfProducts</th>\n",
       "      <th>HasCrCard</th>\n",
       "      <th>IsActiveMember</th>\n",
       "      <th>EstimatedSalary</th>\n",
       "      <th>Exited</th>\n",
       "      <th>Geography_France</th>\n",
       "      <th>Geography_Germany</th>\n",
       "      <th>Geography_Spain</th>\n",
       "      <th>Gender_Female</th>\n",
       "      <th>Gender_Male</th>\n",
       "    </tr>\n",
       "  </thead>\n",
       "  <tbody>\n",
       "    <tr>\n",
       "      <th>0</th>\n",
       "      <td>1</td>\n",
       "      <td>15634602</td>\n",
       "      <td>619</td>\n",
       "      <td>42</td>\n",
       "      <td>2.0</td>\n",
       "      <td>0.00</td>\n",
       "      <td>1</td>\n",
       "      <td>1</td>\n",
       "      <td>1</td>\n",
       "      <td>101348.88</td>\n",
       "      <td>1</td>\n",
       "      <td>1</td>\n",
       "      <td>0</td>\n",
       "      <td>0</td>\n",
       "      <td>1</td>\n",
       "      <td>0</td>\n",
       "    </tr>\n",
       "    <tr>\n",
       "      <th>1</th>\n",
       "      <td>2</td>\n",
       "      <td>15647311</td>\n",
       "      <td>608</td>\n",
       "      <td>41</td>\n",
       "      <td>1.0</td>\n",
       "      <td>83807.86</td>\n",
       "      <td>1</td>\n",
       "      <td>0</td>\n",
       "      <td>1</td>\n",
       "      <td>112542.58</td>\n",
       "      <td>0</td>\n",
       "      <td>0</td>\n",
       "      <td>0</td>\n",
       "      <td>1</td>\n",
       "      <td>1</td>\n",
       "      <td>0</td>\n",
       "    </tr>\n",
       "    <tr>\n",
       "      <th>2</th>\n",
       "      <td>3</td>\n",
       "      <td>15619304</td>\n",
       "      <td>502</td>\n",
       "      <td>42</td>\n",
       "      <td>8.0</td>\n",
       "      <td>159660.80</td>\n",
       "      <td>3</td>\n",
       "      <td>1</td>\n",
       "      <td>0</td>\n",
       "      <td>113931.57</td>\n",
       "      <td>1</td>\n",
       "      <td>1</td>\n",
       "      <td>0</td>\n",
       "      <td>0</td>\n",
       "      <td>1</td>\n",
       "      <td>0</td>\n",
       "    </tr>\n",
       "    <tr>\n",
       "      <th>3</th>\n",
       "      <td>4</td>\n",
       "      <td>15701354</td>\n",
       "      <td>699</td>\n",
       "      <td>39</td>\n",
       "      <td>1.0</td>\n",
       "      <td>0.00</td>\n",
       "      <td>2</td>\n",
       "      <td>0</td>\n",
       "      <td>0</td>\n",
       "      <td>93826.63</td>\n",
       "      <td>0</td>\n",
       "      <td>1</td>\n",
       "      <td>0</td>\n",
       "      <td>0</td>\n",
       "      <td>1</td>\n",
       "      <td>0</td>\n",
       "    </tr>\n",
       "    <tr>\n",
       "      <th>4</th>\n",
       "      <td>5</td>\n",
       "      <td>15737888</td>\n",
       "      <td>850</td>\n",
       "      <td>43</td>\n",
       "      <td>2.0</td>\n",
       "      <td>125510.82</td>\n",
       "      <td>1</td>\n",
       "      <td>1</td>\n",
       "      <td>1</td>\n",
       "      <td>79084.10</td>\n",
       "      <td>0</td>\n",
       "      <td>0</td>\n",
       "      <td>0</td>\n",
       "      <td>1</td>\n",
       "      <td>1</td>\n",
       "      <td>0</td>\n",
       "    </tr>\n",
       "  </tbody>\n",
       "</table>\n",
       "</div>"
      ],
      "text/plain": [
       "   RowNumber  CustomerId  CreditScore  Age  Tenure    Balance  NumOfProducts  \\\n",
       "0          1    15634602          619   42     2.0       0.00              1   \n",
       "1          2    15647311          608   41     1.0   83807.86              1   \n",
       "2          3    15619304          502   42     8.0  159660.80              3   \n",
       "3          4    15701354          699   39     1.0       0.00              2   \n",
       "4          5    15737888          850   43     2.0  125510.82              1   \n",
       "\n",
       "   HasCrCard  IsActiveMember  EstimatedSalary  Exited  Geography_France  \\\n",
       "0          1               1        101348.88       1                 1   \n",
       "1          0               1        112542.58       0                 0   \n",
       "2          1               0        113931.57       1                 1   \n",
       "3          0               0         93826.63       0                 1   \n",
       "4          1               1         79084.10       0                 0   \n",
       "\n",
       "   Geography_Germany  Geography_Spain  Gender_Female  Gender_Male  \n",
       "0                  0                0              1            0  \n",
       "1                  0                1              1            0  \n",
       "2                  0                0              1            0  \n",
       "3                  0                0              1            0  \n",
       "4                  0                1              1            0  "
      ]
     },
     "execution_count": 16,
     "metadata": {},
     "output_type": "execute_result"
    }
   ],
   "source": [
    "df_ohe.head()"
   ]
  },
  {
   "cell_type": "code",
   "execution_count": 17,
   "metadata": {},
   "outputs": [],
   "source": [
    "# Масштабируем признаки методом StandardScaler\n",
    "numeric = ['CreditScore', 'Age', 'Tenure', 'Balance', 'NumOfProducts', 'HasCrCard', 'IsActiveMember', 'EstimatedSalary', 'Geography_France', 'Geography_Germany', 'Geography_Spain', 'Gender_Female', 'Gender_Male']\n",
    "\n",
    "scaler = StandardScaler()\n",
    "scaler.fit(features_train[numeric])\n",
    "features_train[numeric] = scaler.transform(features_train[numeric])\n",
    "features_valid[numeric] = scaler.transform(features_valid[numeric])\n",
    "features_test[numeric] = scaler.transform(features_test[numeric])\n",
    "\n"
   ]
  },
  {
   "cell_type": "code",
   "execution_count": 18,
   "metadata": {},
   "outputs": [
    {
     "name": "stdout",
     "output_type": "stream",
     "text": [
      "      RowNumber  CreditScore       Age    Tenure   Balance  NumOfProducts  \\\n",
      "7479       7480    -0.886751 -0.373192  1.082277  1.232271      -0.891560   \n",
      "3411       3412     0.608663 -0.183385  1.082277  0.600563      -0.891560   \n",
      "6027       6028     2.052152  0.480939 -0.737696  1.027098       0.830152   \n",
      "1247       1248    -1.457915 -1.417129  0.354288 -1.233163       0.830152   \n",
      "3716       3717     0.130961 -1.132419 -1.101690  1.140475      -0.891560   \n",
      "\n",
      "      HasCrCard  IsActiveMember  EstimatedSalary  Geography_France  \\\n",
      "7479   0.642466       -1.055187        -0.187705         -1.005013   \n",
      "3411  -1.556504       -1.055187        -0.333945          0.995012   \n",
      "6027  -1.556504        0.947699         1.503095         -1.005013   \n",
      "1247   0.642466       -1.055187        -1.071061          0.995012   \n",
      "3716  -1.556504       -1.055187         1.524268         -1.005013   \n",
      "\n",
      "      Geography_Germany  Geography_Spain  Gender_Female  Gender_Male  \n",
      "7479          -0.572475         1.728977      -0.907278     0.907278  \n",
      "3411          -0.572475        -0.578377       1.102198    -1.102198  \n",
      "6027           1.746802        -0.578377      -0.907278     0.907278  \n",
      "1247          -0.572475        -0.578377      -0.907278     0.907278  \n",
      "3716           1.746802        -0.578377       1.102198    -1.102198  \n"
     ]
    }
   ],
   "source": [
    "print(features_train.head())"
   ]
  },
  {
   "cell_type": "markdown",
   "metadata": {},
   "source": [
    "## Исследование задачи"
   ]
  },
  {
   "cell_type": "code",
   "execution_count": 19,
   "metadata": {},
   "outputs": [
    {
     "name": "stdout",
     "output_type": "stream",
     "text": [
      "0.792\n"
     ]
    }
   ],
   "source": [
    "# Accuracy для решающего дерева\n",
    "model = DecisionTreeClassifier(random_state=12345)\n",
    "model.fit(features_train, target_train)\n",
    "predicted_valid = model.predict(features_valid)\n",
    "accuracy_valid = accuracy_score(target_valid, predicted_valid)\n",
    "print(accuracy_valid)"
   ]
  },
  {
   "cell_type": "code",
   "execution_count": 20,
   "metadata": {},
   "outputs": [
    {
     "name": "stdout",
     "output_type": "stream",
     "text": [
      "0    0.7963\n",
      "1    0.2037\n",
      "Name: Exited, dtype: float64\n"
     ]
    },
    {
     "data": {
      "text/plain": [
       "<AxesSubplot:>"
      ]
     },
     "execution_count": 20,
     "metadata": {},
     "output_type": "execute_result"
    },
    {
     "data": {
      "image/png": "[encoded data removed]",
      "text/plain": [
       "<Figure size 432x288 with 1 Axes>"
      ]
     },
     "metadata": {
      "needs_background": "light"
     },
     "output_type": "display_data"
    }
   ],
   "source": [
    "# Посчитаем, как часто в целевом признаке встречается класс «1» или «0» В целевон признаке\n",
    "class_frequency = df_ohe['Exited'].value_counts(normalize=True)\n",
    "print(class_frequency)\n",
    "class_frequency.plot(kind='bar')"
   ]
  },
  {
   "cell_type": "markdown",
   "metadata": {},
   "source": [
    "Мы можем наблюдать, что классы сильно разбалансированы. Клиентов, которые останутся(1) всего около 20%"
   ]
  },
  {
   "cell_type": "code",
   "execution_count": 21,
   "metadata": {
    "scrolled": true
   },
   "outputs": [
    {
     "name": "stdout",
     "output_type": "stream",
     "text": [
      "0    0.783\n",
      "1    0.217\n",
      "dtype: float64\n"
     ]
    },
    {
     "data": {
      "text/plain": [
       "<AxesSubplot:>"
      ]
     },
     "execution_count": 21,
     "metadata": {},
     "output_type": "execute_result"
    },
    {
     "data": {
      "image/png": "[encoded data removed]",
      "text/plain": [
       "<Figure size 432x288 with 1 Axes>"
      ]
     },
     "metadata": {
      "needs_background": "light"
     },
     "output_type": "display_data"
    }
   ],
   "source": [
    "# Проанализируем частоты классов в результатах предсказаний решающего дерева (переменная predicted_valid).\n",
    "model = DecisionTreeClassifier(random_state=12345)\n",
    "model.fit(features_train, target_train)\n",
    "predicted_valid = pd.Series(model.predict(features_valid))\n",
    "class_frequency = predicted_valid.value_counts(normalize=True)\n",
    "print(class_frequency)\n",
    "class_frequency.plot(kind='bar')"
   ]
  },
  {
   "cell_type": "markdown",
   "metadata": {},
   "source": [
    "Мы видим совсем не большие изменения. Клиентов, которые останутся(1) теперь около 22%, это попрежнему очень мало."
   ]
  },
  {
   "cell_type": "code",
   "execution_count": 22,
   "metadata": {},
   "outputs": [
    {
     "name": "stdout",
     "output_type": "stream",
     "text": [
      "0.7963\n"
     ]
    }
   ],
   "source": [
    "# Создим константную модель\n",
    "target_pred_constant = pd.Series([0]*10000)\n",
    "\n",
    "print(accuracy_score(target, target_pred_constant))"
   ]
  },
  {
   "cell_type": "markdown",
   "metadata": {},
   "source": [
    "Метрика Accuracy не подходит, так как результат нашей модели и константной практически одиновковы. Это показывает на дисбаланс классов."
   ]
  },
  {
   "cell_type": "code",
   "execution_count": 23,
   "metadata": {},
   "outputs": [
    {
     "data": {
      "text/plain": [
       "array([[1366,  216],\n",
       "       [ 200,  218]])"
      ]
     },
     "execution_count": 23,
     "metadata": {},
     "output_type": "execute_result"
    }
   ],
   "source": [
    "# Используем матрицу ошибок\n",
    "confusion_matrix(target_valid, predicted_valid)"
   ]
  },
  {
   "cell_type": "markdown",
   "metadata": {},
   "source": [
    "Получаем:<br>\n",
    "По главной диагонали (от верхнего левого угла) выстроены **правильные прогнозы**:<br>\n",
    "TN в левом верхнем углу (1366);<br>\n",
    "TP в правом нижнем углу (218).<br>\n",
    "Вне главной диагонали — **ошибочные варианты**:<br>\n",
    "FP в правом верхнем углу (216);<br>\n",
    "FN в левом нижнем углу (200).<br>"
   ]
  },
  {
   "cell_type": "code",
   "execution_count": 24,
   "metadata": {},
   "outputs": [
    {
     "data": {
      "text/plain": [
       "0.5215311004784688"
      ]
     },
     "execution_count": 24,
     "metadata": {},
     "output_type": "execute_result"
    }
   ],
   "source": [
    "# Используем метрику Полноты (recall)\n",
    "recall_score(target_valid, predicted_valid)"
   ]
  },
  {
   "cell_type": "markdown",
   "metadata": {},
   "source": [
    "Полнота — это доля TP-ответов среди всех, у которых истинная метка 1. Хорошо, когда значение recall близко к единице: модель хорошо ищет положительные объекты. Если ближе к нулю — модель надо перепроверить и починить.<br>\n",
    "Наш результат 0.52 - это нам показывает, что модель очень плохо ищет положительные объекты. Необходимо бороться с дисбалансом"
   ]
  },
  {
   "cell_type": "code",
   "execution_count": 25,
   "metadata": {},
   "outputs": [
    {
     "data": {
      "text/plain": [
       "0.5023041474654378"
      ]
     },
     "execution_count": 25,
     "metadata": {},
     "output_type": "execute_result"
    }
   ],
   "source": [
    "# Используем метрику Точности (precision)\n",
    "precision_score(target_valid, predicted_valid)"
   ]
  },
  {
   "cell_type": "markdown",
   "metadata": {},
   "source": [
    "Точность определяет, как много отрицательных ответов нашла модель, пока искала положительные. Чем больше отрицательных, тем ниже точность. Нам нужна точность, близкая к единице.<br>\n",
    "Наш результат 0.50"
   ]
  },
  {
   "cell_type": "markdown",
   "metadata": {},
   "source": [
    "## Борьба с дисбалансом"
   ]
  },
  {
   "cell_type": "markdown",
   "metadata": {},
   "source": [
    "### F1 Мера"
   ]
  },
  {
   "cell_type": "code",
   "execution_count": 26,
   "metadata": {},
   "outputs": [
    {
     "name": "stdout",
     "output_type": "stream",
     "text": [
      "F1: 0.5117370892018779\n"
     ]
    }
   ],
   "source": [
    "model = DecisionTreeClassifier(random_state=12345)\n",
    "model.fit(features_train, target_train)\n",
    "predicted_valid = model.predict(features_valid)\n",
    "print(\"F1:\", f1_score(target_valid, predicted_valid))"
   ]
  },
  {
   "cell_type": "markdown",
   "metadata": {},
   "source": [
    "Если положительный класс плохо прогнозируется по одной из шкал (Recall или Precision), то близкая к нулю F1-мера покажет, что прогноз класса 1 не удался."
   ]
  },
  {
   "cell_type": "code",
   "execution_count": 27,
   "metadata": {},
   "outputs": [],
   "source": [
    "features_zeros = features_train[target_train == 0]\n",
    "features_ones = features_train[target_train == 1]\n",
    "target_zeros = target_train[target_train == 0]\n",
    "target_ones = target_train[target_train == 1]"
   ]
  },
  {
   "cell_type": "code",
   "execution_count": 28,
   "metadata": {
    "scrolled": true
   },
   "outputs": [
    {
     "name": "stdout",
     "output_type": "stream",
     "text": [
      "(4804, 14)\n",
      "(1196, 14)\n",
      "(4804,)\n",
      "(1196,)\n"
     ]
    }
   ],
   "source": [
    "print(features_zeros.shape)\n",
    "print(features_ones.shape)\n",
    "print(target_zeros.shape)\n",
    "print(target_ones.shape)"
   ]
  },
  {
   "cell_type": "markdown",
   "metadata": {},
   "source": [
    "Мы видим, что отрицательного класса больше в 4 раза, чем положительного."
   ]
  },
  {
   "cell_type": "code",
   "execution_count": 29,
   "metadata": {
    "scrolled": true
   },
   "outputs": [
    {
     "name": "stdout",
     "output_type": "stream",
     "text": [
      "(9588, 14)\n",
      "(9588,)\n"
     ]
    }
   ],
   "source": [
    "# Создадим функцию, которая с учётом полученных данных создаст новую обучающую выборку.\n",
    "# Перемешает данные, идущие друг за другом.\n",
    "\n",
    "def upsample(features, target, repeat):\n",
    "    features_zeros = features_train[target_train == 0]\n",
    "    features_ones = features_train[target_train == 1]\n",
    "    target_zeros = target_train[target_train == 0]\n",
    "    target_ones = target_train[target_train == 1]\n",
    "    \n",
    "    features_upsampled = pd.concat([features_zeros] + [features_ones] * repeat)\n",
    "    target_upsampled = pd.concat([target_zeros] + [target_ones] * repeat)\n",
    "    \n",
    "    features_upsampled, target_upsampled = shuffle(\n",
    "        features_upsampled, target_upsampled, random_state=12345)\n",
    "    \n",
    "    return features_upsampled, target_upsampled\n",
    "\n",
    "\n",
    "features_upsampled, target_upsampled = upsample(features_train, target_train, 4)\n",
    "\n",
    "print(features_upsampled.shape)\n",
    "print(target_upsampled.shape)"
   ]
  },
  {
   "cell_type": "code",
   "execution_count": 30,
   "metadata": {},
   "outputs": [
    {
     "name": "stdout",
     "output_type": "stream",
     "text": [
      "F1: 0.5086848635235732\n"
     ]
    }
   ],
   "source": [
    "model = DecisionTreeClassifier(random_state=12345)\n",
    "model.fit(features_upsampled, target_upsampled)\n",
    "predicted_valid = model.predict(features_valid)\n",
    "print(\"F1:\", f1_score(target_valid, predicted_valid))"
   ]
  },
  {
   "cell_type": "markdown",
   "metadata": {},
   "source": [
    "Мы наблюдаем, что значение F1 = 0.508."
   ]
  },
  {
   "cell_type": "code",
   "execution_count": 31,
   "metadata": {},
   "outputs": [
    {
     "name": "stdout",
     "output_type": "stream",
     "text": [
      "(2397, 14)\n",
      "(2397,)\n"
     ]
    }
   ],
   "source": [
    "# Воспользуемся техникой upsampling:\n",
    "# Создадим функцию, которая с учётом полученных данных создаст новую обучающую выборку.\n",
    "# Перемешает данные, идущие друг за другом.\n",
    "\n",
    "def downsample(features, target, fraction):\n",
    "    features_zeros = features_train[target == 0]\n",
    "    features_ones = features_train[target == 1]\n",
    "    target_zeros = target_train[target == 0]\n",
    "    target_ones = target_train[target == 1]\n",
    "\n",
    "    features_downsampled = pd.concat(\n",
    "        [features_zeros.sample(frac=fraction, random_state=12345)] + [features_ones])\n",
    "    target_downsampled = pd.concat(\n",
    "        [target_zeros.sample(frac=fraction, random_state=12345)] + [target_ones])\n",
    "    \n",
    "    features_downsampled, target_downsampled = shuffle(\n",
    "        features_downsampled, target_downsampled, random_state=12345)\n",
    "    \n",
    "    return features_downsampled, target_downsampled\n",
    "\n",
    "features_downsampled, target_downsampled = downsample(features_train, target_train, 0.25)\n",
    "\n",
    "print(features_downsampled.shape)\n",
    "print(target_downsampled.shape)"
   ]
  },
  {
   "cell_type": "code",
   "execution_count": 32,
   "metadata": {
    "scrolled": true
   },
   "outputs": [
    {
     "name": "stdout",
     "output_type": "stream",
     "text": [
      "F1: 0.49317406143344705\n"
     ]
    }
   ],
   "source": [
    "# Проверим метрику F1 на новых данных\n",
    "model = DecisionTreeClassifier(random_state=12345)\n",
    "model.fit(features_downsampled, target_downsampled)\n",
    "predicted_valid =  model.predict(features_valid)\n",
    "print(\"F1:\", f1_score(target_valid, predicted_valid))"
   ]
  },
  {
   "cell_type": "markdown",
   "metadata": {},
   "source": [
    "Используя метод upsampling мы получили результат F1 = 0.49"
   ]
  },
  {
   "cell_type": "code",
   "execution_count": 33,
   "metadata": {},
   "outputs": [
    {
     "name": "stdout",
     "output_type": "stream",
     "text": [
      "F1: 0.4975247524752475\n"
     ]
    }
   ],
   "source": [
    "# Теперь попробуем воспользоваться аргументом class_weight='balanced' в модели\n",
    "model = DecisionTreeClassifier(random_state=12345, class_weight='balanced')\n",
    "model.fit(features_train, target_train)\n",
    "predicted_valid = model.predict(features_valid)\n",
    "print(\"F1:\", f1_score(target_valid, predicted_valid))"
   ]
  },
  {
   "cell_type": "markdown",
   "metadata": {},
   "source": [
    "Аргументом class_weight='balanced' создает балланс классов в модели. Теперь наш результат F1 = 0.50"
   ]
  },
  {
   "cell_type": "markdown",
   "metadata": {},
   "source": [
    "### Порог классификации"
   ]
  },
  {
   "cell_type": "markdown",
   "metadata": {},
   "source": [
    "### Дерево решений"
   ]
  },
  {
   "cell_type": "code",
   "execution_count": 35,
   "metadata": {},
   "outputs": [
    {
     "name": "stdout",
     "output_type": "stream",
     "text": [
      "Accuracy = 0.797\n"
     ]
    }
   ],
   "source": [
    "model_t = DecisionTreeClassifier(random_state=12345, class_weight='balanced')\n",
    "model_t.fit(features_train, target_train)\n",
    "predicted_valid = model_t.predict(features_valid)\n",
    "print(\"Accuracy =\", model_t.score(features_valid, target_valid))"
   ]
  },
  {
   "cell_type": "code",
   "execution_count": 36,
   "metadata": {},
   "outputs": [
    {
     "name": "stdout",
     "output_type": "stream",
     "text": [
      "F1: 0.4975247524752475\n"
     ]
    }
   ],
   "source": [
    "print(\"F1:\", f1_score(target_valid, predicted_valid))"
   ]
  },
  {
   "cell_type": "code",
   "execution_count": 37,
   "metadata": {},
   "outputs": [
    {
     "name": "stdout",
     "output_type": "stream",
     "text": [
      "MAE = 0.203\n"
     ]
    }
   ],
   "source": [
    "print(\"MAE =\", mean_absolute_error(target_valid, predicted_valid))"
   ]
  },
  {
   "cell_type": "code",
   "execution_count": 38,
   "metadata": {},
   "outputs": [
    {
     "name": "stdout",
     "output_type": "stream",
     "text": [
      "MAE = 0.209\n"
     ]
    }
   ],
   "source": [
    "# Значение Median\n",
    "predicted_valid_m = pd.Series(target_train.median(), index=target_valid.index)\n",
    "print(\"MAE =\", mean_absolute_error(target_valid, predicted_valid_m))"
   ]
  },
  {
   "cell_type": "code",
   "execution_count": 39,
   "metadata": {},
   "outputs": [
    {
     "name": "stdout",
     "output_type": "stream",
     "text": [
      "[0. 0. 0. 1. 0.]\n"
     ]
    }
   ],
   "source": [
    "probabilities_valid = model_t.predict_proba(features_valid)\n",
    "probabilities_one_valid = probabilities_valid[:, 1]\n",
    "print(probabilities_one_valid[:5])"
   ]
  },
  {
   "cell_type": "code",
   "execution_count": 40,
   "metadata": {
    "scrolled": true
   },
   "outputs": [
    {
     "name": "stdout",
     "output_type": "stream",
     "text": [
      "Порог = 0.00 | Точность = 0.515, Полнота = 0.481\n",
      "Порог = 0.02 | Точность = 0.515, Полнота = 0.481\n",
      "Порог = 0.04 | Точность = 0.515, Полнота = 0.481\n",
      "Порог = 0.06 | Точность = 0.515, Полнота = 0.481\n",
      "Порог = 0.08 | Точность = 0.515, Полнота = 0.481\n",
      "Порог = 0.10 | Точность = 0.515, Полнота = 0.481\n",
      "Порог = 0.12 | Точность = 0.515, Полнота = 0.481\n",
      "Порог = 0.14 | Точность = 0.515, Полнота = 0.481\n",
      "Порог = 0.16 | Точность = 0.515, Полнота = 0.481\n",
      "Порог = 0.18 | Точность = 0.515, Полнота = 0.481\n",
      "Порог = 0.20 | Точность = 0.515, Полнота = 0.481\n",
      "Порог = 0.22 | Точность = 0.515, Полнота = 0.481\n",
      "Порог = 0.24 | Точность = 0.515, Полнота = 0.481\n",
      "Порог = 0.26 | Точность = 0.515, Полнота = 0.481\n",
      "Порог = 0.28 | Точность = 0.515, Полнота = 0.481\n"
     ]
    }
   ],
   "source": [
    "for threshold in np.arange(0, 0.3, 0.02):\n",
    "    predicted_valid = probabilities_one_valid > threshold\n",
    "    precision = precision_score(target_valid, predicted_valid)\n",
    "    recall = recall_score(target_valid, predicted_valid) \n",
    "\n",
    "    print(\"Порог = {:.2f} | Точность = {:.3f}, Полнота = {:.3f}\".format(\n",
    "        threshold, precision, recall))"
   ]
  },
  {
   "cell_type": "code",
   "execution_count": 41,
   "metadata": {},
   "outputs": [],
   "source": [
    "fpr, tpr, thresholds = roc_curve(target_valid, probabilities_one_valid)"
   ]
  },
  {
   "cell_type": "code",
   "execution_count": 42,
   "metadata": {
    "scrolled": true
   },
   "outputs": [
    {
     "data": {
      "image/png": "[encoded data removed]",
      "text/plain": [
       "<Figure size 432x288 with 1 Axes>"
      ]
     },
     "metadata": {
      "needs_background": "light"
     },
     "output_type": "display_data"
    }
   ],
   "source": [
    "plt.figure()\n",
    "\n",
    "# ROC-кривая случайной модели (выглядит как прямая)\n",
    "\n",
    "plt.plot(fpr, tpr, linestyle='--')\n",
    "plt.xlim([0.0, 1.0])\n",
    "plt.ylim([0.0, 1.0])\n",
    "\n",
    "plt.xlabel('False Positive Rate')\n",
    "plt.ylabel('True Positive Rate')\n",
    "plt.title(\"ROC-кривая\")\n",
    "\n",
    "plt.show()"
   ]
  },
  {
   "cell_type": "code",
   "execution_count": 43,
   "metadata": {},
   "outputs": [
    {
     "name": "stdout",
     "output_type": "stream",
     "text": [
      "0.6806961087352331\n"
     ]
    }
   ],
   "source": [
    "auc_roc = roc_auc_score(target_valid, probabilities_one_valid)\n",
    "\n",
    "print(auc_roc)"
   ]
  },
  {
   "cell_type": "markdown",
   "metadata": {},
   "source": [
    "### Случайный лес"
   ]
  },
  {
   "cell_type": "code",
   "execution_count": 44,
   "metadata": {},
   "outputs": [
    {
     "name": "stdout",
     "output_type": "stream",
     "text": [
      "max_depth = 1 : 0.791\n",
      "max_depth = 2 : 0.802\n",
      "max_depth = 3 : 0.8085\n",
      "max_depth = 4 : 0.821\n",
      "max_depth = 5 : 0.8385\n",
      "max_depth = 6 : 0.84\n",
      "max_depth = 7 : 0.851\n",
      "max_depth = 8 : 0.8575\n",
      "max_depth = 9 : 0.8565\n",
      "max_depth = 10 : 0.861\n",
      "max_depth = 11 : 0.861\n",
      "max_depth = 12 : 0.855\n",
      "max_depth = 13 : 0.858\n",
      "max_depth = 14 : 0.857\n",
      "max_depth = 15 : 0.8555\n"
     ]
    }
   ],
   "source": [
    "# Подберем глубину леса при небольшом числе деревьев\n",
    "for depth in range(1,16,1):\n",
    "    model_r = RandomForestClassifier(n_estimators=20, max_depth=depth, random_state=12345)\n",
    "    model_r.fit(features_train, target_train)\n",
    "    predictions_valid = model_r.predict(features_valid)\n",
    "    print(\"max_depth =\", depth, \": \", end='')\n",
    "    print(model_r.score(features_valid, target_valid)) "
   ]
  },
  {
   "cell_type": "markdown",
   "metadata": {},
   "source": [
    "Мы видим, что оптимальная глубина леса это 11 = 0.861."
   ]
  },
  {
   "cell_type": "code",
   "execution_count": 46,
   "metadata": {},
   "outputs": [
    {
     "name": "stdout",
     "output_type": "stream",
     "text": [
      "max_est = 10 : 0.8515\n",
      "max_est = 20 : 0.861\n",
      "max_est = 30 : 0.8605\n",
      "max_est = 40 : 0.8635\n",
      "max_est = 50 : 0.861\n",
      "max_est = 60 : 0.8625\n",
      "max_est = 70 : 0.8625\n",
      "max_est = 80 : 0.8615\n",
      "max_est = 90 : 0.862\n",
      "max_est = 100 : 0.861\n",
      "max_est = 110 : 0.861\n",
      "max_est = 120 : 0.8615\n",
      "max_est = 130 : 0.8615\n",
      "max_est = 140 : 0.861\n",
      "max_est = 150 : 0.8625\n"
     ]
    }
   ],
   "source": [
    "# Подберем количество деревьев при лучшей глубине 11\n",
    "for est in range(10,160,10):\n",
    "    model_r = RandomForestClassifier(n_estimators=est, max_depth=11, random_state=12345)\n",
    "    model_r.fit(features_train, target_train)\n",
    "    predicted_valid = model_r.predict(features_valid)\n",
    "    print(\"max_est =\", est, \": \", end='')\n",
    "    print(model_r.score(features_valid, target_valid)) "
   ]
  },
  {
   "cell_type": "markdown",
   "metadata": {},
   "source": [
    "Мы наблюдаем, что самый высокий результат R2 нам дает 40 деревьев = 0.8635."
   ]
  },
  {
   "cell_type": "code",
   "execution_count": 60,
   "metadata": {
    "scrolled": true
   },
   "outputs": [
    {
     "name": "stdout",
     "output_type": "stream",
     "text": [
      "Accuracy = 0.85\n"
     ]
    }
   ],
   "source": [
    "# Лучшая модель Случайного леса\n",
    "model_r = RandomForestClassifier(n_estimators=40, \n",
    "    max_depth=11, random_state=12345, class_weight='balanced')\n",
    "model_r.fit(features_train, target_train)\n",
    "predicted_valid = model_r.predict(features_valid)\n",
    "print(\"Accuracy =\", model_r.score(features_valid, target_valid)) "
   ]
  },
  {
   "cell_type": "code",
   "execution_count": 48,
   "metadata": {},
   "outputs": [
    {
     "name": "stdout",
     "output_type": "stream",
     "text": [
      "F1: 0.6093750000000001\n"
     ]
    }
   ],
   "source": [
    "print(\"F1:\", f1_score(target_valid, predicted_valid))"
   ]
  },
  {
   "cell_type": "code",
   "execution_count": 49,
   "metadata": {},
   "outputs": [
    {
     "name": "stdout",
     "output_type": "stream",
     "text": [
      "MAE = 0.15\n"
     ]
    }
   ],
   "source": [
    "print(\"MAE =\", mean_absolute_error(target_valid, predicted_valid))"
   ]
  },
  {
   "cell_type": "code",
   "execution_count": 50,
   "metadata": {},
   "outputs": [
    {
     "name": "stdout",
     "output_type": "stream",
     "text": [
      "MAE = 0.209\n"
     ]
    }
   ],
   "source": [
    "# Значение Median\n",
    "predicted_valid_m = pd.Series(target_train.median(), index=target_valid.index)\n",
    "print(\"MAE =\", mean_absolute_error(target_valid, predicted_valid_m))"
   ]
  },
  {
   "cell_type": "markdown",
   "metadata": {},
   "source": [
    "Метрика измеряет среднюю сумму абсолютной разницы между фактическим значением и прогнозируемым значением. Чем ближе результат модели к результату константной модели с медианой, тем модель лучше. Резульат 0.05"
   ]
  },
  {
   "cell_type": "code",
   "execution_count": 51,
   "metadata": {},
   "outputs": [
    {
     "name": "stdout",
     "output_type": "stream",
     "text": [
      "[0.07758956 0.59791943 0.35396517 0.20769487 0.06899368]\n"
     ]
    }
   ],
   "source": [
    "probabilities_valid = model_r.predict_proba(features_valid)\n",
    "probabilities_one_valid = probabilities_valid[:, 1]\n",
    "print(probabilities_one_valid[:5])"
   ]
  },
  {
   "cell_type": "code",
   "execution_count": 52,
   "metadata": {},
   "outputs": [
    {
     "name": "stdout",
     "output_type": "stream",
     "text": [
      "Порог = 0.00 | Точность = 0.209, Полнота = 1.000\n",
      "Порог = 0.02 | Точность = 0.213, Полнота = 1.000\n",
      "Порог = 0.04 | Точность = 0.225, Полнота = 0.998\n",
      "Порог = 0.06 | Точность = 0.237, Полнота = 0.988\n",
      "Порог = 0.08 | Точность = 0.248, Полнота = 0.962\n",
      "Порог = 0.10 | Точность = 0.262, Полнота = 0.947\n",
      "Порог = 0.12 | Точность = 0.276, Полнота = 0.940\n",
      "Порог = 0.14 | Точность = 0.293, Полнота = 0.933\n",
      "Порог = 0.16 | Точность = 0.310, Полнота = 0.921\n",
      "Порог = 0.18 | Точность = 0.328, Полнота = 0.904\n",
      "Порог = 0.20 | Точность = 0.346, Полнота = 0.892\n",
      "Порог = 0.22 | Точность = 0.361, Полнота = 0.876\n",
      "Порог = 0.24 | Точность = 0.379, Полнота = 0.861\n",
      "Порог = 0.26 | Точность = 0.401, Полнота = 0.840\n",
      "Порог = 0.28 | Точность = 0.423, Полнота = 0.828\n",
      "Порог = 0.30 | Точность = 0.435, Полнота = 0.789\n"
     ]
    }
   ],
   "source": [
    "for threshold in np.arange(0, 0.32, 0.02):\n",
    "    predicted_valid = probabilities_one_valid > threshold\n",
    "    precision = precision_score(target_valid, predicted_valid)\n",
    "    recall = recall_score(target_valid, predicted_valid) \n",
    "\n",
    "    print(\"Порог = {:.2f} | Точность = {:.3f}, Полнота = {:.3f}\".format(\n",
    "        threshold, precision, recall))"
   ]
  },
  {
   "cell_type": "code",
   "execution_count": 53,
   "metadata": {},
   "outputs": [],
   "source": [
    "fpr, tpr, thresholds = roc_curve(target_valid, probabilities_one_valid)"
   ]
  },
  {
   "cell_type": "code",
   "execution_count": 54,
   "metadata": {
    "scrolled": true
   },
   "outputs": [
    {
     "data": {
      "image/png": "[encoded data removed]",
      "text/plain": [
       "<Figure size 432x288 with 1 Axes>"
      ]
     },
     "metadata": {
      "needs_background": "light"
     },
     "output_type": "display_data"
    }
   ],
   "source": [
    "plt.figure()\n",
    "\n",
    "# ROC-кривая случайной модели (выглядит как прямая)\n",
    "\n",
    "plt.plot(fpr, tpr, linestyle='--')\n",
    "plt.xlim([0.0, 1.0])\n",
    "plt.ylim([0.0, 1.0])\n",
    "\n",
    "plt.xlabel('False Positive Rate')\n",
    "plt.ylabel('True Positive Rate')\n",
    "plt.title(\"ROC-кривая\")\n",
    "\n",
    "plt.show()"
   ]
  },
  {
   "cell_type": "code",
   "execution_count": 55,
   "metadata": {},
   "outputs": [
    {
     "name": "stdout",
     "output_type": "stream",
     "text": [
      "0.8443705805140365\n"
     ]
    }
   ],
   "source": [
    "auc_roc = roc_auc_score(target_valid, probabilities_one_valid)\n",
    "\n",
    "print(auc_roc)"
   ]
  },
  {
   "cell_type": "markdown",
   "metadata": {},
   "source": [
    "## Тестирование модели"
   ]
  },
  {
   "cell_type": "markdown",
   "metadata": {},
   "source": [
    "### Случайный лес"
   ]
  },
  {
   "cell_type": "markdown",
   "metadata": {},
   "source": [
    "Проведем тестирование нашей лучшей модели на тестовой выборке."
   ]
  },
  {
   "cell_type": "markdown",
   "metadata": {},
   "source": [
    "#### Результат F1"
   ]
  },
  {
   "cell_type": "code",
   "execution_count": 61,
   "metadata": {},
   "outputs": [],
   "source": [
    "# Объединим две выборки train и valid в одну для обучения модели\n",
    "features_new = features_train.append(features_valid).reset_index(drop=True)\n",
    "target_new = target_train.append(target_valid).reset_index(drop=True)"
   ]
  },
  {
   "cell_type": "code",
   "execution_count": 62,
   "metadata": {},
   "outputs": [],
   "source": [
    "# Перемешаем данные\n",
    "features_new = shuffle(features_new, random_state=12345)\n",
    "target_new = shuffle(target_new, random_state=12345)"
   ]
  },
  {
   "cell_type": "code",
   "execution_count": 63,
   "metadata": {},
   "outputs": [
    {
     "name": "stdout",
     "output_type": "stream",
     "text": [
      "F1: 0.5840707964601769\n"
     ]
    }
   ],
   "source": [
    "# Проверим лучшую модель \"Случайного леса\" на тестовой выборке\n",
    "model_forest_best = RandomForestClassifier(random_state=12345, n_estimators=40, max_depth=11, class_weight='balanced') # Зададим параметр max_depth=7 и n_estimators=120\n",
    "model_forest_best.fit(features_new, target_new) # Обучим нашу маодельна тренинговой выборке\n",
    "predicted_test_forest = model_forest_best.predict(features_test)\n",
    "print(\"F1:\", f1_score(target_test, predicted_test_forest))\n"
   ]
  },
  {
   "cell_type": "markdown",
   "metadata": {},
   "source": [
    "#### Результат Accuracy"
   ]
  },
  {
   "cell_type": "code",
   "execution_count": 64,
   "metadata": {},
   "outputs": [
    {
     "name": "stdout",
     "output_type": "stream",
     "text": [
      "Accuracy = 0.8355\n"
     ]
    }
   ],
   "source": [
    "print(\"Accuracy =\", model_forest_best.score(features_test, target_test))"
   ]
  },
  {
   "cell_type": "markdown",
   "metadata": {},
   "source": [
    "#### Результат MAE"
   ]
  },
  {
   "cell_type": "code",
   "execution_count": 65,
   "metadata": {},
   "outputs": [
    {
     "name": "stdout",
     "output_type": "stream",
     "text": [
      "MAE = 0.1645\n"
     ]
    }
   ],
   "source": [
    "# Значение LinearRegression\n",
    "print(\"MAE =\", mean_absolute_error(target_test, predicted_test_forest))"
   ]
  },
  {
   "cell_type": "code",
   "execution_count": 66,
   "metadata": {},
   "outputs": [
    {
     "name": "stdout",
     "output_type": "stream",
     "text": [
      "MAE = 0.2115\n"
     ]
    }
   ],
   "source": [
    "# Значение Median\n",
    "predicted_valid = pd.Series(target_test.median(), index=target_valid.index)\n",
    "print(\"MAE =\", mean_absolute_error(target_test, predicted_valid))"
   ]
  },
  {
   "cell_type": "markdown",
   "metadata": {},
   "source": [
    "Метрика измеряет среднюю сумму абсолютной разницы между фактическим значением и прогнозируемым значением.\n",
    "Чем ближе результат модели к результату константной модели с медианой, тем модель лучше.\n",
    "Резульат нашей модели составляет 0.0005 - это хороший результат"
   ]
  },
  {
   "cell_type": "markdown",
   "metadata": {},
   "source": [
    "#### ROC-кривая"
   ]
  },
  {
   "cell_type": "code",
   "execution_count": 67,
   "metadata": {},
   "outputs": [
    {
     "name": "stdout",
     "output_type": "stream",
     "text": [
      "[0.07998992 0.49643107 0.16735837 0.05413299 0.07034836]\n"
     ]
    }
   ],
   "source": [
    "probabilities_test = model_forest_best.predict_proba(features_test)\n",
    "probabilities_one_test = probabilities_test[:, 1]\n",
    "print(probabilities_one_test[:5])"
   ]
  },
  {
   "cell_type": "code",
   "execution_count": 68,
   "metadata": {},
   "outputs": [
    {
     "name": "stdout",
     "output_type": "stream",
     "text": [
      "Порог = 0.00 | Точность = 0.211, Полнота = 1.000\n",
      "Порог = 0.02 | Точность = 0.213, Полнота = 1.000\n",
      "Порог = 0.04 | Точность = 0.220, Полнота = 0.993\n",
      "Порог = 0.06 | Точность = 0.231, Полнота = 0.993\n",
      "Порог = 0.08 | Точность = 0.243, Полнота = 0.981\n",
      "Порог = 0.10 | Точность = 0.255, Полнота = 0.974\n",
      "Порог = 0.12 | Точность = 0.273, Полнота = 0.967\n",
      "Порог = 0.14 | Точность = 0.289, Полнота = 0.955\n",
      "Порог = 0.16 | Точность = 0.309, Полнота = 0.941\n",
      "Порог = 0.18 | Точность = 0.328, Полнота = 0.931\n",
      "Порог = 0.20 | Точность = 0.345, Полнота = 0.913\n",
      "Порог = 0.22 | Точность = 0.365, Полнота = 0.901\n",
      "Порог = 0.24 | Точность = 0.383, Полнота = 0.884\n",
      "Порог = 0.26 | Точность = 0.399, Полнота = 0.861\n",
      "Порог = 0.28 | Точность = 0.427, Полнота = 0.835\n",
      "Порог = 0.30 | Точность = 0.450, Полнота = 0.818\n"
     ]
    }
   ],
   "source": [
    "for threshold in np.arange(0, 0.32, 0.02):\n",
    "    predicted_test = probabilities_one_test > threshold\n",
    "    precision = precision_score(target_test, predicted_test)\n",
    "    recall = recall_score(target_test, predicted_test) \n",
    "\n",
    "    print(\"Порог = {:.2f} | Точность = {:.3f}, Полнота = {:.3f}\".format(\n",
    "        threshold, precision, recall))"
   ]
  },
  {
   "cell_type": "code",
   "execution_count": 69,
   "metadata": {},
   "outputs": [],
   "source": [
    "fpr, tpr, thresholds = roc_curve(target_test, probabilities_one_test)"
   ]
  },
  {
   "cell_type": "code",
   "execution_count": 70,
   "metadata": {},
   "outputs": [
    {
     "data": {
      "image/png": "[encoded data removed]",
      "text/plain": [
       "<Figure size 432x288 with 1 Axes>"
      ]
     },
     "metadata": {
      "needs_background": "light"
     },
     "output_type": "display_data"
    }
   ],
   "source": [
    "plt.figure()\n",
    "\n",
    "# ROC-кривая случайной модели (выглядит как прямая)\n",
    "\n",
    "plt.plot(fpr, tpr, linestyle='--')\n",
    "plt.xlim([0.0, 1.0])\n",
    "plt.ylim([0.0, 1.0])\n",
    "\n",
    "plt.xlabel('False Positive Rate')\n",
    "plt.ylabel('True Positive Rate')\n",
    "plt.title(\"ROC-кривая\")\n",
    "\n",
    "plt.show()"
   ]
  },
  {
   "cell_type": "code",
   "execution_count": 71,
   "metadata": {},
   "outputs": [
    {
     "name": "stdout",
     "output_type": "stream",
     "text": [
      "0.8481825772668876\n"
     ]
    }
   ],
   "source": [
    "# Чтобы выявить, как сильно наша модель отличается от случайной, посчитаем площадь под ROC-кривой — AUC-ROC \n",
    "# AUC-ROC изменяется от 0 до 1. AUC-ROC случайной модели равна 0.5.\n",
    "\n",
    "auc_roc = roc_auc_score(target_test, probabilities_one_test)\n",
    "\n",
    "print(auc_roc)"
   ]
  },
  {
   "cell_type": "markdown",
   "metadata": {},
   "source": [
    "Чем больше площадь под кривой (AUC), тем лучше классификация. Максимальное значение 1.0. Наш результат = 0.74"
   ]
  }
 ],
 "metadata": {
  "ExecuteTimeLog": [
   {
    "duration": 1195,
    "start_time": "2022-03-10T18:30:55.983Z"
   },
   {
    "duration": 24,
    "start_time": "2022-03-10T18:30:57.180Z"
   },
   {
    "duration": 16,
    "start_time": "2022-03-10T18:31:00.014Z"
   },
   {
    "duration": 4,
    "start_time": "2022-03-10T18:31:00.361Z"
   },
   {
    "duration": 10,
    "start_time": "2022-03-10T18:31:00.511Z"
   },
   {
    "duration": 4,
    "start_time": "2022-03-10T18:31:00.832Z"
   },
   {
    "duration": 18,
    "start_time": "2022-03-10T18:31:00.966Z"
   },
   {
    "duration": 14,
    "start_time": "2022-03-10T18:31:01.254Z"
   },
   {
    "duration": 549,
    "start_time": "2022-03-10T18:31:01.390Z"
   },
   {
    "duration": 5,
    "start_time": "2022-03-10T18:31:01.940Z"
   },
   {
    "duration": 20,
    "start_time": "2022-03-10T18:31:01.947Z"
   },
   {
    "duration": 4,
    "start_time": "2022-03-10T18:31:01.968Z"
   },
   {
    "duration": 7,
    "start_time": "2022-03-10T18:31:02.086Z"
   },
   {
    "duration": 14,
    "start_time": "2022-03-10T18:31:02.667Z"
   },
   {
    "duration": 41,
    "start_time": "2022-03-10T18:31:02.807Z"
   },
   {
    "duration": 10,
    "start_time": "2022-03-10T18:31:03.116Z"
   },
   {
    "duration": 45,
    "start_time": "2022-03-10T18:31:03.424Z"
   },
   {
    "duration": 153,
    "start_time": "2022-03-10T18:31:03.586Z"
   },
   {
    "duration": 190,
    "start_time": "2022-03-10T18:31:03.897Z"
   },
   {
    "duration": 7,
    "start_time": "2022-03-10T18:31:04.254Z"
   },
   {
    "duration": 6,
    "start_time": "2022-03-10T18:31:04.556Z"
   },
   {
    "duration": 7,
    "start_time": "2022-03-10T18:31:04.866Z"
   },
   {
    "duration": 6,
    "start_time": "2022-03-10T18:31:05.142Z"
   },
   {
    "duration": 44,
    "start_time": "2022-03-10T18:31:05.914Z"
   },
   {
    "duration": 8,
    "start_time": "2022-03-10T18:31:06.213Z"
   },
   {
    "duration": 4,
    "start_time": "2022-03-10T18:31:06.367Z"
   },
   {
    "duration": 15,
    "start_time": "2022-03-10T18:31:06.654Z"
   },
   {
    "duration": 55,
    "start_time": "2022-03-10T18:31:07.304Z"
   },
   {
    "duration": 13,
    "start_time": "2022-03-10T18:31:07.621Z"
   },
   {
    "duration": 21,
    "start_time": "2022-03-10T18:31:08.064Z"
   },
   {
    "duration": 43,
    "start_time": "2022-03-10T18:31:08.392Z"
   },
   {
    "duration": 42,
    "start_time": "2022-03-10T18:31:09.472Z"
   },
   {
    "duration": 6,
    "start_time": "2022-03-10T18:31:09.827Z"
   },
   {
    "duration": 4,
    "start_time": "2022-03-10T18:31:10.038Z"
   },
   {
    "duration": 5,
    "start_time": "2022-03-10T18:31:10.206Z"
   },
   {
    "duration": 6,
    "start_time": "2022-03-10T18:31:10.399Z"
   },
   {
    "duration": 49,
    "start_time": "2022-03-10T18:31:10.756Z"
   },
   {
    "duration": 5,
    "start_time": "2022-03-10T18:31:10.932Z"
   },
   {
    "duration": 174,
    "start_time": "2022-03-10T18:31:11.122Z"
   },
   {
    "duration": 6,
    "start_time": "2022-03-10T18:31:11.941Z"
   },
   {
    "duration": 1657,
    "start_time": "2022-03-10T18:31:13.038Z"
   },
   {
    "duration": 8031,
    "start_time": "2022-03-10T18:31:14.697Z"
   },
   {
    "duration": 274,
    "start_time": "2022-03-10T18:31:22.730Z"
   },
   {
    "duration": 5,
    "start_time": "2022-03-10T18:31:23.006Z"
   },
   {
    "duration": 4,
    "start_time": "2022-03-10T18:31:23.013Z"
   },
   {
    "duration": 6,
    "start_time": "2022-03-10T18:31:23.019Z"
   },
   {
    "duration": 45,
    "start_time": "2022-03-10T18:31:23.027Z"
   },
   {
    "duration": 54,
    "start_time": "2022-03-10T18:31:23.075Z"
   },
   {
    "duration": 4,
    "start_time": "2022-03-10T18:31:23.131Z"
   },
   {
    "duration": 187,
    "start_time": "2022-03-10T18:31:23.159Z"
   },
   {
    "duration": 14,
    "start_time": "2022-03-10T18:31:23.348Z"
   },
   {
    "duration": 6,
    "start_time": "2022-03-10T18:31:23.363Z"
   },
   {
    "duration": 9,
    "start_time": "2022-03-10T18:31:23.370Z"
   },
   {
    "duration": 339,
    "start_time": "2022-03-10T18:31:23.380Z"
   },
   {
    "duration": 20,
    "start_time": "2022-03-10T18:31:25.028Z"
   },
   {
    "duration": 4,
    "start_time": "2022-03-10T18:31:25.674Z"
   },
   {
    "duration": 5,
    "start_time": "2022-03-10T18:31:26.088Z"
   },
   {
    "duration": 19,
    "start_time": "2022-03-10T18:31:28.200Z"
   },
   {
    "duration": 55,
    "start_time": "2022-03-10T18:31:31.364Z"
   },
   {
    "duration": 4,
    "start_time": "2022-03-10T18:31:31.808Z"
   },
   {
    "duration": 226,
    "start_time": "2022-03-10T18:31:34.836Z"
   },
   {
    "duration": 5,
    "start_time": "2022-03-10T18:31:39.440Z"
   },
   {
    "duration": 7,
    "start_time": "2022-03-10T18:31:48.018Z"
   }
  ],
  "kernelspec": {
   "display_name": "Python 3",
   "language": "python",
   "name": "python3"
  },
  "language_info": {
   "codemirror_mode": {
    "name": "ipython",
    "version": 3
   },
   "file_extension": ".py",
   "mimetype": "text/x-python",
   "name": "python",
   "nbconvert_exporter": "python",
   "pygments_lexer": "ipython3",
   "version": "3.7.12"
  },
  "toc": {
   "base_numbering": 1,
   "nav_menu": {},
   "number_sections": true,
   "sideBar": true,
   "skip_h1_title": true,
   "title_cell": "Содержание",
   "title_sidebar": "Contents",
   "toc_cell": true,
   "toc_position": {
    "height": "calc(100% - 180px)",
    "left": "10px",
    "top": "150px",
    "width": "288px"
   },
   "toc_section_display": true,
   "toc_window_display": true
  }
 },
 "nbformat": 4,
 "nbformat_minor": 2
}
