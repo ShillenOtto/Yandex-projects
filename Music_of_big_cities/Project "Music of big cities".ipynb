{
 "cells": [
  {
   "cell_type": "markdown",
   "metadata": {
    "id": "E0vqbgi9ay0H"
   },
   "source": [
    "# Описание проекта Яндекс.Музыка"
   ]
  },
  {
   "cell_type": "markdown",
   "metadata": {
    "id": "VUC88oWjTJw2"
   },
   "source": [
    "На данных Яндекс.Музыки необходимо сравнить поведение пользователей двух столиц (Москва и Петербург).  \n",
    "Цель исследования — проверить три гипотезы:\n",
    "1. Активность пользователей зависит от дня недели. Причём в Москве и Петербурге это проявляется по-разному.\n",
    "2. В понедельник утром в Москве преобладают одни жанры, а в Петербурге — другие. Так же и вечером пятницы преобладают разные жанры — в зависимости от города. \n",
    "3. Москва и Петербург предпочитают разные жанры музыки. В Москве чаще слушают поп-музыку, в Петербурге — русский рэп. \n",
    "\n",
    "Данное иследование поможет нам понять поведение и предпочтения пользователей в каждом городе."
   ]
  },
  {
   "cell_type": "markdown",
   "metadata": {
    "id": "Ml1hmfXC_Zcs"
   },
   "source": [
    "## Обзор данных"
   ]
  },
  {
   "cell_type": "code",
   "execution_count": 100,
   "metadata": {
    "id": "AXN7PHPN_Zcs"
   },
   "outputs": [],
   "source": [
    "# Импортируем библиотеку Pandas.\n",
    "import pandas as pd"
   ]
  },
  {
   "cell_type": "code",
   "execution_count": 101,
   "metadata": {
    "id": "fFVu7vqh_Zct"
   },
   "outputs": [],
   "source": [
    "# Прочитаем файл с данными и сохраним в  переменную df.\n",
    "df = pd.read_csv('yandex_music_project.csv')"
   ]
  },
  {
   "cell_type": "code",
   "execution_count": 102,
   "metadata": {
    "id": "oWTVX3gW_Zct"
   },
   "outputs": [
    {
     "data": {
      "text/html": [
       "<div>\n",
       "<style scoped>\n",
       "    .dataframe tbody tr th:only-of-type {\n",
       "        vertical-align: middle;\n",
       "    }\n",
       "\n",
       "    .dataframe tbody tr th {\n",
       "        vertical-align: top;\n",
       "    }\n",
       "\n",
       "    .dataframe thead th {\n",
       "        text-align: right;\n",
       "    }\n",
       "</style>\n",
       "<table border=\"1\" class=\"dataframe\">\n",
       "  <thead>\n",
       "    <tr style=\"text-align: right;\">\n",
       "      <th></th>\n",
       "      <th>userID</th>\n",
       "      <th>Track</th>\n",
       "      <th>artist</th>\n",
       "      <th>genre</th>\n",
       "      <th>City</th>\n",
       "      <th>time</th>\n",
       "      <th>Day</th>\n",
       "    </tr>\n",
       "  </thead>\n",
       "  <tbody>\n",
       "    <tr>\n",
       "      <th>0</th>\n",
       "      <td>FFB692EC</td>\n",
       "      <td>Kamigata To Boots</td>\n",
       "      <td>The Mass Missile</td>\n",
       "      <td>rock</td>\n",
       "      <td>Saint-Petersburg</td>\n",
       "      <td>20:28:33</td>\n",
       "      <td>Wednesday</td>\n",
       "    </tr>\n",
       "    <tr>\n",
       "      <th>1</th>\n",
       "      <td>55204538</td>\n",
       "      <td>Delayed Because of Accident</td>\n",
       "      <td>Andreas Rönnberg</td>\n",
       "      <td>rock</td>\n",
       "      <td>Moscow</td>\n",
       "      <td>14:07:09</td>\n",
       "      <td>Friday</td>\n",
       "    </tr>\n",
       "    <tr>\n",
       "      <th>2</th>\n",
       "      <td>20EC38</td>\n",
       "      <td>Funiculì funiculà</td>\n",
       "      <td>Mario Lanza</td>\n",
       "      <td>pop</td>\n",
       "      <td>Saint-Petersburg</td>\n",
       "      <td>20:58:07</td>\n",
       "      <td>Wednesday</td>\n",
       "    </tr>\n",
       "    <tr>\n",
       "      <th>3</th>\n",
       "      <td>A3DD03C9</td>\n",
       "      <td>Dragons in the Sunset</td>\n",
       "      <td>Fire + Ice</td>\n",
       "      <td>folk</td>\n",
       "      <td>Saint-Petersburg</td>\n",
       "      <td>08:37:09</td>\n",
       "      <td>Monday</td>\n",
       "    </tr>\n",
       "    <tr>\n",
       "      <th>4</th>\n",
       "      <td>E2DC1FAE</td>\n",
       "      <td>Soul People</td>\n",
       "      <td>Space Echo</td>\n",
       "      <td>dance</td>\n",
       "      <td>Moscow</td>\n",
       "      <td>08:34:34</td>\n",
       "      <td>Monday</td>\n",
       "    </tr>\n",
       "    <tr>\n",
       "      <th>5</th>\n",
       "      <td>842029A1</td>\n",
       "      <td>Преданная</td>\n",
       "      <td>IMPERVTOR</td>\n",
       "      <td>rusrap</td>\n",
       "      <td>Saint-Petersburg</td>\n",
       "      <td>13:09:41</td>\n",
       "      <td>Friday</td>\n",
       "    </tr>\n",
       "    <tr>\n",
       "      <th>6</th>\n",
       "      <td>4CB90AA5</td>\n",
       "      <td>True</td>\n",
       "      <td>Roman Messer</td>\n",
       "      <td>dance</td>\n",
       "      <td>Moscow</td>\n",
       "      <td>13:00:07</td>\n",
       "      <td>Wednesday</td>\n",
       "    </tr>\n",
       "    <tr>\n",
       "      <th>7</th>\n",
       "      <td>F03E1C1F</td>\n",
       "      <td>Feeling This Way</td>\n",
       "      <td>Polina Griffith</td>\n",
       "      <td>dance</td>\n",
       "      <td>Moscow</td>\n",
       "      <td>20:47:49</td>\n",
       "      <td>Wednesday</td>\n",
       "    </tr>\n",
       "    <tr>\n",
       "      <th>8</th>\n",
       "      <td>8FA1D3BE</td>\n",
       "      <td>И вновь продолжается бой</td>\n",
       "      <td>NaN</td>\n",
       "      <td>ruspop</td>\n",
       "      <td>Moscow</td>\n",
       "      <td>09:17:40</td>\n",
       "      <td>Friday</td>\n",
       "    </tr>\n",
       "    <tr>\n",
       "      <th>9</th>\n",
       "      <td>E772D5C0</td>\n",
       "      <td>Pessimist</td>\n",
       "      <td>NaN</td>\n",
       "      <td>dance</td>\n",
       "      <td>Saint-Petersburg</td>\n",
       "      <td>21:20:49</td>\n",
       "      <td>Wednesday</td>\n",
       "    </tr>\n",
       "  </tbody>\n",
       "</table>\n",
       "</div>"
      ],
      "text/plain": [
       "     userID                        Track            artist   genre  \\\n",
       "0  FFB692EC            Kamigata To Boots  The Mass Missile    rock   \n",
       "1  55204538  Delayed Because of Accident  Andreas Rönnberg    rock   \n",
       "2    20EC38            Funiculì funiculà       Mario Lanza     pop   \n",
       "3  A3DD03C9        Dragons in the Sunset        Fire + Ice    folk   \n",
       "4  E2DC1FAE                  Soul People        Space Echo   dance   \n",
       "5  842029A1                    Преданная         IMPERVTOR  rusrap   \n",
       "6  4CB90AA5                         True      Roman Messer   dance   \n",
       "7  F03E1C1F             Feeling This Way   Polina Griffith   dance   \n",
       "8  8FA1D3BE     И вновь продолжается бой               NaN  ruspop   \n",
       "9  E772D5C0                    Pessimist               NaN   dance   \n",
       "\n",
       "             City        time        Day  \n",
       "0  Saint-Petersburg  20:28:33  Wednesday  \n",
       "1            Moscow  14:07:09     Friday  \n",
       "2  Saint-Petersburg  20:58:07  Wednesday  \n",
       "3  Saint-Petersburg  08:37:09     Monday  \n",
       "4            Moscow  08:34:34     Monday  \n",
       "5  Saint-Petersburg  13:09:41     Friday  \n",
       "6            Moscow  13:00:07  Wednesday  \n",
       "7            Moscow  20:47:49  Wednesday  \n",
       "8            Moscow  09:17:40     Friday  \n",
       "9  Saint-Petersburg  21:20:49  Wednesday  "
      ]
     },
     "execution_count": 102,
     "metadata": {},
     "output_type": "execute_result"
    }
   ],
   "source": [
    "# Выведим первых 10 строк df.\n",
    "df.head(10)"
   ]
  },
  {
   "cell_type": "code",
   "execution_count": 103,
   "metadata": {
    "id": "DSf2kIb-_Zct",
    "scrolled": true
   },
   "outputs": [
    {
     "name": "stdout",
     "output_type": "stream",
     "text": [
      "<class 'pandas.core.frame.DataFrame'>\n",
      "RangeIndex: 65079 entries, 0 to 65078\n",
      "Data columns (total 7 columns):\n",
      " #   Column    Non-Null Count  Dtype \n",
      "---  ------    --------------  ----- \n",
      " 0     userID  65079 non-null  object\n",
      " 1   Track     63848 non-null  object\n",
      " 2   artist    57876 non-null  object\n",
      " 3   genre     63881 non-null  object\n",
      " 4     City    65079 non-null  object\n",
      " 5   time      65079 non-null  object\n",
      " 6   Day       65079 non-null  object\n",
      "dtypes: object(7)\n",
      "memory usage: 3.5+ MB\n"
     ]
    }
   ],
   "source": [
    "# Посмотрим общую информацию о данных в df.\n",
    "df.info()"
   ]
  },
  {
   "cell_type": "markdown",
   "metadata": {},
   "source": [
    "## Описание данных\n",
    "`userID` — идентификатор пользователя  \n",
    "`Track` — название трека    \n",
    "`artist` — имя исполнителя  \n",
    "`genre` — название жанра  \n",
    "`City` — город пользователя  \n",
    "`time` — время начала прослушивания  \n",
    "`Day` — день недели  "
   ]
  },
  {
   "cell_type": "markdown",
   "metadata": {
    "id": "MCB6-dXG_Zct"
   },
   "source": [
    "**Выводы**  \n",
    "Мы видим в таблице семь столбцов. Тип данных во всех столбцах — `object`.\n",
    "\n",
    "В названиях колонок видны три нарушения стиля:\n",
    "1. Строчные буквы сочетаются с прописными.\n",
    "2. Встречаются пробелы.\n",
    "3. Не используется змеиный регистр (пример: userID вместо user_id) \n",
    "\n",
    "Количество значений в столбцах различается. Значит, в данных есть пропущенные значения.\n",
    "\n",
    "В каждой строке таблицы — данные о прослушанном треке. Часть колонок описывает саму композицию: название, исполнителя и жанр. Остальные данные рассказывают о пользователе: из какого он города, когда он слушал музыку. \n",
    "\n",
    "Предварительно можно утверждать, что, данных достаточно для проверки гипотез. Но встречаются пропуски в данных, а в названиях колонок — расхождения с хорошим стилем.\n",
    "\n",
    "Чтобы двигаться дальше, нужно устранить проблемы в данных."
   ]
  },
  {
   "cell_type": "markdown",
   "metadata": {
    "id": "SjYF6Ub9_Zct"
   },
   "source": [
    "## Предобработка данных"
   ]
  },
  {
   "cell_type": "markdown",
   "metadata": {
    "id": "dIaKXr29_Zct"
   },
   "source": [
    "### Стиль заголовков"
   ]
  },
  {
   "cell_type": "code",
   "execution_count": 104,
   "metadata": {
    "id": "oKOTdF_Q_Zct"
   },
   "outputs": [
    {
     "data": {
      "text/plain": [
       "Index(['  userID', 'Track', 'artist', 'genre', '  City  ', 'time', 'Day'], dtype='object')"
      ]
     },
     "execution_count": 104,
     "metadata": {},
     "output_type": "execute_result"
    }
   ],
   "source": [
    "# Посмотрим на названия всех столбцов df.\n",
    "df.columns"
   ]
  },
  {
   "cell_type": "code",
   "execution_count": 105,
   "metadata": {
    "id": "ISlFqs5y_Zct"
   },
   "outputs": [],
   "source": [
    "# Переименуем столбцы в \"понятный формат\".\n",
    "df = df.rename(columns={'  userID': 'user_id', 'Track': 'track', '  City  ': 'city', 'Day': 'day'})"
   ]
  },
  {
   "cell_type": "markdown",
   "metadata": {
    "id": "1dqbh00J_Zct"
   },
   "source": [
    "Проверьте результат. Для этого ещё раз выведите на экран названия столбцов:"
   ]
  },
  {
   "cell_type": "code",
   "execution_count": 106,
   "metadata": {
    "id": "d4NOAmTW_Zct"
   },
   "outputs": [
    {
     "data": {
      "text/plain": [
       "Index(['user_id', 'track', 'artist', 'genre', 'city', 'time', 'day'], dtype='object')"
      ]
     },
     "execution_count": 106,
     "metadata": {},
     "output_type": "execute_result"
    }
   ],
   "source": [
    "# Проверим результат.\n",
    "df.columns"
   ]
  },
  {
   "cell_type": "markdown",
   "metadata": {
    "id": "5ISfbcfY_Zct"
   },
   "source": [
    "### Пропуски значений"
   ]
  },
  {
   "cell_type": "code",
   "execution_count": 107,
   "metadata": {
    "id": "RskX29qr_Zct"
   },
   "outputs": [
    {
     "data": {
      "text/plain": [
       "user_id       0\n",
       "track      1231\n",
       "artist     7203\n",
       "genre      1198\n",
       "city          0\n",
       "time          0\n",
       "day           0\n",
       "dtype: int64"
      ]
     },
     "execution_count": 107,
     "metadata": {},
     "output_type": "execute_result"
    }
   ],
   "source": [
    "# Подсчитаем кол-во пропусков.\n",
    "df.isna().sum()"
   ]
  },
  {
   "cell_type": "markdown",
   "metadata": {
    "id": "qubhgnlO_Zct"
   },
   "source": [
    "Не все пропущенные значения влияют на исследование. Так в `track` и `artist` пропуски не важны для нашего исследования. Достаточно заменить их явными обозначениями.\n",
    "\n",
    "Но пропуски в `genre` могут помешать сравнению музыкальных вкусов в Москве и Санкт-Петербурге. На практике было бы правильно установить причину пропусков и восстановить данные. Но такой возможности нет. Заполним эти пропуски тоже их явными обозначениями."
   ]
  },
  {
   "cell_type": "code",
   "execution_count": 108,
   "metadata": {
    "id": "KplB5qWs_Zct"
   },
   "outputs": [],
   "source": [
    "# Переберем названия столбцов в цикле и заменим пропуски значений на 'unknown'\n",
    "columns_to_replace = ['track', 'artist', 'genre'] \n",
    "for columns in columns_to_replace:\n",
    "    df[columns] = df[columns].fillna('unknown')"
   ]
  },
  {
   "cell_type": "code",
   "execution_count": 109,
   "metadata": {
    "id": "Tq4nYRX4_Zct"
   },
   "outputs": [
    {
     "data": {
      "text/plain": [
       "user_id    0\n",
       "track      0\n",
       "artist     0\n",
       "genre      0\n",
       "city       0\n",
       "time       0\n",
       "day        0\n",
       "dtype: int64"
      ]
     },
     "execution_count": 109,
     "metadata": {},
     "output_type": "execute_result"
    }
   ],
   "source": [
    "# Повторно проверим на пропуски.\n",
    "df.isna().sum()"
   ]
  },
  {
   "cell_type": "markdown",
   "metadata": {
    "id": "BWKRtBJ3_Zct"
   },
   "source": [
    "### Дубликаты"
   ]
  },
  {
   "cell_type": "code",
   "execution_count": 110,
   "metadata": {
    "id": "36eES_S0_Zct"
   },
   "outputs": [
    {
     "name": "stdout",
     "output_type": "stream",
     "text": [
      "3826\n"
     ]
    }
   ],
   "source": [
    "# Подсчитаем явные дубликаты.\n",
    "print(df.duplicated().sum())"
   ]
  },
  {
   "cell_type": "code",
   "execution_count": 111,
   "metadata": {
    "id": "exFHq6tt_Zct"
   },
   "outputs": [],
   "source": [
    "# Удалим явные дубликаты (с удалением старых индексов и формированием новых).\n",
    "df = df.drop_duplicates().reset_index(drop=True)"
   ]
  },
  {
   "cell_type": "markdown",
   "metadata": {
    "id": "Im2YwBEG_Zct"
   },
   "source": [
    "Ещё раз посчитайте явные дубликаты в таблице — убедитесь, что полностью от них избавились:"
   ]
  },
  {
   "cell_type": "code",
   "execution_count": 112,
   "metadata": {
    "id": "-8PuNWQ0_Zct"
   },
   "outputs": [
    {
     "name": "stdout",
     "output_type": "stream",
     "text": [
      "0\n"
     ]
    }
   ],
   "source": [
    "# Повторно проверим на отсутствие дубликатов.\n",
    "print(df.duplicated().sum())"
   ]
  },
  {
   "cell_type": "markdown",
   "metadata": {
    "id": "QlFBsxAr_Zct"
   },
   "source": [
    "Теперь избавимся от неявных дубликатов в колонке `genre`. Например, название одного и того же жанра может быть записано немного по-разному. Такие ошибки тоже повлияют на результат исследования."
   ]
  },
  {
   "cell_type": "code",
   "execution_count": 113,
   "metadata": {
    "id": "JIUcqzZN_Zct",
    "scrolled": false
   },
   "outputs": [
    {
     "name": "stdout",
     "output_type": "stream",
     "text": [
      "['acid' 'acoustic' 'action' 'adult' 'africa' 'afrikaans' 'alternative'\n",
      " 'alternativepunk' 'ambient' 'americana' 'animated' 'anime' 'arabesk'\n",
      " 'arabic' 'arena' 'argentinetango' 'art' 'audiobook' 'author' 'avantgarde'\n",
      " 'axé' 'baile' 'balkan' 'beats' 'bigroom' 'black' 'bluegrass' 'blues'\n",
      " 'bollywood' 'bossa' 'brazilian' 'breakbeat' 'breaks' 'broadway'\n",
      " 'cantautori' 'cantopop' 'canzone' 'caribbean' 'caucasian' 'celtic'\n",
      " 'chamber' 'chanson' 'children' 'chill' 'chinese' 'choral' 'christian'\n",
      " 'christmas' 'classical' 'classicmetal' 'club' 'colombian' 'comedy'\n",
      " 'conjazz' 'contemporary' 'country' 'cuban' 'dance' 'dancehall' 'dancepop'\n",
      " 'dark' 'death' 'deep' 'deutschrock' 'deutschspr' 'dirty' 'disco' 'dnb'\n",
      " 'documentary' 'downbeat' 'downtempo' 'drum' 'dub' 'dubstep' 'eastern'\n",
      " 'easy' 'electronic' 'electropop' 'emo' 'entehno' 'epicmetal' 'estrada'\n",
      " 'ethnic' 'eurofolk' 'european' 'experimental' 'extrememetal' 'fado'\n",
      " 'fairytail' 'film' 'fitness' 'flamenco' 'folk' 'folklore' 'folkmetal'\n",
      " 'folkrock' 'folktronica' 'forró' 'frankreich' 'französisch' 'french'\n",
      " 'funk' 'future' 'gangsta' 'garage' 'german' 'ghazal' 'gitarre' 'glitch'\n",
      " 'gospel' 'gothic' 'grime' 'grunge' 'gypsy' 'handsup' \"hard'n'heavy\"\n",
      " 'hardcore' 'hardstyle' 'hardtechno' 'hip' 'hip-hop' 'hiphop' 'historisch'\n",
      " 'holiday' 'hop' 'horror' 'house' 'hymn' 'idm' 'independent' 'indian'\n",
      " 'indie' 'indipop' 'industrial' 'inspirational' 'instrumental'\n",
      " 'international' 'irish' 'jam' 'japanese' 'jazz' 'jewish' 'jpop' 'jungle'\n",
      " 'k-pop' 'karadeniz' 'karaoke' 'kayokyoku' 'korean' 'laiko' 'latin'\n",
      " 'latino' 'leftfield' 'local' 'lounge' 'loungeelectronic' 'lovers'\n",
      " 'malaysian' 'mandopop' 'marschmusik' 'meditative' 'mediterranean'\n",
      " 'melodic' 'metal' 'metalcore' 'mexican' 'middle' 'minimal'\n",
      " 'miscellaneous' 'modern' 'mood' 'mpb' 'muslim' 'native' 'neoklassik'\n",
      " 'neue' 'new' 'newage' 'newwave' 'nu' 'nujazz' 'numetal' 'oceania' 'old'\n",
      " 'opera' 'orchestral' 'other' 'piano' 'podcasts' 'pop' 'popdance'\n",
      " 'popelectronic' 'popeurodance' 'poprussian' 'post' 'posthardcore'\n",
      " 'postrock' 'power' 'progmetal' 'progressive' 'psychedelic' 'punjabi'\n",
      " 'punk' 'quebecois' 'ragga' 'ram' 'rancheras' 'rap' 'rave' 'reggae'\n",
      " 'reggaeton' 'regional' 'relax' 'religious' 'retro' 'rhythm' 'rnb' 'rnr'\n",
      " 'rock' 'rockabilly' 'rockalternative' 'rockindie' 'rockother' 'romance'\n",
      " 'roots' 'ruspop' 'rusrap' 'rusrock' 'russian' 'salsa' 'samba' 'scenic'\n",
      " 'schlager' 'self' 'sertanejo' 'shanson' 'shoegazing' 'showtunes' 'singer'\n",
      " 'ska' 'skarock' 'slow' 'smooth' 'soft' 'soul' 'soulful' 'sound'\n",
      " 'soundtrack' 'southern' 'specialty' 'speech' 'spiritual' 'sport'\n",
      " 'stonerrock' 'surf' 'swing' 'synthpop' 'synthrock' 'sängerportrait'\n",
      " 'tango' 'tanzorchester' 'taraftar' 'tatar' 'tech' 'techno' 'teen'\n",
      " 'thrash' 'top' 'traditional' 'tradjazz' 'trance' 'tribal' 'trip'\n",
      " 'triphop' 'tropical' 'türk' 'türkçe' 'ukrrock' 'unknown' 'urban' 'uzbek'\n",
      " 'variété' 'vi' 'videogame' 'vocal' 'western' 'world' 'worldbeat' 'ïîï'\n",
      " 'электроника']\n"
     ]
    }
   ],
   "source": [
    "# Выведим на экран список уникальных названий жанров, отсортированный в алфавитном порядке.\n",
    "print(df['genre'].sort_values().unique())"
   ]
  },
  {
   "cell_type": "code",
   "execution_count": 114,
   "metadata": {
    "id": "ErNDkmns_Zct",
    "scrolled": true
   },
   "outputs": [],
   "source": [
    "# Функция для замены неявных дубликатов\n",
    "def replace_wrong_genres(wrong_genres, correct_genre): # на вход функции подаются список неправильных значений и строка с правильным значением\n",
    "    for wrong_genres in wrong_genres: # перебираем неправильные имена\n",
    "        df['genre'] = df['genre'].replace(wrong_genres, correct_genre) # и для каждого неправильного имени вызываем метод replace()\n",
    "        "
   ]
  },
  {
   "cell_type": "code",
   "execution_count": 115,
   "metadata": {},
   "outputs": [],
   "source": [
    "replace_wrong_genres(['hip', 'hop', 'hip-hop'], 'hiphop')\n",
    "replace_wrong_genres(['электроника'], 'electronic')"
   ]
  },
  {
   "cell_type": "code",
   "execution_count": 116,
   "metadata": {
    "id": "wvixALnFG15m"
   },
   "outputs": [
    {
     "name": "stdout",
     "output_type": "stream",
     "text": [
      "['acid' 'acoustic' 'action' 'adult' 'africa' 'afrikaans' 'alternative'\n",
      " 'alternativepunk' 'ambient' 'americana' 'animated' 'anime' 'arabesk'\n",
      " 'arabic' 'arena' 'argentinetango' 'art' 'audiobook' 'author' 'avantgarde'\n",
      " 'axé' 'baile' 'balkan' 'beats' 'bigroom' 'black' 'bluegrass' 'blues'\n",
      " 'bollywood' 'bossa' 'brazilian' 'breakbeat' 'breaks' 'broadway'\n",
      " 'cantautori' 'cantopop' 'canzone' 'caribbean' 'caucasian' 'celtic'\n",
      " 'chamber' 'chanson' 'children' 'chill' 'chinese' 'choral' 'christian'\n",
      " 'christmas' 'classical' 'classicmetal' 'club' 'colombian' 'comedy'\n",
      " 'conjazz' 'contemporary' 'country' 'cuban' 'dance' 'dancehall' 'dancepop'\n",
      " 'dark' 'death' 'deep' 'deutschrock' 'deutschspr' 'dirty' 'disco' 'dnb'\n",
      " 'documentary' 'downbeat' 'downtempo' 'drum' 'dub' 'dubstep' 'eastern'\n",
      " 'easy' 'electronic' 'electropop' 'emo' 'entehno' 'epicmetal' 'estrada'\n",
      " 'ethnic' 'eurofolk' 'european' 'experimental' 'extrememetal' 'fado'\n",
      " 'fairytail' 'film' 'fitness' 'flamenco' 'folk' 'folklore' 'folkmetal'\n",
      " 'folkrock' 'folktronica' 'forró' 'frankreich' 'französisch' 'french'\n",
      " 'funk' 'future' 'gangsta' 'garage' 'german' 'ghazal' 'gitarre' 'glitch'\n",
      " 'gospel' 'gothic' 'grime' 'grunge' 'gypsy' 'handsup' \"hard'n'heavy\"\n",
      " 'hardcore' 'hardstyle' 'hardtechno' 'hiphop' 'historisch' 'holiday'\n",
      " 'horror' 'house' 'hymn' 'idm' 'independent' 'indian' 'indie' 'indipop'\n",
      " 'industrial' 'inspirational' 'instrumental' 'international' 'irish' 'jam'\n",
      " 'japanese' 'jazz' 'jewish' 'jpop' 'jungle' 'k-pop' 'karadeniz' 'karaoke'\n",
      " 'kayokyoku' 'korean' 'laiko' 'latin' 'latino' 'leftfield' 'local'\n",
      " 'lounge' 'loungeelectronic' 'lovers' 'malaysian' 'mandopop' 'marschmusik'\n",
      " 'meditative' 'mediterranean' 'melodic' 'metal' 'metalcore' 'mexican'\n",
      " 'middle' 'minimal' 'miscellaneous' 'modern' 'mood' 'mpb' 'muslim'\n",
      " 'native' 'neoklassik' 'neue' 'new' 'newage' 'newwave' 'nu' 'nujazz'\n",
      " 'numetal' 'oceania' 'old' 'opera' 'orchestral' 'other' 'piano' 'podcasts'\n",
      " 'pop' 'popdance' 'popelectronic' 'popeurodance' 'poprussian' 'post'\n",
      " 'posthardcore' 'postrock' 'power' 'progmetal' 'progressive' 'psychedelic'\n",
      " 'punjabi' 'punk' 'quebecois' 'ragga' 'ram' 'rancheras' 'rap' 'rave'\n",
      " 'reggae' 'reggaeton' 'regional' 'relax' 'religious' 'retro' 'rhythm'\n",
      " 'rnb' 'rnr' 'rock' 'rockabilly' 'rockalternative' 'rockindie' 'rockother'\n",
      " 'romance' 'roots' 'ruspop' 'rusrap' 'rusrock' 'russian' 'salsa' 'samba'\n",
      " 'scenic' 'schlager' 'self' 'sertanejo' 'shanson' 'shoegazing' 'showtunes'\n",
      " 'singer' 'ska' 'skarock' 'slow' 'smooth' 'soft' 'soul' 'soulful' 'sound'\n",
      " 'soundtrack' 'southern' 'specialty' 'speech' 'spiritual' 'sport'\n",
      " 'stonerrock' 'surf' 'swing' 'synthpop' 'synthrock' 'sängerportrait'\n",
      " 'tango' 'tanzorchester' 'taraftar' 'tatar' 'tech' 'techno' 'teen'\n",
      " 'thrash' 'top' 'traditional' 'tradjazz' 'trance' 'tribal' 'trip'\n",
      " 'triphop' 'tropical' 'türk' 'türkçe' 'ukrrock' 'unknown' 'urban' 'uzbek'\n",
      " 'variété' 'vi' 'videogame' 'vocal' 'western' 'world' 'worldbeat' 'ïîï']\n"
     ]
    }
   ],
   "source": [
    "# Повторно проверим на неявные дубликаты\n",
    "print(df['genre'].sort_values().unique())"
   ]
  },
  {
   "cell_type": "markdown",
   "metadata": {
    "id": "jz6a9-7HQUDd"
   },
   "source": [
    "**Выводы**\n",
    "\n",
    "Предобработка обнаружила три проблемы в данных:\n",
    "\n",
    "- нарушения в стиле заголовков,\n",
    "- пропущенные значения,\n",
    "- дубликаты — явные и неявные.\n",
    "\n",
    "Мы исправили заголовки, чтобы упростить работу с таблицей. Без дубликатов исследование станет более точным.\n",
    "\n",
    "Пропущенные значения мы заменили на `'unknown'`."
   ]
  },
  {
   "cell_type": "markdown",
   "metadata": {
    "id": "WttZHXH0SqKk"
   },
   "source": [
    "## Проверка гипотез"
   ]
  },
  {
   "cell_type": "markdown",
   "metadata": {
    "id": "Im936VVi_Zcu"
   },
   "source": [
    "### Сравнение поведения пользователей двух столиц"
   ]
  },
  {
   "cell_type": "markdown",
   "metadata": {
    "id": "nwt_MuaL_Zcu"
   },
   "source": [
    "Первая гипотеза утверждает, что пользователи по-разному слушают музыку в Москве и Санкт-Петербурге. Проверим это предположение по данным о трёх днях недели — понедельнике, среде и пятнице. Для этого:\n",
    "\n",
    "* Разделим пользователей Москвы и Санкт-Петербурга\n",
    "* Сравним, сколько треков послушала каждая группа пользователей в понедельник, среду и пятницу.\n"
   ]
  },
  {
   "cell_type": "code",
   "execution_count": 117,
   "metadata": {
    "id": "0_Qs96oh_Zcu"
   },
   "outputs": [
    {
     "data": {
      "text/plain": [
       "city\n",
       "Moscow              42741\n",
       "Saint-Petersburg    18512\n",
       "Name: user_id, dtype: int64"
      ]
     },
     "execution_count": 117,
     "metadata": {},
     "output_type": "execute_result"
    }
   ],
   "source": [
    "# Оценим активность пользователей в каждом городе. Сгруппируем данные по городу и посчитаем прослушивания в каждой группе.\n",
    "df.groupby('city')['user_id'].count()"
   ]
  },
  {
   "cell_type": "markdown",
   "metadata": {
    "id": "dzli3w8o_Zcu"
   },
   "source": [
    "В Москве прослушиваний больше, чем в Петербурге. Из этого не следует, что московские пользователи чаще слушают музыку. Просто самих пользователей в Москве больше."
   ]
  },
  {
   "cell_type": "code",
   "execution_count": 118,
   "metadata": {
    "id": "uZMKjiJz_Zcu"
   },
   "outputs": [
    {
     "data": {
      "text/plain": [
       "day\n",
       "Friday       21840\n",
       "Monday       21354\n",
       "Wednesday    18059\n",
       "Name: user_id, dtype: int64"
      ]
     },
     "execution_count": 118,
     "metadata": {},
     "output_type": "execute_result"
    }
   ],
   "source": [
    "# Cгруппируем данные по дню недели и подсчитаем прослушивания в понедельник, среду и пятницу.\n",
    "df.groupby('day')['user_id'].count()"
   ]
  },
  {
   "cell_type": "markdown",
   "metadata": {
    "id": "cC2tNrlL_Zcu"
   },
   "source": [
    "В среднем пользователи из двух городов менее активны по средам. Но картина может измениться, если рассмотреть каждый город в отдельности."
   ]
  },
  {
   "cell_type": "markdown",
   "metadata": {
    "id": "POzs8bGa_Zcu"
   },
   "source": [
    "Теперь напишем функцию, которая объединит два эти расчёта.\n",
    "\n",
    "Создадим функцию `number_tracks()`, которая посчитает прослушивания для заданного дня и города. В нее добавим два параметра:\n",
    "* день недели - day\n",
    "* название города - city"
   ]
  },
  {
   "cell_type": "code",
   "execution_count": 119,
   "metadata": {
    "id": "Nz3GdQB1_Zcu"
   },
   "outputs": [],
   "source": [
    "# Функция для подсчёта прослушиваний для конкретного города и дня.\n",
    "def number_tracks(day, city):\n",
    "    track_list = df[df['day'] == day]\n",
    "    track_list = track_list[track_list['city'] == city]\n",
    "    track_list_count = track_list.groupby('day')['user_id'].value_counts().sum()\n",
    "    return track_list_count"
   ]
  },
  {
   "cell_type": "markdown",
   "metadata": {
    "id": "ytf7xFrFJQ2r"
   },
   "source": [
    "Вызовим `number_tracks()`, меняя значение параметров — так, чтобы получить данные для каждого города в каждый из трёх дней.\n",
    "Чтобы не повторять одно и тоже действие 6 раз создадим цикл."
   ]
  },
  {
   "cell_type": "code",
   "execution_count": 120,
   "metadata": {},
   "outputs": [],
   "source": [
    "day = ['Monday', 'Wednesday', 'Friday']\n",
    "city = ['Moscow', 'Saint-Petersburg']"
   ]
  },
  {
   "cell_type": "code",
   "execution_count": 121,
   "metadata": {},
   "outputs": [
    {
     "name": "stdout",
     "output_type": "stream",
     "text": [
      "Количество прослушиваний в Moscow в Monday ровно 15740\n",
      "Количество прослушиваний в Saint-Petersburg в Monday ровно 5614\n",
      "Количество прослушиваний в Moscow в Wednesday ровно 11056\n",
      "Количество прослушиваний в Saint-Petersburg в Wednesday ровно 7003\n",
      "Количество прослушиваний в Moscow в Friday ровно 15945\n",
      "Количество прослушиваний в Saint-Petersburg в Friday ровно 5895\n"
     ]
    }
   ],
   "source": [
    "for d in day:\n",
    "    for c in city:\n",
    "        print('Количество прослушиваний в', c, 'в', d, 'ровно', number_tracks(d,c))"
   ]
  },
  {
   "cell_type": "markdown",
   "metadata": {
    "id": "7QXffbO-_Zcu"
   },
   "source": [
    "Создадим c помощью конструктора `pd.DataFrame` таблицу, где\n",
    "* названия колонок — `['city', 'monday', 'wednesday', 'friday']`;\n",
    "* данные — результаты, которые вы получили с помощью `number_tracks`."
   ]
  },
  {
   "cell_type": "code",
   "execution_count": 122,
   "metadata": {
    "id": "APAcLpOr_Zcu"
   },
   "outputs": [
    {
     "data": {
      "text/html": [
       "<div>\n",
       "<style scoped>\n",
       "    .dataframe tbody tr th:only-of-type {\n",
       "        vertical-align: middle;\n",
       "    }\n",
       "\n",
       "    .dataframe tbody tr th {\n",
       "        vertical-align: top;\n",
       "    }\n",
       "\n",
       "    .dataframe thead th {\n",
       "        text-align: right;\n",
       "    }\n",
       "</style>\n",
       "<table border=\"1\" class=\"dataframe\">\n",
       "  <thead>\n",
       "    <tr style=\"text-align: right;\">\n",
       "      <th></th>\n",
       "      <th>monday</th>\n",
       "      <th>wednesday</th>\n",
       "      <th>friday</th>\n",
       "    </tr>\n",
       "    <tr>\n",
       "      <th>city</th>\n",
       "      <th></th>\n",
       "      <th></th>\n",
       "      <th></th>\n",
       "    </tr>\n",
       "  </thead>\n",
       "  <tbody>\n",
       "    <tr>\n",
       "      <th>Moscow</th>\n",
       "      <td>15740</td>\n",
       "      <td>11056</td>\n",
       "      <td>15945</td>\n",
       "    </tr>\n",
       "    <tr>\n",
       "      <th>Saint-Petersburg</th>\n",
       "      <td>5614</td>\n",
       "      <td>7003</td>\n",
       "      <td>5895</td>\n",
       "    </tr>\n",
       "  </tbody>\n",
       "</table>\n",
       "</div>"
      ],
      "text/plain": [
       "                  monday  wednesday  friday\n",
       "city                                       \n",
       "Moscow             15740      11056   15945\n",
       "Saint-Petersburg    5614       7003    5895"
      ]
     },
     "execution_count": 122,
     "metadata": {},
     "output_type": "execute_result"
    }
   ],
   "source": [
    "# Таблица с результатами\n",
    "data = [['Moscow', 15740, 11056, 15945],\n",
    "       ['Saint-Petersburg', 5614, 7003, 5895]] # Переменная data хранит результаты функции number_tracks\n",
    "columns = ['city', 'monday', 'wednesday', 'friday'] # Переменная columns хранит названия колонок\n",
    "research_city_result = pd.DataFrame(data= data, columns= columns) # В переменной research_city_result сохраняем таблицу df\n",
    "research_city_result.set_index('city', inplace=True)\n",
    "research_city_result # Выводим таблицу на экран"
   ]
  },
  {
   "cell_type": "markdown",
   "metadata": {
    "id": "-EgPIHYu_Zcu"
   },
   "source": [
    "**Выводы**\n",
    "\n",
    "Данные показывают разницу поведения пользователей:\n",
    "\n",
    "- В Москве пик прослушиваний приходится на понедельник и пятницу, а в среду заметен спад.\n",
    "- В Петербурге, наоборот, больше слушают музыку по средам. Активность в понедельник и пятницу здесь почти в равной мере уступает среде.\n",
    "\n",
    "Значит, данные говорят в пользу первой гипотезы."
   ]
  },
  {
   "cell_type": "markdown",
   "metadata": {
    "id": "atZAxtq4_Zcu"
   },
   "source": [
    "### Музыка в начале и в конце недели"
   ]
  },
  {
   "cell_type": "markdown",
   "metadata": {
    "id": "eXrQqXFH_Zcu"
   },
   "source": [
    "Согласно второй гипотезе, утром в понедельник в Москве преобладают одни жанры, а в Петербурге — другие. Так же и вечером пятницы преобладают разные жанры — в зависимости от города."
   ]
  },
  {
   "cell_type": "markdown",
   "metadata": {
    "id": "S8UcW6Hw_Zcu"
   },
   "source": [
    "Сохраним таблицы с данными в две переменные:\n",
    "* по Москве — в `moscow_general`;\n",
    "* по Санкт-Петербургу — в `spb_general`."
   ]
  },
  {
   "cell_type": "code",
   "execution_count": 123,
   "metadata": {
    "id": "qeaFfM_P_Zcu"
   },
   "outputs": [],
   "source": [
    "# Создадим таблицу moscow_general\n",
    "moscow_general = df[df['city'] == 'Moscow']\n",
    "# Создадим таблицу spb_general\n",
    "spb_general = df[df['city'] == 'Saint-Petersburg']"
   ]
  },
  {
   "cell_type": "markdown",
   "metadata": {
    "id": "MEJV-CX2_Zcu"
   },
   "source": [
    "Создадим функцию `genre_weekday()` с четырьмя параметрами:\n",
    "* таблица (датафрейм) с данными,\n",
    "* день недели,\n",
    "* начальная временная метка в формате 'hh:mm', \n",
    "* последняя временная метка в формате 'hh:mm'.\n",
    "\n",
    "Функция должна вернуть информацию о топ-10 жанров тех треков, которые прослушивали в указанный день, в промежутке между двумя отметками времени."
   ]
  },
  {
   "cell_type": "code",
   "execution_count": 124,
   "metadata": {
    "id": "laJT9BYl_Zcu"
   },
   "outputs": [],
   "source": [
    "def genre_weekday(df, day, time1, time2):\n",
    "    genre_df = df.query('@day==day and @time1 < time < @time2')\n",
    "    genre_df_sorted = genre_df['genre'].value_counts()\n",
    "    return genre_df_sorted.head(10)"
   ]
  },
  {
   "cell_type": "markdown",
   "metadata": {
    "id": "la2s2_PF_Zcu"
   },
   "source": [
    "Сравним результаты функции `genre_weekday()` для Москвы и Санкт-Петербурга в понедельник утром (с 7:00 до 11:00) и в пятницу вечером (с 17:00 до 23:00):"
   ]
  },
  {
   "cell_type": "code",
   "execution_count": 125,
   "metadata": {
    "id": "yz7itPUQ_Zcu"
   },
   "outputs": [
    {
     "data": {
      "text/plain": [
       "pop            781\n",
       "dance          549\n",
       "electronic     480\n",
       "rock           474\n",
       "hiphop         286\n",
       "ruspop         186\n",
       "world          181\n",
       "rusrap         175\n",
       "alternative    164\n",
       "unknown        161\n",
       "Name: genre, dtype: int64"
      ]
     },
     "execution_count": 125,
     "metadata": {},
     "output_type": "execute_result"
    }
   ],
   "source": [
    "# Вызоваем функцию для утра понедельника в Москве.\n",
    "genre_weekday(moscow_general, 'Monday', '07:00', '11:00')"
   ]
  },
  {
   "cell_type": "code",
   "execution_count": 126,
   "metadata": {
    "id": "kwUcHPdy_Zcu"
   },
   "outputs": [
    {
     "data": {
      "text/plain": [
       "pop            218\n",
       "dance          182\n",
       "rock           162\n",
       "electronic     147\n",
       "hiphop          80\n",
       "ruspop          64\n",
       "alternative     58\n",
       "rusrap          55\n",
       "jazz            44\n",
       "classical       40\n",
       "Name: genre, dtype: int64"
      ]
     },
     "execution_count": 126,
     "metadata": {},
     "output_type": "execute_result"
    }
   ],
   "source": [
    "# Вызоваем функцию для утра понедельника в Петербурге.\n",
    "genre_weekday(spb_general, 'Monday', '07:00', '11:00')"
   ]
  },
  {
   "cell_type": "code",
   "execution_count": 127,
   "metadata": {
    "id": "EzXVRE1o_Zcu"
   },
   "outputs": [
    {
     "data": {
      "text/plain": [
       "pop            713\n",
       "rock           517\n",
       "dance          495\n",
       "electronic     482\n",
       "hiphop         273\n",
       "world          208\n",
       "ruspop         170\n",
       "alternative    163\n",
       "classical      163\n",
       "rusrap         142\n",
       "Name: genre, dtype: int64"
      ]
     },
     "execution_count": 127,
     "metadata": {},
     "output_type": "execute_result"
    }
   ],
   "source": [
    "# Вызоваем функцию для вечера пятницы в Москве\n",
    "genre_weekday(moscow_general, 'Friday', '17:00', '23:00')"
   ]
  },
  {
   "cell_type": "code",
   "execution_count": 128,
   "metadata": {
    "id": "JZaEKu5v_Zcu"
   },
   "outputs": [
    {
     "data": {
      "text/plain": [
       "pop            256\n",
       "electronic     216\n",
       "rock           216\n",
       "dance          210\n",
       "hiphop          97\n",
       "alternative     63\n",
       "jazz            61\n",
       "classical       60\n",
       "rusrap          59\n",
       "world           54\n",
       "Name: genre, dtype: int64"
      ]
     },
     "execution_count": 128,
     "metadata": {},
     "output_type": "execute_result"
    }
   ],
   "source": [
    "# Вызоваем функцию для вечера пятницы в Петербурге\n",
    "genre_weekday(spb_general, 'Friday', '17:00', '23:00')"
   ]
  },
  {
   "cell_type": "markdown",
   "metadata": {
    "id": "wrCe4MNX_Zcu"
   },
   "source": [
    "**Выводы**\n",
    "\n",
    "Если сравнить топ-10 жанров в понедельник утром, можно сделать такие выводы:\n",
    "\n",
    "1. В Москве и Петербурге слушают похожую музыку. Единственное отличие — в московский рейтинг вошёл жанр “world”, а в петербургский — джаз и классика.\n",
    "\n",
    "2. В Москве пропущенных значений оказалось так много, что значение `'unknown'` заняло десятое место среди самых популярных жанров. Значит, пропущенные значения занимают существенную долю в данных и угрожают достоверности исследования.\n",
    "\n",
    "Вечер пятницы не меняет эту картину. Некоторые жанры поднимаются немного выше, другие спускаются, но в целом топ-10 остаётся тем же самым.\n",
    "\n",
    "Таким образом, вторая гипотеза подтвердилась лишь частично:\n",
    "* Пользователи слушают похожую музыку в начале недели и в конце.\n",
    "* Разница между Москвой и Петербургом не слишком выражена. В Москве чаще слушают русскую популярную музыку, в Петербурге — джаз.\n",
    "\n",
    "Однако пропуски в данных ставят под сомнение этот результат. В Москве их так много, что рейтинг топ-10 мог бы выглядеть иначе, если бы не утерянные  данные о жанрах."
   ]
  },
  {
   "cell_type": "markdown",
   "metadata": {
    "id": "JolODAqr_Zcu"
   },
   "source": [
    "### Жанровые предпочтения в Москве и Петербурге\n",
    "\n",
    "Гипотеза: Петербург — столица рэпа, музыку этого жанра там слушают чаще, чем в Москве.  А Москва — город контрастов, в котором, тем не менее, преобладает поп-музыка."
   ]
  },
  {
   "cell_type": "markdown",
   "metadata": {
    "id": "DlegSvaT_Zcu"
   },
   "source": [
    "Сгруппируем таблицу `moscow_general` по жанру и посчитайте прослушивания треков каждого жанра методом `count()`. Затем отсортируйте результат в порядке убывания и сохраните его в таблице `moscow_genres`."
   ]
  },
  {
   "cell_type": "code",
   "execution_count": 129,
   "metadata": {
    "id": "r19lIPke_Zcu"
   },
   "outputs": [
    {
     "data": {
      "text/plain": [
       "pop            5892\n",
       "dance          4435\n",
       "rock           3965\n",
       "electronic     3786\n",
       "hiphop         2096\n",
       "classical      1616\n",
       "world          1432\n",
       "alternative    1379\n",
       "ruspop         1372\n",
       "rusrap         1161\n",
       "Name: genre, dtype: int64"
      ]
     },
     "execution_count": 129,
     "metadata": {},
     "output_type": "execute_result"
    }
   ],
   "source": [
    "moscow_genres = moscow_general['genre'].value_counts().sort_values(ascending = False).head(10)\n",
    "# Выведим на экран первые десять строк `moscow_genres`.\n",
    "moscow_genres"
   ]
  },
  {
   "cell_type": "markdown",
   "metadata": {
    "id": "cnPG2vnN_Zcv"
   },
   "source": [
    "Теперь повторим то же и для Петербурга.\n",
    "\n",
    "Сгруппируем таблицу `spb_general` по жанру. Посчитаем прослушивания треков каждого жанра. "
   ]
  },
  {
   "cell_type": "code",
   "execution_count": 130,
   "metadata": {
    "id": "gluLIpE7_Zcv"
   },
   "outputs": [
    {
     "data": {
      "text/plain": [
       "pop            2431\n",
       "dance          1932\n",
       "rock           1879\n",
       "electronic     1737\n",
       "hiphop          960\n",
       "alternative     649\n",
       "classical       646\n",
       "rusrap          564\n",
       "ruspop          538\n",
       "world           515\n",
       "Name: genre, dtype: int64"
      ]
     },
     "execution_count": 130,
     "metadata": {},
     "output_type": "execute_result"
    }
   ],
   "source": [
    "spb_genres = spb_general['genre'].value_counts().sort_values(ascending = False).head(10)\n",
    "# Выведим на экран первые десять строк `spb_genres`.\n",
    "spb_genres"
   ]
  },
  {
   "cell_type": "markdown",
   "metadata": {
    "id": "RY51YJYu_Zcv"
   },
   "source": [
    "**Выводы**"
   ]
  },
  {
   "cell_type": "markdown",
   "metadata": {
    "id": "nVhnJEm__Zcv"
   },
   "source": [
    "Гипотеза частично подтвердилась:\n",
    "* Поп-музыка — самый популярный жанр в Москве, как и предполагала гипотеза. Более того, в топ-10 жанров встречается близкий жанр — русская популярная музыка.\n",
    "* Вопреки ожиданиям, рэп одинаково популярен в Москве и Петербурге. \n"
   ]
  },
  {
   "cell_type": "markdown",
   "metadata": {
    "id": "ykKQ0N65_Zcv"
   },
   "source": [
    "## Итоги исследования"
   ]
  },
  {
   "cell_type": "markdown",
   "metadata": {
    "id": "tjUwbHb3_Zcv"
   },
   "source": [
    "Мы проверили три гипотезы и установили:\n",
    "\n",
    "1. День недели по-разному влияет на активность пользователей в Москве и Петербурге. \n",
    "\n",
    "Первая гипотеза полностью подтвердилась.\n",
    "\n",
    "2. Музыкальные предпочтения не сильно меняются в течение недели — будь то Москва или Петербург. Небольшие различия заметны в начале недели, по понедельникам:\n",
    "* в Москве слушают музыку жанра “world”,\n",
    "* в Петербурге — джаз и классику.\n",
    "\n",
    "Таким образом, вторая гипотеза подтвердилась лишь отчасти. Этот результат мог оказаться иным, если бы не пропуски в данных.\n",
    "\n",
    "3. Во вкусах пользователей Москвы и Петербурга больше общего чем различий. Вопреки ожиданиям, предпочтения жанров в Петербурге напоминают московские.\n",
    "\n",
    "Третья гипотеза не подтвердилась. Если различия в предпочтениях и существуют, на основной массе пользователей они незаметны.\n",
    "\n",
    "**На практике исследования содержат проверки статистических гипотез.**\n",
    "Из данных одного сервиса не всегда можно сделать вывод о всех жителях города.\n",
    "Проверки статистических гипотез покажут, насколько они достоверны, исходя из имеющихся данных. "
   ]
  }
 ],
 "metadata": {
  "ExecuteTimeLog": [
   {
    "duration": 781,
    "start_time": "2021-11-29T09:27:07.069Z"
   },
   {
    "duration": 4,
    "start_time": "2021-11-29T09:27:08.521Z"
   },
   {
    "duration": 99,
    "start_time": "2021-11-29T09:29:48.965Z"
   },
   {
    "duration": 97,
    "start_time": "2021-11-29T09:35:04.973Z"
   },
   {
    "duration": 104,
    "start_time": "2021-11-29T09:38:53.858Z"
   },
   {
    "duration": 461,
    "start_time": "2021-11-29T09:39:53.106Z"
   },
   {
    "duration": 327,
    "start_time": "2021-11-29T09:40:04.853Z"
   },
   {
    "duration": 339,
    "start_time": "2021-11-29T09:40:08.676Z"
   },
   {
    "duration": 38,
    "start_time": "2021-11-29T09:41:39.702Z"
   },
   {
    "duration": 38,
    "start_time": "2021-11-29T09:42:18.141Z"
   },
   {
    "duration": 276,
    "start_time": "2021-11-29T09:47:39.301Z"
   },
   {
    "duration": 4,
    "start_time": "2021-11-29T09:48:05.052Z"
   },
   {
    "duration": 5,
    "start_time": "2021-11-29T09:52:43.352Z"
   },
   {
    "duration": 109,
    "start_time": "2021-11-29T09:52:48.368Z"
   },
   {
    "duration": 318,
    "start_time": "2021-11-29T09:52:56.424Z"
   },
   {
    "duration": 5,
    "start_time": "2021-11-29T09:53:11.468Z"
   },
   {
    "duration": 27,
    "start_time": "2021-11-29T09:53:23.487Z"
   },
   {
    "duration": 5,
    "start_time": "2021-11-29T09:53:25.899Z"
   },
   {
    "duration": 32,
    "start_time": "2021-11-29T09:56:15.849Z"
   },
   {
    "duration": 32,
    "start_time": "2021-11-29T09:56:27.521Z"
   },
   {
    "duration": 1470,
    "start_time": "2021-11-29T10:04:36.796Z"
   },
   {
    "duration": 288,
    "start_time": "2021-11-29T10:04:50.843Z"
   },
   {
    "duration": 357,
    "start_time": "2021-11-29T10:05:52.874Z"
   },
   {
    "duration": 7441,
    "start_time": "2021-11-29T10:10:08.875Z"
   },
   {
    "duration": 290,
    "start_time": "2021-11-29T10:10:34.052Z"
   },
   {
    "duration": 6934,
    "start_time": "2021-11-29T10:11:33.757Z"
   },
   {
    "duration": 7081,
    "start_time": "2021-11-29T10:15:36.004Z"
   },
   {
    "duration": 44,
    "start_time": "2021-11-29T10:15:56.944Z"
   },
   {
    "duration": 31,
    "start_time": "2021-11-29T10:16:21.695Z"
   },
   {
    "duration": 91,
    "start_time": "2021-11-29T10:17:51.027Z"
   },
   {
    "duration": 109,
    "start_time": "2021-11-29T10:18:58.004Z"
   },
   {
    "duration": 85,
    "start_time": "2021-11-29T10:19:10.424Z"
   },
   {
    "duration": 10,
    "start_time": "2021-11-29T10:20:16.252Z"
   },
   {
    "duration": 81,
    "start_time": "2021-11-29T10:25:58.895Z"
   },
   {
    "duration": 91,
    "start_time": "2021-11-29T10:26:30.024Z"
   },
   {
    "duration": 73,
    "start_time": "2021-11-29T10:27:38.914Z"
   },
   {
    "duration": 55,
    "start_time": "2021-11-29T10:34:39.240Z"
   },
   {
    "duration": 61,
    "start_time": "2021-11-29T10:34:58.939Z"
   },
   {
    "duration": 331,
    "start_time": "2021-11-29T10:35:18.063Z"
   },
   {
    "duration": 107,
    "start_time": "2021-11-29T10:35:33.834Z"
   },
   {
    "duration": 59,
    "start_time": "2021-11-29T10:35:40.134Z"
   },
   {
    "duration": 417,
    "start_time": "2021-11-29T17:32:51.213Z"
   },
   {
    "duration": 486,
    "start_time": "2021-11-29T17:33:06.343Z"
   },
   {
    "duration": 475,
    "start_time": "2021-11-29T17:33:55.484Z"
   },
   {
    "duration": 677,
    "start_time": "2021-11-29T17:34:21.914Z"
   },
   {
    "duration": 474,
    "start_time": "2021-11-29T17:34:33.446Z"
   },
   {
    "duration": 444,
    "start_time": "2021-11-29T17:37:28.450Z"
   },
   {
    "duration": 269,
    "start_time": "2021-11-29T17:37:59.597Z"
   },
   {
    "duration": 323,
    "start_time": "2021-11-29T17:38:31.279Z"
   },
   {
    "duration": 263,
    "start_time": "2021-11-29T17:38:58.042Z"
   },
   {
    "duration": 283,
    "start_time": "2021-11-29T17:39:04.160Z"
   },
   {
    "duration": 759,
    "start_time": "2021-11-29T17:39:08.526Z"
   },
   {
    "duration": 3,
    "start_time": "2021-11-29T17:39:12.855Z"
   },
   {
    "duration": 2338,
    "start_time": "2021-11-29T17:39:14.965Z"
   },
   {
    "duration": 263,
    "start_time": "2021-11-29T17:39:17.326Z"
   },
   {
    "duration": 2194,
    "start_time": "2021-11-29T17:39:23.413Z"
   },
   {
    "duration": 2030,
    "start_time": "2021-11-29T17:40:38.819Z"
   },
   {
    "duration": 2050,
    "start_time": "2021-11-29T17:41:05.688Z"
   },
   {
    "duration": 2244,
    "start_time": "2021-11-29T17:41:19.262Z"
   },
   {
    "duration": 3,
    "start_time": "2021-11-29T17:41:39.501Z"
   },
   {
    "duration": 330,
    "start_time": "2021-11-29T17:43:03.123Z"
   },
   {
    "duration": 768,
    "start_time": "2021-11-29T17:43:07.939Z"
   },
   {
    "duration": 2118,
    "start_time": "2021-11-29T17:43:11.431Z"
   },
   {
    "duration": 183,
    "start_time": "2021-11-29T17:43:40.781Z"
   },
   {
    "duration": 197,
    "start_time": "2021-11-29T17:43:45.532Z"
   },
   {
    "duration": 25,
    "start_time": "2021-11-29T17:43:48.994Z"
   },
   {
    "duration": 33,
    "start_time": "2021-11-29T17:43:57.596Z"
   },
   {
    "duration": 5,
    "start_time": "2021-11-29T17:44:01.841Z"
   },
   {
    "duration": 29,
    "start_time": "2021-11-29T17:44:04.811Z"
   },
   {
    "duration": 5,
    "start_time": "2021-11-29T17:44:07.946Z"
   },
   {
    "duration": 29,
    "start_time": "2021-11-29T17:44:10.145Z"
   },
   {
    "duration": 41,
    "start_time": "2021-11-29T17:44:12.797Z"
   },
   {
    "duration": 30,
    "start_time": "2021-11-29T17:44:14.938Z"
   },
   {
    "duration": 83,
    "start_time": "2021-11-29T17:44:17.059Z"
   },
   {
    "duration": 99,
    "start_time": "2021-11-29T17:44:19.458Z"
   },
   {
    "duration": 76,
    "start_time": "2021-11-29T17:44:21.359Z"
   },
   {
    "duration": 77,
    "start_time": "2021-11-29T17:44:23.898Z"
   },
   {
    "duration": 4609,
    "start_time": "2021-11-29T17:44:28.849Z"
   },
   {
    "duration": 3614,
    "start_time": "2021-11-29T17:46:02.055Z"
   },
   {
    "duration": 16,
    "start_time": "2021-11-29T17:46:38.428Z"
   },
   {
    "duration": 15,
    "start_time": "2021-11-29T17:47:05.403Z"
   },
   {
    "duration": 58,
    "start_time": "2021-11-29T17:47:32.207Z"
   },
   {
    "duration": 57,
    "start_time": "2021-11-29T17:50:35.191Z"
   },
   {
    "duration": 14,
    "start_time": "2021-11-29T17:50:52.991Z"
   },
   {
    "duration": 56,
    "start_time": "2021-11-29T17:50:56.259Z"
   },
   {
    "duration": 40,
    "start_time": "2021-11-29T17:53:26.677Z"
   },
   {
    "duration": 43,
    "start_time": "2021-11-29T17:57:45.188Z"
   },
   {
    "duration": 14,
    "start_time": "2021-11-29T18:01:11.307Z"
   },
   {
    "duration": 14,
    "start_time": "2021-11-29T18:03:37.031Z"
   },
   {
    "duration": 14,
    "start_time": "2021-11-29T18:03:52.578Z"
   },
   {
    "duration": 48,
    "start_time": "2021-11-29T18:04:04.243Z"
   },
   {
    "duration": 158,
    "start_time": "2021-11-29T18:22:30.005Z"
   },
   {
    "duration": 90,
    "start_time": "2021-11-29T18:22:40.348Z"
   },
   {
    "duration": 118,
    "start_time": "2021-11-29T18:23:22.049Z"
   },
   {
    "duration": 283,
    "start_time": "2021-11-29T18:23:37.475Z"
   },
   {
    "duration": 4,
    "start_time": "2021-11-29T18:23:52.597Z"
   },
   {
    "duration": 6,
    "start_time": "2021-11-29T18:23:57.687Z"
   },
   {
    "duration": 259,
    "start_time": "2021-11-29T18:24:18.694Z"
   },
   {
    "duration": 5,
    "start_time": "2021-11-29T18:27:31.117Z"
   },
   {
    "duration": 6,
    "start_time": "2021-11-29T18:27:48.764Z"
   },
   {
    "duration": 5,
    "start_time": "2021-11-29T18:27:52.961Z"
   },
   {
    "duration": 269,
    "start_time": "2021-11-29T18:29:36.487Z"
   },
   {
    "duration": -1163,
    "start_time": "2021-11-29T18:29:54.150Z"
   },
   {
    "duration": -1175,
    "start_time": "2021-11-29T18:30:19.333Z"
   },
   {
    "duration": -1174,
    "start_time": "2021-11-29T18:35:13.296Z"
   },
   {
    "duration": 4,
    "start_time": "2021-11-29T18:35:15.306Z"
   },
   {
    "duration": 20,
    "start_time": "2021-11-29T18:35:17.812Z"
   },
   {
    "duration": 20,
    "start_time": "2021-11-29T18:36:00.842Z"
   },
   {
    "duration": 20,
    "start_time": "2021-11-29T18:37:30.157Z"
   },
   {
    "duration": 4,
    "start_time": "2021-11-29T18:37:31.492Z"
   },
   {
    "duration": 19,
    "start_time": "2021-11-29T18:37:37.941Z"
   },
   {
    "duration": 21,
    "start_time": "2021-11-29T18:38:17.850Z"
   },
   {
    "duration": 21,
    "start_time": "2021-11-29T18:39:26.679Z"
   },
   {
    "duration": 5,
    "start_time": "2021-11-29T18:40:45.688Z"
   },
   {
    "duration": 559,
    "start_time": "2021-11-29T18:40:48.670Z"
   },
   {
    "duration": 4,
    "start_time": "2021-11-29T18:41:14.491Z"
   },
   {
    "duration": -1181,
    "start_time": "2021-11-29T18:41:25.709Z"
   },
   {
    "duration": 4,
    "start_time": "2021-11-29T18:43:02.583Z"
   },
   {
    "duration": -1172,
    "start_time": "2021-11-29T18:43:14.686Z"
   },
   {
    "duration": 4,
    "start_time": "2021-11-29T18:45:11.873Z"
   },
   {
    "duration": 529,
    "start_time": "2021-11-29T18:45:14.025Z"
   },
   {
    "duration": 5,
    "start_time": "2021-11-29T18:46:01.815Z"
   },
   {
    "duration": 606,
    "start_time": "2021-11-29T18:46:04.025Z"
   },
   {
    "duration": 5,
    "start_time": "2021-11-29T18:46:19.244Z"
   },
   {
    "duration": 19,
    "start_time": "2021-11-29T18:46:21.769Z"
   },
   {
    "duration": 18,
    "start_time": "2021-11-29T18:46:51.534Z"
   },
   {
    "duration": 18,
    "start_time": "2021-11-29T18:47:02.160Z"
   },
   {
    "duration": 134,
    "start_time": "2021-11-29T18:47:14.679Z"
   },
   {
    "duration": 5,
    "start_time": "2021-11-29T18:47:37.140Z"
   },
   {
    "duration": 25,
    "start_time": "2021-11-29T18:47:39.191Z"
   },
   {
    "duration": 26,
    "start_time": "2021-11-29T18:49:21.935Z"
   },
   {
    "duration": 46,
    "start_time": "2021-11-29T18:52:07.793Z"
   },
   {
    "duration": 63,
    "start_time": "2021-11-29T18:52:18.787Z"
   },
   {
    "duration": 28,
    "start_time": "2021-11-29T18:52:30.165Z"
   },
   {
    "duration": 4,
    "start_time": "2021-11-29T18:54:00.872Z"
   },
   {
    "duration": -1163,
    "start_time": "2021-11-29T18:54:13.972Z"
   },
   {
    "duration": 8680,
    "start_time": "2021-11-29T18:54:13.849Z"
   },
   {
    "duration": 5,
    "start_time": "2021-11-29T18:54:29.575Z"
   },
   {
    "duration": 576,
    "start_time": "2021-11-29T18:54:36.057Z"
   },
   {
    "duration": 5,
    "start_time": "2021-11-29T18:55:07.884Z"
   },
   {
    "duration": 23,
    "start_time": "2021-11-29T18:55:10.492Z"
   },
   {
    "duration": 307,
    "start_time": "2021-11-29T18:55:54.001Z"
   },
   {
    "duration": 20,
    "start_time": "2021-11-29T18:56:03.909Z"
   },
   {
    "duration": 5,
    "start_time": "2021-11-29T18:56:39.742Z"
   },
   {
    "duration": 27,
    "start_time": "2021-11-29T18:56:41.755Z"
   },
   {
    "duration": 27,
    "start_time": "2021-11-29T18:56:43.618Z"
   },
   {
    "duration": 24,
    "start_time": "2021-11-29T18:57:14.061Z"
   },
   {
    "duration": 28,
    "start_time": "2021-11-29T18:58:36.516Z"
   },
   {
    "duration": 26,
    "start_time": "2021-11-29T18:58:38.728Z"
   },
   {
    "duration": 7,
    "start_time": "2021-11-29T18:59:18.348Z"
   },
   {
    "duration": 45,
    "start_time": "2021-11-29T18:59:19.945Z"
   },
   {
    "duration": 26,
    "start_time": "2021-11-29T18:59:21.798Z"
   },
   {
    "duration": 4,
    "start_time": "2021-11-29T19:00:23.264Z"
   },
   {
    "duration": 73,
    "start_time": "2021-11-29T19:00:24.873Z"
   },
   {
    "duration": 6,
    "start_time": "2021-11-29T19:02:21.333Z"
   },
   {
    "duration": 47,
    "start_time": "2021-11-29T19:02:22.653Z"
   },
   {
    "duration": 5,
    "start_time": "2021-11-29T19:02:36.423Z"
   },
   {
    "duration": 46,
    "start_time": "2021-11-29T19:02:38.085Z"
   },
   {
    "duration": 30,
    "start_time": "2021-11-29T19:02:45.482Z"
   },
   {
    "duration": 5,
    "start_time": "2021-11-29T19:03:34.484Z"
   },
   {
    "duration": 558,
    "start_time": "2021-11-29T19:03:35.659Z"
   },
   {
    "duration": 5,
    "start_time": "2021-11-29T19:03:53.201Z"
   },
   {
    "duration": -1169,
    "start_time": "2021-11-29T19:04:05.439Z"
   },
   {
    "duration": -1177,
    "start_time": "2021-11-29T19:04:05.449Z"
   },
   {
    "duration": -1174,
    "start_time": "2021-11-29T19:04:12.691Z"
   },
   {
    "duration": 4,
    "start_time": "2021-11-29T19:04:18.950Z"
   },
   {
    "duration": 46,
    "start_time": "2021-11-29T19:04:21.637Z"
   },
   {
    "duration": 7,
    "start_time": "2021-11-29T19:04:49.280Z"
   },
   {
    "duration": 594,
    "start_time": "2021-11-29T19:04:50.379Z"
   },
   {
    "duration": 5,
    "start_time": "2021-11-29T19:05:05.017Z"
   },
   {
    "duration": 46,
    "start_time": "2021-11-29T19:05:09.206Z"
   },
   {
    "duration": 5,
    "start_time": "2021-11-29T19:05:37.383Z"
   },
   {
    "duration": 49,
    "start_time": "2021-11-29T19:05:38.773Z"
   },
   {
    "duration": 32,
    "start_time": "2021-11-29T19:05:52.636Z"
   },
   {
    "duration": 5,
    "start_time": "2021-11-29T19:06:20.161Z"
   },
   {
    "duration": 38,
    "start_time": "2021-11-29T19:06:21.257Z"
   },
   {
    "duration": 5,
    "start_time": "2021-11-29T19:06:44.208Z"
   },
   {
    "duration": 47,
    "start_time": "2021-11-29T19:06:45.266Z"
   },
   {
    "duration": 53,
    "start_time": "2021-11-29T19:07:06.458Z"
   },
   {
    "duration": 38,
    "start_time": "2021-11-29T19:07:16.231Z"
   },
   {
    "duration": 5,
    "start_time": "2021-11-29T19:08:51.452Z"
   },
   {
    "duration": 572,
    "start_time": "2021-11-29T19:08:52.915Z"
   },
   {
    "duration": 6,
    "start_time": "2021-11-29T19:09:05.272Z"
   },
   {
    "duration": 56,
    "start_time": "2021-11-29T19:09:06.563Z"
   },
   {
    "duration": 5,
    "start_time": "2021-11-29T19:09:25.037Z"
   },
   {
    "duration": 45,
    "start_time": "2021-11-29T19:09:26.348Z"
   },
   {
    "duration": 5,
    "start_time": "2021-11-29T19:11:01.983Z"
   },
   {
    "duration": 561,
    "start_time": "2021-11-29T19:11:03.110Z"
   },
   {
    "duration": 5,
    "start_time": "2021-11-29T19:11:16.414Z"
   },
   {
    "duration": -1173,
    "start_time": "2021-11-29T19:11:25.706Z"
   },
   {
    "duration": 5,
    "start_time": "2021-11-29T19:11:26.972Z"
   },
   {
    "duration": 56,
    "start_time": "2021-11-29T19:11:36.363Z"
   },
   {
    "duration": 38,
    "start_time": "2021-11-29T19:12:49.116Z"
   },
   {
    "duration": 51,
    "start_time": "2021-11-29T19:13:14.806Z"
   },
   {
    "duration": 39,
    "start_time": "2021-11-29T19:13:37.604Z"
   },
   {
    "duration": 53,
    "start_time": "2021-11-29T19:14:10.710Z"
   },
   {
    "duration": 39,
    "start_time": "2021-11-29T19:14:15.166Z"
   },
   {
    "duration": 277,
    "start_time": "2021-11-29T19:18:51.245Z"
   },
   {
    "duration": 13,
    "start_time": "2021-11-29T19:24:56.252Z"
   },
   {
    "duration": 12,
    "start_time": "2021-11-29T19:30:51.434Z"
   },
   {
    "duration": 15,
    "start_time": "2021-11-29T19:30:54.720Z"
   },
   {
    "duration": 14,
    "start_time": "2021-11-29T19:30:55.601Z"
   },
   {
    "duration": 5,
    "start_time": "2021-11-29T19:41:25.455Z"
   },
   {
    "duration": 38,
    "start_time": "2021-11-29T19:42:47.755Z"
   },
   {
    "duration": 5,
    "start_time": "2021-11-29T19:43:45.031Z"
   },
   {
    "duration": 570,
    "start_time": "2021-11-29T19:43:49.992Z"
   },
   {
    "duration": 6,
    "start_time": "2021-11-29T19:44:00.752Z"
   },
   {
    "duration": 37,
    "start_time": "2021-11-29T19:44:03.923Z"
   },
   {
    "duration": 5,
    "start_time": "2021-11-29T19:45:26.299Z"
   },
   {
    "duration": 546,
    "start_time": "2021-11-29T19:45:28.529Z"
   },
   {
    "duration": 6,
    "start_time": "2021-11-29T19:46:02.656Z"
   },
   {
    "duration": 636,
    "start_time": "2021-11-29T19:46:05.373Z"
   },
   {
    "duration": 6,
    "start_time": "2021-11-29T19:47:53.157Z"
   },
   {
    "duration": 560,
    "start_time": "2021-11-29T19:47:55.482Z"
   },
   {
    "duration": 6,
    "start_time": "2021-11-29T19:48:59.764Z"
   },
   {
    "duration": 592,
    "start_time": "2021-11-29T19:49:01.491Z"
   },
   {
    "duration": 6,
    "start_time": "2021-11-29T19:49:08.078Z"
   },
   {
    "duration": 5,
    "start_time": "2021-11-29T19:49:15.729Z"
   },
   {
    "duration": 535,
    "start_time": "2021-11-29T19:49:18.029Z"
   },
   {
    "duration": 12,
    "start_time": "2021-11-29T19:49:25.451Z"
   },
   {
    "duration": 741,
    "start_time": "2021-11-29T19:49:27.611Z"
   },
   {
    "duration": 6,
    "start_time": "2021-11-29T19:50:10.463Z"
   },
   {
    "duration": 572,
    "start_time": "2021-11-29T19:50:12.208Z"
   },
   {
    "duration": 5,
    "start_time": "2021-11-29T19:50:43.923Z"
   },
   {
    "duration": 31,
    "start_time": "2021-11-29T19:50:45.901Z"
   },
   {
    "duration": 7,
    "start_time": "2021-11-29T19:51:37.227Z"
   },
   {
    "duration": 33,
    "start_time": "2021-11-29T19:51:39.822Z"
   },
   {
    "duration": 31,
    "start_time": "2021-11-29T19:52:19.159Z"
   },
   {
    "duration": 25,
    "start_time": "2021-11-29T19:52:40.883Z"
   },
   {
    "duration": 27,
    "start_time": "2021-11-29T19:52:50.268Z"
   },
   {
    "duration": 23,
    "start_time": "2021-11-29T19:52:51.512Z"
   },
   {
    "duration": 33,
    "start_time": "2021-11-29T19:52:53.128Z"
   },
   {
    "duration": 26,
    "start_time": "2021-11-29T19:52:54.030Z"
   },
   {
    "duration": 28,
    "start_time": "2021-11-29T19:53:18.822Z"
   },
   {
    "duration": 15,
    "start_time": "2021-11-29T19:54:05.503Z"
   },
   {
    "duration": 12,
    "start_time": "2021-11-29T19:54:05.898Z"
   },
   {
    "duration": 5,
    "start_time": "2021-11-29T19:54:08.099Z"
   },
   {
    "duration": 29,
    "start_time": "2021-11-29T19:54:10.618Z"
   },
   {
    "duration": 29,
    "start_time": "2021-11-29T19:54:11.658Z"
   },
   {
    "duration": 29,
    "start_time": "2021-11-29T19:55:34.953Z"
   },
   {
    "duration": 30,
    "start_time": "2021-11-29T19:55:48.202Z"
   },
   {
    "duration": 27,
    "start_time": "2021-11-29T19:56:40.916Z"
   },
   {
    "duration": 27,
    "start_time": "2021-11-29T19:56:44.477Z"
   },
   {
    "duration": 25,
    "start_time": "2021-11-29T19:59:35.611Z"
   },
   {
    "duration": 12,
    "start_time": "2021-11-29T19:59:40.703Z"
   },
   {
    "duration": 26,
    "start_time": "2021-11-29T19:59:45.239Z"
   },
   {
    "duration": 56,
    "start_time": "2021-11-29T20:04:05.593Z"
   },
   {
    "duration": 13,
    "start_time": "2021-11-29T20:04:22.559Z"
   },
   {
    "duration": 14,
    "start_time": "2021-11-29T20:04:27.923Z"
   },
   {
    "duration": 15,
    "start_time": "2021-11-29T20:04:35.517Z"
   },
   {
    "duration": 15,
    "start_time": "2021-11-29T20:04:39.697Z"
   },
   {
    "duration": 102,
    "start_time": "2021-11-29T20:04:56.165Z"
   },
   {
    "duration": 56,
    "start_time": "2021-11-29T20:05:14.318Z"
   },
   {
    "duration": 16,
    "start_time": "2021-11-29T20:05:56.547Z"
   },
   {
    "duration": 12,
    "start_time": "2021-11-29T20:05:57.195Z"
   },
   {
    "duration": 5,
    "start_time": "2021-11-29T20:06:01.969Z"
   },
   {
    "duration": 30,
    "start_time": "2021-11-29T20:06:04.117Z"
   },
   {
    "duration": 29,
    "start_time": "2021-11-29T20:06:05.015Z"
   },
   {
    "duration": 38,
    "start_time": "2021-11-29T20:06:35.016Z"
   },
   {
    "duration": 30,
    "start_time": "2021-11-29T20:06:39.791Z"
   },
   {
    "duration": 10,
    "start_time": "2021-11-29T20:11:27.061Z"
   },
   {
    "duration": 29,
    "start_time": "2021-11-29T20:11:30.206Z"
   },
   {
    "duration": 29,
    "start_time": "2021-11-29T20:11:32.897Z"
   },
   {
    "duration": 130,
    "start_time": "2021-11-29T20:11:43.118Z"
   },
   {
    "duration": 3,
    "start_time": "2021-11-29T20:11:48.404Z"
   },
   {
    "duration": 32,
    "start_time": "2021-11-29T20:11:52.676Z"
   },
   {
    "duration": 26,
    "start_time": "2021-11-29T20:12:07.416Z"
   },
   {
    "duration": 12,
    "start_time": "2021-11-29T20:12:48.369Z"
   },
   {
    "duration": 13,
    "start_time": "2021-11-29T20:12:48.835Z"
   },
   {
    "duration": 33,
    "start_time": "2021-11-29T20:12:52.489Z"
   },
   {
    "duration": 25,
    "start_time": "2021-11-29T20:12:57.635Z"
   },
   {
    "duration": 17,
    "start_time": "2021-11-29T20:14:33.416Z"
   },
   {
    "duration": 20,
    "start_time": "2021-11-29T20:14:36.196Z"
   },
   {
    "duration": 6,
    "start_time": "2021-11-29T20:15:47.079Z"
   },
   {
    "duration": 697,
    "start_time": "2021-11-29T20:15:49.663Z"
   },
   {
    "duration": 6,
    "start_time": "2021-11-29T20:16:29.878Z"
   },
   {
    "duration": 41,
    "start_time": "2021-11-29T20:16:31.406Z"
   },
   {
    "duration": 38,
    "start_time": "2021-11-29T20:16:37.388Z"
   },
   {
    "duration": 35,
    "start_time": "2021-11-29T20:16:57.424Z"
   },
   {
    "duration": 35,
    "start_time": "2021-11-29T20:17:02.351Z"
   },
   {
    "duration": 349,
    "start_time": "2021-11-30T16:38:12.161Z"
   },
   {
    "duration": 258,
    "start_time": "2021-11-30T16:38:20.003Z"
   },
   {
    "duration": 243,
    "start_time": "2021-11-30T16:38:45.851Z"
   },
   {
    "duration": 637,
    "start_time": "2021-11-30T16:38:51.338Z"
   },
   {
    "duration": 159,
    "start_time": "2021-11-30T16:38:53.518Z"
   },
   {
    "duration": 18,
    "start_time": "2021-11-30T16:38:55.350Z"
   },
   {
    "duration": 25,
    "start_time": "2021-11-30T16:38:56.212Z"
   },
   {
    "duration": 4,
    "start_time": "2021-11-30T16:38:57.036Z"
   },
   {
    "duration": 24,
    "start_time": "2021-11-30T16:38:57.324Z"
   },
   {
    "duration": 4,
    "start_time": "2021-11-30T16:38:57.578Z"
   },
   {
    "duration": 24,
    "start_time": "2021-11-30T16:38:57.866Z"
   },
   {
    "duration": 32,
    "start_time": "2021-11-30T16:38:58.255Z"
   },
   {
    "duration": 24,
    "start_time": "2021-11-30T16:38:58.544Z"
   },
   {
    "duration": 61,
    "start_time": "2021-11-30T16:38:58.832Z"
   },
   {
    "duration": 74,
    "start_time": "2021-11-30T16:38:59.084Z"
   },
   {
    "duration": 54,
    "start_time": "2021-11-30T16:38:59.370Z"
   },
   {
    "duration": 42,
    "start_time": "2021-11-30T16:38:59.802Z"
   },
   {
    "duration": 14,
    "start_time": "2021-11-30T16:39:00.093Z"
   },
   {
    "duration": 11,
    "start_time": "2021-11-30T16:39:00.378Z"
   },
   {
    "duration": 42,
    "start_time": "2021-11-30T16:39:00.701Z"
   },
   {
    "duration": 37,
    "start_time": "2021-11-30T16:39:01.634Z"
   },
   {
    "duration": 36,
    "start_time": "2021-11-30T16:39:01.957Z"
   },
   {
    "duration": 4,
    "start_time": "2021-11-30T16:39:02.462Z"
   },
   {
    "duration": -2435,
    "start_time": "2021-11-30T16:39:13.214Z"
   },
   {
    "duration": -2446,
    "start_time": "2021-11-30T16:39:13.226Z"
   },
   {
    "duration": -2449,
    "start_time": "2021-11-30T16:39:13.230Z"
   },
   {
    "duration": -2453,
    "start_time": "2021-11-30T16:39:13.234Z"
   },
   {
    "duration": -2456,
    "start_time": "2021-11-30T16:39:13.238Z"
   },
   {
    "duration": -2460,
    "start_time": "2021-11-30T16:39:13.243Z"
   },
   {
    "duration": 9,
    "start_time": "2021-11-30T16:39:20.310Z"
   },
   {
    "duration": 2,
    "start_time": "2021-11-30T16:40:19.651Z"
   },
   {
    "duration": 152,
    "start_time": "2021-11-30T16:40:20.835Z"
   },
   {
    "duration": 12,
    "start_time": "2021-11-30T16:40:21.655Z"
   },
   {
    "duration": 25,
    "start_time": "2021-11-30T16:40:25.044Z"
   },
   {
    "duration": 23,
    "start_time": "2021-11-30T16:40:28.693Z"
   },
   {
    "duration": 3,
    "start_time": "2021-11-30T16:40:34.076Z"
   },
   {
    "duration": 6639,
    "start_time": "2021-11-30T16:40:42.783Z"
   },
   {
    "duration": 6548,
    "start_time": "2021-11-30T16:41:09.301Z"
   },
   {
    "duration": 6565,
    "start_time": "2021-11-30T16:41:36.681Z"
   },
   {
    "duration": 8170,
    "start_time": "2021-11-30T16:42:48.249Z"
   },
   {
    "duration": 4,
    "start_time": "2021-11-30T16:43:05.744Z"
   },
   {
    "duration": 46,
    "start_time": "2021-11-30T16:43:07.801Z"
   },
   {
    "duration": 33,
    "start_time": "2021-11-30T16:43:13.891Z"
   },
   {
    "duration": 40,
    "start_time": "2021-11-30T16:43:15.283Z"
   },
   {
    "duration": 38,
    "start_time": "2021-11-30T16:43:38.743Z"
   },
   {
    "duration": 28,
    "start_time": "2021-11-30T16:43:47.720Z"
   },
   {
    "duration": 42,
    "start_time": "2021-11-30T16:43:53.816Z"
   },
   {
    "duration": 31,
    "start_time": "2021-11-30T16:44:01.036Z"
   },
   {
    "duration": 9,
    "start_time": "2021-11-30T16:44:06.003Z"
   },
   {
    "duration": 13,
    "start_time": "2021-11-30T16:44:10.118Z"
   },
   {
    "duration": 10,
    "start_time": "2021-11-30T16:44:11.205Z"
   },
   {
    "duration": 231,
    "start_time": "2021-11-30T16:44:17.567Z"
   },
   {
    "duration": 260,
    "start_time": "2021-11-30T16:44:24.507Z"
   },
   {
    "duration": 265,
    "start_time": "2021-11-30T16:44:26.123Z"
   },
   {
    "duration": 4,
    "start_time": "2021-11-30T16:44:31.148Z"
   },
   {
    "duration": 29,
    "start_time": "2021-11-30T16:44:32.805Z"
   },
   {
    "duration": 19,
    "start_time": "2021-11-30T16:44:37.521Z"
   },
   {
    "duration": 25,
    "start_time": "2021-11-30T16:44:45.306Z"
   },
   {
    "duration": 18,
    "start_time": "2021-11-30T16:44:46.304Z"
   },
   {
    "duration": 4,
    "start_time": "2021-11-30T16:47:48.512Z"
   },
   {
    "duration": 22,
    "start_time": "2021-11-30T16:47:50.914Z"
   },
   {
    "duration": 14,
    "start_time": "2021-11-30T16:47:57.157Z"
   },
   {
    "duration": 19,
    "start_time": "2021-11-30T16:48:03.142Z"
   },
   {
    "duration": 14,
    "start_time": "2021-11-30T16:48:06.370Z"
   },
   {
    "duration": 5,
    "start_time": "2021-11-30T16:53:25.236Z"
   },
   {
    "duration": 28,
    "start_time": "2021-11-30T16:53:28.624Z"
   },
   {
    "duration": 18,
    "start_time": "2021-11-30T16:53:44.971Z"
   },
   {
    "duration": 22,
    "start_time": "2021-11-30T16:53:49.687Z"
   },
   {
    "duration": 18,
    "start_time": "2021-11-30T16:53:54.643Z"
   },
   {
    "duration": 4,
    "start_time": "2021-11-30T16:55:43.963Z"
   },
   {
    "duration": 474,
    "start_time": "2021-11-30T16:55:45.276Z"
   },
   {
    "duration": 4,
    "start_time": "2021-11-30T16:55:57.720Z"
   },
   {
    "duration": 18,
    "start_time": "2021-11-30T16:55:59.192Z"
   },
   {
    "duration": 13,
    "start_time": "2021-11-30T16:56:03.936Z"
   },
   {
    "duration": 19,
    "start_time": "2021-11-30T16:56:06.034Z"
   },
   {
    "duration": 15,
    "start_time": "2021-11-30T16:56:07.374Z"
   },
   {
    "duration": 33,
    "start_time": "2021-11-30T16:58:35.834Z"
   },
   {
    "duration": 36,
    "start_time": "2021-11-30T17:00:00.060Z"
   },
   {
    "duration": 307,
    "start_time": "2021-11-30T17:00:15.015Z"
   },
   {
    "duration": 36,
    "start_time": "2021-11-30T17:00:43.032Z"
   },
   {
    "duration": 252,
    "start_time": "2021-11-30T17:01:45.855Z"
   },
   {
    "duration": 13,
    "start_time": "2021-11-30T17:01:52.805Z"
   },
   {
    "duration": 9,
    "start_time": "2021-11-30T17:03:08.087Z"
   },
   {
    "duration": 9,
    "start_time": "2021-11-30T17:03:55.266Z"
   },
   {
    "duration": 5,
    "start_time": "2021-11-30T17:04:00.954Z"
   },
   {
    "duration": 5,
    "start_time": "2021-11-30T17:04:11.556Z"
   },
   {
    "duration": 7,
    "start_time": "2021-11-30T17:04:26.720Z"
   },
   {
    "duration": 4,
    "start_time": "2021-11-30T17:04:32.181Z"
   },
   {
    "duration": 618,
    "start_time": "2021-11-30T21:21:35.562Z"
   },
   {
    "duration": 144,
    "start_time": "2021-11-30T21:21:36.182Z"
   },
   {
    "duration": 16,
    "start_time": "2021-11-30T21:21:36.329Z"
   },
   {
    "duration": 54,
    "start_time": "2021-11-30T21:21:36.347Z"
   },
   {
    "duration": 60,
    "start_time": "2021-11-30T21:21:36.403Z"
   },
   {
    "duration": 46,
    "start_time": "2021-11-30T21:21:36.465Z"
   },
   {
    "duration": 24,
    "start_time": "2021-11-30T21:21:36.513Z"
   },
   {
    "duration": 33,
    "start_time": "2021-11-30T21:21:36.541Z"
   },
   {
    "duration": 34,
    "start_time": "2021-11-30T21:21:36.577Z"
   },
   {
    "duration": 26,
    "start_time": "2021-11-30T21:21:36.612Z"
   },
   {
    "duration": 92,
    "start_time": "2021-11-30T21:21:36.640Z"
   },
   {
    "duration": 88,
    "start_time": "2021-11-30T21:21:36.735Z"
   },
   {
    "duration": 57,
    "start_time": "2021-11-30T21:21:36.825Z"
   },
   {
    "duration": 40,
    "start_time": "2021-11-30T21:21:36.884Z"
   },
   {
    "duration": 27,
    "start_time": "2021-11-30T21:21:36.926Z"
   },
   {
    "duration": 15,
    "start_time": "2021-11-30T21:21:36.955Z"
   },
   {
    "duration": 48,
    "start_time": "2021-11-30T21:21:36.972Z"
   },
   {
    "duration": 42,
    "start_time": "2021-11-30T21:21:37.022Z"
   },
   {
    "duration": 32,
    "start_time": "2021-11-30T21:21:37.066Z"
   },
   {
    "duration": 3,
    "start_time": "2021-11-30T21:21:37.099Z"
   },
   {
    "duration": 73,
    "start_time": "2021-11-30T21:21:37.104Z"
   },
   {
    "duration": 25,
    "start_time": "2021-11-30T21:21:37.179Z"
   },
   {
    "duration": 33,
    "start_time": "2021-11-30T21:21:37.205Z"
   },
   {
    "duration": 49,
    "start_time": "2021-11-30T21:21:37.239Z"
   },
   {
    "duration": 43,
    "start_time": "2021-11-30T21:21:37.290Z"
   },
   {
    "duration": 48,
    "start_time": "2021-11-30T21:21:37.337Z"
   },
   {
    "duration": 8,
    "start_time": "2021-11-30T21:21:37.388Z"
   },
   {
    "duration": 27,
    "start_time": "2021-11-30T21:21:37.399Z"
   },
   {
    "duration": 14,
    "start_time": "2021-11-30T21:21:37.428Z"
   },
   {
    "duration": 12,
    "start_time": "2021-11-30T21:21:37.444Z"
   },
   {
    "duration": 26,
    "start_time": "2021-11-30T21:21:37.458Z"
   },
   {
    "duration": 12,
    "start_time": "2021-11-30T21:21:37.485Z"
   },
   {
    "duration": 17,
    "start_time": "2021-11-30T21:21:37.498Z"
   },
   {
    "duration": 11,
    "start_time": "2021-11-30T21:21:37.517Z"
   },
   {
    "duration": 38,
    "start_time": "2021-11-30T21:21:37.530Z"
   },
   {
    "duration": 9,
    "start_time": "2021-11-30T21:21:37.570Z"
   },
   {
    "duration": 15,
    "start_time": "2021-11-30T21:21:37.581Z"
   },
   {
    "duration": 18,
    "start_time": "2021-11-30T21:21:37.598Z"
   },
   {
    "duration": 584,
    "start_time": "2021-11-30T21:24:36.102Z"
   },
   {
    "duration": 139,
    "start_time": "2021-11-30T21:24:36.688Z"
   },
   {
    "duration": 16,
    "start_time": "2021-11-30T21:24:36.829Z"
   },
   {
    "duration": 30,
    "start_time": "2021-11-30T21:24:36.847Z"
   },
   {
    "duration": 4,
    "start_time": "2021-11-30T21:24:36.879Z"
   },
   {
    "duration": 27,
    "start_time": "2021-11-30T21:24:36.885Z"
   },
   {
    "duration": 5,
    "start_time": "2021-11-30T21:24:36.914Z"
   },
   {
    "duration": 46,
    "start_time": "2021-11-30T21:24:36.921Z"
   },
   {
    "duration": 55,
    "start_time": "2021-11-30T21:24:36.971Z"
   },
   {
    "duration": 54,
    "start_time": "2021-11-30T21:24:37.029Z"
   },
   {
    "duration": 61,
    "start_time": "2021-11-30T21:24:37.085Z"
   },
   {
    "duration": 78,
    "start_time": "2021-11-30T21:24:37.148Z"
   },
   {
    "duration": 92,
    "start_time": "2021-11-30T21:24:37.228Z"
   },
   {
    "duration": 47,
    "start_time": "2021-11-30T21:24:37.323Z"
   },
   {
    "duration": 26,
    "start_time": "2021-11-30T21:24:37.372Z"
   },
   {
    "duration": 16,
    "start_time": "2021-11-30T21:24:37.400Z"
   },
   {
    "duration": 76,
    "start_time": "2021-11-30T21:24:37.418Z"
   },
   {
    "duration": 68,
    "start_time": "2021-11-30T21:24:37.496Z"
   },
   {
    "duration": 54,
    "start_time": "2021-11-30T21:24:37.566Z"
   },
   {
    "duration": 4,
    "start_time": "2021-11-30T21:24:37.623Z"
   },
   {
    "duration": 58,
    "start_time": "2021-11-30T21:24:37.629Z"
   },
   {
    "duration": 24,
    "start_time": "2021-11-30T21:24:37.689Z"
   },
   {
    "duration": 50,
    "start_time": "2021-11-30T21:24:37.714Z"
   },
   {
    "duration": 27,
    "start_time": "2021-11-30T21:24:37.766Z"
   },
   {
    "duration": 41,
    "start_time": "2021-11-30T21:24:37.795Z"
   },
   {
    "duration": 50,
    "start_time": "2021-11-30T21:24:37.838Z"
   },
   {
    "duration": 8,
    "start_time": "2021-11-30T21:24:37.893Z"
   },
   {
    "duration": 28,
    "start_time": "2021-11-30T21:24:37.903Z"
   },
   {
    "duration": 17,
    "start_time": "2021-11-30T21:24:37.933Z"
   },
   {
    "duration": 9,
    "start_time": "2021-11-30T21:24:37.952Z"
   },
   {
    "duration": 27,
    "start_time": "2021-11-30T21:24:37.963Z"
   },
   {
    "duration": 11,
    "start_time": "2021-11-30T21:24:37.992Z"
   },
   {
    "duration": 25,
    "start_time": "2021-11-30T21:24:38.005Z"
   },
   {
    "duration": 27,
    "start_time": "2021-11-30T21:24:38.032Z"
   },
   {
    "duration": 19,
    "start_time": "2021-11-30T21:24:38.061Z"
   },
   {
    "duration": 18,
    "start_time": "2021-11-30T21:24:38.082Z"
   },
   {
    "duration": 13,
    "start_time": "2021-11-30T21:24:38.102Z"
   },
   {
    "duration": 19,
    "start_time": "2021-11-30T21:24:38.117Z"
   },
   {
    "duration": 344,
    "start_time": "2021-12-01T06:11:46.260Z"
   },
   {
    "duration": 294,
    "start_time": "2021-12-01T06:13:13.236Z"
   },
   {
    "duration": 717,
    "start_time": "2021-12-01T06:13:40.055Z"
   },
   {
    "duration": 179,
    "start_time": "2021-12-01T06:13:42.173Z"
   },
   {
    "duration": 25,
    "start_time": "2021-12-01T06:13:43.899Z"
   },
   {
    "duration": 15,
    "start_time": "2021-12-01T06:13:53.459Z"
   },
   {
    "duration": 32,
    "start_time": "2021-12-01T06:14:00.805Z"
   },
   {
    "duration": 6,
    "start_time": "2021-12-01T06:14:17.721Z"
   },
   {
    "duration": 28,
    "start_time": "2021-12-01T06:14:22.549Z"
   },
   {
    "duration": 5,
    "start_time": "2021-12-01T06:14:23.305Z"
   },
   {
    "duration": 30,
    "start_time": "2021-12-01T06:14:24.487Z"
   },
   {
    "duration": 45,
    "start_time": "2021-12-01T06:26:35.816Z"
   },
   {
    "duration": 473,
    "start_time": "2021-12-01T06:27:29.606Z"
   },
   {
    "duration": 10124,
    "start_time": "2021-12-01T06:28:05.999Z"
   },
   {
    "duration": -2534,
    "start_time": "2021-12-01T06:28:18.660Z"
   },
   {
    "duration": 33,
    "start_time": "2021-12-01T06:30:53.445Z"
   },
   {
    "duration": 9874,
    "start_time": "2021-12-01T06:31:07.373Z"
   },
   {
    "duration": 361,
    "start_time": "2021-12-01T06:32:32.885Z"
   },
   {
    "duration": 411,
    "start_time": "2021-12-01T06:32:55.591Z"
   },
   {
    "duration": 46,
    "start_time": "2021-12-01T06:34:00.268Z"
   },
   {
    "duration": 32,
    "start_time": "2021-12-01T06:34:03.905Z"
   },
   {
    "duration": 29,
    "start_time": "2021-12-01T06:35:14.284Z"
   },
   {
    "duration": 376,
    "start_time": "2021-12-01T06:36:58.546Z"
   },
   {
    "duration": 27,
    "start_time": "2021-12-01T06:37:04.794Z"
   },
   {
    "duration": 30,
    "start_time": "2021-12-01T06:37:09.757Z"
   },
   {
    "duration": 107,
    "start_time": "2021-12-01T06:40:25.605Z"
   },
   {
    "duration": 3,
    "start_time": "2021-12-01T06:41:56.289Z"
   },
   {
    "duration": 8240,
    "start_time": "2021-12-01T06:46:26.202Z"
   },
   {
    "duration": 1962,
    "start_time": "2021-12-01T06:48:07.372Z"
   },
   {
    "duration": 90,
    "start_time": "2021-12-01T06:48:21.797Z"
   },
   {
    "duration": 110,
    "start_time": "2021-12-01T06:48:33.134Z"
   },
   {
    "duration": 108,
    "start_time": "2021-12-01T06:48:39.455Z"
   },
   {
    "duration": 29,
    "start_time": "2021-12-01T06:48:49.458Z"
   },
   {
    "duration": 105,
    "start_time": "2021-12-01T06:49:56.635Z"
   },
   {
    "duration": 27,
    "start_time": "2021-12-01T06:50:03.389Z"
   },
   {
    "duration": 33,
    "start_time": "2021-12-01T06:50:18.435Z"
   },
   {
    "duration": 25,
    "start_time": "2021-12-01T06:51:35.819Z"
   },
   {
    "duration": 26,
    "start_time": "2021-12-01T06:53:10.659Z"
   },
   {
    "duration": 368,
    "start_time": "2021-12-01T06:55:13.314Z"
   },
   {
    "duration": 16,
    "start_time": "2021-12-01T06:55:19.088Z"
   },
   {
    "duration": 8,
    "start_time": "2021-12-01T06:55:20.657Z"
   },
   {
    "duration": 62,
    "start_time": "2021-12-01T06:55:27.908Z"
   },
   {
    "duration": 63,
    "start_time": "2021-12-01T06:56:54.998Z"
   },
   {
    "duration": 50,
    "start_time": "2021-12-01T06:57:03.002Z"
   },
   {
    "duration": 46,
    "start_time": "2021-12-01T06:57:06.944Z"
   },
   {
    "duration": 16,
    "start_time": "2021-12-01T06:58:20.307Z"
   },
   {
    "duration": 15,
    "start_time": "2021-12-01T06:58:36.200Z"
   },
   {
    "duration": 15,
    "start_time": "2021-12-01T07:01:14.558Z"
   },
   {
    "duration": 4,
    "start_time": "2021-12-01T07:06:22.115Z"
   },
   {
    "duration": 26,
    "start_time": "2021-12-01T07:06:26.576Z"
   },
   {
    "duration": 29,
    "start_time": "2021-12-01T07:06:39.852Z"
   },
   {
    "duration": 22,
    "start_time": "2021-12-01T07:06:44.069Z"
   },
   {
    "duration": 23,
    "start_time": "2021-12-01T07:06:44.894Z"
   },
   {
    "duration": 27,
    "start_time": "2021-12-01T07:06:45.686Z"
   },
   {
    "duration": 23,
    "start_time": "2021-12-01T07:06:46.476Z"
   },
   {
    "duration": 13,
    "start_time": "2021-12-01T07:08:20.783Z"
   },
   {
    "duration": 12,
    "start_time": "2021-12-01T07:08:28.508Z"
   },
   {
    "duration": 5,
    "start_time": "2021-12-01T07:09:09.371Z"
   },
   {
    "duration": 551,
    "start_time": "2021-12-01T18:37:12.696Z"
   },
   {
    "duration": 142,
    "start_time": "2021-12-01T18:37:13.249Z"
   },
   {
    "duration": 17,
    "start_time": "2021-12-01T18:37:13.393Z"
   },
   {
    "duration": 33,
    "start_time": "2021-12-01T18:37:13.412Z"
   },
   {
    "duration": 4,
    "start_time": "2021-12-01T18:37:13.447Z"
   },
   {
    "duration": 21,
    "start_time": "2021-12-01T18:37:13.452Z"
   },
   {
    "duration": 5,
    "start_time": "2021-12-01T18:37:13.475Z"
   },
   {
    "duration": 23,
    "start_time": "2021-12-01T18:37:13.482Z"
   },
   {
    "duration": 46,
    "start_time": "2021-12-01T18:37:13.508Z"
   },
   {
    "duration": 22,
    "start_time": "2021-12-01T18:37:13.556Z"
   },
   {
    "duration": 77,
    "start_time": "2021-12-01T18:37:13.581Z"
   },
   {
    "duration": 69,
    "start_time": "2021-12-01T18:37:13.660Z"
   },
   {
    "duration": 53,
    "start_time": "2021-12-01T18:37:13.745Z"
   },
   {
    "duration": 77,
    "start_time": "2021-12-01T18:37:13.801Z"
   },
   {
    "duration": 14,
    "start_time": "2021-12-01T18:37:13.880Z"
   },
   {
    "duration": 6,
    "start_time": "2021-12-01T18:37:13.896Z"
   },
   {
    "duration": 57,
    "start_time": "2021-12-01T18:37:13.904Z"
   },
   {
    "duration": 11,
    "start_time": "2021-12-01T18:37:13.962Z"
   },
   {
    "duration": 11,
    "start_time": "2021-12-01T18:37:13.975Z"
   },
   {
    "duration": 3,
    "start_time": "2021-12-01T18:37:13.988Z"
   },
   {
    "duration": 23,
    "start_time": "2021-12-01T18:37:13.993Z"
   },
   {
    "duration": 41,
    "start_time": "2021-12-01T18:37:14.017Z"
   },
   {
    "duration": 15,
    "start_time": "2021-12-01T18:37:14.059Z"
   },
   {
    "duration": 14,
    "start_time": "2021-12-01T18:37:14.076Z"
   },
   {
    "duration": 17,
    "start_time": "2021-12-01T18:37:14.091Z"
   },
   {
    "duration": 46,
    "start_time": "2021-12-01T18:37:14.109Z"
   },
   {
    "duration": 8,
    "start_time": "2021-12-01T18:37:14.158Z"
   },
   {
    "duration": 11,
    "start_time": "2021-12-01T18:37:14.168Z"
   },
   {
    "duration": 8,
    "start_time": "2021-12-01T18:37:14.181Z"
   },
   {
    "duration": 10,
    "start_time": "2021-12-01T18:37:14.190Z"
   },
   {
    "duration": 30,
    "start_time": "2021-12-01T18:37:14.202Z"
   },
   {
    "duration": 20,
    "start_time": "2021-12-01T18:37:14.233Z"
   },
   {
    "duration": 22,
    "start_time": "2021-12-01T18:37:14.255Z"
   },
   {
    "duration": 16,
    "start_time": "2021-12-01T18:37:14.280Z"
   },
   {
    "duration": 10,
    "start_time": "2021-12-01T18:37:14.298Z"
   },
   {
    "duration": 19,
    "start_time": "2021-12-01T18:37:14.309Z"
   },
   {
    "duration": 19,
    "start_time": "2021-12-01T18:37:14.329Z"
   },
   {
    "duration": 18,
    "start_time": "2021-12-01T18:37:14.349Z"
   },
   {
    "duration": 9,
    "start_time": "2021-12-01T18:39:09.894Z"
   },
   {
    "duration": 548,
    "start_time": "2021-12-01T18:39:58.994Z"
   },
   {
    "duration": 137,
    "start_time": "2021-12-01T18:39:59.543Z"
   },
   {
    "duration": 17,
    "start_time": "2021-12-01T18:39:59.682Z"
   },
   {
    "duration": 28,
    "start_time": "2021-12-01T18:39:59.701Z"
   },
   {
    "duration": 10,
    "start_time": "2021-12-01T18:39:59.731Z"
   },
   {
    "duration": 25,
    "start_time": "2021-12-01T18:39:59.745Z"
   },
   {
    "duration": 18,
    "start_time": "2021-12-01T18:39:59.772Z"
   },
   {
    "duration": 30,
    "start_time": "2021-12-01T18:39:59.793Z"
   },
   {
    "duration": 375,
    "start_time": "2021-12-01T18:39:59.825Z"
   },
   {
    "duration": -2048,
    "start_time": "2021-12-01T18:40:02.250Z"
   },
   {
    "duration": -2051,
    "start_time": "2021-12-01T18:40:02.254Z"
   },
   {
    "duration": -2052,
    "start_time": "2021-12-01T18:40:02.256Z"
   },
   {
    "duration": -2053,
    "start_time": "2021-12-01T18:40:02.258Z"
   },
   {
    "duration": -2053,
    "start_time": "2021-12-01T18:40:02.259Z"
   },
   {
    "duration": -2055,
    "start_time": "2021-12-01T18:40:02.262Z"
   },
   {
    "duration": -2058,
    "start_time": "2021-12-01T18:40:02.266Z"
   },
   {
    "duration": -2058,
    "start_time": "2021-12-01T18:40:02.267Z"
   },
   {
    "duration": -2059,
    "start_time": "2021-12-01T18:40:02.269Z"
   },
   {
    "duration": -2060,
    "start_time": "2021-12-01T18:40:02.271Z"
   },
   {
    "duration": -2060,
    "start_time": "2021-12-01T18:40:02.272Z"
   },
   {
    "duration": -2061,
    "start_time": "2021-12-01T18:40:02.274Z"
   },
   {
    "duration": -2061,
    "start_time": "2021-12-01T18:40:02.275Z"
   },
   {
    "duration": -2061,
    "start_time": "2021-12-01T18:40:02.276Z"
   },
   {
    "duration": -2062,
    "start_time": "2021-12-01T18:40:02.278Z"
   },
   {
    "duration": -2064,
    "start_time": "2021-12-01T18:40:02.281Z"
   },
   {
    "duration": -2066,
    "start_time": "2021-12-01T18:40:02.284Z"
   },
   {
    "duration": -2066,
    "start_time": "2021-12-01T18:40:02.285Z"
   },
   {
    "duration": -2067,
    "start_time": "2021-12-01T18:40:02.287Z"
   },
   {
    "duration": -2067,
    "start_time": "2021-12-01T18:40:02.288Z"
   },
   {
    "duration": -2067,
    "start_time": "2021-12-01T18:40:02.290Z"
   },
   {
    "duration": -2068,
    "start_time": "2021-12-01T18:40:02.292Z"
   },
   {
    "duration": -2069,
    "start_time": "2021-12-01T18:40:02.293Z"
   },
   {
    "duration": -2069,
    "start_time": "2021-12-01T18:40:02.295Z"
   },
   {
    "duration": -2072,
    "start_time": "2021-12-01T18:40:02.299Z"
   },
   {
    "duration": -2073,
    "start_time": "2021-12-01T18:40:02.300Z"
   },
   {
    "duration": -2073,
    "start_time": "2021-12-01T18:40:02.302Z"
   },
   {
    "duration": -2073,
    "start_time": "2021-12-01T18:40:02.303Z"
   },
   {
    "duration": -2074,
    "start_time": "2021-12-01T18:40:02.305Z"
   },
   {
    "duration": 643,
    "start_time": "2021-12-01T18:42:10.620Z"
   },
   {
    "duration": 142,
    "start_time": "2021-12-01T18:42:11.265Z"
   },
   {
    "duration": 18,
    "start_time": "2021-12-01T18:42:11.409Z"
   },
   {
    "duration": 34,
    "start_time": "2021-12-01T18:42:11.429Z"
   },
   {
    "duration": 14,
    "start_time": "2021-12-01T18:42:11.466Z"
   },
   {
    "duration": 22,
    "start_time": "2021-12-01T18:42:11.482Z"
   },
   {
    "duration": 11,
    "start_time": "2021-12-01T18:42:11.506Z"
   },
   {
    "duration": 36,
    "start_time": "2021-12-01T18:42:11.520Z"
   },
   {
    "duration": 47,
    "start_time": "2021-12-01T18:42:11.558Z"
   },
   {
    "duration": 25,
    "start_time": "2021-12-01T18:42:11.606Z"
   },
   {
    "duration": 76,
    "start_time": "2021-12-01T18:42:11.633Z"
   },
   {
    "duration": 78,
    "start_time": "2021-12-01T18:42:11.711Z"
   },
   {
    "duration": 65,
    "start_time": "2021-12-01T18:42:11.791Z"
   },
   {
    "duration": 44,
    "start_time": "2021-12-01T18:42:11.858Z"
   },
   {
    "duration": 25,
    "start_time": "2021-12-01T18:42:11.903Z"
   },
   {
    "duration": 4,
    "start_time": "2021-12-01T18:42:11.930Z"
   },
   {
    "duration": 72,
    "start_time": "2021-12-01T18:42:11.936Z"
   },
   {
    "duration": 20,
    "start_time": "2021-12-01T18:42:12.009Z"
   },
   {
    "duration": 15,
    "start_time": "2021-12-01T18:42:12.031Z"
   },
   {
    "duration": 4,
    "start_time": "2021-12-01T18:42:12.047Z"
   },
   {
    "duration": 24,
    "start_time": "2021-12-01T18:42:12.053Z"
   },
   {
    "duration": 17,
    "start_time": "2021-12-01T18:42:12.079Z"
   },
   {
    "duration": 16,
    "start_time": "2021-12-01T18:42:12.099Z"
   },
   {
    "duration": 38,
    "start_time": "2021-12-01T18:42:12.117Z"
   },
   {
    "duration": 22,
    "start_time": "2021-12-01T18:42:12.157Z"
   },
   {
    "duration": 16,
    "start_time": "2021-12-01T18:42:12.181Z"
   },
   {
    "duration": 15,
    "start_time": "2021-12-01T18:42:12.199Z"
   },
   {
    "duration": 29,
    "start_time": "2021-12-01T18:42:12.216Z"
   },
   {
    "duration": 10,
    "start_time": "2021-12-01T18:42:12.247Z"
   },
   {
    "duration": 7,
    "start_time": "2021-12-01T18:42:12.258Z"
   },
   {
    "duration": 25,
    "start_time": "2021-12-01T18:42:12.267Z"
   },
   {
    "duration": 12,
    "start_time": "2021-12-01T18:42:12.294Z"
   },
   {
    "duration": 41,
    "start_time": "2021-12-01T18:42:12.307Z"
   },
   {
    "duration": 13,
    "start_time": "2021-12-01T18:42:12.350Z"
   },
   {
    "duration": 13,
    "start_time": "2021-12-01T18:42:12.365Z"
   },
   {
    "duration": 14,
    "start_time": "2021-12-01T18:42:12.379Z"
   },
   {
    "duration": 25,
    "start_time": "2021-12-01T18:42:12.394Z"
   },
   {
    "duration": 18,
    "start_time": "2021-12-01T18:42:12.421Z"
   },
   {
    "duration": 578,
    "start_time": "2021-12-01T18:43:10.459Z"
   },
   {
    "duration": 135,
    "start_time": "2021-12-01T18:43:11.039Z"
   },
   {
    "duration": 17,
    "start_time": "2021-12-01T18:43:11.176Z"
   },
   {
    "duration": 24,
    "start_time": "2021-12-01T18:43:11.195Z"
   },
   {
    "duration": 7,
    "start_time": "2021-12-01T18:43:11.221Z"
   },
   {
    "duration": 29,
    "start_time": "2021-12-01T18:43:11.229Z"
   },
   {
    "duration": 8,
    "start_time": "2021-12-01T18:43:11.260Z"
   },
   {
    "duration": 27,
    "start_time": "2021-12-01T18:43:11.270Z"
   },
   {
    "duration": 20,
    "start_time": "2021-12-01T18:43:11.299Z"
   },
   {
    "duration": 34,
    "start_time": "2021-12-01T18:43:11.322Z"
   },
   {
    "duration": 60,
    "start_time": "2021-12-01T18:43:11.357Z"
   },
   {
    "duration": 68,
    "start_time": "2021-12-01T18:43:11.418Z"
   },
   {
    "duration": 47,
    "start_time": "2021-12-01T18:43:11.488Z"
   },
   {
    "duration": 37,
    "start_time": "2021-12-01T18:43:11.545Z"
   },
   {
    "duration": 11,
    "start_time": "2021-12-01T18:43:11.584Z"
   },
   {
    "duration": 7,
    "start_time": "2021-12-01T18:43:11.597Z"
   },
   {
    "duration": 64,
    "start_time": "2021-12-01T18:43:11.606Z"
   },
   {
    "duration": 11,
    "start_time": "2021-12-01T18:43:11.671Z"
   },
   {
    "duration": 10,
    "start_time": "2021-12-01T18:43:11.683Z"
   },
   {
    "duration": 7,
    "start_time": "2021-12-01T18:43:11.694Z"
   },
   {
    "duration": 27,
    "start_time": "2021-12-01T18:43:11.703Z"
   },
   {
    "duration": 24,
    "start_time": "2021-12-01T18:43:11.732Z"
   },
   {
    "duration": 16,
    "start_time": "2021-12-01T18:43:11.758Z"
   },
   {
    "duration": 17,
    "start_time": "2021-12-01T18:43:11.775Z"
   },
   {
    "duration": 18,
    "start_time": "2021-12-01T18:43:11.793Z"
   },
   {
    "duration": 45,
    "start_time": "2021-12-01T18:43:11.812Z"
   },
   {
    "duration": 7,
    "start_time": "2021-12-01T18:43:11.860Z"
   },
   {
    "duration": 11,
    "start_time": "2021-12-01T18:43:11.869Z"
   },
   {
    "duration": 8,
    "start_time": "2021-12-01T18:43:11.882Z"
   },
   {
    "duration": 7,
    "start_time": "2021-12-01T18:43:11.891Z"
   },
   {
    "duration": 46,
    "start_time": "2021-12-01T18:43:11.900Z"
   },
   {
    "duration": 14,
    "start_time": "2021-12-01T18:43:11.947Z"
   },
   {
    "duration": 15,
    "start_time": "2021-12-01T18:43:11.963Z"
   },
   {
    "duration": 11,
    "start_time": "2021-12-01T18:43:11.980Z"
   },
   {
    "duration": 8,
    "start_time": "2021-12-01T18:43:11.992Z"
   },
   {
    "duration": 8,
    "start_time": "2021-12-01T18:43:12.001Z"
   },
   {
    "duration": 39,
    "start_time": "2021-12-01T18:43:12.011Z"
   },
   {
    "duration": 8,
    "start_time": "2021-12-01T18:43:12.051Z"
   },
   {
    "duration": 581,
    "start_time": "2021-12-01T18:43:27.568Z"
   },
   {
    "duration": 141,
    "start_time": "2021-12-01T18:43:28.151Z"
   },
   {
    "duration": 18,
    "start_time": "2021-12-01T18:43:28.294Z"
   },
   {
    "duration": 34,
    "start_time": "2021-12-01T18:43:28.315Z"
   },
   {
    "duration": 13,
    "start_time": "2021-12-01T18:43:28.351Z"
   },
   {
    "duration": 28,
    "start_time": "2021-12-01T18:43:28.366Z"
   },
   {
    "duration": 22,
    "start_time": "2021-12-01T18:43:28.396Z"
   },
   {
    "duration": 40,
    "start_time": "2021-12-01T18:43:28.421Z"
   },
   {
    "duration": 28,
    "start_time": "2021-12-01T18:43:28.464Z"
   },
   {
    "duration": 24,
    "start_time": "2021-12-01T18:43:28.494Z"
   },
   {
    "duration": 67,
    "start_time": "2021-12-01T18:43:28.520Z"
   },
   {
    "duration": 82,
    "start_time": "2021-12-01T18:43:28.589Z"
   },
   {
    "duration": 59,
    "start_time": "2021-12-01T18:43:28.673Z"
   },
   {
    "duration": 42,
    "start_time": "2021-12-01T18:43:28.745Z"
   },
   {
    "duration": 11,
    "start_time": "2021-12-01T18:43:28.789Z"
   },
   {
    "duration": 8,
    "start_time": "2021-12-01T18:43:28.802Z"
   },
   {
    "duration": 64,
    "start_time": "2021-12-01T18:43:28.812Z"
   },
   {
    "duration": 12,
    "start_time": "2021-12-01T18:43:28.878Z"
   },
   {
    "duration": 12,
    "start_time": "2021-12-01T18:43:28.892Z"
   },
   {
    "duration": 4,
    "start_time": "2021-12-01T18:43:28.906Z"
   },
   {
    "duration": 45,
    "start_time": "2021-12-01T18:43:28.912Z"
   },
   {
    "duration": 16,
    "start_time": "2021-12-01T18:43:28.959Z"
   },
   {
    "duration": 17,
    "start_time": "2021-12-01T18:43:28.979Z"
   },
   {
    "duration": 16,
    "start_time": "2021-12-01T18:43:28.998Z"
   },
   {
    "duration": 19,
    "start_time": "2021-12-01T18:43:29.044Z"
   },
   {
    "duration": 17,
    "start_time": "2021-12-01T18:43:29.065Z"
   },
   {
    "duration": 8,
    "start_time": "2021-12-01T18:43:29.084Z"
   },
   {
    "duration": 14,
    "start_time": "2021-12-01T18:43:29.094Z"
   },
   {
    "duration": 37,
    "start_time": "2021-12-01T18:43:29.110Z"
   },
   {
    "duration": 6,
    "start_time": "2021-12-01T18:43:29.148Z"
   },
   {
    "duration": 29,
    "start_time": "2021-12-01T18:43:29.155Z"
   },
   {
    "duration": 14,
    "start_time": "2021-12-01T18:43:29.185Z"
   },
   {
    "duration": 16,
    "start_time": "2021-12-01T18:43:29.201Z"
   },
   {
    "duration": 36,
    "start_time": "2021-12-01T18:43:29.218Z"
   },
   {
    "duration": 6,
    "start_time": "2021-12-01T18:43:29.256Z"
   },
   {
    "duration": 8,
    "start_time": "2021-12-01T18:43:29.264Z"
   },
   {
    "duration": 28,
    "start_time": "2021-12-01T18:43:29.273Z"
   },
   {
    "duration": 31,
    "start_time": "2021-12-01T18:43:29.303Z"
   },
   {
    "duration": 636,
    "start_time": "2021-12-01T18:48:03.921Z"
   },
   {
    "duration": 143,
    "start_time": "2021-12-01T18:48:04.559Z"
   },
   {
    "duration": 16,
    "start_time": "2021-12-01T18:48:04.704Z"
   },
   {
    "duration": 43,
    "start_time": "2021-12-01T18:48:04.722Z"
   },
   {
    "duration": 6,
    "start_time": "2021-12-01T18:48:04.766Z"
   },
   {
    "duration": 22,
    "start_time": "2021-12-01T18:48:04.774Z"
   },
   {
    "duration": 7,
    "start_time": "2021-12-01T18:48:04.798Z"
   },
   {
    "duration": 42,
    "start_time": "2021-12-01T18:48:04.808Z"
   },
   {
    "duration": 32,
    "start_time": "2021-12-01T18:48:04.852Z"
   },
   {
    "duration": 22,
    "start_time": "2021-12-01T18:48:04.886Z"
   },
   {
    "duration": 89,
    "start_time": "2021-12-01T18:48:04.909Z"
   },
   {
    "duration": 86,
    "start_time": "2021-12-01T18:48:05.000Z"
   },
   {
    "duration": 62,
    "start_time": "2021-12-01T18:48:05.088Z"
   },
   {
    "duration": 40,
    "start_time": "2021-12-01T18:48:05.152Z"
   },
   {
    "duration": 23,
    "start_time": "2021-12-01T18:48:05.194Z"
   },
   {
    "duration": 43,
    "start_time": "2021-12-01T18:48:05.219Z"
   },
   {
    "duration": 67,
    "start_time": "2021-12-01T18:48:05.264Z"
   },
   {
    "duration": 13,
    "start_time": "2021-12-01T18:48:05.333Z"
   },
   {
    "duration": 37,
    "start_time": "2021-12-01T18:48:05.348Z"
   },
   {
    "duration": 38,
    "start_time": "2021-12-01T18:48:05.386Z"
   },
   {
    "duration": 42,
    "start_time": "2021-12-01T18:48:05.426Z"
   },
   {
    "duration": 17,
    "start_time": "2021-12-01T18:48:05.470Z"
   },
   {
    "duration": 47,
    "start_time": "2021-12-01T18:48:05.491Z"
   },
   {
    "duration": 15,
    "start_time": "2021-12-01T18:48:05.540Z"
   },
   {
    "duration": 18,
    "start_time": "2021-12-01T18:48:05.557Z"
   },
   {
    "duration": 20,
    "start_time": "2021-12-01T18:48:05.577Z"
   },
   {
    "duration": 18,
    "start_time": "2021-12-01T18:48:05.598Z"
   },
   {
    "duration": 35,
    "start_time": "2021-12-01T18:48:05.618Z"
   },
   {
    "duration": 16,
    "start_time": "2021-12-01T18:48:05.654Z"
   },
   {
    "duration": 8,
    "start_time": "2021-12-01T18:48:05.672Z"
   },
   {
    "duration": 33,
    "start_time": "2021-12-01T18:48:05.682Z"
   },
   {
    "duration": 19,
    "start_time": "2021-12-01T18:48:05.717Z"
   },
   {
    "duration": 21,
    "start_time": "2021-12-01T18:48:05.738Z"
   },
   {
    "duration": 11,
    "start_time": "2021-12-01T18:48:05.760Z"
   },
   {
    "duration": 12,
    "start_time": "2021-12-01T18:48:05.773Z"
   },
   {
    "duration": 28,
    "start_time": "2021-12-01T18:48:05.787Z"
   },
   {
    "duration": 27,
    "start_time": "2021-12-01T18:48:05.816Z"
   },
   {
    "duration": 36,
    "start_time": "2021-12-01T18:48:05.845Z"
   },
   {
    "duration": 279,
    "start_time": "2021-12-01T19:24:20.456Z"
   },
   {
    "duration": 570,
    "start_time": "2021-12-01T19:24:31.201Z"
   },
   {
    "duration": 116,
    "start_time": "2021-12-01T19:24:32.565Z"
   },
   {
    "duration": 16,
    "start_time": "2021-12-01T19:24:33.428Z"
   },
   {
    "duration": 23,
    "start_time": "2021-12-01T19:24:34.901Z"
   },
   {
    "duration": 4,
    "start_time": "2021-12-01T19:24:36.735Z"
   },
   {
    "duration": 15,
    "start_time": "2021-12-01T19:24:37.923Z"
   },
   {
    "duration": 3,
    "start_time": "2021-12-01T19:24:38.529Z"
   },
   {
    "duration": 22,
    "start_time": "2021-12-01T19:24:39.181Z"
   },
   {
    "duration": 19,
    "start_time": "2021-12-01T19:24:40.113Z"
   },
   {
    "duration": 21,
    "start_time": "2021-12-01T19:24:41.765Z"
   },
   {
    "duration": 54,
    "start_time": "2021-12-01T19:24:42.449Z"
   },
   {
    "duration": 58,
    "start_time": "2021-12-01T19:24:43.131Z"
   },
   {
    "duration": 46,
    "start_time": "2021-12-01T19:24:44.245Z"
   },
   {
    "duration": 36,
    "start_time": "2021-12-01T19:24:45.611Z"
   },
   {
    "duration": 9,
    "start_time": "2021-12-01T19:24:46.652Z"
   },
   {
    "duration": 4,
    "start_time": "2021-12-01T19:24:47.552Z"
   },
   {
    "duration": 37,
    "start_time": "2021-12-01T19:24:51.268Z"
   },
   {
    "duration": 10,
    "start_time": "2021-12-01T19:24:54.558Z"
   },
   {
    "duration": 11,
    "start_time": "2021-12-01T19:24:55.600Z"
   },
   {
    "duration": 3,
    "start_time": "2021-12-01T19:24:58.192Z"
   },
   {
    "duration": 16,
    "start_time": "2021-12-01T19:25:04.224Z"
   },
   {
    "duration": 15,
    "start_time": "2021-12-01T19:25:05.160Z"
   },
   {
    "duration": 15,
    "start_time": "2021-12-01T19:25:08.420Z"
   },
   {
    "duration": 13,
    "start_time": "2021-12-01T19:25:08.856Z"
   },
   {
    "duration": 16,
    "start_time": "2021-12-01T19:25:09.285Z"
   },
   {
    "duration": 14,
    "start_time": "2021-12-01T19:25:09.714Z"
   },
   {
    "duration": 8,
    "start_time": "2021-12-01T19:25:12.942Z"
   },
   {
    "duration": 15,
    "start_time": "2021-12-01T19:26:58.818Z"
   },
   {
    "duration": 25,
    "start_time": "2021-12-01T19:27:03.236Z"
   },
   {
    "duration": 14,
    "start_time": "2021-12-01T19:30:37.597Z"
   },
   {
    "duration": 946,
    "start_time": "2021-12-01T20:50:18.484Z"
   },
   {
    "duration": 184,
    "start_time": "2021-12-01T20:50:19.433Z"
   },
   {
    "duration": 41,
    "start_time": "2021-12-01T20:50:19.620Z"
   },
   {
    "duration": 33,
    "start_time": "2021-12-01T20:50:19.664Z"
   },
   {
    "duration": 6,
    "start_time": "2021-12-01T20:50:19.699Z"
   },
   {
    "duration": 60,
    "start_time": "2021-12-01T20:50:19.708Z"
   },
   {
    "duration": 7,
    "start_time": "2021-12-01T20:50:19.771Z"
   },
   {
    "duration": 31,
    "start_time": "2021-12-01T20:50:19.780Z"
   },
   {
    "duration": 46,
    "start_time": "2021-12-01T20:50:19.815Z"
   },
   {
    "duration": 31,
    "start_time": "2021-12-01T20:50:19.864Z"
   },
   {
    "duration": 102,
    "start_time": "2021-12-01T20:50:19.898Z"
   },
   {
    "duration": 113,
    "start_time": "2021-12-01T20:50:20.003Z"
   },
   {
    "duration": 81,
    "start_time": "2021-12-01T20:50:20.118Z"
   },
   {
    "duration": 66,
    "start_time": "2021-12-01T20:50:20.202Z"
   },
   {
    "duration": 15,
    "start_time": "2021-12-01T20:50:20.271Z"
   },
   {
    "duration": 8,
    "start_time": "2021-12-01T20:50:20.289Z"
   },
   {
    "duration": 86,
    "start_time": "2021-12-01T20:50:20.299Z"
   },
   {
    "duration": 15,
    "start_time": "2021-12-01T20:50:20.387Z"
   },
   {
    "duration": 14,
    "start_time": "2021-12-01T20:50:20.405Z"
   },
   {
    "duration": 6,
    "start_time": "2021-12-01T20:50:20.421Z"
   },
   {
    "duration": 30,
    "start_time": "2021-12-01T20:50:20.460Z"
   },
   {
    "duration": 20,
    "start_time": "2021-12-01T20:50:20.492Z"
   },
   {
    "duration": 46,
    "start_time": "2021-12-01T20:50:20.514Z"
   },
   {
    "duration": 21,
    "start_time": "2021-12-01T20:50:20.563Z"
   },
   {
    "duration": 24,
    "start_time": "2021-12-01T20:50:20.586Z"
   },
   {
    "duration": 48,
    "start_time": "2021-12-01T20:50:20.612Z"
   },
   {
    "duration": 12,
    "start_time": "2021-12-01T20:50:20.665Z"
   },
   {
    "duration": 25,
    "start_time": "2021-12-01T20:50:20.679Z"
   },
   {
    "duration": 12,
    "start_time": "2021-12-01T20:50:20.706Z"
   },
   {
    "duration": 6,
    "start_time": "2021-12-01T20:50:20.720Z"
   },
   {
    "duration": 24,
    "start_time": "2021-12-01T20:50:20.759Z"
   },
   {
    "duration": 15,
    "start_time": "2021-12-01T20:50:20.786Z"
   },
   {
    "duration": 22,
    "start_time": "2021-12-01T20:50:20.804Z"
   },
   {
    "duration": 45,
    "start_time": "2021-12-01T20:50:20.828Z"
   },
   {
    "duration": 10,
    "start_time": "2021-12-01T20:50:20.875Z"
   },
   {
    "duration": 12,
    "start_time": "2021-12-01T20:50:20.888Z"
   },
   {
    "duration": 10,
    "start_time": "2021-12-01T20:50:20.903Z"
   },
   {
    "duration": 15,
    "start_time": "2021-12-01T20:50:20.916Z"
   }
  ],
  "colab": {
   "collapsed_sections": [
    "E0vqbgi9ay0H",
    "VUC88oWjTJw2"
   ],
   "name": "yandex_music_project_2021.2.ipynb",
   "provenance": []
  },
  "kernelspec": {
   "display_name": "Python 3",
   "language": "python",
   "name": "python3"
  },
  "language_info": {
   "codemirror_mode": {
    "name": "ipython",
    "version": 3
   },
   "file_extension": ".py",
   "mimetype": "text/x-python",
   "name": "python",
   "nbconvert_exporter": "python",
   "pygments_lexer": "ipython3",
   "version": "3.7.12"
  },
  "toc": {
   "base_numbering": 1,
   "nav_menu": {},
   "number_sections": true,
   "sideBar": true,
   "skip_h1_title": true,
   "title_cell": "Table of Contents",
   "title_sidebar": "Contents",
   "toc_cell": false,
   "toc_position": {},
   "toc_section_display": true,
   "toc_window_display": true
  }
 },
 "nbformat": 4,
 "nbformat_minor": 1
}
