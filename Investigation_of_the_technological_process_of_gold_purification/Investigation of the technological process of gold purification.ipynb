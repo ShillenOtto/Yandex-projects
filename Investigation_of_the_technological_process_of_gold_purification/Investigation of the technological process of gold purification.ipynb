{
 "cells": [
  {
   "cell_type": "markdown",
   "metadata": {
    "toc": true
   },
   "source": [
    "<h1>Содержание<span class=\"tocSkip\"></span></h1>\n",
    "<div class=\"toc\"><ul class=\"toc-item\"><li><span><a href=\"#Подготовка-данных\" data-toc-modified-id=\"Подготовка-данных-1\"><span class=\"toc-item-num\">1&nbsp;&nbsp;</span>Подготовка данных</a></span><ul class=\"toc-item\"><li><span><a href=\"#Описание-данных\" data-toc-modified-id=\"Описание-данных-1.1\"><span class=\"toc-item-num\">1.1&nbsp;&nbsp;</span>Описание данных</a></span></li></ul></li><li><span><a href=\"#Анализ-данных\" data-toc-modified-id=\"Анализ-данных-2\"><span class=\"toc-item-num\">2&nbsp;&nbsp;</span>Анализ данных</a></span><ul class=\"toc-item\"><li><span><a href=\"#Посмотрим,-как-меняется-концентрация-металлов-(Au,-Ag,-Pb)-на-различных-этапах-очистки.\" data-toc-modified-id=\"Посмотрим,-как-меняется-концентрация-металлов-(Au,-Ag,-Pb)-на-различных-этапах-очистки.-2.1\"><span class=\"toc-item-num\">2.1&nbsp;&nbsp;</span>Посмотрим, как меняется концентрация металлов (Au, Ag, Pb) на различных этапах очистки.</a></span><ul class=\"toc-item\"><li><span><a href=\"#Проанализируем-Ag\" data-toc-modified-id=\"Проанализируем-Ag-2.1.1\"><span class=\"toc-item-num\">2.1.1&nbsp;&nbsp;</span>Проанализируем Ag</a></span></li><li><span><a href=\"#Проанализируем-Pb\" data-toc-modified-id=\"Проанализируем-Pb-2.1.2\"><span class=\"toc-item-num\">2.1.2&nbsp;&nbsp;</span>Проанализируем Pb</a></span></li><li><span><a href=\"#Проанализируем-Au\" data-toc-modified-id=\"Проанализируем-Au-2.1.3\"><span class=\"toc-item-num\">2.1.3&nbsp;&nbsp;</span>Проанализируем Au</a></span></li></ul></li><li><span><a href=\"#Сравните-распределения-размеров-гранул-сырья-на-обучающей-и-тестовой-выборках.\" data-toc-modified-id=\"Сравните-распределения-размеров-гранул-сырья-на-обучающей-и-тестовой-выборках.-2.2\"><span class=\"toc-item-num\">2.2&nbsp;&nbsp;</span>Сравните распределения размеров гранул сырья на обучающей и тестовой выборках.</a></span><ul class=\"toc-item\"><li><span><a href=\"#Сравнение-гранул-сырья-на-этапе-золотоносной-руды\" data-toc-modified-id=\"Сравнение-гранул-сырья-на-этапе-золотоносной-руды-2.2.1\"><span class=\"toc-item-num\">2.2.1&nbsp;&nbsp;</span>Сравнение гранул сырья на этапе золотоносной руды</a></span></li><li><span><a href=\"#Сравнение-гранул-сырья-на-этапе-Чернового-концентрата\" data-toc-modified-id=\"Сравнение-гранул-сырья-на-этапе-Чернового-концентрата-2.2.2\"><span class=\"toc-item-num\">2.2.2&nbsp;&nbsp;</span>Сравнение гранул сырья на этапе Чернового концентрата</a></span></li></ul></li><li><span><a href=\"#Исследуем-суммарную-концентрацию-всех-веществ-на-разных-стадиях:-в-сырье,-в-черновом-и-финальном-концентратах.\" data-toc-modified-id=\"Исследуем-суммарную-концентрацию-всех-веществ-на-разных-стадиях:-в-сырье,-в-черновом-и-финальном-концентратах.-2.3\"><span class=\"toc-item-num\">2.3&nbsp;&nbsp;</span>Исследуем суммарную концентрацию всех веществ на разных стадиях: в сырье, в черновом и финальном концентратах.</a></span></li></ul></li><li><span><a href=\"#Модель\" data-toc-modified-id=\"Модель-3\"><span class=\"toc-item-num\">3&nbsp;&nbsp;</span>Модель</a></span><ul class=\"toc-item\"><li><span><a href=\"#Напишем-функцию-для-расчета-итогового-sMAPE\" data-toc-modified-id=\"Напишем-функцию-для-расчета-итогового-sMAPE-3.1\"><span class=\"toc-item-num\">3.1&nbsp;&nbsp;</span>Напишем функцию для расчета итогового sMAPE</a></span></li><li><span><a href=\"#Найдем-rougher.output.recovery\" data-toc-modified-id=\"Найдем-rougher.output.recovery-3.2\"><span class=\"toc-item-num\">3.2&nbsp;&nbsp;</span>Найдем rougher.output.recovery</a></span></li><li><span><a href=\"#Найдем-final.output.recovery\" data-toc-modified-id=\"Найдем-final.output.recovery-3.3\"><span class=\"toc-item-num\">3.3&nbsp;&nbsp;</span>Найдем final.output.recovery</a></span></li></ul></li><li><span><a href=\"#Итоговый-вывод\" data-toc-modified-id=\"Итоговый-вывод-4\"><span class=\"toc-item-num\">4&nbsp;&nbsp;</span>Итоговый вывод</a></span></li><li><span><a href=\"#Чек-лист-готовности-проекта\" data-toc-modified-id=\"Чек-лист-готовности-проекта-5\"><span class=\"toc-item-num\">5&nbsp;&nbsp;</span>Чек-лист готовности проекта</a></span></li></ul></div>"
   ]
  },
  {
   "cell_type": "markdown",
   "metadata": {},
   "source": [
    "# Восстановление золота из руды"
   ]
  },
  {
   "cell_type": "markdown",
   "metadata": {},
   "source": [
    "Подготовим прототип модели машинного обучения для «Цифры». Компания разрабатывает решения для эффективной работы промышленных предприятий.\n",
    "\n",
    "Модель должна предсказать коэффициент восстановления золота из золотосодержащей руды. Используем данные с параметрами добычи и очистки. \n",
    "\n",
    "Модель поможет оптимизировать производство, чтобы не запускать предприятие с убыточными характеристиками.\n",
    "\n",
    "Нам нужно:\n",
    "\n",
    "1. Подготовить данные;\n",
    "2. Провести исследовательский анализ данных;\n",
    "3. Построить и обучить модель."
   ]
  },
  {
   "cell_type": "markdown",
   "metadata": {},
   "source": [
    "## Подготовка данных"
   ]
  },
  {
   "cell_type": "code",
   "execution_count": 1,
   "metadata": {},
   "outputs": [],
   "source": [
    "#Импортируем библиотеку Pandas.\n",
    "import pandas as pd\n",
    "from pandas import DataFrame\n",
    "#Импортируем библиотеку для постраения графиков matplotlib.pyplot.\n",
    "import matplotlib.pyplot as plt\n",
    "#Импортируем библиотеку для постраения графиков seaborn.\n",
    "import seaborn as sns\n",
    "#Импортируем библиотеку для высокоуровневых математических функций numpy.\n",
    "import numpy as np\n",
    "import math\n",
    "# Импортируем библиотеки машинного обучения \n",
    "from scipy import stats as st \n",
    "from sklearn.tree import DecisionTreeRegressor\n",
    "from sklearn.ensemble import RandomForestRegressor\n",
    "from sklearn.linear_model import LinearRegression\n",
    "from sklearn.linear_model import LogisticRegression\n",
    "from sklearn.model_selection import train_test_split\n",
    "from sklearn.dummy import DummyRegressor\n",
    "from sklearn.preprocessing import StandardScaler\n",
    "from sklearn.metrics import mean_absolute_error\n",
    "from sklearn.model_selection import cross_val_score\n",
    "from sklearn.metrics import fbeta_score, make_scorer\n",
    "from sklearn.model_selection import GridSearchCV\n",
    "import warnings\n",
    "warnings.filterwarnings('ignore')\n",
    "pd.options.mode.chained_assignment = None"
   ]
  },
  {
   "cell_type": "code",
   "execution_count": 2,
   "metadata": {},
   "outputs": [],
   "source": [
    "# Прочитаем исходные данные\n",
    "try:\n",
    "    df_full = pd.read_csv('/datasets/gold_recovery_full_new.csv')\n",
    "    df_train = pd.read_csv('/datasets/gold_recovery_train_new.csv')\n",
    "    df_test = pd.read_csv('/datasets/gold_recovery_test_new.csv')\n",
    "    \n",
    "except:\n",
    "    df_full = pd.read_csv('gold_recovery_full_new.csv')\n",
    "    df_train = pd.read_csv('gold_recovery_train_new.csv')\n",
    "    df_test = pd.read_csv('gold_recovery_test_new.csv')\n",
    "    "
   ]
  },
  {
   "cell_type": "code",
   "execution_count": 3,
   "metadata": {
    "scrolled": true
   },
   "outputs": [
    {
     "data": {
      "text/html": [
       "<div>\n",
       "<style scoped>\n",
       "    .dataframe tbody tr th:only-of-type {\n",
       "        vertical-align: middle;\n",
       "    }\n",
       "\n",
       "    .dataframe tbody tr th {\n",
       "        vertical-align: top;\n",
       "    }\n",
       "\n",
       "    .dataframe thead th {\n",
       "        text-align: right;\n",
       "    }\n",
       "</style>\n",
       "<table border=\"1\" class=\"dataframe\">\n",
       "  <thead>\n",
       "    <tr style=\"text-align: right;\">\n",
       "      <th></th>\n",
       "      <th>date</th>\n",
       "      <th>final.output.concentrate_ag</th>\n",
       "      <th>final.output.concentrate_pb</th>\n",
       "      <th>final.output.concentrate_sol</th>\n",
       "      <th>final.output.concentrate_au</th>\n",
       "      <th>final.output.recovery</th>\n",
       "      <th>final.output.tail_ag</th>\n",
       "      <th>final.output.tail_pb</th>\n",
       "      <th>final.output.tail_sol</th>\n",
       "      <th>final.output.tail_au</th>\n",
       "      <th>...</th>\n",
       "      <th>secondary_cleaner.state.floatbank4_a_air</th>\n",
       "      <th>secondary_cleaner.state.floatbank4_a_level</th>\n",
       "      <th>secondary_cleaner.state.floatbank4_b_air</th>\n",
       "      <th>secondary_cleaner.state.floatbank4_b_level</th>\n",
       "      <th>secondary_cleaner.state.floatbank5_a_air</th>\n",
       "      <th>secondary_cleaner.state.floatbank5_a_level</th>\n",
       "      <th>secondary_cleaner.state.floatbank5_b_air</th>\n",
       "      <th>secondary_cleaner.state.floatbank5_b_level</th>\n",
       "      <th>secondary_cleaner.state.floatbank6_a_air</th>\n",
       "      <th>secondary_cleaner.state.floatbank6_a_level</th>\n",
       "    </tr>\n",
       "  </thead>\n",
       "  <tbody>\n",
       "    <tr>\n",
       "      <th>0</th>\n",
       "      <td>2016-01-15 00:00:00</td>\n",
       "      <td>6.055403</td>\n",
       "      <td>9.889648</td>\n",
       "      <td>5.507324</td>\n",
       "      <td>42.192020</td>\n",
       "      <td>70.541216</td>\n",
       "      <td>10.411962</td>\n",
       "      <td>0.895447</td>\n",
       "      <td>16.904297</td>\n",
       "      <td>2.143149</td>\n",
       "      <td>...</td>\n",
       "      <td>14.016835</td>\n",
       "      <td>-502.488007</td>\n",
       "      <td>12.099931</td>\n",
       "      <td>-504.715942</td>\n",
       "      <td>9.925633</td>\n",
       "      <td>-498.310211</td>\n",
       "      <td>8.079666</td>\n",
       "      <td>-500.470978</td>\n",
       "      <td>14.151341</td>\n",
       "      <td>-605.841980</td>\n",
       "    </tr>\n",
       "    <tr>\n",
       "      <th>1</th>\n",
       "      <td>2016-01-15 01:00:00</td>\n",
       "      <td>6.029369</td>\n",
       "      <td>9.968944</td>\n",
       "      <td>5.257781</td>\n",
       "      <td>42.701629</td>\n",
       "      <td>69.266198</td>\n",
       "      <td>10.462676</td>\n",
       "      <td>0.927452</td>\n",
       "      <td>16.634514</td>\n",
       "      <td>2.224930</td>\n",
       "      <td>...</td>\n",
       "      <td>13.992281</td>\n",
       "      <td>-505.503262</td>\n",
       "      <td>11.950531</td>\n",
       "      <td>-501.331529</td>\n",
       "      <td>10.039245</td>\n",
       "      <td>-500.169983</td>\n",
       "      <td>7.984757</td>\n",
       "      <td>-500.582168</td>\n",
       "      <td>13.998353</td>\n",
       "      <td>-599.787184</td>\n",
       "    </tr>\n",
       "    <tr>\n",
       "      <th>2</th>\n",
       "      <td>2016-01-15 02:00:00</td>\n",
       "      <td>6.055926</td>\n",
       "      <td>10.213995</td>\n",
       "      <td>5.383759</td>\n",
       "      <td>42.657501</td>\n",
       "      <td>68.116445</td>\n",
       "      <td>10.507046</td>\n",
       "      <td>0.953716</td>\n",
       "      <td>16.208849</td>\n",
       "      <td>2.257889</td>\n",
       "      <td>...</td>\n",
       "      <td>14.015015</td>\n",
       "      <td>-502.520901</td>\n",
       "      <td>11.912783</td>\n",
       "      <td>-501.133383</td>\n",
       "      <td>10.070913</td>\n",
       "      <td>-500.129135</td>\n",
       "      <td>8.013877</td>\n",
       "      <td>-500.517572</td>\n",
       "      <td>14.028663</td>\n",
       "      <td>-601.427363</td>\n",
       "    </tr>\n",
       "    <tr>\n",
       "      <th>3</th>\n",
       "      <td>2016-01-15 03:00:00</td>\n",
       "      <td>6.047977</td>\n",
       "      <td>9.977019</td>\n",
       "      <td>4.858634</td>\n",
       "      <td>42.689819</td>\n",
       "      <td>68.347543</td>\n",
       "      <td>10.422762</td>\n",
       "      <td>0.883763</td>\n",
       "      <td>16.532835</td>\n",
       "      <td>2.146849</td>\n",
       "      <td>...</td>\n",
       "      <td>14.036510</td>\n",
       "      <td>-500.857308</td>\n",
       "      <td>11.999550</td>\n",
       "      <td>-501.193686</td>\n",
       "      <td>9.970366</td>\n",
       "      <td>-499.201640</td>\n",
       "      <td>7.977324</td>\n",
       "      <td>-500.255908</td>\n",
       "      <td>14.005551</td>\n",
       "      <td>-599.996129</td>\n",
       "    </tr>\n",
       "    <tr>\n",
       "      <th>4</th>\n",
       "      <td>2016-01-15 04:00:00</td>\n",
       "      <td>6.148599</td>\n",
       "      <td>10.142511</td>\n",
       "      <td>4.939416</td>\n",
       "      <td>42.774141</td>\n",
       "      <td>66.927016</td>\n",
       "      <td>10.360302</td>\n",
       "      <td>0.792826</td>\n",
       "      <td>16.525686</td>\n",
       "      <td>2.055292</td>\n",
       "      <td>...</td>\n",
       "      <td>14.027298</td>\n",
       "      <td>-499.838632</td>\n",
       "      <td>11.953070</td>\n",
       "      <td>-501.053894</td>\n",
       "      <td>9.925709</td>\n",
       "      <td>-501.686727</td>\n",
       "      <td>7.894242</td>\n",
       "      <td>-500.356035</td>\n",
       "      <td>13.996647</td>\n",
       "      <td>-601.496691</td>\n",
       "    </tr>\n",
       "  </tbody>\n",
       "</table>\n",
       "<p>5 rows × 87 columns</p>\n",
       "</div>"
      ],
      "text/plain": [
       "                  date  final.output.concentrate_ag  \\\n",
       "0  2016-01-15 00:00:00                     6.055403   \n",
       "1  2016-01-15 01:00:00                     6.029369   \n",
       "2  2016-01-15 02:00:00                     6.055926   \n",
       "3  2016-01-15 03:00:00                     6.047977   \n",
       "4  2016-01-15 04:00:00                     6.148599   \n",
       "\n",
       "   final.output.concentrate_pb  final.output.concentrate_sol  \\\n",
       "0                     9.889648                      5.507324   \n",
       "1                     9.968944                      5.257781   \n",
       "2                    10.213995                      5.383759   \n",
       "3                     9.977019                      4.858634   \n",
       "4                    10.142511                      4.939416   \n",
       "\n",
       "   final.output.concentrate_au  final.output.recovery  final.output.tail_ag  \\\n",
       "0                    42.192020              70.541216             10.411962   \n",
       "1                    42.701629              69.266198             10.462676   \n",
       "2                    42.657501              68.116445             10.507046   \n",
       "3                    42.689819              68.347543             10.422762   \n",
       "4                    42.774141              66.927016             10.360302   \n",
       "\n",
       "   final.output.tail_pb  final.output.tail_sol  final.output.tail_au  ...  \\\n",
       "0              0.895447              16.904297              2.143149  ...   \n",
       "1              0.927452              16.634514              2.224930  ...   \n",
       "2              0.953716              16.208849              2.257889  ...   \n",
       "3              0.883763              16.532835              2.146849  ...   \n",
       "4              0.792826              16.525686              2.055292  ...   \n",
       "\n",
       "   secondary_cleaner.state.floatbank4_a_air  \\\n",
       "0                                 14.016835   \n",
       "1                                 13.992281   \n",
       "2                                 14.015015   \n",
       "3                                 14.036510   \n",
       "4                                 14.027298   \n",
       "\n",
       "   secondary_cleaner.state.floatbank4_a_level  \\\n",
       "0                                 -502.488007   \n",
       "1                                 -505.503262   \n",
       "2                                 -502.520901   \n",
       "3                                 -500.857308   \n",
       "4                                 -499.838632   \n",
       "\n",
       "   secondary_cleaner.state.floatbank4_b_air  \\\n",
       "0                                 12.099931   \n",
       "1                                 11.950531   \n",
       "2                                 11.912783   \n",
       "3                                 11.999550   \n",
       "4                                 11.953070   \n",
       "\n",
       "   secondary_cleaner.state.floatbank4_b_level  \\\n",
       "0                                 -504.715942   \n",
       "1                                 -501.331529   \n",
       "2                                 -501.133383   \n",
       "3                                 -501.193686   \n",
       "4                                 -501.053894   \n",
       "\n",
       "   secondary_cleaner.state.floatbank5_a_air  \\\n",
       "0                                  9.925633   \n",
       "1                                 10.039245   \n",
       "2                                 10.070913   \n",
       "3                                  9.970366   \n",
       "4                                  9.925709   \n",
       "\n",
       "   secondary_cleaner.state.floatbank5_a_level  \\\n",
       "0                                 -498.310211   \n",
       "1                                 -500.169983   \n",
       "2                                 -500.129135   \n",
       "3                                 -499.201640   \n",
       "4                                 -501.686727   \n",
       "\n",
       "   secondary_cleaner.state.floatbank5_b_air  \\\n",
       "0                                  8.079666   \n",
       "1                                  7.984757   \n",
       "2                                  8.013877   \n",
       "3                                  7.977324   \n",
       "4                                  7.894242   \n",
       "\n",
       "   secondary_cleaner.state.floatbank5_b_level  \\\n",
       "0                                 -500.470978   \n",
       "1                                 -500.582168   \n",
       "2                                 -500.517572   \n",
       "3                                 -500.255908   \n",
       "4                                 -500.356035   \n",
       "\n",
       "   secondary_cleaner.state.floatbank6_a_air  \\\n",
       "0                                 14.151341   \n",
       "1                                 13.998353   \n",
       "2                                 14.028663   \n",
       "3                                 14.005551   \n",
       "4                                 13.996647   \n",
       "\n",
       "   secondary_cleaner.state.floatbank6_a_level  \n",
       "0                                 -605.841980  \n",
       "1                                 -599.787184  \n",
       "2                                 -601.427363  \n",
       "3                                 -599.996129  \n",
       "4                                 -601.496691  \n",
       "\n",
       "[5 rows x 87 columns]"
      ]
     },
     "execution_count": 3,
     "metadata": {},
     "output_type": "execute_result"
    }
   ],
   "source": [
    "df_full.head()"
   ]
  },
  {
   "cell_type": "code",
   "execution_count": 4,
   "metadata": {
    "scrolled": true
   },
   "outputs": [
    {
     "name": "stdout",
     "output_type": "stream",
     "text": [
      "<class 'pandas.core.frame.DataFrame'>\n",
      "RangeIndex: 19439 entries, 0 to 19438\n",
      "Data columns (total 87 columns):\n",
      " #   Column                                              Non-Null Count  Dtype  \n",
      "---  ------                                              --------------  -----  \n",
      " 0   date                                                19439 non-null  object \n",
      " 1   final.output.concentrate_ag                         19438 non-null  float64\n",
      " 2   final.output.concentrate_pb                         19438 non-null  float64\n",
      " 3   final.output.concentrate_sol                        19228 non-null  float64\n",
      " 4   final.output.concentrate_au                         19439 non-null  float64\n",
      " 5   final.output.recovery                               19439 non-null  float64\n",
      " 6   final.output.tail_ag                                19438 non-null  float64\n",
      " 7   final.output.tail_pb                                19338 non-null  float64\n",
      " 8   final.output.tail_sol                               19433 non-null  float64\n",
      " 9   final.output.tail_au                                19439 non-null  float64\n",
      " 10  primary_cleaner.input.sulfate                       19415 non-null  float64\n",
      " 11  primary_cleaner.input.depressant                    19402 non-null  float64\n",
      " 12  primary_cleaner.input.feed_size                     19439 non-null  float64\n",
      " 13  primary_cleaner.input.xanthate                      19335 non-null  float64\n",
      " 14  primary_cleaner.output.concentrate_ag               19439 non-null  float64\n",
      " 15  primary_cleaner.output.concentrate_pb               19323 non-null  float64\n",
      " 16  primary_cleaner.output.concentrate_sol              19069 non-null  float64\n",
      " 17  primary_cleaner.output.concentrate_au               19439 non-null  float64\n",
      " 18  primary_cleaner.output.tail_ag                      19435 non-null  float64\n",
      " 19  primary_cleaner.output.tail_pb                      19418 non-null  float64\n",
      " 20  primary_cleaner.output.tail_sol                     19377 non-null  float64\n",
      " 21  primary_cleaner.output.tail_au                      19439 non-null  float64\n",
      " 22  primary_cleaner.state.floatbank8_a_air              19435 non-null  float64\n",
      " 23  primary_cleaner.state.floatbank8_a_level            19438 non-null  float64\n",
      " 24  primary_cleaner.state.floatbank8_b_air              19435 non-null  float64\n",
      " 25  primary_cleaner.state.floatbank8_b_level            19438 non-null  float64\n",
      " 26  primary_cleaner.state.floatbank8_c_air              19437 non-null  float64\n",
      " 27  primary_cleaner.state.floatbank8_c_level            19438 non-null  float64\n",
      " 28  primary_cleaner.state.floatbank8_d_air              19436 non-null  float64\n",
      " 29  primary_cleaner.state.floatbank8_d_level            19438 non-null  float64\n",
      " 30  rougher.calculation.sulfate_to_au_concentrate       19437 non-null  float64\n",
      " 31  rougher.calculation.floatbank10_sulfate_to_au_feed  19437 non-null  float64\n",
      " 32  rougher.calculation.floatbank11_sulfate_to_au_feed  19437 non-null  float64\n",
      " 33  rougher.calculation.au_pb_ratio                     19439 non-null  float64\n",
      " 34  rougher.input.feed_ag                               19439 non-null  float64\n",
      " 35  rougher.input.feed_pb                               19339 non-null  float64\n",
      " 36  rougher.input.feed_rate                             19428 non-null  float64\n",
      " 37  rougher.input.feed_size                             19294 non-null  float64\n",
      " 38  rougher.input.feed_sol                              19340 non-null  float64\n",
      " 39  rougher.input.feed_au                               19439 non-null  float64\n",
      " 40  rougher.input.floatbank10_sulfate                   19405 non-null  float64\n",
      " 41  rougher.input.floatbank10_xanthate                  19431 non-null  float64\n",
      " 42  rougher.input.floatbank11_sulfate                   19395 non-null  float64\n",
      " 43  rougher.input.floatbank11_xanthate                  18986 non-null  float64\n",
      " 44  rougher.output.concentrate_ag                       19439 non-null  float64\n",
      " 45  rougher.output.concentrate_pb                       19439 non-null  float64\n",
      " 46  rougher.output.concentrate_sol                      19416 non-null  float64\n",
      " 47  rougher.output.concentrate_au                       19439 non-null  float64\n",
      " 48  rougher.output.recovery                             19439 non-null  float64\n",
      " 49  rougher.output.tail_ag                              19438 non-null  float64\n",
      " 50  rougher.output.tail_pb                              19439 non-null  float64\n",
      " 51  rougher.output.tail_sol                             19439 non-null  float64\n",
      " 52  rougher.output.tail_au                              19439 non-null  float64\n",
      " 53  rougher.state.floatbank10_a_air                     19438 non-null  float64\n",
      " 54  rougher.state.floatbank10_a_level                   19438 non-null  float64\n",
      " 55  rougher.state.floatbank10_b_air                     19438 non-null  float64\n",
      " 56  rougher.state.floatbank10_b_level                   19438 non-null  float64\n",
      " 57  rougher.state.floatbank10_c_air                     19438 non-null  float64\n",
      " 58  rougher.state.floatbank10_c_level                   19438 non-null  float64\n",
      " 59  rougher.state.floatbank10_d_air                     19439 non-null  float64\n",
      " 60  rougher.state.floatbank10_d_level                   19439 non-null  float64\n",
      " 61  rougher.state.floatbank10_e_air                     19003 non-null  float64\n",
      " 62  rougher.state.floatbank10_e_level                   19439 non-null  float64\n",
      " 63  rougher.state.floatbank10_f_air                     19439 non-null  float64\n",
      " 64  rougher.state.floatbank10_f_level                   19439 non-null  float64\n",
      " 65  secondary_cleaner.output.tail_ag                    19437 non-null  float64\n",
      " 66  secondary_cleaner.output.tail_pb                    19427 non-null  float64\n",
      " 67  secondary_cleaner.output.tail_sol                   17691 non-null  float64\n",
      " 68  secondary_cleaner.output.tail_au                    19439 non-null  float64\n",
      " 69  secondary_cleaner.state.floatbank2_a_air            19219 non-null  float64\n",
      " 70  secondary_cleaner.state.floatbank2_a_level          19438 non-null  float64\n",
      " 71  secondary_cleaner.state.floatbank2_b_air            19416 non-null  float64\n",
      " 72  secondary_cleaner.state.floatbank2_b_level          19438 non-null  float64\n",
      " 73  secondary_cleaner.state.floatbank3_a_air            19426 non-null  float64\n",
      " 74  secondary_cleaner.state.floatbank3_a_level          19438 non-null  float64\n",
      " 75  secondary_cleaner.state.floatbank3_b_air            19438 non-null  float64\n",
      " 76  secondary_cleaner.state.floatbank3_b_level          19438 non-null  float64\n",
      " 77  secondary_cleaner.state.floatbank4_a_air            19433 non-null  float64\n",
      " 78  secondary_cleaner.state.floatbank4_a_level          19438 non-null  float64\n",
      " 79  secondary_cleaner.state.floatbank4_b_air            19438 non-null  float64\n",
      " 80  secondary_cleaner.state.floatbank4_b_level          19438 non-null  float64\n",
      " 81  secondary_cleaner.state.floatbank5_a_air            19438 non-null  float64\n",
      " 82  secondary_cleaner.state.floatbank5_a_level          19438 non-null  float64\n",
      " 83  secondary_cleaner.state.floatbank5_b_air            19438 non-null  float64\n",
      " 84  secondary_cleaner.state.floatbank5_b_level          19438 non-null  float64\n",
      " 85  secondary_cleaner.state.floatbank6_a_air            19437 non-null  float64\n",
      " 86  secondary_cleaner.state.floatbank6_a_level          19438 non-null  float64\n",
      "dtypes: float64(86), object(1)\n",
      "memory usage: 12.9+ MB\n"
     ]
    }
   ],
   "source": [
    "df_full.info()"
   ]
  },
  {
   "cell_type": "code",
   "execution_count": 5,
   "metadata": {
    "scrolled": false
   },
   "outputs": [
    {
     "data": {
      "text/html": [
       "<div>\n",
       "<style scoped>\n",
       "    .dataframe tbody tr th:only-of-type {\n",
       "        vertical-align: middle;\n",
       "    }\n",
       "\n",
       "    .dataframe tbody tr th {\n",
       "        vertical-align: top;\n",
       "    }\n",
       "\n",
       "    .dataframe thead th {\n",
       "        text-align: right;\n",
       "    }\n",
       "</style>\n",
       "<table border=\"1\" class=\"dataframe\">\n",
       "  <thead>\n",
       "    <tr style=\"text-align: right;\">\n",
       "      <th></th>\n",
       "      <th>date</th>\n",
       "      <th>final.output.concentrate_ag</th>\n",
       "      <th>final.output.concentrate_pb</th>\n",
       "      <th>final.output.concentrate_sol</th>\n",
       "      <th>final.output.concentrate_au</th>\n",
       "      <th>final.output.recovery</th>\n",
       "      <th>final.output.tail_ag</th>\n",
       "      <th>final.output.tail_pb</th>\n",
       "      <th>final.output.tail_sol</th>\n",
       "      <th>final.output.tail_au</th>\n",
       "      <th>...</th>\n",
       "      <th>secondary_cleaner.state.floatbank4_a_air</th>\n",
       "      <th>secondary_cleaner.state.floatbank4_a_level</th>\n",
       "      <th>secondary_cleaner.state.floatbank4_b_air</th>\n",
       "      <th>secondary_cleaner.state.floatbank4_b_level</th>\n",
       "      <th>secondary_cleaner.state.floatbank5_a_air</th>\n",
       "      <th>secondary_cleaner.state.floatbank5_a_level</th>\n",
       "      <th>secondary_cleaner.state.floatbank5_b_air</th>\n",
       "      <th>secondary_cleaner.state.floatbank5_b_level</th>\n",
       "      <th>secondary_cleaner.state.floatbank6_a_air</th>\n",
       "      <th>secondary_cleaner.state.floatbank6_a_level</th>\n",
       "    </tr>\n",
       "  </thead>\n",
       "  <tbody>\n",
       "    <tr>\n",
       "      <th>0</th>\n",
       "      <td>2016-01-15 00:00:00</td>\n",
       "      <td>6.055403</td>\n",
       "      <td>9.889648</td>\n",
       "      <td>5.507324</td>\n",
       "      <td>42.192020</td>\n",
       "      <td>70.541216</td>\n",
       "      <td>10.411962</td>\n",
       "      <td>0.895447</td>\n",
       "      <td>16.904297</td>\n",
       "      <td>2.143149</td>\n",
       "      <td>...</td>\n",
       "      <td>14.016835</td>\n",
       "      <td>-502.488007</td>\n",
       "      <td>12.099931</td>\n",
       "      <td>-504.715942</td>\n",
       "      <td>9.925633</td>\n",
       "      <td>-498.310211</td>\n",
       "      <td>8.079666</td>\n",
       "      <td>-500.470978</td>\n",
       "      <td>14.151341</td>\n",
       "      <td>-605.841980</td>\n",
       "    </tr>\n",
       "    <tr>\n",
       "      <th>1</th>\n",
       "      <td>2016-01-15 01:00:00</td>\n",
       "      <td>6.029369</td>\n",
       "      <td>9.968944</td>\n",
       "      <td>5.257781</td>\n",
       "      <td>42.701629</td>\n",
       "      <td>69.266198</td>\n",
       "      <td>10.462676</td>\n",
       "      <td>0.927452</td>\n",
       "      <td>16.634514</td>\n",
       "      <td>2.224930</td>\n",
       "      <td>...</td>\n",
       "      <td>13.992281</td>\n",
       "      <td>-505.503262</td>\n",
       "      <td>11.950531</td>\n",
       "      <td>-501.331529</td>\n",
       "      <td>10.039245</td>\n",
       "      <td>-500.169983</td>\n",
       "      <td>7.984757</td>\n",
       "      <td>-500.582168</td>\n",
       "      <td>13.998353</td>\n",
       "      <td>-599.787184</td>\n",
       "    </tr>\n",
       "    <tr>\n",
       "      <th>2</th>\n",
       "      <td>2016-01-15 02:00:00</td>\n",
       "      <td>6.055926</td>\n",
       "      <td>10.213995</td>\n",
       "      <td>5.383759</td>\n",
       "      <td>42.657501</td>\n",
       "      <td>68.116445</td>\n",
       "      <td>10.507046</td>\n",
       "      <td>0.953716</td>\n",
       "      <td>16.208849</td>\n",
       "      <td>2.257889</td>\n",
       "      <td>...</td>\n",
       "      <td>14.015015</td>\n",
       "      <td>-502.520901</td>\n",
       "      <td>11.912783</td>\n",
       "      <td>-501.133383</td>\n",
       "      <td>10.070913</td>\n",
       "      <td>-500.129135</td>\n",
       "      <td>8.013877</td>\n",
       "      <td>-500.517572</td>\n",
       "      <td>14.028663</td>\n",
       "      <td>-601.427363</td>\n",
       "    </tr>\n",
       "    <tr>\n",
       "      <th>3</th>\n",
       "      <td>2016-01-15 03:00:00</td>\n",
       "      <td>6.047977</td>\n",
       "      <td>9.977019</td>\n",
       "      <td>4.858634</td>\n",
       "      <td>42.689819</td>\n",
       "      <td>68.347543</td>\n",
       "      <td>10.422762</td>\n",
       "      <td>0.883763</td>\n",
       "      <td>16.532835</td>\n",
       "      <td>2.146849</td>\n",
       "      <td>...</td>\n",
       "      <td>14.036510</td>\n",
       "      <td>-500.857308</td>\n",
       "      <td>11.999550</td>\n",
       "      <td>-501.193686</td>\n",
       "      <td>9.970366</td>\n",
       "      <td>-499.201640</td>\n",
       "      <td>7.977324</td>\n",
       "      <td>-500.255908</td>\n",
       "      <td>14.005551</td>\n",
       "      <td>-599.996129</td>\n",
       "    </tr>\n",
       "    <tr>\n",
       "      <th>4</th>\n",
       "      <td>2016-01-15 04:00:00</td>\n",
       "      <td>6.148599</td>\n",
       "      <td>10.142511</td>\n",
       "      <td>4.939416</td>\n",
       "      <td>42.774141</td>\n",
       "      <td>66.927016</td>\n",
       "      <td>10.360302</td>\n",
       "      <td>0.792826</td>\n",
       "      <td>16.525686</td>\n",
       "      <td>2.055292</td>\n",
       "      <td>...</td>\n",
       "      <td>14.027298</td>\n",
       "      <td>-499.838632</td>\n",
       "      <td>11.953070</td>\n",
       "      <td>-501.053894</td>\n",
       "      <td>9.925709</td>\n",
       "      <td>-501.686727</td>\n",
       "      <td>7.894242</td>\n",
       "      <td>-500.356035</td>\n",
       "      <td>13.996647</td>\n",
       "      <td>-601.496691</td>\n",
       "    </tr>\n",
       "  </tbody>\n",
       "</table>\n",
       "<p>5 rows × 87 columns</p>\n",
       "</div>"
      ],
      "text/plain": [
       "                  date  final.output.concentrate_ag  \\\n",
       "0  2016-01-15 00:00:00                     6.055403   \n",
       "1  2016-01-15 01:00:00                     6.029369   \n",
       "2  2016-01-15 02:00:00                     6.055926   \n",
       "3  2016-01-15 03:00:00                     6.047977   \n",
       "4  2016-01-15 04:00:00                     6.148599   \n",
       "\n",
       "   final.output.concentrate_pb  final.output.concentrate_sol  \\\n",
       "0                     9.889648                      5.507324   \n",
       "1                     9.968944                      5.257781   \n",
       "2                    10.213995                      5.383759   \n",
       "3                     9.977019                      4.858634   \n",
       "4                    10.142511                      4.939416   \n",
       "\n",
       "   final.output.concentrate_au  final.output.recovery  final.output.tail_ag  \\\n",
       "0                    42.192020              70.541216             10.411962   \n",
       "1                    42.701629              69.266198             10.462676   \n",
       "2                    42.657501              68.116445             10.507046   \n",
       "3                    42.689819              68.347543             10.422762   \n",
       "4                    42.774141              66.927016             10.360302   \n",
       "\n",
       "   final.output.tail_pb  final.output.tail_sol  final.output.tail_au  ...  \\\n",
       "0              0.895447              16.904297              2.143149  ...   \n",
       "1              0.927452              16.634514              2.224930  ...   \n",
       "2              0.953716              16.208849              2.257889  ...   \n",
       "3              0.883763              16.532835              2.146849  ...   \n",
       "4              0.792826              16.525686              2.055292  ...   \n",
       "\n",
       "   secondary_cleaner.state.floatbank4_a_air  \\\n",
       "0                                 14.016835   \n",
       "1                                 13.992281   \n",
       "2                                 14.015015   \n",
       "3                                 14.036510   \n",
       "4                                 14.027298   \n",
       "\n",
       "   secondary_cleaner.state.floatbank4_a_level  \\\n",
       "0                                 -502.488007   \n",
       "1                                 -505.503262   \n",
       "2                                 -502.520901   \n",
       "3                                 -500.857308   \n",
       "4                                 -499.838632   \n",
       "\n",
       "   secondary_cleaner.state.floatbank4_b_air  \\\n",
       "0                                 12.099931   \n",
       "1                                 11.950531   \n",
       "2                                 11.912783   \n",
       "3                                 11.999550   \n",
       "4                                 11.953070   \n",
       "\n",
       "   secondary_cleaner.state.floatbank4_b_level  \\\n",
       "0                                 -504.715942   \n",
       "1                                 -501.331529   \n",
       "2                                 -501.133383   \n",
       "3                                 -501.193686   \n",
       "4                                 -501.053894   \n",
       "\n",
       "   secondary_cleaner.state.floatbank5_a_air  \\\n",
       "0                                  9.925633   \n",
       "1                                 10.039245   \n",
       "2                                 10.070913   \n",
       "3                                  9.970366   \n",
       "4                                  9.925709   \n",
       "\n",
       "   secondary_cleaner.state.floatbank5_a_level  \\\n",
       "0                                 -498.310211   \n",
       "1                                 -500.169983   \n",
       "2                                 -500.129135   \n",
       "3                                 -499.201640   \n",
       "4                                 -501.686727   \n",
       "\n",
       "   secondary_cleaner.state.floatbank5_b_air  \\\n",
       "0                                  8.079666   \n",
       "1                                  7.984757   \n",
       "2                                  8.013877   \n",
       "3                                  7.977324   \n",
       "4                                  7.894242   \n",
       "\n",
       "   secondary_cleaner.state.floatbank5_b_level  \\\n",
       "0                                 -500.470978   \n",
       "1                                 -500.582168   \n",
       "2                                 -500.517572   \n",
       "3                                 -500.255908   \n",
       "4                                 -500.356035   \n",
       "\n",
       "   secondary_cleaner.state.floatbank6_a_air  \\\n",
       "0                                 14.151341   \n",
       "1                                 13.998353   \n",
       "2                                 14.028663   \n",
       "3                                 14.005551   \n",
       "4                                 13.996647   \n",
       "\n",
       "   secondary_cleaner.state.floatbank6_a_level  \n",
       "0                                 -605.841980  \n",
       "1                                 -599.787184  \n",
       "2                                 -601.427363  \n",
       "3                                 -599.996129  \n",
       "4                                 -601.496691  \n",
       "\n",
       "[5 rows x 87 columns]"
      ]
     },
     "execution_count": 5,
     "metadata": {},
     "output_type": "execute_result"
    }
   ],
   "source": [
    "df_train.head()"
   ]
  },
  {
   "cell_type": "code",
   "execution_count": 6,
   "metadata": {},
   "outputs": [
    {
     "name": "stdout",
     "output_type": "stream",
     "text": [
      "<class 'pandas.core.frame.DataFrame'>\n",
      "RangeIndex: 14149 entries, 0 to 14148\n",
      "Data columns (total 87 columns):\n",
      " #   Column                                              Non-Null Count  Dtype  \n",
      "---  ------                                              --------------  -----  \n",
      " 0   date                                                14149 non-null  object \n",
      " 1   final.output.concentrate_ag                         14148 non-null  float64\n",
      " 2   final.output.concentrate_pb                         14148 non-null  float64\n",
      " 3   final.output.concentrate_sol                        13938 non-null  float64\n",
      " 4   final.output.concentrate_au                         14149 non-null  float64\n",
      " 5   final.output.recovery                               14149 non-null  float64\n",
      " 6   final.output.tail_ag                                14149 non-null  float64\n",
      " 7   final.output.tail_pb                                14049 non-null  float64\n",
      " 8   final.output.tail_sol                               14144 non-null  float64\n",
      " 9   final.output.tail_au                                14149 non-null  float64\n",
      " 10  primary_cleaner.input.sulfate                       14129 non-null  float64\n",
      " 11  primary_cleaner.input.depressant                    14117 non-null  float64\n",
      " 12  primary_cleaner.input.feed_size                     14149 non-null  float64\n",
      " 13  primary_cleaner.input.xanthate                      14049 non-null  float64\n",
      " 14  primary_cleaner.output.concentrate_ag               14149 non-null  float64\n",
      " 15  primary_cleaner.output.concentrate_pb               14063 non-null  float64\n",
      " 16  primary_cleaner.output.concentrate_sol              13863 non-null  float64\n",
      " 17  primary_cleaner.output.concentrate_au               14149 non-null  float64\n",
      " 18  primary_cleaner.output.tail_ag                      14148 non-null  float64\n",
      " 19  primary_cleaner.output.tail_pb                      14134 non-null  float64\n",
      " 20  primary_cleaner.output.tail_sol                     14103 non-null  float64\n",
      " 21  primary_cleaner.output.tail_au                      14149 non-null  float64\n",
      " 22  primary_cleaner.state.floatbank8_a_air              14145 non-null  float64\n",
      " 23  primary_cleaner.state.floatbank8_a_level            14148 non-null  float64\n",
      " 24  primary_cleaner.state.floatbank8_b_air              14145 non-null  float64\n",
      " 25  primary_cleaner.state.floatbank8_b_level            14148 non-null  float64\n",
      " 26  primary_cleaner.state.floatbank8_c_air              14147 non-null  float64\n",
      " 27  primary_cleaner.state.floatbank8_c_level            14148 non-null  float64\n",
      " 28  primary_cleaner.state.floatbank8_d_air              14146 non-null  float64\n",
      " 29  primary_cleaner.state.floatbank8_d_level            14148 non-null  float64\n",
      " 30  rougher.calculation.sulfate_to_au_concentrate       14148 non-null  float64\n",
      " 31  rougher.calculation.floatbank10_sulfate_to_au_feed  14148 non-null  float64\n",
      " 32  rougher.calculation.floatbank11_sulfate_to_au_feed  14148 non-null  float64\n",
      " 33  rougher.calculation.au_pb_ratio                     14149 non-null  float64\n",
      " 34  rougher.input.feed_ag                               14149 non-null  float64\n",
      " 35  rougher.input.feed_pb                               14049 non-null  float64\n",
      " 36  rougher.input.feed_rate                             14141 non-null  float64\n",
      " 37  rougher.input.feed_size                             14005 non-null  float64\n",
      " 38  rougher.input.feed_sol                              14071 non-null  float64\n",
      " 39  rougher.input.feed_au                               14149 non-null  float64\n",
      " 40  rougher.input.floatbank10_sulfate                   14120 non-null  float64\n",
      " 41  rougher.input.floatbank10_xanthate                  14141 non-null  float64\n",
      " 42  rougher.input.floatbank11_sulfate                   14113 non-null  float64\n",
      " 43  rougher.input.floatbank11_xanthate                  13721 non-null  float64\n",
      " 44  rougher.output.concentrate_ag                       14149 non-null  float64\n",
      " 45  rougher.output.concentrate_pb                       14149 non-null  float64\n",
      " 46  rougher.output.concentrate_sol                      14127 non-null  float64\n",
      " 47  rougher.output.concentrate_au                       14149 non-null  float64\n",
      " 48  rougher.output.recovery                             14149 non-null  float64\n",
      " 49  rougher.output.tail_ag                              14148 non-null  float64\n",
      " 50  rougher.output.tail_pb                              14149 non-null  float64\n",
      " 51  rougher.output.tail_sol                             14149 non-null  float64\n",
      " 52  rougher.output.tail_au                              14149 non-null  float64\n",
      " 53  rougher.state.floatbank10_a_air                     14148 non-null  float64\n",
      " 54  rougher.state.floatbank10_a_level                   14148 non-null  float64\n",
      " 55  rougher.state.floatbank10_b_air                     14148 non-null  float64\n",
      " 56  rougher.state.floatbank10_b_level                   14148 non-null  float64\n",
      " 57  rougher.state.floatbank10_c_air                     14148 non-null  float64\n",
      " 58  rougher.state.floatbank10_c_level                   14148 non-null  float64\n",
      " 59  rougher.state.floatbank10_d_air                     14149 non-null  float64\n",
      " 60  rougher.state.floatbank10_d_level                   14149 non-null  float64\n",
      " 61  rougher.state.floatbank10_e_air                     13713 non-null  float64\n",
      " 62  rougher.state.floatbank10_e_level                   14149 non-null  float64\n",
      " 63  rougher.state.floatbank10_f_air                     14149 non-null  float64\n",
      " 64  rougher.state.floatbank10_f_level                   14149 non-null  float64\n",
      " 65  secondary_cleaner.output.tail_ag                    14147 non-null  float64\n",
      " 66  secondary_cleaner.output.tail_pb                    14139 non-null  float64\n",
      " 67  secondary_cleaner.output.tail_sol                   12544 non-null  float64\n",
      " 68  secondary_cleaner.output.tail_au                    14149 non-null  float64\n",
      " 69  secondary_cleaner.state.floatbank2_a_air            13932 non-null  float64\n",
      " 70  secondary_cleaner.state.floatbank2_a_level          14148 non-null  float64\n",
      " 71  secondary_cleaner.state.floatbank2_b_air            14128 non-null  float64\n",
      " 72  secondary_cleaner.state.floatbank2_b_level          14148 non-null  float64\n",
      " 73  secondary_cleaner.state.floatbank3_a_air            14145 non-null  float64\n",
      " 74  secondary_cleaner.state.floatbank3_a_level          14148 non-null  float64\n",
      " 75  secondary_cleaner.state.floatbank3_b_air            14148 non-null  float64\n",
      " 76  secondary_cleaner.state.floatbank3_b_level          14148 non-null  float64\n",
      " 77  secondary_cleaner.state.floatbank4_a_air            14143 non-null  float64\n",
      " 78  secondary_cleaner.state.floatbank4_a_level          14148 non-null  float64\n",
      " 79  secondary_cleaner.state.floatbank4_b_air            14148 non-null  float64\n",
      " 80  secondary_cleaner.state.floatbank4_b_level          14148 non-null  float64\n",
      " 81  secondary_cleaner.state.floatbank5_a_air            14148 non-null  float64\n",
      " 82  secondary_cleaner.state.floatbank5_a_level          14148 non-null  float64\n",
      " 83  secondary_cleaner.state.floatbank5_b_air            14148 non-null  float64\n",
      " 84  secondary_cleaner.state.floatbank5_b_level          14148 non-null  float64\n",
      " 85  secondary_cleaner.state.floatbank6_a_air            14147 non-null  float64\n",
      " 86  secondary_cleaner.state.floatbank6_a_level          14148 non-null  float64\n",
      "dtypes: float64(86), object(1)\n",
      "memory usage: 9.4+ MB\n"
     ]
    }
   ],
   "source": [
    "df_train.info()"
   ]
  },
  {
   "cell_type": "code",
   "execution_count": 7,
   "metadata": {
    "scrolled": true
   },
   "outputs": [
    {
     "data": {
      "text/html": [
       "<div>\n",
       "<style scoped>\n",
       "    .dataframe tbody tr th:only-of-type {\n",
       "        vertical-align: middle;\n",
       "    }\n",
       "\n",
       "    .dataframe tbody tr th {\n",
       "        vertical-align: top;\n",
       "    }\n",
       "\n",
       "    .dataframe thead th {\n",
       "        text-align: right;\n",
       "    }\n",
       "</style>\n",
       "<table border=\"1\" class=\"dataframe\">\n",
       "  <thead>\n",
       "    <tr style=\"text-align: right;\">\n",
       "      <th></th>\n",
       "      <th>date</th>\n",
       "      <th>primary_cleaner.input.sulfate</th>\n",
       "      <th>primary_cleaner.input.depressant</th>\n",
       "      <th>primary_cleaner.input.feed_size</th>\n",
       "      <th>primary_cleaner.input.xanthate</th>\n",
       "      <th>primary_cleaner.state.floatbank8_a_air</th>\n",
       "      <th>primary_cleaner.state.floatbank8_a_level</th>\n",
       "      <th>primary_cleaner.state.floatbank8_b_air</th>\n",
       "      <th>primary_cleaner.state.floatbank8_b_level</th>\n",
       "      <th>primary_cleaner.state.floatbank8_c_air</th>\n",
       "      <th>...</th>\n",
       "      <th>secondary_cleaner.state.floatbank4_a_air</th>\n",
       "      <th>secondary_cleaner.state.floatbank4_a_level</th>\n",
       "      <th>secondary_cleaner.state.floatbank4_b_air</th>\n",
       "      <th>secondary_cleaner.state.floatbank4_b_level</th>\n",
       "      <th>secondary_cleaner.state.floatbank5_a_air</th>\n",
       "      <th>secondary_cleaner.state.floatbank5_a_level</th>\n",
       "      <th>secondary_cleaner.state.floatbank5_b_air</th>\n",
       "      <th>secondary_cleaner.state.floatbank5_b_level</th>\n",
       "      <th>secondary_cleaner.state.floatbank6_a_air</th>\n",
       "      <th>secondary_cleaner.state.floatbank6_a_level</th>\n",
       "    </tr>\n",
       "  </thead>\n",
       "  <tbody>\n",
       "    <tr>\n",
       "      <th>0</th>\n",
       "      <td>2016-09-01 00:59:59</td>\n",
       "      <td>210.800909</td>\n",
       "      <td>14.993118</td>\n",
       "      <td>8.080000</td>\n",
       "      <td>1.005021</td>\n",
       "      <td>1398.981301</td>\n",
       "      <td>-500.225577</td>\n",
       "      <td>1399.144926</td>\n",
       "      <td>-499.919735</td>\n",
       "      <td>1400.102998</td>\n",
       "      <td>...</td>\n",
       "      <td>12.023554</td>\n",
       "      <td>-497.795834</td>\n",
       "      <td>8.016656</td>\n",
       "      <td>-501.289139</td>\n",
       "      <td>7.946562</td>\n",
       "      <td>-432.317850</td>\n",
       "      <td>4.872511</td>\n",
       "      <td>-500.037437</td>\n",
       "      <td>26.705889</td>\n",
       "      <td>-499.709414</td>\n",
       "    </tr>\n",
       "    <tr>\n",
       "      <th>1</th>\n",
       "      <td>2016-09-01 01:59:59</td>\n",
       "      <td>215.392455</td>\n",
       "      <td>14.987471</td>\n",
       "      <td>8.080000</td>\n",
       "      <td>0.990469</td>\n",
       "      <td>1398.777912</td>\n",
       "      <td>-500.057435</td>\n",
       "      <td>1398.055362</td>\n",
       "      <td>-499.778182</td>\n",
       "      <td>1396.151033</td>\n",
       "      <td>...</td>\n",
       "      <td>12.058140</td>\n",
       "      <td>-498.695773</td>\n",
       "      <td>8.130979</td>\n",
       "      <td>-499.634209</td>\n",
       "      <td>7.958270</td>\n",
       "      <td>-525.839648</td>\n",
       "      <td>4.878850</td>\n",
       "      <td>-500.162375</td>\n",
       "      <td>25.019940</td>\n",
       "      <td>-499.819438</td>\n",
       "    </tr>\n",
       "    <tr>\n",
       "      <th>2</th>\n",
       "      <td>2016-09-01 02:59:59</td>\n",
       "      <td>215.259946</td>\n",
       "      <td>12.884934</td>\n",
       "      <td>7.786667</td>\n",
       "      <td>0.996043</td>\n",
       "      <td>1398.493666</td>\n",
       "      <td>-500.868360</td>\n",
       "      <td>1398.860436</td>\n",
       "      <td>-499.764529</td>\n",
       "      <td>1398.075709</td>\n",
       "      <td>...</td>\n",
       "      <td>11.962366</td>\n",
       "      <td>-498.767484</td>\n",
       "      <td>8.096893</td>\n",
       "      <td>-500.827423</td>\n",
       "      <td>8.071056</td>\n",
       "      <td>-500.801673</td>\n",
       "      <td>4.905125</td>\n",
       "      <td>-499.828510</td>\n",
       "      <td>24.994862</td>\n",
       "      <td>-500.622559</td>\n",
       "    </tr>\n",
       "    <tr>\n",
       "      <th>3</th>\n",
       "      <td>2016-09-01 03:59:59</td>\n",
       "      <td>215.336236</td>\n",
       "      <td>12.006805</td>\n",
       "      <td>7.640000</td>\n",
       "      <td>0.863514</td>\n",
       "      <td>1399.618111</td>\n",
       "      <td>-498.863574</td>\n",
       "      <td>1397.440120</td>\n",
       "      <td>-499.211024</td>\n",
       "      <td>1400.129303</td>\n",
       "      <td>...</td>\n",
       "      <td>12.033091</td>\n",
       "      <td>-498.350935</td>\n",
       "      <td>8.074946</td>\n",
       "      <td>-499.474407</td>\n",
       "      <td>7.897085</td>\n",
       "      <td>-500.868509</td>\n",
       "      <td>4.931400</td>\n",
       "      <td>-499.963623</td>\n",
       "      <td>24.948919</td>\n",
       "      <td>-498.709987</td>\n",
       "    </tr>\n",
       "    <tr>\n",
       "      <th>4</th>\n",
       "      <td>2016-09-01 04:59:59</td>\n",
       "      <td>199.099327</td>\n",
       "      <td>10.682530</td>\n",
       "      <td>7.530000</td>\n",
       "      <td>0.805575</td>\n",
       "      <td>1401.268123</td>\n",
       "      <td>-500.808305</td>\n",
       "      <td>1398.128818</td>\n",
       "      <td>-499.504543</td>\n",
       "      <td>1402.172226</td>\n",
       "      <td>...</td>\n",
       "      <td>12.025367</td>\n",
       "      <td>-500.786497</td>\n",
       "      <td>8.054678</td>\n",
       "      <td>-500.397500</td>\n",
       "      <td>8.107890</td>\n",
       "      <td>-509.526725</td>\n",
       "      <td>4.957674</td>\n",
       "      <td>-500.360026</td>\n",
       "      <td>25.003331</td>\n",
       "      <td>-500.856333</td>\n",
       "    </tr>\n",
       "  </tbody>\n",
       "</table>\n",
       "<p>5 rows × 53 columns</p>\n",
       "</div>"
      ],
      "text/plain": [
       "                  date  primary_cleaner.input.sulfate  \\\n",
       "0  2016-09-01 00:59:59                     210.800909   \n",
       "1  2016-09-01 01:59:59                     215.392455   \n",
       "2  2016-09-01 02:59:59                     215.259946   \n",
       "3  2016-09-01 03:59:59                     215.336236   \n",
       "4  2016-09-01 04:59:59                     199.099327   \n",
       "\n",
       "   primary_cleaner.input.depressant  primary_cleaner.input.feed_size  \\\n",
       "0                         14.993118                         8.080000   \n",
       "1                         14.987471                         8.080000   \n",
       "2                         12.884934                         7.786667   \n",
       "3                         12.006805                         7.640000   \n",
       "4                         10.682530                         7.530000   \n",
       "\n",
       "   primary_cleaner.input.xanthate  primary_cleaner.state.floatbank8_a_air  \\\n",
       "0                        1.005021                             1398.981301   \n",
       "1                        0.990469                             1398.777912   \n",
       "2                        0.996043                             1398.493666   \n",
       "3                        0.863514                             1399.618111   \n",
       "4                        0.805575                             1401.268123   \n",
       "\n",
       "   primary_cleaner.state.floatbank8_a_level  \\\n",
       "0                               -500.225577   \n",
       "1                               -500.057435   \n",
       "2                               -500.868360   \n",
       "3                               -498.863574   \n",
       "4                               -500.808305   \n",
       "\n",
       "   primary_cleaner.state.floatbank8_b_air  \\\n",
       "0                             1399.144926   \n",
       "1                             1398.055362   \n",
       "2                             1398.860436   \n",
       "3                             1397.440120   \n",
       "4                             1398.128818   \n",
       "\n",
       "   primary_cleaner.state.floatbank8_b_level  \\\n",
       "0                               -499.919735   \n",
       "1                               -499.778182   \n",
       "2                               -499.764529   \n",
       "3                               -499.211024   \n",
       "4                               -499.504543   \n",
       "\n",
       "   primary_cleaner.state.floatbank8_c_air  ...  \\\n",
       "0                             1400.102998  ...   \n",
       "1                             1396.151033  ...   \n",
       "2                             1398.075709  ...   \n",
       "3                             1400.129303  ...   \n",
       "4                             1402.172226  ...   \n",
       "\n",
       "   secondary_cleaner.state.floatbank4_a_air  \\\n",
       "0                                 12.023554   \n",
       "1                                 12.058140   \n",
       "2                                 11.962366   \n",
       "3                                 12.033091   \n",
       "4                                 12.025367   \n",
       "\n",
       "   secondary_cleaner.state.floatbank4_a_level  \\\n",
       "0                                 -497.795834   \n",
       "1                                 -498.695773   \n",
       "2                                 -498.767484   \n",
       "3                                 -498.350935   \n",
       "4                                 -500.786497   \n",
       "\n",
       "   secondary_cleaner.state.floatbank4_b_air  \\\n",
       "0                                  8.016656   \n",
       "1                                  8.130979   \n",
       "2                                  8.096893   \n",
       "3                                  8.074946   \n",
       "4                                  8.054678   \n",
       "\n",
       "   secondary_cleaner.state.floatbank4_b_level  \\\n",
       "0                                 -501.289139   \n",
       "1                                 -499.634209   \n",
       "2                                 -500.827423   \n",
       "3                                 -499.474407   \n",
       "4                                 -500.397500   \n",
       "\n",
       "   secondary_cleaner.state.floatbank5_a_air  \\\n",
       "0                                  7.946562   \n",
       "1                                  7.958270   \n",
       "2                                  8.071056   \n",
       "3                                  7.897085   \n",
       "4                                  8.107890   \n",
       "\n",
       "   secondary_cleaner.state.floatbank5_a_level  \\\n",
       "0                                 -432.317850   \n",
       "1                                 -525.839648   \n",
       "2                                 -500.801673   \n",
       "3                                 -500.868509   \n",
       "4                                 -509.526725   \n",
       "\n",
       "   secondary_cleaner.state.floatbank5_b_air  \\\n",
       "0                                  4.872511   \n",
       "1                                  4.878850   \n",
       "2                                  4.905125   \n",
       "3                                  4.931400   \n",
       "4                                  4.957674   \n",
       "\n",
       "   secondary_cleaner.state.floatbank5_b_level  \\\n",
       "0                                 -500.037437   \n",
       "1                                 -500.162375   \n",
       "2                                 -499.828510   \n",
       "3                                 -499.963623   \n",
       "4                                 -500.360026   \n",
       "\n",
       "   secondary_cleaner.state.floatbank6_a_air  \\\n",
       "0                                 26.705889   \n",
       "1                                 25.019940   \n",
       "2                                 24.994862   \n",
       "3                                 24.948919   \n",
       "4                                 25.003331   \n",
       "\n",
       "   secondary_cleaner.state.floatbank6_a_level  \n",
       "0                                 -499.709414  \n",
       "1                                 -499.819438  \n",
       "2                                 -500.622559  \n",
       "3                                 -498.709987  \n",
       "4                                 -500.856333  \n",
       "\n",
       "[5 rows x 53 columns]"
      ]
     },
     "execution_count": 7,
     "metadata": {},
     "output_type": "execute_result"
    }
   ],
   "source": [
    "df_test.head()"
   ]
  },
  {
   "cell_type": "code",
   "execution_count": 8,
   "metadata": {
    "scrolled": true
   },
   "outputs": [
    {
     "name": "stdout",
     "output_type": "stream",
     "text": [
      "<class 'pandas.core.frame.DataFrame'>\n",
      "RangeIndex: 5290 entries, 0 to 5289\n",
      "Data columns (total 53 columns):\n",
      " #   Column                                      Non-Null Count  Dtype  \n",
      "---  ------                                      --------------  -----  \n",
      " 0   date                                        5290 non-null   object \n",
      " 1   primary_cleaner.input.sulfate               5286 non-null   float64\n",
      " 2   primary_cleaner.input.depressant            5285 non-null   float64\n",
      " 3   primary_cleaner.input.feed_size             5290 non-null   float64\n",
      " 4   primary_cleaner.input.xanthate              5286 non-null   float64\n",
      " 5   primary_cleaner.state.floatbank8_a_air      5290 non-null   float64\n",
      " 6   primary_cleaner.state.floatbank8_a_level    5290 non-null   float64\n",
      " 7   primary_cleaner.state.floatbank8_b_air      5290 non-null   float64\n",
      " 8   primary_cleaner.state.floatbank8_b_level    5290 non-null   float64\n",
      " 9   primary_cleaner.state.floatbank8_c_air      5290 non-null   float64\n",
      " 10  primary_cleaner.state.floatbank8_c_level    5290 non-null   float64\n",
      " 11  primary_cleaner.state.floatbank8_d_air      5290 non-null   float64\n",
      " 12  primary_cleaner.state.floatbank8_d_level    5290 non-null   float64\n",
      " 13  rougher.input.feed_ag                       5290 non-null   float64\n",
      " 14  rougher.input.feed_pb                       5290 non-null   float64\n",
      " 15  rougher.input.feed_rate                     5287 non-null   float64\n",
      " 16  rougher.input.feed_size                     5289 non-null   float64\n",
      " 17  rougher.input.feed_sol                      5269 non-null   float64\n",
      " 18  rougher.input.feed_au                       5290 non-null   float64\n",
      " 19  rougher.input.floatbank10_sulfate           5285 non-null   float64\n",
      " 20  rougher.input.floatbank10_xanthate          5290 non-null   float64\n",
      " 21  rougher.input.floatbank11_sulfate           5282 non-null   float64\n",
      " 22  rougher.input.floatbank11_xanthate          5265 non-null   float64\n",
      " 23  rougher.state.floatbank10_a_air             5290 non-null   float64\n",
      " 24  rougher.state.floatbank10_a_level           5290 non-null   float64\n",
      " 25  rougher.state.floatbank10_b_air             5290 non-null   float64\n",
      " 26  rougher.state.floatbank10_b_level           5290 non-null   float64\n",
      " 27  rougher.state.floatbank10_c_air             5290 non-null   float64\n",
      " 28  rougher.state.floatbank10_c_level           5290 non-null   float64\n",
      " 29  rougher.state.floatbank10_d_air             5290 non-null   float64\n",
      " 30  rougher.state.floatbank10_d_level           5290 non-null   float64\n",
      " 31  rougher.state.floatbank10_e_air             5290 non-null   float64\n",
      " 32  rougher.state.floatbank10_e_level           5290 non-null   float64\n",
      " 33  rougher.state.floatbank10_f_air             5290 non-null   float64\n",
      " 34  rougher.state.floatbank10_f_level           5290 non-null   float64\n",
      " 35  secondary_cleaner.state.floatbank2_a_air    5287 non-null   float64\n",
      " 36  secondary_cleaner.state.floatbank2_a_level  5290 non-null   float64\n",
      " 37  secondary_cleaner.state.floatbank2_b_air    5288 non-null   float64\n",
      " 38  secondary_cleaner.state.floatbank2_b_level  5290 non-null   float64\n",
      " 39  secondary_cleaner.state.floatbank3_a_air    5281 non-null   float64\n",
      " 40  secondary_cleaner.state.floatbank3_a_level  5290 non-null   float64\n",
      " 41  secondary_cleaner.state.floatbank3_b_air    5290 non-null   float64\n",
      " 42  secondary_cleaner.state.floatbank3_b_level  5290 non-null   float64\n",
      " 43  secondary_cleaner.state.floatbank4_a_air    5290 non-null   float64\n",
      " 44  secondary_cleaner.state.floatbank4_a_level  5290 non-null   float64\n",
      " 45  secondary_cleaner.state.floatbank4_b_air    5290 non-null   float64\n",
      " 46  secondary_cleaner.state.floatbank4_b_level  5290 non-null   float64\n",
      " 47  secondary_cleaner.state.floatbank5_a_air    5290 non-null   float64\n",
      " 48  secondary_cleaner.state.floatbank5_a_level  5290 non-null   float64\n",
      " 49  secondary_cleaner.state.floatbank5_b_air    5290 non-null   float64\n",
      " 50  secondary_cleaner.state.floatbank5_b_level  5290 non-null   float64\n",
      " 51  secondary_cleaner.state.floatbank6_a_air    5290 non-null   float64\n",
      " 52  secondary_cleaner.state.floatbank6_a_level  5290 non-null   float64\n",
      "dtypes: float64(52), object(1)\n",
      "memory usage: 2.1+ MB\n"
     ]
    }
   ],
   "source": [
    "df_test.info()"
   ]
  },
  {
   "cell_type": "markdown",
   "metadata": {},
   "source": [
    "Мы можем наблюдать, что в тестовой выборке у нас отсутвуют такие признаки, как финальные параметры продукта. И параметры rougher.calculation и output - параметры продукта.\n"
   ]
  },
  {
   "cell_type": "markdown",
   "metadata": {},
   "source": [
    "### Описание данных"
   ]
  },
  {
   "cell_type": "markdown",
   "metadata": {},
   "source": [
    "**Технологический процесс**<br>\n",
    "Rougher feed — исходное сырье<br>\n",
    "Rougher additions (или reagent additions) — флотационные реагенты: Xanthate, Sulphate, Depressant<br>\n",
    "*-Xanthate — ксантогенат (промотер, или активатор флотации)*<br>\n",
    "*-Sulphate — сульфат (на данном производстве сульфид натрия)*<br>\n",
    "*-Depressant — депрессант (силикат натрия)*<br>\n",
    "Rougher process (англ. «грубый процесс») — флотация<br>\n",
    "Rougher tails — отвальные хвосты<br>\n",
    "Float banks — флотационная установка<br>\n",
    "Cleaner process — очистка<br>\n",
    "Rougher Au — черновой концентрат золота<br>\n",
    "Final Au — финальный концентрат золота<br>\n",
    "**Параметры этапов**<br>\n",
    "air amount — объём воздуха<br>\n",
    "fluid levels — уровень жидкости<br>\n",
    "feed size — размер гранул сырья<br>\n",
    "feed rate — скорость подачи<br>\n",
    "**Наименование признаков**<br>\n",
    "Наименование признаков должно быть такое:<br>\n",
    "[этап].[тип_параметра].[название_параметра]<br>\n",
    "Пример: rougher.input.feed_ag<br>\n",
    "Возможные значения для блока [этап]:<br>\n",
    "*rougher — флотация<br>\n",
    "primary_cleaner — первичная очистка<br>\n",
    "secondary_cleaner — вторичная очистка<br>\n",
    "final — финальные характеристики<br>*\n",
    "Возможные значения для блока [тип_параметра]:<br>\n",
    "*input — параметры сырья<br>\n",
    "output — параметры продукта<br>\n",
    "state — параметры, характеризующие текущее состояние этапа<br>\n",
    "calculation — расчётные характеристики<br>*"
   ]
  },
  {
   "cell_type": "code",
   "execution_count": 9,
   "metadata": {},
   "outputs": [],
   "source": [
    "# Проверим правильность расчета эффективности обогащения\n",
    "# Вычислим rougher.output.recovery на обучающей выборке\n",
    "df_train['rougher.output.recovery_check'] = (\n",
    "    df_train['rougher.output.concentrate_au'] * (df_train['rougher.input.feed_au'] - df_train['rougher.output.tail_au'])\n",
    ") / (\n",
    "    df_train['rougher.input.feed_au'] * (df_train['rougher.output.concentrate_au'] - df_train['rougher.output.tail_au'])\n",
    ") * 100"
   ]
  },
  {
   "cell_type": "code",
   "execution_count": 10,
   "metadata": {
    "scrolled": true
   },
   "outputs": [
    {
     "name": "stdout",
     "output_type": "stream",
     "text": [
      "9.73512347450521e-15\n"
     ]
    }
   ],
   "source": [
    "# Найдем MAE между нашими расчётами и значением признака.\n",
    "print(mean_absolute_error(df_train['rougher.output.recovery'], df_train['rougher.output.recovery_check']))"
   ]
  },
  {
   "cell_type": "markdown",
   "metadata": {},
   "source": [
    "Мы видим значение MAE = 9.6e-15 = 0.0000000000000096, значит, что формула считает верно. Ошибка минимальная."
   ]
  },
  {
   "cell_type": "code",
   "execution_count": 11,
   "metadata": {},
   "outputs": [],
   "source": [
    "# Заполним пропуски предидущими значениями, так как соседние по времени параметры часто похожи.\n",
    "df_train = df_train.fillna(method='pad')\n",
    "df_test = df_test.fillna(method='pad')"
   ]
  },
  {
   "cell_type": "code",
   "execution_count": 12,
   "metadata": {
    "scrolled": true
   },
   "outputs": [
    {
     "data": {
      "text/plain": [
       "Text(0.5, 1.0, 'Correlation Heatmap')"
      ]
     },
     "execution_count": 12,
     "metadata": {},
     "output_type": "execute_result"
    },
    {
     "data": {
      "image/png": "[encoded data removed]",
      "text/plain": [
       "<Figure size 1440x1440 with 2 Axes>"
      ]
     },
     "metadata": {
      "needs_background": "light"
     },
     "output_type": "display_data"
    }
   ],
   "source": [
    "# Проверим на карреляцию\n",
    "plt.figure(figsize=(20, 20)) \n",
    "heatmap = sns.heatmap(df_test.corr(), vmin=-1, vmax=1) \n",
    "heatmap.set_title('Correlation Heatmap', fontdict={'fontsize':25}, pad=30)"
   ]
  },
  {
   "cell_type": "markdown",
   "metadata": {},
   "source": [
    "Проанализируем признаки, недоступные в тестовой выборке. \n",
    "\n",
    "Мы можем наблюдать, что в тестовой выборке у нас нет признаков, которые появляются во время технологического процесса.\\\n",
    "Это то, что мы получаем на каждом этапе после входных данных.\\\n",
    "Это параметры по типу calculation и output.\\\n",
    "Для примера: \\\n",
    "rougher.output.recovery \\\n",
    "rougher.calculation.au_pb_ratio \\\n",
    "rougher.output.concentrate_ag \\\n",
    "rougher.output.tail_ag \\\n",
    "rougher.output.recovery_check \\\n",
    "rougher.output.concentrate_sum\n",
    "\n",
    "Все они относятся к типу - float64"
   ]
  },
  {
   "cell_type": "markdown",
   "metadata": {},
   "source": [
    "## Анализ данных"
   ]
  },
  {
   "cell_type": "markdown",
   "metadata": {},
   "source": [
    "### Посмотрим, как меняется концентрация металлов (Au, Ag, Pb) на различных этапах очистки."
   ]
  },
  {
   "cell_type": "markdown",
   "metadata": {},
   "source": [
    "#### Проанализируем Ag"
   ]
  },
  {
   "cell_type": "code",
   "execution_count": 13,
   "metadata": {
    "scrolled": true
   },
   "outputs": [],
   "source": [
    "ag_mean_input = df_train['rougher.input.feed_ag'].mean()\n",
    "ag_mean_output = df_train['rougher.output.concentrate_ag'].mean() \n",
    "ag_mean_primary = df_train['primary_cleaner.output.concentrate_ag'].mean() \n",
    "ag_mean_final = df_train['final.output.concentrate_ag'].mean()"
   ]
  },
  {
   "cell_type": "code",
   "execution_count": 14,
   "metadata": {
    "scrolled": true
   },
   "outputs": [
    {
     "data": {
      "text/plain": [
       "<AxesSubplot:ylabel='Frequency'>"
      ]
     },
     "execution_count": 14,
     "metadata": {},
     "output_type": "execute_result"
    },
    {
     "data": {
      "image/png": "[encoded data removed]",
      "text/plain": [
       "<Figure size 720x432 with 1 Axes>"
      ]
     },
     "metadata": {
      "needs_background": "light"
     },
     "output_type": "display_data"
    }
   ],
   "source": [
    "df_train.plot.hist(\n",
    "    y=['rougher.input.feed_ag', 'rougher.output.concentrate_ag', 'primary_cleaner.output.concentrate_ag', 'final.output.concentrate_ag'],\n",
    "    figsize=(10, 6),\n",
    "    alpha= 0.7,\n",
    "    bins=200\n",
    ")"
   ]
  },
  {
   "cell_type": "markdown",
   "metadata": {},
   "source": [
    "Мы видим, что изменение концентрацим Ag на разных этапах. С каждым этапом концентрация Ag становится меньше."
   ]
  },
  {
   "cell_type": "markdown",
   "metadata": {},
   "source": [
    "#### Проанализируем Pb"
   ]
  },
  {
   "cell_type": "code",
   "execution_count": 15,
   "metadata": {
    "scrolled": false
   },
   "outputs": [
    {
     "data": {
      "text/plain": [
       "<AxesSubplot:ylabel='Frequency'>"
      ]
     },
     "execution_count": 15,
     "metadata": {},
     "output_type": "execute_result"
    },
    {
     "data": {
      "image/png": "[encoded data removed]",
      "text/plain": [
       "<Figure size 720x432 with 1 Axes>"
      ]
     },
     "metadata": {
      "needs_background": "light"
     },
     "output_type": "display_data"
    }
   ],
   "source": [
    "df_train.plot.hist(\n",
    "    y=['rougher.input.feed_pb', 'rougher.output.concentrate_pb','primary_cleaner.output.concentrate_pb','final.output.concentrate_pb'],\n",
    "    figsize=(10, 6),\n",
    "    alpha= 0.7,\n",
    "    bins=200\n",
    ")"
   ]
  },
  {
   "cell_type": "markdown",
   "metadata": {},
   "source": [
    "Здесь же можем наблюдать, что изменение концентрацим Pb на разных этапах на оборот увееличивается. С каждым этапом концентрация Pb становится выше. На этапе primary мы видим больший разброс значений, а на final результат становится с меньшим разбросом."
   ]
  },
  {
   "cell_type": "markdown",
   "metadata": {},
   "source": [
    "#### Проанализируем Au"
   ]
  },
  {
   "cell_type": "code",
   "execution_count": 16,
   "metadata": {
    "scrolled": false
   },
   "outputs": [
    {
     "data": {
      "text/plain": [
       "<AxesSubplot:ylabel='Frequency'>"
      ]
     },
     "execution_count": 16,
     "metadata": {},
     "output_type": "execute_result"
    },
    {
     "data": {
      "image/png": "[encoded data removed]",
      "text/plain": [
       "<Figure size 720x432 with 1 Axes>"
      ]
     },
     "metadata": {
      "needs_background": "light"
     },
     "output_type": "display_data"
    }
   ],
   "source": [
    "df_train.plot.hist(\n",
    "    y=['rougher.input.feed_ag', 'rougher.output.concentrate_au', 'primary_cleaner.output.concentrate_au', 'final.output.concentrate_au'],\n",
    "    figsize=(10, 6),\n",
    "    alpha= 0.7,\n",
    "    bins=200\n",
    ")"
   ]
  },
  {
   "cell_type": "markdown",
   "metadata": {},
   "source": [
    "Если мы посмоторим на конценрацию Au, то видим, что здесь четко прослеживаются этапы обработки. С каждым этапом концентрация заметно растет."
   ]
  },
  {
   "cell_type": "markdown",
   "metadata": {},
   "source": [
    "### Сравните распределения размеров гранул сырья на обучающей и тестовой выборках."
   ]
  },
  {
   "cell_type": "markdown",
   "metadata": {},
   "source": [
    "#### Сравнение гранул сырья на этапе золотоносной руды"
   ]
  },
  {
   "cell_type": "code",
   "execution_count": 17,
   "metadata": {
    "scrolled": true
   },
   "outputs": [
    {
     "data": {
      "text/plain": [
       "<AxesSubplot:ylabel='Frequency'>"
      ]
     },
     "execution_count": 17,
     "metadata": {},
     "output_type": "execute_result"
    },
    {
     "data": {
      "image/png": "[encoded data removed]",
      "text/plain": [
       "<Figure size 432x288 with 1 Axes>"
      ]
     },
     "metadata": {
      "needs_background": "light"
     },
     "output_type": "display_data"
    }
   ],
   "source": [
    "ax = df_train.plot(\n",
    "    kind='hist',\n",
    "    y='rougher.input.feed_size',\n",
    "    histtype='step',\n",
    "    range=(20, 100),\n",
    "    bins=50,\n",
    "    linewidth=5,\n",
    "    alpha=0.7,\n",
    "    label='train',\n",
    ")\n",
    "df_test.plot(\n",
    "    kind='hist',\n",
    "    y='rougher.input.feed_size',\n",
    "    histtype='step',\n",
    "    range=(20, 100),\n",
    "    bins=50,\n",
    "    linewidth=5,\n",
    "    alpha=0.75,\n",
    "    label='test',\n",
    "    ax=ax,\n",
    "    grid=True,\n",
    "    legend=True,\n",
    ")"
   ]
  },
  {
   "cell_type": "markdown",
   "metadata": {},
   "source": [
    "Построив график на тестовой и тренинговой выборке мы видим, что они схожи в распределении гранул сырья"
   ]
  },
  {
   "cell_type": "markdown",
   "metadata": {},
   "source": [
    "#### Сравнение гранул сырья на этапе Чернового концентрата"
   ]
  },
  {
   "cell_type": "code",
   "execution_count": 18,
   "metadata": {
    "scrolled": false
   },
   "outputs": [
    {
     "data": {
      "text/plain": [
       "<AxesSubplot:ylabel='Frequency'>"
      ]
     },
     "execution_count": 18,
     "metadata": {},
     "output_type": "execute_result"
    },
    {
     "data": {
      "image/png": "[encoded data removed]",
      "text/plain": [
       "<Figure size 432x288 with 1 Axes>"
      ]
     },
     "metadata": {
      "needs_background": "light"
     },
     "output_type": "display_data"
    }
   ],
   "source": [
    "# Сравнение гранул сырья на этапе Чернового концентрата\n",
    "ax = df_train.plot(\n",
    "    kind='hist',\n",
    "    y='primary_cleaner.input.feed_size',\n",
    "    histtype='step',\n",
    "    range=(5, 10),\n",
    "    bins=50,\n",
    "    linewidth=5,\n",
    "    alpha=0.7,\n",
    "    label='train',\n",
    ")\n",
    "df_test.plot(\n",
    "    kind='hist',\n",
    "    y='primary_cleaner.input.feed_size',\n",
    "    histtype='step',\n",
    "    range=(5, 10),\n",
    "    bins=50,\n",
    "    linewidth=5,\n",
    "    alpha=0.75,\n",
    "    label='test',\n",
    "    ax=ax,\n",
    "    grid=True,\n",
    "    legend=True,\n",
    ")"
   ]
  },
  {
   "cell_type": "markdown",
   "metadata": {},
   "source": [
    "Так же это прослеживает и на данном графике на этапе чернового концентрата."
   ]
  },
  {
   "cell_type": "markdown",
   "metadata": {},
   "source": [
    "### Исследуем суммарную концентрацию всех веществ на разных стадиях: в сырье, в черновом и финальном концентратах."
   ]
  },
  {
   "cell_type": "code",
   "execution_count": 19,
   "metadata": {},
   "outputs": [],
   "source": [
    "df_train['rougher.output.concentrate_sum'] = (\n",
    "    df_train['rougher.output.concentrate_ag']+\n",
    "    df_train['rougher.output.concentrate_pb']+\n",
    "    df_train['rougher.output.concentrate_sol']+\n",
    "    df_train['rougher.output.concentrate_au']\n",
    ")\n",
    "\n",
    "df_train['primary_cleaner.output.concentrate_sum'] = (\n",
    "    df_train['primary_cleaner.output.concentrate_ag']+\n",
    "    df_train['primary_cleaner.output.concentrate_pb']+\n",
    "    df_train['primary_cleaner.output.concentrate_sol']+\n",
    "    df_train['primary_cleaner.output.concentrate_au']\n",
    ")\n",
    "\n",
    "df_train['final.output.concentrate_sum'] = (\n",
    "    df_train['final.output.concentrate_ag']+\n",
    "    df_train['final.output.concentrate_pb']+\n",
    "    df_train['final.output.concentrate_sol']+\n",
    "    df_train['final.output.concentrate_au']\n",
    ")"
   ]
  },
  {
   "cell_type": "code",
   "execution_count": 20,
   "metadata": {
    "scrolled": false
   },
   "outputs": [
    {
     "data": {
      "image/png": "[encoded data removed]",
      "text/plain": [
       "<Figure size 720x432 with 1 Axes>"
      ]
     },
     "metadata": {
      "needs_background": "light"
     },
     "output_type": "display_data"
    }
   ],
   "source": [
    "df_train.plot.hist(\n",
    "    y=['rougher.output.concentrate_sum', 'primary_cleaner.output.concentrate_sum','final.output.concentrate_sum'],\n",
    "    figsize=(10, 6),\n",
    "    alpha= 0.7,\n",
    "    bins=200,\n",
    "    range=(-10, 90)\n",
    ")\n",
    "plt.xlabel(\"Суммарная концентраця\")\n",
    "plt.ylabel(\"Количество результатов\")\n",
    "\n",
    "plt.title(\"Гистограмма распределения концентраций на разных этапах очистки\")\n",
    "plt.show()"
   ]
  },
  {
   "cell_type": "markdown",
   "metadata": {},
   "source": [
    "По графику видно, что из аномалий много значений в 0. \\\n",
    "Исследуя суммарную концентрацию на разных этапах, мы видим, что на первом (rougher) этапе у нас концентрация очень сильно разбросана, далее на втором этапе (primary) концентрация веществ падает, но попрежнему остается очень разбросанной в значениях. И в итоге на финальном этапе (final) суммарная концентрация в среднем становится на уровне 70, и разброс значений значительно меньше."
   ]
  },
  {
   "cell_type": "code",
   "execution_count": 21,
   "metadata": {
    "scrolled": true
   },
   "outputs": [
    {
     "data": {
      "image/png": "[encoded data removed]",
      "text/plain": [
       "<Figure size 720x432 with 1 Axes>"
      ]
     },
     "metadata": {
      "needs_background": "light"
     },
     "output_type": "display_data"
    }
   ],
   "source": [
    "# Приблизим и посмотрим на выбросы.\n",
    "df_train.plot.hist(\n",
    "    y=['rougher.output.concentrate_sum', 'primary_cleaner.output.concentrate_sum','final.output.concentrate_sum'],\n",
    "    figsize=(10, 6),\n",
    "    alpha= 0.7,\n",
    "    bins=5,\n",
    "    range=(0, 5)\n",
    ")\n",
    "plt.xlabel(\"Суммарная концентраця\")\n",
    "plt.ylabel(\"Количество результатов\")\n",
    "\n",
    "plt.title(\"Гистограмма распределения концентраций на разных этапах очистки\")\n",
    "plt.show()"
   ]
  },
  {
   "cell_type": "markdown",
   "metadata": {},
   "source": [
    "На этапе предобрабоки были найдены строки с нулевыми значениями. \n",
    "\n",
    "Эти же строки показывают суммарную концентрацию, равную 0. \n",
    "\n",
    "Соответственно они являются аномалией. Удалим их."
   ]
  },
  {
   "cell_type": "code",
   "execution_count": 22,
   "metadata": {},
   "outputs": [
    {
     "name": "stdout",
     "output_type": "stream",
     "text": [
      "date                                          297\n",
      "final.output.concentrate_ag                   297\n",
      "final.output.concentrate_pb                   297\n",
      "final.output.concentrate_sol                  297\n",
      "final.output.concentrate_au                   297\n",
      "                                             ... \n",
      "secondary_cleaner.state.floatbank6_a_level    297\n",
      "rougher.output.recovery_check                 297\n",
      "rougher.output.concentrate_sum                297\n",
      "primary_cleaner.output.concentrate_sum        297\n",
      "final.output.concentrate_sum                  297\n",
      "Length: 91, dtype: int64\n",
      "date                                          74\n",
      "final.output.concentrate_ag                   74\n",
      "final.output.concentrate_pb                   74\n",
      "final.output.concentrate_sol                  74\n",
      "final.output.concentrate_au                   74\n",
      "                                              ..\n",
      "secondary_cleaner.state.floatbank6_a_level    74\n",
      "rougher.output.recovery_check                 74\n",
      "rougher.output.concentrate_sum                74\n",
      "primary_cleaner.output.concentrate_sum        74\n",
      "final.output.concentrate_sum                  74\n",
      "Length: 91, dtype: int64\n",
      "date                                          58\n",
      "final.output.concentrate_ag                   58\n",
      "final.output.concentrate_pb                   58\n",
      "final.output.concentrate_sol                  58\n",
      "final.output.concentrate_au                   58\n",
      "                                              ..\n",
      "secondary_cleaner.state.floatbank6_a_level    58\n",
      "rougher.output.recovery_check                 58\n",
      "rougher.output.concentrate_sum                58\n",
      "primary_cleaner.output.concentrate_sum        58\n",
      "final.output.concentrate_sum                  58\n",
      "Length: 91, dtype: int64\n"
     ]
    }
   ],
   "source": [
    "print(df_train[df_train['rougher.output.concentrate_sum'] == 0].count())\n",
    "print(df_train[df_train['primary_cleaner.output.concentrate_sum'] == 0].count())\n",
    "print(df_train[df_train['final.output.concentrate_sum'] == 0].count())"
   ]
  },
  {
   "cell_type": "code",
   "execution_count": 23,
   "metadata": {},
   "outputs": [
    {
     "name": "stdout",
     "output_type": "stream",
     "text": [
      "date                                          0\n",
      "final.output.concentrate_ag                   0\n",
      "final.output.concentrate_pb                   0\n",
      "final.output.concentrate_sol                  0\n",
      "final.output.concentrate_au                   0\n",
      "                                             ..\n",
      "secondary_cleaner.state.floatbank6_a_level    0\n",
      "rougher.output.recovery_check                 0\n",
      "rougher.output.concentrate_sum                0\n",
      "primary_cleaner.output.concentrate_sum        0\n",
      "final.output.concentrate_sum                  0\n",
      "Length: 91, dtype: int64\n"
     ]
    }
   ],
   "source": [
    "df_train = df_train.drop(df_train[df_train['rougher.output.concentrate_sum'] == 0].index)\n",
    "print(df_train[df_train['rougher.output.concentrate_sum'] == 0].count())"
   ]
  },
  {
   "cell_type": "code",
   "execution_count": 24,
   "metadata": {},
   "outputs": [
    {
     "name": "stdout",
     "output_type": "stream",
     "text": [
      "date                                          0\n",
      "final.output.concentrate_ag                   0\n",
      "final.output.concentrate_pb                   0\n",
      "final.output.concentrate_sol                  0\n",
      "final.output.concentrate_au                   0\n",
      "                                             ..\n",
      "secondary_cleaner.state.floatbank6_a_level    0\n",
      "rougher.output.recovery_check                 0\n",
      "rougher.output.concentrate_sum                0\n",
      "primary_cleaner.output.concentrate_sum        0\n",
      "final.output.concentrate_sum                  0\n",
      "Length: 91, dtype: int64\n"
     ]
    }
   ],
   "source": [
    "df_train = df_train.drop(df_train[df_train['primary_cleaner.output.concentrate_sum'] == 0].index)\n",
    "print(df_train[df_train['primary_cleaner.output.concentrate_sum'] == 0].count())"
   ]
  },
  {
   "cell_type": "code",
   "execution_count": 25,
   "metadata": {},
   "outputs": [
    {
     "name": "stdout",
     "output_type": "stream",
     "text": [
      "date                                          0\n",
      "final.output.concentrate_ag                   0\n",
      "final.output.concentrate_pb                   0\n",
      "final.output.concentrate_sol                  0\n",
      "final.output.concentrate_au                   0\n",
      "                                             ..\n",
      "secondary_cleaner.state.floatbank6_a_level    0\n",
      "rougher.output.recovery_check                 0\n",
      "rougher.output.concentrate_sum                0\n",
      "primary_cleaner.output.concentrate_sum        0\n",
      "final.output.concentrate_sum                  0\n",
      "Length: 91, dtype: int64\n"
     ]
    }
   ],
   "source": [
    "df_train = df_train.drop(df_train[df_train['final.output.concentrate_sum'] == 0].index)\n",
    "print(df_train[df_train['final.output.concentrate_sum'] == 0].count())"
   ]
  },
  {
   "cell_type": "markdown",
   "metadata": {},
   "source": [
    "## Модель"
   ]
  },
  {
   "cell_type": "markdown",
   "metadata": {},
   "source": [
    "### Напишем функцию для расчета итогового sMAPE"
   ]
  },
  {
   "cell_type": "code",
   "execution_count": 26,
   "metadata": {},
   "outputs": [],
   "source": [
    "def smape(y_true, y_pred):\n",
    "    return 2.0 * np.mean(np.abs(y_pred - y_true) / (np.abs(y_pred) + np.abs(y_true))) * 100"
   ]
  },
  {
   "cell_type": "markdown",
   "metadata": {},
   "source": [
    "### Найдем rougher.output.recovery"
   ]
  },
  {
   "cell_type": "code",
   "execution_count": 27,
   "metadata": {},
   "outputs": [],
   "source": [
    "# Подготовим фичи для модели (оставим только те, что есть в тестовой выборке)\n",
    "i = df_train.filter(like='rougher')\n",
    "i = i.drop(['rougher.output.recovery', 'rougher.calculation.au_pb_ratio',\n",
    "           'rougher.calculation.floatbank11_sulfate_to_au_feed',\n",
    "           'rougher.calculation.floatbank10_sulfate_to_au_feed',\n",
    "           'rougher.calculation.sulfate_to_au_concentrate',\n",
    "            'rougher.output.concentrate_ag',\n",
    "           'rougher.output.concentrate_pb',\n",
    "           'rougher.output.concentrate_sol',\n",
    "           'rougher.output.concentrate_au',\n",
    "           'rougher.output.tail_ag',\n",
    "           'rougher.output.tail_pb',\n",
    "           'rougher.output.tail_sol',\n",
    "           'rougher.output.tail_au',\n",
    "           'rougher.output.recovery_check',\n",
    "           'rougher.output.concentrate_sum'],\n",
    "           axis=1\n",
    ")"
   ]
  },
  {
   "cell_type": "code",
   "execution_count": 28,
   "metadata": {},
   "outputs": [],
   "source": [
    "# Определим фичи и таргет для обучния модели\n",
    "target_train = df_train['rougher.output.recovery']\n",
    "features_train = i"
   ]
  },
  {
   "cell_type": "code",
   "execution_count": 29,
   "metadata": {},
   "outputs": [
    {
     "data": {
      "text/plain": [
       "(13725, 22)"
      ]
     },
     "execution_count": 29,
     "metadata": {},
     "output_type": "execute_result"
    }
   ],
   "source": [
    "features_train.shape"
   ]
  },
  {
   "cell_type": "code",
   "execution_count": 30,
   "metadata": {},
   "outputs": [],
   "source": [
    "# Определим фичи для тестовой выборки\n",
    "features_test = df_test.filter(like='rougher') "
   ]
  },
  {
   "cell_type": "code",
   "execution_count": 31,
   "metadata": {
    "scrolled": false
   },
   "outputs": [
    {
     "data": {
      "text/plain": [
       "(5290, 22)"
      ]
     },
     "execution_count": 31,
     "metadata": {},
     "output_type": "execute_result"
    }
   ],
   "source": [
    "features_test.shape"
   ]
  },
  {
   "cell_type": "code",
   "execution_count": 32,
   "metadata": {},
   "outputs": [],
   "source": [
    "# Масштабируем признаки методом StandardScaler\n",
    "scaler = StandardScaler()\n",
    "scaler.fit(features_train)\n",
    "features_train = scaler.transform(features_train)\n",
    "features_test = scaler.transform(features_test)"
   ]
  },
  {
   "cell_type": "markdown",
   "metadata": {},
   "source": [
    "Перед нами стоит задача регресии. Выберем следующие модели для обучения:\n",
    "\n",
    "* Линейная регрессия\n",
    "* RandomForestRegressor\n",
    "* DecisionTreeRegressor\n",
    "\n",
    "Выполним поиск лучшей модели для предсказаний:"
   ]
  },
  {
   "cell_type": "code",
   "execution_count": 33,
   "metadata": {},
   "outputs": [],
   "source": [
    "# Создадим собственный score\n",
    "my_scorer = make_scorer(smape, greater_is_better=False)"
   ]
  },
  {
   "cell_type": "code",
   "execution_count": 34,
   "metadata": {},
   "outputs": [],
   "source": [
    "# Создадим модель Дерева решений\n",
    "model_t = DecisionTreeRegressor(random_state=12345)"
   ]
  },
  {
   "cell_type": "code",
   "execution_count": 35,
   "metadata": {},
   "outputs": [],
   "source": [
    "scores_t = cross_val_score(model_t, features_train, target_train, cv=5, scoring=my_scorer)"
   ]
  },
  {
   "cell_type": "code",
   "execution_count": 36,
   "metadata": {},
   "outputs": [
    {
     "name": "stdout",
     "output_type": "stream",
     "text": [
      "Mean R2 from CV of DecisionTreeRegressor = -1.0118724403014898\n",
      "Mean MAE from CV of DecisionTreeRegressor = -7.106226904894362\n",
      "Mean SMAPE from CV of DecisionTreeRegressor = -8.818818802310844\n"
     ]
    }
   ],
   "source": [
    "print('Mean R2 from CV of DecisionTreeRegressor =', cross_val_score(model_t, features_train, target_train, cv=5).mean())\n",
    "print('Mean MAE from CV of DecisionTreeRegressor =', cross_val_score(model_t, features_train, target_train, cv=5, scoring='neg_mean_absolute_error').mean())\n",
    "print('Mean SMAPE from CV of DecisionTreeRegressor =', cross_val_score(model_t, features_train, target_train, cv=5, scoring=my_scorer).mean())\n",
    "\n"
   ]
  },
  {
   "cell_type": "code",
   "execution_count": 37,
   "metadata": {},
   "outputs": [],
   "source": [
    "model_l = LinearRegression()"
   ]
  },
  {
   "cell_type": "code",
   "execution_count": 38,
   "metadata": {},
   "outputs": [],
   "source": [
    "scores_l = cross_val_score(model_l, features_train, target_train, cv=5, scoring=my_scorer)"
   ]
  },
  {
   "cell_type": "code",
   "execution_count": 39,
   "metadata": {
    "scrolled": true
   },
   "outputs": [
    {
     "name": "stdout",
     "output_type": "stream",
     "text": [
      "Mean R2 from CV of LinearRegression = -0.09381680440247286\n",
      "Mean MAE from CV of LinearRegression = -5.449003354583839\n",
      "Mean SMAPE from CV of LinearRegression = -6.677118661212694\n"
     ]
    }
   ],
   "source": [
    "print('Mean R2 from CV of LinearRegression =', cross_val_score(model_l, features_train, target_train, cv=5).mean())\n",
    "print('Mean MAE from CV of LinearRegression =', cross_val_score(model_l, features_train, target_train, cv=5, scoring='neg_mean_absolute_error').mean())\n",
    "print('Mean SMAPE from CV of LinearRegression =', cross_val_score(model_l, features_train, target_train, cv=5, scoring=my_scorer).mean())"
   ]
  },
  {
   "cell_type": "code",
   "execution_count": 40,
   "metadata": {},
   "outputs": [],
   "source": [
    "# Создадим модель Случайного леса\n",
    "model_r = RandomForestRegressor(random_state=12345)"
   ]
  },
  {
   "cell_type": "code",
   "execution_count": 41,
   "metadata": {},
   "outputs": [],
   "source": [
    "scores_r = cross_val_score(model_r, features_train, target_train, cv=5, scoring=my_scorer)"
   ]
  },
  {
   "cell_type": "code",
   "execution_count": 42,
   "metadata": {},
   "outputs": [
    {
     "name": "stdout",
     "output_type": "stream",
     "text": [
      "Mean R2 from CV of RandomForestRegressor = -0.049468527271438044\n",
      "Mean MAE from CV of RandomForestRegressor = -5.505344059864897\n",
      "Mean SMAPE from CV of RandomForestRegressor = -6.747317198492695\n"
     ]
    }
   ],
   "source": [
    "print('Mean R2 from CV of RandomForestRegressor =', cross_val_score(model_r, features_train, target_train, cv=5).mean())\n",
    "print('Mean MAE from CV of RandomForestRegressor =', cross_val_score(model_r, features_train, target_train, cv=5, scoring='neg_mean_absolute_error').mean())\n",
    "print('Mean SMAPE from CV of RandomForestRegressor =', cross_val_score(model_r, features_train, target_train, cv=5, scoring=my_scorer).mean())\n"
   ]
  },
  {
   "cell_type": "code",
   "execution_count": 43,
   "metadata": {},
   "outputs": [],
   "source": [
    "# Мы видим что оценка модели RandomForestRegressor показывает лучшие резульаты - используем ее\n",
    "model_r = RandomForestRegressor()\n",
    "model_r.fit(features_train, target_train)\n",
    "rougher_output_recovery = model_r.predict(features_test)"
   ]
  },
  {
   "cell_type": "code",
   "execution_count": 44,
   "metadata": {},
   "outputs": [
    {
     "data": {
      "text/plain": [
       "array([88.66363829, 88.30393919, 88.51072897, ..., 91.99341827,\n",
       "       91.71415494, 91.06282173])"
      ]
     },
     "execution_count": 44,
     "metadata": {},
     "output_type": "execute_result"
    }
   ],
   "source": [
    "rougher_output_recovery"
   ]
  },
  {
   "cell_type": "code",
   "execution_count": 45,
   "metadata": {},
   "outputs": [],
   "source": [
    "dummy_regr = DummyRegressor(strategy=\"mean\")\n",
    "dummy_regr.fit(features_train, target_train)\n",
    "dummy_pred_r = dummy_regr.predict(features_test)"
   ]
  },
  {
   "cell_type": "code",
   "execution_count": 46,
   "metadata": {},
   "outputs": [
    {
     "data": {
      "text/plain": [
       "array([84.50869977, 84.50869977, 84.50869977, ..., 84.50869977,\n",
       "       84.50869977, 84.50869977])"
      ]
     },
     "execution_count": 46,
     "metadata": {},
     "output_type": "execute_result"
    }
   ],
   "source": [
    "dummy_pred_r"
   ]
  },
  {
   "cell_type": "markdown",
   "metadata": {},
   "source": [
    "### Найдем final.output.recovery"
   ]
  },
  {
   "cell_type": "code",
   "execution_count": 47,
   "metadata": {},
   "outputs": [],
   "source": [
    "# Определим фичи и таргет для обучния модели\n",
    "target_train = df_train['final.output.recovery']\n",
    "features_train = df_train[(df_test.columns)]\n",
    "features_train = features_train.drop(['date'], axis=1)"
   ]
  },
  {
   "cell_type": "code",
   "execution_count": 48,
   "metadata": {},
   "outputs": [
    {
     "data": {
      "text/plain": [
       "(13725, 52)"
      ]
     },
     "execution_count": 48,
     "metadata": {},
     "output_type": "execute_result"
    }
   ],
   "source": [
    "features_train.shape"
   ]
  },
  {
   "cell_type": "code",
   "execution_count": 49,
   "metadata": {},
   "outputs": [],
   "source": [
    "features_test = df_test.drop(['date'], axis=1)"
   ]
  },
  {
   "cell_type": "code",
   "execution_count": 50,
   "metadata": {},
   "outputs": [],
   "source": [
    "# Масштабируем признаки методом StandardScaler\n",
    "scaler = StandardScaler()\n",
    "scaler.fit(features_train)\n",
    "features_train = scaler.transform(features_train)\n",
    "features_test = scaler.transform(features_test)"
   ]
  },
  {
   "cell_type": "code",
   "execution_count": 51,
   "metadata": {},
   "outputs": [],
   "source": [
    "# Создадим модель Дерева решений\n",
    "model_t = DecisionTreeRegressor(random_state=12345)"
   ]
  },
  {
   "cell_type": "code",
   "execution_count": 52,
   "metadata": {},
   "outputs": [],
   "source": [
    "scores_t = cross_val_score(model_t, features_train, target_train, cv=5, scoring=my_scorer)"
   ]
  },
  {
   "cell_type": "code",
   "execution_count": 53,
   "metadata": {},
   "outputs": [
    {
     "name": "stdout",
     "output_type": "stream",
     "text": [
      "Mean R2 from CV of DecisionTreeRegressor = -1.2155825448277036\n",
      "Mean MAE from CV of DecisionTreeRegressor = -9.6063773980346\n",
      "Mean SMAPE from CV of DecisionTreeRegressor = -15.131872447385508\n"
     ]
    }
   ],
   "source": [
    "print('Mean R2 from CV of DecisionTreeRegressor =', cross_val_score(model_t, features_train, target_train, cv=5).mean())\n",
    "print('Mean MAE from CV of DecisionTreeRegressor =', cross_val_score(model_t, features_train, target_train, cv=5, scoring='neg_mean_absolute_error').mean())\n",
    "print('Mean SMAPE from CV of DecisionTreeRegressor =', cross_val_score(model_t, features_train, target_train, cv=5, scoring=my_scorer).mean())\n"
   ]
  },
  {
   "cell_type": "code",
   "execution_count": 54,
   "metadata": {},
   "outputs": [],
   "source": [
    "model_l = LinearRegression()"
   ]
  },
  {
   "cell_type": "code",
   "execution_count": 55,
   "metadata": {},
   "outputs": [],
   "source": [
    "scores_l = cross_val_score(model_l, features_train, target_train, cv=5, scoring=my_scorer)"
   ]
  },
  {
   "cell_type": "code",
   "execution_count": 56,
   "metadata": {},
   "outputs": [
    {
     "name": "stdout",
     "output_type": "stream",
     "text": [
      "Mean R2 from CV of LinearRegression = -0.15845225589356587\n",
      "Mean MAE from CV of LinearRegression = -7.030456407456624\n",
      "Mean SMAPE from CV of LinearRegression = -10.950532500993143\n"
     ]
    }
   ],
   "source": [
    "print('Mean R2 from CV of LinearRegression =', cross_val_score(model_l, features_train, target_train, cv=5).mean())\n",
    "print('Mean MAE from CV of LinearRegression =', cross_val_score(model_l, features_train, target_train, cv=5, scoring='neg_mean_absolute_error').mean())\n",
    "print('Mean SMAPE from CV of LinearRegression =', cross_val_score(model_l, features_train, target_train, cv=5, scoring=my_scorer).mean())\n"
   ]
  },
  {
   "cell_type": "code",
   "execution_count": 57,
   "metadata": {},
   "outputs": [],
   "source": [
    "# Создадим модель Случайного леса\n",
    "model_r = RandomForestRegressor(random_state=12345)"
   ]
  },
  {
   "cell_type": "code",
   "execution_count": 58,
   "metadata": {},
   "outputs": [],
   "source": [
    "scores_r = cross_val_score(model_r, features_train, target_train, cv=5, scoring=my_scorer)"
   ]
  },
  {
   "cell_type": "code",
   "execution_count": 59,
   "metadata": {},
   "outputs": [
    {
     "name": "stdout",
     "output_type": "stream",
     "text": [
      "Mean R2 from CV of RandomForestRegressor = 0.07996325708999452\n",
      "Mean MAE from CV of RandomForestRegressor = -6.063060280323765\n",
      "Mean SMAPE from CV of RandomForestRegressor = -9.650475908234565\n"
     ]
    }
   ],
   "source": [
    "print('Mean R2 from CV of RandomForestRegressor =', cross_val_score(model_r, features_train, target_train, cv=5).mean())\n",
    "print('Mean MAE from CV of RandomForestRegressor =', cross_val_score(model_r, features_train, target_train, cv=5, scoring='neg_mean_absolute_error').mean())\n",
    "print('Mean SMAPE from CV of RandomForestRegressor =', cross_val_score(model_r, features_train, target_train, cv=5, scoring=my_scorer).mean())\n"
   ]
  },
  {
   "cell_type": "code",
   "execution_count": 60,
   "metadata": {},
   "outputs": [],
   "source": [
    "# Мы видим что оценка модель Cлучайного леса показывает лучшие резульаты - используем ее\n",
    "model_r = RandomForestRegressor(random_state=12345)\n",
    "model_r.fit(features_train, target_train)\n",
    "final_output_recovery = model_r.predict(features_test)"
   ]
  },
  {
   "cell_type": "code",
   "execution_count": 61,
   "metadata": {},
   "outputs": [],
   "source": [
    "dummy_regr = DummyRegressor(strategy=\"mean\")\n",
    "dummy_regr.fit(features_train, target_train)\n",
    "dummy_pred_f = dummy_regr.predict(features_test)"
   ]
  },
  {
   "cell_type": "code",
   "execution_count": 62,
   "metadata": {},
   "outputs": [],
   "source": [
    "df_test = df_test.merge(df_full[['date','final.output.recovery','rougher.output.recovery']],\n",
    "                        on='date', how='inner')"
   ]
  },
  {
   "cell_type": "code",
   "execution_count": 63,
   "metadata": {
    "scrolled": true
   },
   "outputs": [],
   "source": [
    "target_r = df_test['rougher.output.recovery']"
   ]
  },
  {
   "cell_type": "code",
   "execution_count": 64,
   "metadata": {},
   "outputs": [
    {
     "data": {
      "text/plain": [
       "8.15499611440378"
      ]
     },
     "execution_count": 64,
     "metadata": {},
     "output_type": "execute_result"
    }
   ],
   "source": [
    "smape_r = smape(target_r, rougher_output_recovery)\n",
    "smape_r"
   ]
  },
  {
   "cell_type": "code",
   "execution_count": 65,
   "metadata": {},
   "outputs": [],
   "source": [
    "target_f = df_test['final.output.recovery']"
   ]
  },
  {
   "cell_type": "code",
   "execution_count": 66,
   "metadata": {},
   "outputs": [
    {
     "data": {
      "text/plain": [
       "9.669567583345039"
      ]
     },
     "execution_count": 66,
     "metadata": {},
     "output_type": "execute_result"
    }
   ],
   "source": [
    "smape_f = smape(target_f, final_output_recovery)\n",
    "smape_f"
   ]
  },
  {
   "cell_type": "code",
   "execution_count": 67,
   "metadata": {
    "scrolled": true
   },
   "outputs": [
    {
     "data": {
      "text/plain": [
       "9.290924716109725"
      ]
     },
     "execution_count": 67,
     "metadata": {},
     "output_type": "execute_result"
    }
   ],
   "source": [
    "# Получим итоговое sMAPE\n",
    "sMAPE = 0.25*smape_r + 0.75*smape_f\n",
    "sMAPE"
   ]
  },
  {
   "cell_type": "code",
   "execution_count": 68,
   "metadata": {},
   "outputs": [],
   "source": [
    "# Проверим на dummy модели"
   ]
  },
  {
   "cell_type": "code",
   "execution_count": 69,
   "metadata": {},
   "outputs": [
    {
     "data": {
      "text/plain": [
       "29.273259154480503"
      ]
     },
     "execution_count": 69,
     "metadata": {},
     "output_type": "execute_result"
    }
   ],
   "source": [
    "smape_r_d = smape(target_r, dummy_pred_f)\n",
    "smape_r_d"
   ]
  },
  {
   "cell_type": "code",
   "execution_count": 70,
   "metadata": {},
   "outputs": [
    {
     "data": {
      "text/plain": [
       "22.356956211037687"
      ]
     },
     "execution_count": 70,
     "metadata": {},
     "output_type": "execute_result"
    }
   ],
   "source": [
    "smape_f_d = smape(target_f, dummy_pred_r)\n",
    "smape_f_d"
   ]
  },
  {
   "cell_type": "code",
   "execution_count": 71,
   "metadata": {
    "scrolled": true
   },
   "outputs": [
    {
     "data": {
      "text/plain": [
       "24.08603194689839"
      ]
     },
     "execution_count": 71,
     "metadata": {},
     "output_type": "execute_result"
    }
   ],
   "source": [
    "# Получим итоговое sMAPE\n",
    "sMAPE = 0.25*smape_r_d + 0.75*smape_f_d\n",
    "sMAPE"
   ]
  },
  {
   "cell_type": "markdown",
   "metadata": {},
   "source": [
    "## Итоговый вывод"
   ]
  },
  {
   "cell_type": "markdown",
   "metadata": {},
   "source": [
    "В ходе работы было выполнено:\n",
    "\n",
    "* Подготовлены данные.\n",
    "* Проведен исследовательский анализ данных.\n",
    "* Построена и обучена модель.\n",
    "\n",
    "\n",
    "* Регрессор RandomForestRegressor показал себя лучше обычной линейной регресии. \n",
    "* sMAPE показал 10.39\n"
   ]
  }
 ],
 "metadata": {
  "ExecuteTimeLog": [
   {
    "duration": 1946,
    "start_time": "2022-03-29T14:46:57.976Z"
   },
   {
    "duration": 653,
    "start_time": "2022-03-29T14:46:59.925Z"
   },
   {
    "duration": 24,
    "start_time": "2022-03-29T14:47:00.580Z"
   },
   {
    "duration": 34,
    "start_time": "2022-03-29T14:47:00.607Z"
   },
   {
    "duration": 20,
    "start_time": "2022-03-29T14:47:00.643Z"
   },
   {
    "duration": 37,
    "start_time": "2022-03-29T14:47:00.665Z"
   },
   {
    "duration": 29,
    "start_time": "2022-03-29T14:47:00.704Z"
   },
   {
    "duration": 17,
    "start_time": "2022-03-29T14:47:00.735Z"
   },
   {
    "duration": 10,
    "start_time": "2022-03-29T14:47:00.753Z"
   },
   {
    "duration": 12,
    "start_time": "2022-03-29T14:47:00.766Z"
   },
   {
    "duration": 29,
    "start_time": "2022-03-29T14:47:00.780Z"
   },
   {
    "duration": 3455,
    "start_time": "2022-03-29T14:47:00.811Z"
   },
   {
    "duration": 6,
    "start_time": "2022-03-29T14:47:04.268Z"
   },
   {
    "duration": 1934,
    "start_time": "2022-03-29T14:47:04.277Z"
   },
   {
    "duration": 2320,
    "start_time": "2022-03-29T14:47:06.214Z"
   },
   {
    "duration": 2455,
    "start_time": "2022-03-29T14:47:08.537Z"
   },
   {
    "duration": 484,
    "start_time": "2022-03-29T14:47:10.994Z"
   },
   {
    "duration": 252,
    "start_time": "2022-03-29T14:47:11.480Z"
   },
   {
    "duration": 12,
    "start_time": "2022-03-29T14:47:11.735Z"
   },
   {
    "duration": 1653,
    "start_time": "2022-03-29T14:47:11.749Z"
   },
   {
    "duration": 4,
    "start_time": "2022-03-29T14:47:13.404Z"
   },
   {
    "duration": 32,
    "start_time": "2022-03-29T14:47:13.411Z"
   },
   {
    "duration": 3,
    "start_time": "2022-03-29T14:47:13.445Z"
   },
   {
    "duration": 13,
    "start_time": "2022-03-29T14:47:13.450Z"
   },
   {
    "duration": 4,
    "start_time": "2022-03-29T14:47:13.465Z"
   },
   {
    "duration": 2561,
    "start_time": "2022-03-29T14:47:13.471Z"
   },
   {
    "duration": 5,
    "start_time": "2022-03-29T14:47:16.035Z"
   },
   {
    "duration": 3,
    "start_time": "2022-03-29T14:47:16.046Z"
   },
   {
    "duration": 684,
    "start_time": "2022-03-29T14:47:16.051Z"
   },
   {
    "duration": 10,
    "start_time": "2022-03-29T14:47:16.737Z"
   },
   {
    "duration": 11,
    "start_time": "2022-03-29T14:47:16.833Z"
   },
   {
    "duration": 150671,
    "start_time": "2022-03-29T14:47:16.846Z"
   },
   {
    "duration": 5,
    "start_time": "2022-03-29T14:49:47.519Z"
   },
   {
    "duration": 19,
    "start_time": "2022-03-29T14:49:47.533Z"
   },
   {
    "duration": 178,
    "start_time": "2022-03-29T14:49:47.554Z"
   },
   {
    "duration": 6,
    "start_time": "2022-03-29T14:49:47.734Z"
   },
   {
    "duration": 5,
    "start_time": "2022-03-29T14:49:47.741Z"
   },
   {
    "duration": 4845,
    "start_time": "2022-03-29T14:49:47.748Z"
   },
   {
    "duration": 4,
    "start_time": "2022-03-29T14:49:52.596Z"
   },
   {
    "duration": 15,
    "start_time": "2022-03-29T14:49:52.601Z"
   },
   {
    "duration": 1217,
    "start_time": "2022-03-29T14:49:52.618Z"
   },
   {
    "duration": 7,
    "start_time": "2022-03-29T14:49:53.838Z"
   },
   {
    "duration": 8,
    "start_time": "2022-03-29T14:49:53.932Z"
   },
   {
    "duration": 282058,
    "start_time": "2022-03-29T14:49:53.942Z"
   },
   {
    "duration": 4,
    "start_time": "2022-03-29T14:54:36.002Z"
   },
   {
    "duration": 72871,
    "start_time": "2022-03-29T14:54:36.008Z"
   },
   {
    "duration": 21,
    "start_time": "2022-03-29T14:55:48.881Z"
   },
   {
    "duration": 4,
    "start_time": "2022-03-29T14:55:48.905Z"
   },
   {
    "duration": 23,
    "start_time": "2022-03-29T14:55:48.911Z"
   },
   {
    "duration": 3,
    "start_time": "2022-03-29T14:55:48.936Z"
   },
   {
    "duration": 12,
    "start_time": "2022-03-29T14:55:48.941Z"
   },
   {
    "duration": 4,
    "start_time": "2022-03-29T14:55:48.955Z"
   },
   {
    "duration": 2085,
    "start_time": "2022-03-31T16:44:16.770Z"
   },
   {
    "duration": 756,
    "start_time": "2022-03-31T16:44:18.858Z"
   },
   {
    "duration": 37,
    "start_time": "2022-03-31T16:44:19.616Z"
   },
   {
    "duration": 27,
    "start_time": "2022-03-31T16:44:19.667Z"
   },
   {
    "duration": 30,
    "start_time": "2022-03-31T16:44:19.697Z"
   },
   {
    "duration": 56,
    "start_time": "2022-03-31T16:44:19.730Z"
   },
   {
    "duration": 30,
    "start_time": "2022-03-31T16:44:19.789Z"
   },
   {
    "duration": 53,
    "start_time": "2022-03-31T16:44:19.821Z"
   },
   {
    "duration": 11,
    "start_time": "2022-03-31T16:44:19.876Z"
   },
   {
    "duration": 10,
    "start_time": "2022-03-31T16:44:19.891Z"
   },
   {
    "duration": 34,
    "start_time": "2022-03-31T16:44:19.903Z"
   },
   {
    "duration": 5037,
    "start_time": "2022-03-31T16:44:19.939Z"
   },
   {
    "duration": 8,
    "start_time": "2022-03-31T16:44:24.978Z"
   },
   {
    "duration": 3566,
    "start_time": "2022-03-31T16:44:24.988Z"
   },
   {
    "duration": 4024,
    "start_time": "2022-03-31T16:44:28.557Z"
   },
   {
    "duration": 3840,
    "start_time": "2022-03-31T16:44:32.584Z"
   },
   {
    "duration": 534,
    "start_time": "2022-03-31T16:44:36.426Z"
   },
   {
    "duration": 316,
    "start_time": "2022-03-31T16:44:36.967Z"
   },
   {
    "duration": 14,
    "start_time": "2022-03-31T16:44:37.286Z"
   },
   {
    "duration": 2532,
    "start_time": "2022-03-31T16:44:37.303Z"
   },
   {
    "duration": 447,
    "start_time": "2022-03-31T16:44:39.838Z"
   },
   {
    "duration": 37,
    "start_time": "2022-03-31T16:44:40.288Z"
   },
   {
    "duration": 42,
    "start_time": "2022-03-31T16:44:40.328Z"
   },
   {
    "duration": 22,
    "start_time": "2022-03-31T16:44:40.373Z"
   },
   {
    "duration": 19,
    "start_time": "2022-03-31T16:44:40.397Z"
   },
   {
    "duration": 5,
    "start_time": "2022-03-31T16:44:40.418Z"
   },
   {
    "duration": 51,
    "start_time": "2022-03-31T16:44:40.425Z"
   },
   {
    "duration": 4,
    "start_time": "2022-03-31T16:44:40.484Z"
   },
   {
    "duration": 9,
    "start_time": "2022-03-31T16:44:40.490Z"
   },
   {
    "duration": 17,
    "start_time": "2022-03-31T16:44:40.501Z"
   },
   {
    "duration": 6,
    "start_time": "2022-03-31T16:44:40.520Z"
   },
   {
    "duration": 45,
    "start_time": "2022-03-31T16:44:40.528Z"
   },
   {
    "duration": 8,
    "start_time": "2022-03-31T16:44:40.575Z"
   },
   {
    "duration": 12,
    "start_time": "2022-03-31T16:44:40.586Z"
   },
   {
    "duration": 2962,
    "start_time": "2022-03-31T16:44:40.600Z"
   },
   {
    "duration": 6073,
    "start_time": "2022-03-31T16:44:43.567Z"
   },
   {
    "duration": 5,
    "start_time": "2022-03-31T16:44:49.642Z"
   },
   {
    "duration": 26,
    "start_time": "2022-03-31T16:44:49.649Z"
   },
   {
    "duration": 998,
    "start_time": "2022-03-31T16:44:49.677Z"
   },
   {
    "duration": 3100,
    "start_time": "2022-03-31T16:44:50.768Z"
   },
   {
    "duration": 4,
    "start_time": "2022-03-31T16:44:53.870Z"
   },
   {
    "duration": 4,
    "start_time": "2022-03-31T16:44:53.877Z"
   },
   {
    "duration": 117247,
    "start_time": "2022-03-31T16:44:53.884Z"
   },
   {
    "duration": 369254,
    "start_time": "2022-03-31T16:46:51.134Z"
   },
   {
    "duration": 35756,
    "start_time": "2022-03-31T16:53:00.391Z"
   },
   {
    "duration": 6,
    "start_time": "2022-03-31T16:53:36.150Z"
   },
   {
    "duration": 5,
    "start_time": "2022-03-31T16:53:36.169Z"
   },
   {
    "duration": 25,
    "start_time": "2022-03-31T16:53:36.177Z"
   },
   {
    "duration": 18,
    "start_time": "2022-03-31T16:53:36.204Z"
   },
   {
    "duration": 23,
    "start_time": "2022-03-31T16:53:36.225Z"
   },
   {
    "duration": 5,
    "start_time": "2022-03-31T16:53:36.267Z"
   },
   {
    "duration": 10,
    "start_time": "2022-03-31T16:53:36.275Z"
   },
   {
    "duration": 12,
    "start_time": "2022-03-31T16:53:36.288Z"
   },
   {
    "duration": 11,
    "start_time": "2022-03-31T16:53:36.303Z"
   },
   {
    "duration": 8417,
    "start_time": "2022-03-31T16:53:36.317Z"
   },
   {
    "duration": 24870,
    "start_time": "2022-03-31T16:53:44.737Z"
   },
   {
    "duration": 4,
    "start_time": "2022-03-31T16:54:09.610Z"
   },
   {
    "duration": 8,
    "start_time": "2022-03-31T16:54:09.616Z"
   },
   {
    "duration": 1954,
    "start_time": "2022-03-31T16:54:09.627Z"
   },
   {
    "duration": 7003,
    "start_time": "2022-03-31T16:54:11.668Z"
   },
   {
    "duration": 6,
    "start_time": "2022-03-31T16:54:18.674Z"
   },
   {
    "duration": 93,
    "start_time": "2022-03-31T16:54:18.682Z"
   },
   {
    "duration": 369017,
    "start_time": "2022-03-31T16:54:18.778Z"
   },
   {
    "duration": 997244,
    "start_time": "2022-03-31T17:00:27.798Z"
   },
   {
    "duration": 87093,
    "start_time": "2022-03-31T17:17:05.044Z"
   },
   {
    "duration": 4,
    "start_time": "2022-03-31T17:18:32.140Z"
   },
   {
    "duration": 35,
    "start_time": "2022-03-31T17:18:32.147Z"
   },
   {
    "duration": 4,
    "start_time": "2022-03-31T17:18:32.184Z"
   },
   {
    "duration": 6,
    "start_time": "2022-03-31T17:18:32.190Z"
   },
   {
    "duration": 10,
    "start_time": "2022-03-31T17:18:32.198Z"
   },
   {
    "duration": 10,
    "start_time": "2022-03-31T17:18:32.211Z"
   },
   {
    "duration": 11,
    "start_time": "2022-03-31T17:18:32.223Z"
   },
   {
    "duration": 6,
    "start_time": "2022-03-31T17:18:32.268Z"
   },
   {
    "duration": 4,
    "start_time": "2022-03-31T17:18:32.276Z"
   },
   {
    "duration": 10,
    "start_time": "2022-03-31T17:18:32.283Z"
   },
   {
    "duration": 11,
    "start_time": "2022-03-31T17:18:32.295Z"
   },
   {
    "duration": 6,
    "start_time": "2022-03-31T17:18:32.309Z"
   },
   {
    "duration": 1781,
    "start_time": "2022-04-01T08:25:01.326Z"
   },
   {
    "duration": 640,
    "start_time": "2022-04-01T08:25:03.154Z"
   },
   {
    "duration": 26,
    "start_time": "2022-04-01T08:25:04.009Z"
   },
   {
    "duration": 20,
    "start_time": "2022-04-01T08:25:04.613Z"
   },
   {
    "duration": 21,
    "start_time": "2022-04-01T08:25:04.965Z"
   },
   {
    "duration": 17,
    "start_time": "2022-04-01T08:25:05.179Z"
   },
   {
    "duration": 19,
    "start_time": "2022-04-01T08:25:05.371Z"
   },
   {
    "duration": 13,
    "start_time": "2022-04-01T08:25:05.555Z"
   },
   {
    "duration": 7,
    "start_time": "2022-04-01T08:25:06.636Z"
   },
   {
    "duration": 6,
    "start_time": "2022-04-01T08:25:06.888Z"
   },
   {
    "duration": 24,
    "start_time": "2022-04-01T08:25:07.837Z"
   },
   {
    "duration": 3513,
    "start_time": "2022-04-01T08:25:08.421Z"
   },
   {
    "duration": 7,
    "start_time": "2022-04-01T08:25:11.937Z"
   },
   {
    "duration": 1444,
    "start_time": "2022-04-01T08:25:11.946Z"
   },
   {
    "duration": 1454,
    "start_time": "2022-04-01T08:25:13.393Z"
   },
   {
    "duration": 1508,
    "start_time": "2022-04-01T08:25:14.850Z"
   },
   {
    "duration": 352,
    "start_time": "2022-04-01T08:25:16.361Z"
   },
   {
    "duration": 155,
    "start_time": "2022-04-01T08:25:17.397Z"
   },
   {
    "duration": 10,
    "start_time": "2022-04-01T08:25:18.904Z"
   },
   {
    "duration": 1052,
    "start_time": "2022-04-01T08:25:19.371Z"
   },
   {
    "duration": 223,
    "start_time": "2022-04-01T08:25:20.425Z"
   },
   {
    "duration": 25,
    "start_time": "2022-04-01T08:25:20.885Z"
   },
   {
    "duration": 10,
    "start_time": "2022-04-01T08:25:21.245Z"
   },
   {
    "duration": 15,
    "start_time": "2022-04-01T08:25:21.643Z"
   },
   {
    "duration": 11,
    "start_time": "2022-04-01T08:25:22.029Z"
   },
   {
    "duration": 3,
    "start_time": "2022-04-01T08:25:28.402Z"
   },
   {
    "duration": 7,
    "start_time": "2022-04-01T08:25:29.456Z"
   },
   {
    "duration": 3,
    "start_time": "2022-04-01T08:25:29.897Z"
   },
   {
    "duration": 4,
    "start_time": "2022-04-01T08:25:30.258Z"
   },
   {
    "duration": 11,
    "start_time": "2022-04-01T08:25:30.543Z"
   },
   {
    "duration": 4,
    "start_time": "2022-04-01T08:25:41.716Z"
   },
   {
    "duration": 5,
    "start_time": "2022-04-01T08:25:42.085Z"
   },
   {
    "duration": 3,
    "start_time": "2022-04-01T08:25:42.720Z"
   },
   {
    "duration": 4,
    "start_time": "2022-04-01T08:26:31.970Z"
   },
   {
    "duration": 1772,
    "start_time": "2022-04-01T08:26:32.533Z"
   },
   {
    "duration": 4660,
    "start_time": "2022-04-01T08:26:35.991Z"
   },
   {
    "duration": 9,
    "start_time": "2022-04-01T08:27:40.921Z"
   },
   {
    "duration": 3,
    "start_time": "2022-04-01T08:27:45.761Z"
   },
   {
    "duration": 2,
    "start_time": "2022-04-01T08:27:46.515Z"
   },
   {
    "duration": 1500,
    "start_time": "2022-04-01T08:27:47.379Z"
   },
   {
    "duration": 4487,
    "start_time": "2022-04-01T08:27:49.895Z"
   },
   {
    "duration": 4474,
    "start_time": "2022-04-01T08:28:20.566Z"
   },
   {
    "duration": 114,
    "start_time": "2022-04-01T08:28:50.620Z"
   },
   {
    "duration": 3,
    "start_time": "2022-04-01T08:29:36.667Z"
   },
   {
    "duration": 333,
    "start_time": "2022-04-01T08:29:37.511Z"
   },
   {
    "duration": 1825,
    "start_time": "2022-04-01T08:29:49.220Z"
   },
   {
    "duration": 3,
    "start_time": "2022-04-01T08:30:14.366Z"
   },
   {
    "duration": 88140,
    "start_time": "2022-04-01T08:30:15.546Z"
   },
   {
    "duration": 263884,
    "start_time": "2022-04-01T08:31:43.688Z"
   },
   {
    "duration": 22003,
    "start_time": "2022-04-01T08:36:15.401Z"
   },
   {
    "duration": 5,
    "start_time": "2022-04-01T08:36:40.367Z"
   },
   {
    "duration": 3,
    "start_time": "2022-04-01T08:36:41.816Z"
   },
   {
    "duration": 5,
    "start_time": "2022-04-01T08:36:43.029Z"
   },
   {
    "duration": 10,
    "start_time": "2022-04-01T08:37:20.198Z"
   },
   {
    "duration": 3,
    "start_time": "2022-04-01T08:38:50.380Z"
   },
   {
    "duration": 3,
    "start_time": "2022-04-01T08:38:51.484Z"
   },
   {
    "duration": 2,
    "start_time": "2022-04-01T08:38:58.097Z"
   },
   {
    "duration": 1516,
    "start_time": "2022-04-01T08:38:59.181Z"
   },
   {
    "duration": 3,
    "start_time": "2022-04-01T08:39:40.687Z"
   },
   {
    "duration": 1499,
    "start_time": "2022-04-01T08:39:42.915Z"
   },
   {
    "duration": 4521,
    "start_time": "2022-04-01T08:39:44.994Z"
   },
   {
    "duration": 3,
    "start_time": "2022-04-01T08:39:52.940Z"
   },
   {
    "duration": 760,
    "start_time": "2022-04-01T08:39:53.582Z"
   },
   {
    "duration": 2607,
    "start_time": "2022-04-01T08:40:00.033Z"
   },
   {
    "duration": 3,
    "start_time": "2022-04-01T08:40:06.673Z"
   },
   {
    "duration": 88123,
    "start_time": "2022-04-01T08:40:08.911Z"
   },
   {
    "duration": 263149,
    "start_time": "2022-04-01T08:41:39.180Z"
   },
   {
    "duration": 22289,
    "start_time": "2022-04-01T08:46:23.407Z"
   },
   {
    "duration": 4,
    "start_time": "2022-04-01T08:47:18.750Z"
   },
   {
    "duration": 14,
    "start_time": "2022-04-01T08:47:20.774Z"
   },
   {
    "duration": 3,
    "start_time": "2022-04-01T08:47:29.744Z"
   },
   {
    "duration": 6,
    "start_time": "2022-04-01T08:47:30.514Z"
   },
   {
    "duration": 3,
    "start_time": "2022-04-01T08:47:32.614Z"
   },
   {
    "duration": 6,
    "start_time": "2022-04-01T08:47:33.401Z"
   },
   {
    "duration": 4,
    "start_time": "2022-04-01T08:47:36.929Z"
   },
   {
    "duration": 2,
    "start_time": "2022-04-01T08:47:37.613Z"
   },
   {
    "duration": 5,
    "start_time": "2022-04-01T08:47:38.107Z"
   },
   {
    "duration": 6,
    "start_time": "2022-04-01T08:47:42.551Z"
   },
   {
    "duration": 3,
    "start_time": "2022-04-01T08:47:43.099Z"
   }
  ],
  "kernelspec": {
   "display_name": "Python 3",
   "language": "python",
   "name": "python3"
  },
  "language_info": {
   "codemirror_mode": {
    "name": "ipython",
    "version": 3
   },
   "file_extension": ".py",
   "mimetype": "text/x-python",
   "name": "python",
   "nbconvert_exporter": "python",
   "pygments_lexer": "ipython3",
   "version": "3.7.12"
  },
  "toc": {
   "base_numbering": 1,
   "nav_menu": {},
   "number_sections": true,
   "sideBar": true,
   "skip_h1_title": true,
   "title_cell": "Содержание",
   "title_sidebar": "Contents",
   "toc_cell": true,
   "toc_position": {
    "height": "calc(100% - 180px)",
    "left": "10px",
    "top": "150px",
    "width": "288px"
   },
   "toc_section_display": true,
   "toc_window_display": true
  }
 },
 "nbformat": 4,
 "nbformat_minor": 2
}
